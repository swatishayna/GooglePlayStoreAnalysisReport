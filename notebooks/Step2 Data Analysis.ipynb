{
 "cells": [
  {
   "cell_type": "code",
   "execution_count": 1,
   "id": "7196ee23",
   "metadata": {},
   "outputs": [
    {
     "data": {
      "text/html": [
       "        <script type=\"text/javascript\">\n",
       "        window.PlotlyConfig = {MathJaxConfig: 'local'};\n",
       "        if (window.MathJax) {MathJax.Hub.Config({SVG: {font: \"STIX-Web\"}});}\n",
       "        if (typeof require !== 'undefined') {\n",
       "        require.undef(\"plotly\");\n",
       "        requirejs.config({\n",
       "            paths: {\n",
       "                'plotly': ['https://cdn.plot.ly/plotly-2.2.0.min']\n",
       "            }\n",
       "        });\n",
       "        require(['plotly'], function(Plotly) {\n",
       "            window._Plotly = Plotly;\n",
       "        });\n",
       "        }\n",
       "        </script>\n",
       "        "
      ]
     },
     "metadata": {},
     "output_type": "display_data"
    },
    {
     "data": {
      "text/html": [
       "        <script type=\"text/javascript\">\n",
       "        window.PlotlyConfig = {MathJaxConfig: 'local'};\n",
       "        if (window.MathJax) {MathJax.Hub.Config({SVG: {font: \"STIX-Web\"}});}\n",
       "        if (typeof require !== 'undefined') {\n",
       "        require.undef(\"plotly\");\n",
       "        requirejs.config({\n",
       "            paths: {\n",
       "                'plotly': ['https://cdn.plot.ly/plotly-2.2.0.min']\n",
       "            }\n",
       "        });\n",
       "        require(['plotly'], function(Plotly) {\n",
       "            window._Plotly = Plotly;\n",
       "        });\n",
       "        }\n",
       "        </script>\n",
       "        "
      ]
     },
     "metadata": {},
     "output_type": "display_data"
    }
   ],
   "source": [
    "import pandas as pd\n",
    "import numpy as np\n",
    "\n",
    "import plotly.express as px\n",
    "import cufflinks as cf\n",
    "import chart_studio.plotly as py\n",
    "%matplotlib inline\n",
    "\n",
    "from plotly.offline import download_plotlyjs, init_notebook_mode,plot,iplot\n",
    "init_notebook_mode(connected=True)\n",
    "#to make everything locally\n",
    "cf.go_offline()"
   ]
  },
  {
   "cell_type": "code",
   "execution_count": 2,
   "id": "f6bf7760",
   "metadata": {},
   "outputs": [],
   "source": [
    "data = pd.read_csv(\"D:\\data science\\ineuron\\Project\\Business Analytics\\Data_given\\gpscleaned.csv\")"
   ]
  },
  {
   "cell_type": "code",
   "execution_count": 3,
   "id": "67b2fc87",
   "metadata": {
    "scrolled": true
   },
   "outputs": [
    {
     "data": {
      "text/html": [
       "<div>\n",
       "<style scoped>\n",
       "    .dataframe tbody tr th:only-of-type {\n",
       "        vertical-align: middle;\n",
       "    }\n",
       "\n",
       "    .dataframe tbody tr th {\n",
       "        vertical-align: top;\n",
       "    }\n",
       "\n",
       "    .dataframe thead th {\n",
       "        text-align: right;\n",
       "    }\n",
       "</style>\n",
       "<table border=\"1\" class=\"dataframe\">\n",
       "  <thead>\n",
       "    <tr style=\"text-align: right;\">\n",
       "      <th></th>\n",
       "      <th>App</th>\n",
       "      <th>Category</th>\n",
       "      <th>Rating</th>\n",
       "      <th>Reviews</th>\n",
       "      <th>Type</th>\n",
       "      <th>Content Rating</th>\n",
       "      <th>Genres</th>\n",
       "      <th>Size_New</th>\n",
       "      <th>Installs_New</th>\n",
       "      <th>Price_New</th>\n",
       "      <th>CurrentVer_New</th>\n",
       "      <th>AndroidVersion_New</th>\n",
       "      <th>LastUpdated_New</th>\n",
       "    </tr>\n",
       "  </thead>\n",
       "  <tbody>\n",
       "    <tr>\n",
       "      <th>0</th>\n",
       "      <td>Photo Editor &amp; Candy Camera &amp; Grid &amp; ScrapBook</td>\n",
       "      <td>ART_AND_DESIGN</td>\n",
       "      <td>4.1</td>\n",
       "      <td>97</td>\n",
       "      <td>Free</td>\n",
       "      <td>Everyone</td>\n",
       "      <td>Art &amp; Design</td>\n",
       "      <td>19.0</td>\n",
       "      <td>10000</td>\n",
       "      <td>0</td>\n",
       "      <td>100</td>\n",
       "      <td>40</td>\n",
       "      <td>2018-01-07</td>\n",
       "    </tr>\n",
       "    <tr>\n",
       "      <th>1</th>\n",
       "      <td>Coloring book moana</td>\n",
       "      <td>ART_AND_DESIGN</td>\n",
       "      <td>3.9</td>\n",
       "      <td>57</td>\n",
       "      <td>Free</td>\n",
       "      <td>Everyone</td>\n",
       "      <td>Art &amp; Design;Pretend Play</td>\n",
       "      <td>14.0</td>\n",
       "      <td>500000</td>\n",
       "      <td>0</td>\n",
       "      <td>200</td>\n",
       "      <td>40</td>\n",
       "      <td>2018-01-15</td>\n",
       "    </tr>\n",
       "    <tr>\n",
       "      <th>2</th>\n",
       "      <td>U Launcher Lite – FREE Live Cool Themes, Hide ...</td>\n",
       "      <td>ART_AND_DESIGN</td>\n",
       "      <td>4.7</td>\n",
       "      <td>42</td>\n",
       "      <td>Free</td>\n",
       "      <td>Everyone</td>\n",
       "      <td>Art &amp; Design</td>\n",
       "      <td>8.7</td>\n",
       "      <td>5000000</td>\n",
       "      <td>0</td>\n",
       "      <td>124</td>\n",
       "      <td>40</td>\n",
       "      <td>2018-08-01</td>\n",
       "    </tr>\n",
       "    <tr>\n",
       "      <th>3</th>\n",
       "      <td>Sketch - Draw &amp; Paint</td>\n",
       "      <td>ART_AND_DESIGN</td>\n",
       "      <td>4.5</td>\n",
       "      <td>92</td>\n",
       "      <td>Free</td>\n",
       "      <td>Teen</td>\n",
       "      <td>Art &amp; Design</td>\n",
       "      <td>25.0</td>\n",
       "      <td>50000000</td>\n",
       "      <td>0</td>\n",
       "      <td>Varies with device</td>\n",
       "      <td>42</td>\n",
       "      <td>2018-06-08</td>\n",
       "    </tr>\n",
       "    <tr>\n",
       "      <th>4</th>\n",
       "      <td>Pixel Draw - Number Art Coloring Book</td>\n",
       "      <td>ART_AND_DESIGN</td>\n",
       "      <td>4.3</td>\n",
       "      <td>57</td>\n",
       "      <td>Free</td>\n",
       "      <td>Everyone</td>\n",
       "      <td>Art &amp; Design;Creativity</td>\n",
       "      <td>2.8</td>\n",
       "      <td>100000</td>\n",
       "      <td>0</td>\n",
       "      <td>110</td>\n",
       "      <td>44</td>\n",
       "      <td>2018-06-20</td>\n",
       "    </tr>\n",
       "  </tbody>\n",
       "</table>\n",
       "</div>"
      ],
      "text/plain": [
       "                                                 App        Category  Rating  \\\n",
       "0     Photo Editor & Candy Camera & Grid & ScrapBook  ART_AND_DESIGN     4.1   \n",
       "1                                Coloring book moana  ART_AND_DESIGN     3.9   \n",
       "2  U Launcher Lite – FREE Live Cool Themes, Hide ...  ART_AND_DESIGN     4.7   \n",
       "3                              Sketch - Draw & Paint  ART_AND_DESIGN     4.5   \n",
       "4              Pixel Draw - Number Art Coloring Book  ART_AND_DESIGN     4.3   \n",
       "\n",
       "   Reviews  Type Content Rating                     Genres Size_New  \\\n",
       "0       97  Free       Everyone               Art & Design     19.0   \n",
       "1       57  Free       Everyone  Art & Design;Pretend Play     14.0   \n",
       "2       42  Free       Everyone               Art & Design      8.7   \n",
       "3       92  Free           Teen               Art & Design     25.0   \n",
       "4       57  Free       Everyone    Art & Design;Creativity      2.8   \n",
       "\n",
       "   Installs_New  Price_New      CurrentVer_New AndroidVersion_New  \\\n",
       "0         10000          0                 100                 40   \n",
       "1        500000          0                 200                 40   \n",
       "2       5000000          0                 124                 40   \n",
       "3      50000000          0  Varies with device                 42   \n",
       "4        100000          0                 110                 44   \n",
       "\n",
       "  LastUpdated_New  \n",
       "0      2018-01-07  \n",
       "1      2018-01-15  \n",
       "2      2018-08-01  \n",
       "3      2018-06-08  \n",
       "4      2018-06-20  "
      ]
     },
     "execution_count": 3,
     "metadata": {},
     "output_type": "execute_result"
    }
   ],
   "source": [
    "data.head()"
   ]
  },
  {
   "cell_type": "code",
   "execution_count": 4,
   "id": "72ac2f5b",
   "metadata": {},
   "outputs": [
    {
     "data": {
      "text/plain": [
       "(10840, 13)"
      ]
     },
     "execution_count": 4,
     "metadata": {},
     "output_type": "execute_result"
    }
   ],
   "source": [
    "data.shape"
   ]
  },
  {
   "cell_type": "code",
   "execution_count": 5,
   "id": "05f05231",
   "metadata": {},
   "outputs": [
    {
     "data": {
      "text/plain": [
       "App                    object\n",
       "Category               object\n",
       "Rating                float64\n",
       "Reviews                 int64\n",
       "Type                   object\n",
       "Content Rating         object\n",
       "Genres                 object\n",
       "Size_New               object\n",
       "Installs_New            int64\n",
       "Price_New               int64\n",
       "CurrentVer_New         object\n",
       "AndroidVersion_New     object\n",
       "LastUpdated_New        object\n",
       "dtype: object"
      ]
     },
     "execution_count": 5,
     "metadata": {},
     "output_type": "execute_result"
    }
   ],
   "source": [
    "data.dtypes"
   ]
  },
  {
   "cell_type": "code",
   "execution_count": 6,
   "id": "6d7c5ae0",
   "metadata": {},
   "outputs": [
    {
     "data": {
      "text/plain": [
       "App                   0.00\n",
       "Category              0.00\n",
       "Rating                0.14\n",
       "Reviews               0.00\n",
       "Type                  0.00\n",
       "Content Rating        0.00\n",
       "Genres                0.00\n",
       "Size_New              0.00\n",
       "Installs_New          0.00\n",
       "Price_New             0.00\n",
       "CurrentVer_New        0.00\n",
       "AndroidVersion_New    0.00\n",
       "LastUpdated_New       0.00\n",
       "dtype: float64"
      ]
     },
     "execution_count": 6,
     "metadata": {},
     "output_type": "execute_result"
    }
   ],
   "source": [
    "np.round(data.isnull().mean(),2)"
   ]
  },
  {
   "cell_type": "markdown",
   "id": "2c9c3ec2",
   "metadata": {},
   "source": [
    "# findings 1:\n",
    "- Size_New, AndroidVersion_New : All the etries are numeric except 'Varies with Devices' so we will consider this as numerical columns\n",
    "- LastUpdated_New: datetime column , we will treat this later\n",
    "- 14% of the data is missing in Rating Feature "
   ]
  },
  {
   "cell_type": "markdown",
   "id": "217465a8",
   "metadata": {},
   "source": [
    "# categorical Columns analysis"
   ]
  },
  {
   "cell_type": "code",
   "execution_count": 7,
   "id": "f1a3cf7c",
   "metadata": {},
   "outputs": [
    {
     "data": {
      "text/plain": [
       "{'total number of categories in App': 9659,\n",
       " 'total number of categories in Category': 33,\n",
       " 'total number of categories in Type': 2,\n",
       " 'total number of categories in Content Rating': 6,\n",
       " 'total number of categories in Genres': 119,\n",
       " 'total number of categories in CurrentVer_New': 1059}"
      ]
     },
     "execution_count": 7,
     "metadata": {},
     "output_type": "execute_result"
    }
   ],
   "source": [
    "categorical_feature = [feature for feature in data.columns if data[feature].dtypes == 'object' and feature not in ['LastUpdated_New', 'Size_New','AndroidVersion_New']]\n",
    "d = {}\n",
    "for feature in categorical_feature:\n",
    "    key = \"total number of categories in \" + feature\n",
    "    d[key] = data[feature].nunique()\n",
    "d"
   ]
  },
  {
   "cell_type": "code",
   "execution_count": 8,
   "id": "e52b9fde",
   "metadata": {},
   "outputs": [
    {
     "data": {
      "text/plain": [
       "Tools                                842\n",
       "Entertainment                        623\n",
       "Education                            549\n",
       "Medical                              463\n",
       "Business                             460\n",
       "                                    ... \n",
       "Travel & Local;Action & Adventure      1\n",
       "Racing;Pretend Play                    1\n",
       "Role Playing;Education                 1\n",
       "Trivia;Education                       1\n",
       "Adventure;Brain Games                  1\n",
       "Name: Genres, Length: 119, dtype: int64"
      ]
     },
     "execution_count": 8,
     "metadata": {},
     "output_type": "execute_result"
    }
   ],
   "source": [
    "data.Genres.value_counts()"
   ]
  },
  {
   "cell_type": "markdown",
   "id": "a819ae18",
   "metadata": {},
   "source": [
    "# Findings2:\n",
    "- App feature doesnot give much info\n",
    "- \n"
   ]
  },
  {
   "cell_type": "markdown",
   "id": "121c46b6",
   "metadata": {},
   "source": [
    "# Which category has  highest number of installations"
   ]
  },
  {
   "cell_type": "code",
   "execution_count": 9,
   "id": "8dd06c62",
   "metadata": {
    "scrolled": true
   },
   "outputs": [],
   "source": [
    "x_val = data['Installs_New'].groupby(by = data['Category']).sum().sort_values(ascending =False)\n"
   ]
  },
  {
   "cell_type": "code",
   "execution_count": 10,
   "id": "3cffb609",
   "metadata": {},
   "outputs": [
    {
     "data": {
      "application/vnd.plotly.v1+json": {
       "config": {
        "plotlyServerURL": "https://plot.ly"
       },
       "data": [
        {
         "alignmentgroup": "True",
         "hovertemplate": "color=GAME<br>x=%{x}<br>y=%{y}<extra></extra>",
         "legendgroup": "GAME",
         "marker": {
          "color": "#636efa",
          "pattern": {
           "shape": ""
          }
         },
         "name": "GAME",
         "offsetgroup": "GAME",
         "orientation": "v",
         "showlegend": true,
         "textposition": "auto",
         "type": "bar",
         "x": [
          "GAME"
         ],
         "xaxis": "x",
         "y": [
          35086024415
         ],
         "yaxis": "y"
        },
        {
         "alignmentgroup": "True",
         "hovertemplate": "color=COMMUNICATION<br>x=%{x}<br>y=%{y}<extra></extra>",
         "legendgroup": "COMMUNICATION",
         "marker": {
          "color": "#EF553B",
          "pattern": {
           "shape": ""
          }
         },
         "name": "COMMUNICATION",
         "offsetgroup": "COMMUNICATION",
         "orientation": "v",
         "showlegend": true,
         "textposition": "auto",
         "type": "bar",
         "x": [
          "COMMUNICATION"
         ],
         "xaxis": "x",
         "y": [
          32647276251
         ],
         "yaxis": "y"
        },
        {
         "alignmentgroup": "True",
         "hovertemplate": "color=PRODUCTIVITY<br>x=%{x}<br>y=%{y}<extra></extra>",
         "legendgroup": "PRODUCTIVITY",
         "marker": {
          "color": "#00cc96",
          "pattern": {
           "shape": ""
          }
         },
         "name": "PRODUCTIVITY",
         "offsetgroup": "PRODUCTIVITY",
         "orientation": "v",
         "showlegend": true,
         "textposition": "auto",
         "type": "bar",
         "x": [
          "PRODUCTIVITY"
         ],
         "xaxis": "x",
         "y": [
          14176091369
         ],
         "yaxis": "y"
        },
        {
         "alignmentgroup": "True",
         "hovertemplate": "color=SOCIAL<br>x=%{x}<br>y=%{y}<extra></extra>",
         "legendgroup": "SOCIAL",
         "marker": {
          "color": "#ab63fa",
          "pattern": {
           "shape": ""
          }
         },
         "name": "SOCIAL",
         "offsetgroup": "SOCIAL",
         "orientation": "v",
         "showlegend": true,
         "textposition": "auto",
         "type": "bar",
         "x": [
          "SOCIAL"
         ],
         "xaxis": "x",
         "y": [
          14069867902
         ],
         "yaxis": "y"
        },
        {
         "alignmentgroup": "True",
         "hovertemplate": "color=TOOLS<br>x=%{x}<br>y=%{y}<extra></extra>",
         "legendgroup": "TOOLS",
         "marker": {
          "color": "#FFA15A",
          "pattern": {
           "shape": ""
          }
         },
         "name": "TOOLS",
         "offsetgroup": "TOOLS",
         "orientation": "v",
         "showlegend": true,
         "textposition": "auto",
         "type": "bar",
         "x": [
          "TOOLS"
         ],
         "xaxis": "x",
         "y": [
          11452771915
         ],
         "yaxis": "y"
        },
        {
         "alignmentgroup": "True",
         "hovertemplate": "color=FAMILY<br>x=%{x}<br>y=%{y}<extra></extra>",
         "legendgroup": "FAMILY",
         "marker": {
          "color": "#19d3f3",
          "pattern": {
           "shape": ""
          }
         },
         "name": "FAMILY",
         "offsetgroup": "FAMILY",
         "orientation": "v",
         "showlegend": true,
         "textposition": "auto",
         "type": "bar",
         "x": [
          "FAMILY"
         ],
         "xaxis": "x",
         "y": [
          10258263505
         ],
         "yaxis": "y"
        },
        {
         "alignmentgroup": "True",
         "hovertemplate": "color=PHOTOGRAPHY<br>x=%{x}<br>y=%{y}<extra></extra>",
         "legendgroup": "PHOTOGRAPHY",
         "marker": {
          "color": "#FF6692",
          "pattern": {
           "shape": ""
          }
         },
         "name": "PHOTOGRAPHY",
         "offsetgroup": "PHOTOGRAPHY",
         "orientation": "v",
         "showlegend": true,
         "textposition": "auto",
         "type": "bar",
         "x": [
          "PHOTOGRAPHY"
         ],
         "xaxis": "x",
         "y": [
          10088247655
         ],
         "yaxis": "y"
        },
        {
         "alignmentgroup": "True",
         "hovertemplate": "color=NEWS_AND_MAGAZINES<br>x=%{x}<br>y=%{y}<extra></extra>",
         "legendgroup": "NEWS_AND_MAGAZINES",
         "marker": {
          "color": "#B6E880",
          "pattern": {
           "shape": ""
          }
         },
         "name": "NEWS_AND_MAGAZINES",
         "offsetgroup": "NEWS_AND_MAGAZINES",
         "orientation": "v",
         "showlegend": true,
         "textposition": "auto",
         "type": "bar",
         "x": [
          "NEWS_AND_MAGAZINES"
         ],
         "xaxis": "x",
         "y": [
          7496317760
         ],
         "yaxis": "y"
        },
        {
         "alignmentgroup": "True",
         "hovertemplate": "color=TRAVEL_AND_LOCAL<br>x=%{x}<br>y=%{y}<extra></extra>",
         "legendgroup": "TRAVEL_AND_LOCAL",
         "marker": {
          "color": "#FF97FF",
          "pattern": {
           "shape": ""
          }
         },
         "name": "TRAVEL_AND_LOCAL",
         "offsetgroup": "TRAVEL_AND_LOCAL",
         "orientation": "v",
         "showlegend": true,
         "textposition": "auto",
         "type": "bar",
         "x": [
          "TRAVEL_AND_LOCAL"
         ],
         "xaxis": "x",
         "y": [
          6868887146
         ],
         "yaxis": "y"
        },
        {
         "alignmentgroup": "True",
         "hovertemplate": "color=VIDEO_PLAYERS<br>x=%{x}<br>y=%{y}<extra></extra>",
         "legendgroup": "VIDEO_PLAYERS",
         "marker": {
          "color": "#FECB52",
          "pattern": {
           "shape": ""
          }
         },
         "name": "VIDEO_PLAYERS",
         "offsetgroup": "VIDEO_PLAYERS",
         "orientation": "v",
         "showlegend": true,
         "textposition": "auto",
         "type": "bar",
         "x": [
          "VIDEO_PLAYERS"
         ],
         "xaxis": "x",
         "y": [
          6222002720
         ],
         "yaxis": "y"
        },
        {
         "alignmentgroup": "True",
         "hovertemplate": "color=SHOPPING<br>x=%{x}<br>y=%{y}<extra></extra>",
         "legendgroup": "SHOPPING",
         "marker": {
          "color": "#636efa",
          "pattern": {
           "shape": ""
          }
         },
         "name": "SHOPPING",
         "offsetgroup": "SHOPPING",
         "orientation": "v",
         "showlegend": true,
         "textposition": "auto",
         "type": "bar",
         "x": [
          "SHOPPING"
         ],
         "xaxis": "x",
         "y": [
          3247848785
         ],
         "yaxis": "y"
        },
        {
         "alignmentgroup": "True",
         "hovertemplate": "color=ENTERTAINMENT<br>x=%{x}<br>y=%{y}<extra></extra>",
         "legendgroup": "ENTERTAINMENT",
         "marker": {
          "color": "#EF553B",
          "pattern": {
           "shape": ""
          }
         },
         "name": "ENTERTAINMENT",
         "offsetgroup": "ENTERTAINMENT",
         "orientation": "v",
         "showlegend": true,
         "textposition": "auto",
         "type": "bar",
         "x": [
          "ENTERTAINMENT"
         ],
         "xaxis": "x",
         "y": [
          2869160000
         ],
         "yaxis": "y"
        },
        {
         "alignmentgroup": "True",
         "hovertemplate": "color=PERSONALIZATION<br>x=%{x}<br>y=%{y}<extra></extra>",
         "legendgroup": "PERSONALIZATION",
         "marker": {
          "color": "#00cc96",
          "pattern": {
           "shape": ""
          }
         },
         "name": "PERSONALIZATION",
         "offsetgroup": "PERSONALIZATION",
         "orientation": "v",
         "showlegend": true,
         "textposition": "auto",
         "type": "bar",
         "x": [
          "PERSONALIZATION"
         ],
         "xaxis": "x",
         "y": [
          2325494782
         ],
         "yaxis": "y"
        },
        {
         "alignmentgroup": "True",
         "hovertemplate": "color=BOOKS_AND_REFERENCE<br>x=%{x}<br>y=%{y}<extra></extra>",
         "legendgroup": "BOOKS_AND_REFERENCE",
         "marker": {
          "color": "#ab63fa",
          "pattern": {
           "shape": ""
          }
         },
         "name": "BOOKS_AND_REFERENCE",
         "offsetgroup": "BOOKS_AND_REFERENCE",
         "orientation": "v",
         "showlegend": true,
         "textposition": "auto",
         "type": "bar",
         "x": [
          "BOOKS_AND_REFERENCE"
         ],
         "xaxis": "x",
         "y": [
          1921469576
         ],
         "yaxis": "y"
        },
        {
         "alignmentgroup": "True",
         "hovertemplate": "color=SPORTS<br>x=%{x}<br>y=%{y}<extra></extra>",
         "legendgroup": "SPORTS",
         "marker": {
          "color": "#FFA15A",
          "pattern": {
           "shape": ""
          }
         },
         "name": "SPORTS",
         "offsetgroup": "SPORTS",
         "orientation": "v",
         "showlegend": true,
         "textposition": "auto",
         "type": "bar",
         "x": [
          "SPORTS"
         ],
         "xaxis": "x",
         "y": [
          1751174498
         ],
         "yaxis": "y"
        },
        {
         "alignmentgroup": "True",
         "hovertemplate": "color=HEALTH_AND_FITNESS<br>x=%{x}<br>y=%{y}<extra></extra>",
         "legendgroup": "HEALTH_AND_FITNESS",
         "marker": {
          "color": "#19d3f3",
          "pattern": {
           "shape": ""
          }
         },
         "name": "HEALTH_AND_FITNESS",
         "offsetgroup": "HEALTH_AND_FITNESS",
         "orientation": "v",
         "showlegend": true,
         "textposition": "auto",
         "type": "bar",
         "x": [
          "HEALTH_AND_FITNESS"
         ],
         "xaxis": "x",
         "y": [
          1583072512
         ],
         "yaxis": "y"
        },
        {
         "alignmentgroup": "True",
         "hovertemplate": "color=BUSINESS<br>x=%{x}<br>y=%{y}<extra></extra>",
         "legendgroup": "BUSINESS",
         "marker": {
          "color": "#FF6692",
          "pattern": {
           "shape": ""
          }
         },
         "name": "BUSINESS",
         "offsetgroup": "BUSINESS",
         "orientation": "v",
         "showlegend": true,
         "textposition": "auto",
         "type": "bar",
         "x": [
          "BUSINESS"
         ],
         "xaxis": "x",
         "y": [
          1001914865
         ],
         "yaxis": "y"
        },
        {
         "alignmentgroup": "True",
         "hovertemplate": "color=FINANCE<br>x=%{x}<br>y=%{y}<extra></extra>",
         "legendgroup": "FINANCE",
         "marker": {
          "color": "#B6E880",
          "pattern": {
           "shape": ""
          }
         },
         "name": "FINANCE",
         "offsetgroup": "FINANCE",
         "orientation": "v",
         "showlegend": true,
         "textposition": "auto",
         "type": "bar",
         "x": [
          "FINANCE"
         ],
         "xaxis": "x",
         "y": [
          876648734
         ],
         "yaxis": "y"
        },
        {
         "alignmentgroup": "True",
         "hovertemplate": "color=EDUCATION<br>x=%{x}<br>y=%{y}<extra></extra>",
         "legendgroup": "EDUCATION",
         "marker": {
          "color": "#FF97FF",
          "pattern": {
           "shape": ""
          }
         },
         "name": "EDUCATION",
         "offsetgroup": "EDUCATION",
         "orientation": "v",
         "showlegend": true,
         "textposition": "auto",
         "type": "bar",
         "x": [
          "EDUCATION"
         ],
         "xaxis": "x",
         "y": [
          871452000
         ],
         "yaxis": "y"
        },
        {
         "alignmentgroup": "True",
         "hovertemplate": "color=MAPS_AND_NAVIGATION<br>x=%{x}<br>y=%{y}<extra></extra>",
         "legendgroup": "MAPS_AND_NAVIGATION",
         "marker": {
          "color": "#FECB52",
          "pattern": {
           "shape": ""
          }
         },
         "name": "MAPS_AND_NAVIGATION",
         "offsetgroup": "MAPS_AND_NAVIGATION",
         "orientation": "v",
         "showlegend": true,
         "textposition": "auto",
         "type": "bar",
         "x": [
          "MAPS_AND_NAVIGATION"
         ],
         "xaxis": "x",
         "y": [
          724281890
         ],
         "yaxis": "y"
        },
        {
         "alignmentgroup": "True",
         "hovertemplate": "color=LIFESTYLE<br>x=%{x}<br>y=%{y}<extra></extra>",
         "legendgroup": "LIFESTYLE",
         "marker": {
          "color": "#636efa",
          "pattern": {
           "shape": ""
          }
         },
         "name": "LIFESTYLE",
         "offsetgroup": "LIFESTYLE",
         "orientation": "v",
         "showlegend": true,
         "textposition": "auto",
         "type": "bar",
         "x": [
          "LIFESTYLE"
         ],
         "xaxis": "x",
         "y": [
          537643539
         ],
         "yaxis": "y"
        },
        {
         "alignmentgroup": "True",
         "hovertemplate": "color=WEATHER<br>x=%{x}<br>y=%{y}<extra></extra>",
         "legendgroup": "WEATHER",
         "marker": {
          "color": "#EF553B",
          "pattern": {
           "shape": ""
          }
         },
         "name": "WEATHER",
         "offsetgroup": "WEATHER",
         "orientation": "v",
         "showlegend": true,
         "textposition": "auto",
         "type": "bar",
         "x": [
          "WEATHER"
         ],
         "xaxis": "x",
         "y": [
          426100520
         ],
         "yaxis": "y"
        },
        {
         "alignmentgroup": "True",
         "hovertemplate": "color=FOOD_AND_DRINK<br>x=%{x}<br>y=%{y}<extra></extra>",
         "legendgroup": "FOOD_AND_DRINK",
         "marker": {
          "color": "#00cc96",
          "pattern": {
           "shape": ""
          }
         },
         "name": "FOOD_AND_DRINK",
         "offsetgroup": "FOOD_AND_DRINK",
         "orientation": "v",
         "showlegend": true,
         "textposition": "auto",
         "type": "bar",
         "x": [
          "FOOD_AND_DRINK"
         ],
         "xaxis": "x",
         "y": [
          273898751
         ],
         "yaxis": "y"
        },
        {
         "alignmentgroup": "True",
         "hovertemplate": "color=DATING<br>x=%{x}<br>y=%{y}<extra></extra>",
         "legendgroup": "DATING",
         "marker": {
          "color": "#ab63fa",
          "pattern": {
           "shape": ""
          }
         },
         "name": "DATING",
         "offsetgroup": "DATING",
         "orientation": "v",
         "showlegend": true,
         "textposition": "auto",
         "type": "bar",
         "x": [
          "DATING"
         ],
         "xaxis": "x",
         "y": [
          264310807
         ],
         "yaxis": "y"
        },
        {
         "alignmentgroup": "True",
         "hovertemplate": "color=HOUSE_AND_HOME<br>x=%{x}<br>y=%{y}<extra></extra>",
         "legendgroup": "HOUSE_AND_HOME",
         "marker": {
          "color": "#FFA15A",
          "pattern": {
           "shape": ""
          }
         },
         "name": "HOUSE_AND_HOME",
         "offsetgroup": "HOUSE_AND_HOME",
         "orientation": "v",
         "showlegend": true,
         "textposition": "auto",
         "type": "bar",
         "x": [
          "HOUSE_AND_HOME"
         ],
         "xaxis": "x",
         "y": [
          168712461
         ],
         "yaxis": "y"
        },
        {
         "alignmentgroup": "True",
         "hovertemplate": "color=ART_AND_DESIGN<br>x=%{x}<br>y=%{y}<extra></extra>",
         "legendgroup": "ART_AND_DESIGN",
         "marker": {
          "color": "#19d3f3",
          "pattern": {
           "shape": ""
          }
         },
         "name": "ART_AND_DESIGN",
         "offsetgroup": "ART_AND_DESIGN",
         "orientation": "v",
         "showlegend": true,
         "textposition": "auto",
         "type": "bar",
         "x": [
          "ART_AND_DESIGN"
         ],
         "xaxis": "x",
         "y": [
          124338100
         ],
         "yaxis": "y"
        },
        {
         "alignmentgroup": "True",
         "hovertemplate": "color=LIBRARIES_AND_DEMO<br>x=%{x}<br>y=%{y}<extra></extra>",
         "legendgroup": "LIBRARIES_AND_DEMO",
         "marker": {
          "color": "#FF6692",
          "pattern": {
           "shape": ""
          }
         },
         "name": "LIBRARIES_AND_DEMO",
         "offsetgroup": "LIBRARIES_AND_DEMO",
         "orientation": "v",
         "showlegend": true,
         "textposition": "auto",
         "type": "bar",
         "x": [
          "LIBRARIES_AND_DEMO"
         ],
         "xaxis": "x",
         "y": [
          62995910
         ],
         "yaxis": "y"
        },
        {
         "alignmentgroup": "True",
         "hovertemplate": "color=COMICS<br>x=%{x}<br>y=%{y}<extra></extra>",
         "legendgroup": "COMICS",
         "marker": {
          "color": "#B6E880",
          "pattern": {
           "shape": ""
          }
         },
         "name": "COMICS",
         "offsetgroup": "COMICS",
         "orientation": "v",
         "showlegend": true,
         "textposition": "auto",
         "type": "bar",
         "x": [
          "COMICS"
         ],
         "xaxis": "x",
         "y": [
          56086150
         ],
         "yaxis": "y"
        },
        {
         "alignmentgroup": "True",
         "hovertemplate": "color=MEDICAL<br>x=%{x}<br>y=%{y}<extra></extra>",
         "legendgroup": "MEDICAL",
         "marker": {
          "color": "#FF97FF",
          "pattern": {
           "shape": ""
          }
         },
         "name": "MEDICAL",
         "offsetgroup": "MEDICAL",
         "orientation": "v",
         "showlegend": true,
         "textposition": "auto",
         "type": "bar",
         "x": [
          "MEDICAL"
         ],
         "xaxis": "x",
         "y": [
          53257437
         ],
         "yaxis": "y"
        },
        {
         "alignmentgroup": "True",
         "hovertemplate": "color=AUTO_AND_VEHICLES<br>x=%{x}<br>y=%{y}<extra></extra>",
         "legendgroup": "AUTO_AND_VEHICLES",
         "marker": {
          "color": "#FECB52",
          "pattern": {
           "shape": ""
          }
         },
         "name": "AUTO_AND_VEHICLES",
         "offsetgroup": "AUTO_AND_VEHICLES",
         "orientation": "v",
         "showlegend": true,
         "textposition": "auto",
         "type": "bar",
         "x": [
          "AUTO_AND_VEHICLES"
         ],
         "xaxis": "x",
         "y": [
          53130211
         ],
         "yaxis": "y"
        },
        {
         "alignmentgroup": "True",
         "hovertemplate": "color=PARENTING<br>x=%{x}<br>y=%{y}<extra></extra>",
         "legendgroup": "PARENTING",
         "marker": {
          "color": "#636efa",
          "pattern": {
           "shape": ""
          }
         },
         "name": "PARENTING",
         "offsetgroup": "PARENTING",
         "orientation": "v",
         "showlegend": true,
         "textposition": "auto",
         "type": "bar",
         "x": [
          "PARENTING"
         ],
         "xaxis": "x",
         "y": [
          31521110
         ],
         "yaxis": "y"
        },
        {
         "alignmentgroup": "True",
         "hovertemplate": "color=BEAUTY<br>x=%{x}<br>y=%{y}<extra></extra>",
         "legendgroup": "BEAUTY",
         "marker": {
          "color": "#EF553B",
          "pattern": {
           "shape": ""
          }
         },
         "name": "BEAUTY",
         "offsetgroup": "BEAUTY",
         "orientation": "v",
         "showlegend": true,
         "textposition": "auto",
         "type": "bar",
         "x": [
          "BEAUTY"
         ],
         "xaxis": "x",
         "y": [
          27197050
         ],
         "yaxis": "y"
        },
        {
         "alignmentgroup": "True",
         "hovertemplate": "color=EVENTS<br>x=%{x}<br>y=%{y}<extra></extra>",
         "legendgroup": "EVENTS",
         "marker": {
          "color": "#00cc96",
          "pattern": {
           "shape": ""
          }
         },
         "name": "EVENTS",
         "offsetgroup": "EVENTS",
         "orientation": "v",
         "showlegend": true,
         "textposition": "auto",
         "type": "bar",
         "x": [
          "EVENTS"
         ],
         "xaxis": "x",
         "y": [
          15973161
         ],
         "yaxis": "y"
        }
       ],
       "layout": {
        "barmode": "relative",
        "legend": {
         "title": {
          "text": "color"
         },
         "tracegroupgap": 0
        },
        "margin": {
         "t": 60
        },
        "template": {
         "data": {
          "bar": [
           {
            "error_x": {
             "color": "#2a3f5f"
            },
            "error_y": {
             "color": "#2a3f5f"
            },
            "marker": {
             "line": {
              "color": "#E5ECF6",
              "width": 0.5
             },
             "pattern": {
              "fillmode": "overlay",
              "size": 10,
              "solidity": 0.2
             }
            },
            "type": "bar"
           }
          ],
          "barpolar": [
           {
            "marker": {
             "line": {
              "color": "#E5ECF6",
              "width": 0.5
             },
             "pattern": {
              "fillmode": "overlay",
              "size": 10,
              "solidity": 0.2
             }
            },
            "type": "barpolar"
           }
          ],
          "carpet": [
           {
            "aaxis": {
             "endlinecolor": "#2a3f5f",
             "gridcolor": "white",
             "linecolor": "white",
             "minorgridcolor": "white",
             "startlinecolor": "#2a3f5f"
            },
            "baxis": {
             "endlinecolor": "#2a3f5f",
             "gridcolor": "white",
             "linecolor": "white",
             "minorgridcolor": "white",
             "startlinecolor": "#2a3f5f"
            },
            "type": "carpet"
           }
          ],
          "choropleth": [
           {
            "colorbar": {
             "outlinewidth": 0,
             "ticks": ""
            },
            "type": "choropleth"
           }
          ],
          "contour": [
           {
            "colorbar": {
             "outlinewidth": 0,
             "ticks": ""
            },
            "colorscale": [
             [
              0,
              "#0d0887"
             ],
             [
              0.1111111111111111,
              "#46039f"
             ],
             [
              0.2222222222222222,
              "#7201a8"
             ],
             [
              0.3333333333333333,
              "#9c179e"
             ],
             [
              0.4444444444444444,
              "#bd3786"
             ],
             [
              0.5555555555555556,
              "#d8576b"
             ],
             [
              0.6666666666666666,
              "#ed7953"
             ],
             [
              0.7777777777777778,
              "#fb9f3a"
             ],
             [
              0.8888888888888888,
              "#fdca26"
             ],
             [
              1,
              "#f0f921"
             ]
            ],
            "type": "contour"
           }
          ],
          "contourcarpet": [
           {
            "colorbar": {
             "outlinewidth": 0,
             "ticks": ""
            },
            "type": "contourcarpet"
           }
          ],
          "heatmap": [
           {
            "colorbar": {
             "outlinewidth": 0,
             "ticks": ""
            },
            "colorscale": [
             [
              0,
              "#0d0887"
             ],
             [
              0.1111111111111111,
              "#46039f"
             ],
             [
              0.2222222222222222,
              "#7201a8"
             ],
             [
              0.3333333333333333,
              "#9c179e"
             ],
             [
              0.4444444444444444,
              "#bd3786"
             ],
             [
              0.5555555555555556,
              "#d8576b"
             ],
             [
              0.6666666666666666,
              "#ed7953"
             ],
             [
              0.7777777777777778,
              "#fb9f3a"
             ],
             [
              0.8888888888888888,
              "#fdca26"
             ],
             [
              1,
              "#f0f921"
             ]
            ],
            "type": "heatmap"
           }
          ],
          "heatmapgl": [
           {
            "colorbar": {
             "outlinewidth": 0,
             "ticks": ""
            },
            "colorscale": [
             [
              0,
              "#0d0887"
             ],
             [
              0.1111111111111111,
              "#46039f"
             ],
             [
              0.2222222222222222,
              "#7201a8"
             ],
             [
              0.3333333333333333,
              "#9c179e"
             ],
             [
              0.4444444444444444,
              "#bd3786"
             ],
             [
              0.5555555555555556,
              "#d8576b"
             ],
             [
              0.6666666666666666,
              "#ed7953"
             ],
             [
              0.7777777777777778,
              "#fb9f3a"
             ],
             [
              0.8888888888888888,
              "#fdca26"
             ],
             [
              1,
              "#f0f921"
             ]
            ],
            "type": "heatmapgl"
           }
          ],
          "histogram": [
           {
            "marker": {
             "pattern": {
              "fillmode": "overlay",
              "size": 10,
              "solidity": 0.2
             }
            },
            "type": "histogram"
           }
          ],
          "histogram2d": [
           {
            "colorbar": {
             "outlinewidth": 0,
             "ticks": ""
            },
            "colorscale": [
             [
              0,
              "#0d0887"
             ],
             [
              0.1111111111111111,
              "#46039f"
             ],
             [
              0.2222222222222222,
              "#7201a8"
             ],
             [
              0.3333333333333333,
              "#9c179e"
             ],
             [
              0.4444444444444444,
              "#bd3786"
             ],
             [
              0.5555555555555556,
              "#d8576b"
             ],
             [
              0.6666666666666666,
              "#ed7953"
             ],
             [
              0.7777777777777778,
              "#fb9f3a"
             ],
             [
              0.8888888888888888,
              "#fdca26"
             ],
             [
              1,
              "#f0f921"
             ]
            ],
            "type": "histogram2d"
           }
          ],
          "histogram2dcontour": [
           {
            "colorbar": {
             "outlinewidth": 0,
             "ticks": ""
            },
            "colorscale": [
             [
              0,
              "#0d0887"
             ],
             [
              0.1111111111111111,
              "#46039f"
             ],
             [
              0.2222222222222222,
              "#7201a8"
             ],
             [
              0.3333333333333333,
              "#9c179e"
             ],
             [
              0.4444444444444444,
              "#bd3786"
             ],
             [
              0.5555555555555556,
              "#d8576b"
             ],
             [
              0.6666666666666666,
              "#ed7953"
             ],
             [
              0.7777777777777778,
              "#fb9f3a"
             ],
             [
              0.8888888888888888,
              "#fdca26"
             ],
             [
              1,
              "#f0f921"
             ]
            ],
            "type": "histogram2dcontour"
           }
          ],
          "mesh3d": [
           {
            "colorbar": {
             "outlinewidth": 0,
             "ticks": ""
            },
            "type": "mesh3d"
           }
          ],
          "parcoords": [
           {
            "line": {
             "colorbar": {
              "outlinewidth": 0,
              "ticks": ""
             }
            },
            "type": "parcoords"
           }
          ],
          "pie": [
           {
            "automargin": true,
            "type": "pie"
           }
          ],
          "scatter": [
           {
            "marker": {
             "colorbar": {
              "outlinewidth": 0,
              "ticks": ""
             }
            },
            "type": "scatter"
           }
          ],
          "scatter3d": [
           {
            "line": {
             "colorbar": {
              "outlinewidth": 0,
              "ticks": ""
             }
            },
            "marker": {
             "colorbar": {
              "outlinewidth": 0,
              "ticks": ""
             }
            },
            "type": "scatter3d"
           }
          ],
          "scattercarpet": [
           {
            "marker": {
             "colorbar": {
              "outlinewidth": 0,
              "ticks": ""
             }
            },
            "type": "scattercarpet"
           }
          ],
          "scattergeo": [
           {
            "marker": {
             "colorbar": {
              "outlinewidth": 0,
              "ticks": ""
             }
            },
            "type": "scattergeo"
           }
          ],
          "scattergl": [
           {
            "marker": {
             "colorbar": {
              "outlinewidth": 0,
              "ticks": ""
             }
            },
            "type": "scattergl"
           }
          ],
          "scattermapbox": [
           {
            "marker": {
             "colorbar": {
              "outlinewidth": 0,
              "ticks": ""
             }
            },
            "type": "scattermapbox"
           }
          ],
          "scatterpolar": [
           {
            "marker": {
             "colorbar": {
              "outlinewidth": 0,
              "ticks": ""
             }
            },
            "type": "scatterpolar"
           }
          ],
          "scatterpolargl": [
           {
            "marker": {
             "colorbar": {
              "outlinewidth": 0,
              "ticks": ""
             }
            },
            "type": "scatterpolargl"
           }
          ],
          "scatterternary": [
           {
            "marker": {
             "colorbar": {
              "outlinewidth": 0,
              "ticks": ""
             }
            },
            "type": "scatterternary"
           }
          ],
          "surface": [
           {
            "colorbar": {
             "outlinewidth": 0,
             "ticks": ""
            },
            "colorscale": [
             [
              0,
              "#0d0887"
             ],
             [
              0.1111111111111111,
              "#46039f"
             ],
             [
              0.2222222222222222,
              "#7201a8"
             ],
             [
              0.3333333333333333,
              "#9c179e"
             ],
             [
              0.4444444444444444,
              "#bd3786"
             ],
             [
              0.5555555555555556,
              "#d8576b"
             ],
             [
              0.6666666666666666,
              "#ed7953"
             ],
             [
              0.7777777777777778,
              "#fb9f3a"
             ],
             [
              0.8888888888888888,
              "#fdca26"
             ],
             [
              1,
              "#f0f921"
             ]
            ],
            "type": "surface"
           }
          ],
          "table": [
           {
            "cells": {
             "fill": {
              "color": "#EBF0F8"
             },
             "line": {
              "color": "white"
             }
            },
            "header": {
             "fill": {
              "color": "#C8D4E3"
             },
             "line": {
              "color": "white"
             }
            },
            "type": "table"
           }
          ]
         },
         "layout": {
          "annotationdefaults": {
           "arrowcolor": "#2a3f5f",
           "arrowhead": 0,
           "arrowwidth": 1
          },
          "autotypenumbers": "strict",
          "coloraxis": {
           "colorbar": {
            "outlinewidth": 0,
            "ticks": ""
           }
          },
          "colorscale": {
           "diverging": [
            [
             0,
             "#8e0152"
            ],
            [
             0.1,
             "#c51b7d"
            ],
            [
             0.2,
             "#de77ae"
            ],
            [
             0.3,
             "#f1b6da"
            ],
            [
             0.4,
             "#fde0ef"
            ],
            [
             0.5,
             "#f7f7f7"
            ],
            [
             0.6,
             "#e6f5d0"
            ],
            [
             0.7,
             "#b8e186"
            ],
            [
             0.8,
             "#7fbc41"
            ],
            [
             0.9,
             "#4d9221"
            ],
            [
             1,
             "#276419"
            ]
           ],
           "sequential": [
            [
             0,
             "#0d0887"
            ],
            [
             0.1111111111111111,
             "#46039f"
            ],
            [
             0.2222222222222222,
             "#7201a8"
            ],
            [
             0.3333333333333333,
             "#9c179e"
            ],
            [
             0.4444444444444444,
             "#bd3786"
            ],
            [
             0.5555555555555556,
             "#d8576b"
            ],
            [
             0.6666666666666666,
             "#ed7953"
            ],
            [
             0.7777777777777778,
             "#fb9f3a"
            ],
            [
             0.8888888888888888,
             "#fdca26"
            ],
            [
             1,
             "#f0f921"
            ]
           ],
           "sequentialminus": [
            [
             0,
             "#0d0887"
            ],
            [
             0.1111111111111111,
             "#46039f"
            ],
            [
             0.2222222222222222,
             "#7201a8"
            ],
            [
             0.3333333333333333,
             "#9c179e"
            ],
            [
             0.4444444444444444,
             "#bd3786"
            ],
            [
             0.5555555555555556,
             "#d8576b"
            ],
            [
             0.6666666666666666,
             "#ed7953"
            ],
            [
             0.7777777777777778,
             "#fb9f3a"
            ],
            [
             0.8888888888888888,
             "#fdca26"
            ],
            [
             1,
             "#f0f921"
            ]
           ]
          },
          "colorway": [
           "#636efa",
           "#EF553B",
           "#00cc96",
           "#ab63fa",
           "#FFA15A",
           "#19d3f3",
           "#FF6692",
           "#B6E880",
           "#FF97FF",
           "#FECB52"
          ],
          "font": {
           "color": "#2a3f5f"
          },
          "geo": {
           "bgcolor": "white",
           "lakecolor": "white",
           "landcolor": "#E5ECF6",
           "showlakes": true,
           "showland": true,
           "subunitcolor": "white"
          },
          "hoverlabel": {
           "align": "left"
          },
          "hovermode": "closest",
          "mapbox": {
           "style": "light"
          },
          "paper_bgcolor": "white",
          "plot_bgcolor": "#E5ECF6",
          "polar": {
           "angularaxis": {
            "gridcolor": "white",
            "linecolor": "white",
            "ticks": ""
           },
           "bgcolor": "#E5ECF6",
           "radialaxis": {
            "gridcolor": "white",
            "linecolor": "white",
            "ticks": ""
           }
          },
          "scene": {
           "xaxis": {
            "backgroundcolor": "#E5ECF6",
            "gridcolor": "white",
            "gridwidth": 2,
            "linecolor": "white",
            "showbackground": true,
            "ticks": "",
            "zerolinecolor": "white"
           },
           "yaxis": {
            "backgroundcolor": "#E5ECF6",
            "gridcolor": "white",
            "gridwidth": 2,
            "linecolor": "white",
            "showbackground": true,
            "ticks": "",
            "zerolinecolor": "white"
           },
           "zaxis": {
            "backgroundcolor": "#E5ECF6",
            "gridcolor": "white",
            "gridwidth": 2,
            "linecolor": "white",
            "showbackground": true,
            "ticks": "",
            "zerolinecolor": "white"
           }
          },
          "shapedefaults": {
           "line": {
            "color": "#2a3f5f"
           }
          },
          "ternary": {
           "aaxis": {
            "gridcolor": "white",
            "linecolor": "white",
            "ticks": ""
           },
           "baxis": {
            "gridcolor": "white",
            "linecolor": "white",
            "ticks": ""
           },
           "bgcolor": "#E5ECF6",
           "caxis": {
            "gridcolor": "white",
            "linecolor": "white",
            "ticks": ""
           }
          },
          "title": {
           "x": 0.05
          },
          "xaxis": {
           "automargin": true,
           "gridcolor": "white",
           "linecolor": "white",
           "ticks": "",
           "title": {
            "standoff": 15
           },
           "zerolinecolor": "white",
           "zerolinewidth": 2
          },
          "yaxis": {
           "automargin": true,
           "gridcolor": "white",
           "linecolor": "white",
           "ticks": "",
           "title": {
            "standoff": 15
           },
           "zerolinecolor": "white",
           "zerolinewidth": 2
          }
         }
        },
        "xaxis": {
         "anchor": "y",
         "domain": [
          0,
          1
         ],
         "title": {
          "text": "x"
         }
        },
        "yaxis": {
         "anchor": "x",
         "domain": [
          0,
          1
         ],
         "title": {
          "text": "y"
         }
        }
       }
      },
      "text/html": [
       "<div>                            <div id=\"d4f7e1a5-cca4-44bc-b457-60d97c7b4bd4\" class=\"plotly-graph-div\" style=\"height:525px; width:100%;\"></div>            <script type=\"text/javascript\">                require([\"plotly\"], function(Plotly) {                    window.PLOTLYENV=window.PLOTLYENV || {};                                    if (document.getElementById(\"d4f7e1a5-cca4-44bc-b457-60d97c7b4bd4\")) {                    Plotly.newPlot(                        \"d4f7e1a5-cca4-44bc-b457-60d97c7b4bd4\",                        [{\"alignmentgroup\":\"True\",\"hovertemplate\":\"color=GAME<br>x=%{x}<br>y=%{y}<extra></extra>\",\"legendgroup\":\"GAME\",\"marker\":{\"color\":\"#636efa\",\"pattern\":{\"shape\":\"\"}},\"name\":\"GAME\",\"offsetgroup\":\"GAME\",\"orientation\":\"v\",\"showlegend\":true,\"textposition\":\"auto\",\"type\":\"bar\",\"x\":[\"GAME\"],\"xaxis\":\"x\",\"y\":[35086024415],\"yaxis\":\"y\"},{\"alignmentgroup\":\"True\",\"hovertemplate\":\"color=COMMUNICATION<br>x=%{x}<br>y=%{y}<extra></extra>\",\"legendgroup\":\"COMMUNICATION\",\"marker\":{\"color\":\"#EF553B\",\"pattern\":{\"shape\":\"\"}},\"name\":\"COMMUNICATION\",\"offsetgroup\":\"COMMUNICATION\",\"orientation\":\"v\",\"showlegend\":true,\"textposition\":\"auto\",\"type\":\"bar\",\"x\":[\"COMMUNICATION\"],\"xaxis\":\"x\",\"y\":[32647276251],\"yaxis\":\"y\"},{\"alignmentgroup\":\"True\",\"hovertemplate\":\"color=PRODUCTIVITY<br>x=%{x}<br>y=%{y}<extra></extra>\",\"legendgroup\":\"PRODUCTIVITY\",\"marker\":{\"color\":\"#00cc96\",\"pattern\":{\"shape\":\"\"}},\"name\":\"PRODUCTIVITY\",\"offsetgroup\":\"PRODUCTIVITY\",\"orientation\":\"v\",\"showlegend\":true,\"textposition\":\"auto\",\"type\":\"bar\",\"x\":[\"PRODUCTIVITY\"],\"xaxis\":\"x\",\"y\":[14176091369],\"yaxis\":\"y\"},{\"alignmentgroup\":\"True\",\"hovertemplate\":\"color=SOCIAL<br>x=%{x}<br>y=%{y}<extra></extra>\",\"legendgroup\":\"SOCIAL\",\"marker\":{\"color\":\"#ab63fa\",\"pattern\":{\"shape\":\"\"}},\"name\":\"SOCIAL\",\"offsetgroup\":\"SOCIAL\",\"orientation\":\"v\",\"showlegend\":true,\"textposition\":\"auto\",\"type\":\"bar\",\"x\":[\"SOCIAL\"],\"xaxis\":\"x\",\"y\":[14069867902],\"yaxis\":\"y\"},{\"alignmentgroup\":\"True\",\"hovertemplate\":\"color=TOOLS<br>x=%{x}<br>y=%{y}<extra></extra>\",\"legendgroup\":\"TOOLS\",\"marker\":{\"color\":\"#FFA15A\",\"pattern\":{\"shape\":\"\"}},\"name\":\"TOOLS\",\"offsetgroup\":\"TOOLS\",\"orientation\":\"v\",\"showlegend\":true,\"textposition\":\"auto\",\"type\":\"bar\",\"x\":[\"TOOLS\"],\"xaxis\":\"x\",\"y\":[11452771915],\"yaxis\":\"y\"},{\"alignmentgroup\":\"True\",\"hovertemplate\":\"color=FAMILY<br>x=%{x}<br>y=%{y}<extra></extra>\",\"legendgroup\":\"FAMILY\",\"marker\":{\"color\":\"#19d3f3\",\"pattern\":{\"shape\":\"\"}},\"name\":\"FAMILY\",\"offsetgroup\":\"FAMILY\",\"orientation\":\"v\",\"showlegend\":true,\"textposition\":\"auto\",\"type\":\"bar\",\"x\":[\"FAMILY\"],\"xaxis\":\"x\",\"y\":[10258263505],\"yaxis\":\"y\"},{\"alignmentgroup\":\"True\",\"hovertemplate\":\"color=PHOTOGRAPHY<br>x=%{x}<br>y=%{y}<extra></extra>\",\"legendgroup\":\"PHOTOGRAPHY\",\"marker\":{\"color\":\"#FF6692\",\"pattern\":{\"shape\":\"\"}},\"name\":\"PHOTOGRAPHY\",\"offsetgroup\":\"PHOTOGRAPHY\",\"orientation\":\"v\",\"showlegend\":true,\"textposition\":\"auto\",\"type\":\"bar\",\"x\":[\"PHOTOGRAPHY\"],\"xaxis\":\"x\",\"y\":[10088247655],\"yaxis\":\"y\"},{\"alignmentgroup\":\"True\",\"hovertemplate\":\"color=NEWS_AND_MAGAZINES<br>x=%{x}<br>y=%{y}<extra></extra>\",\"legendgroup\":\"NEWS_AND_MAGAZINES\",\"marker\":{\"color\":\"#B6E880\",\"pattern\":{\"shape\":\"\"}},\"name\":\"NEWS_AND_MAGAZINES\",\"offsetgroup\":\"NEWS_AND_MAGAZINES\",\"orientation\":\"v\",\"showlegend\":true,\"textposition\":\"auto\",\"type\":\"bar\",\"x\":[\"NEWS_AND_MAGAZINES\"],\"xaxis\":\"x\",\"y\":[7496317760],\"yaxis\":\"y\"},{\"alignmentgroup\":\"True\",\"hovertemplate\":\"color=TRAVEL_AND_LOCAL<br>x=%{x}<br>y=%{y}<extra></extra>\",\"legendgroup\":\"TRAVEL_AND_LOCAL\",\"marker\":{\"color\":\"#FF97FF\",\"pattern\":{\"shape\":\"\"}},\"name\":\"TRAVEL_AND_LOCAL\",\"offsetgroup\":\"TRAVEL_AND_LOCAL\",\"orientation\":\"v\",\"showlegend\":true,\"textposition\":\"auto\",\"type\":\"bar\",\"x\":[\"TRAVEL_AND_LOCAL\"],\"xaxis\":\"x\",\"y\":[6868887146],\"yaxis\":\"y\"},{\"alignmentgroup\":\"True\",\"hovertemplate\":\"color=VIDEO_PLAYERS<br>x=%{x}<br>y=%{y}<extra></extra>\",\"legendgroup\":\"VIDEO_PLAYERS\",\"marker\":{\"color\":\"#FECB52\",\"pattern\":{\"shape\":\"\"}},\"name\":\"VIDEO_PLAYERS\",\"offsetgroup\":\"VIDEO_PLAYERS\",\"orientation\":\"v\",\"showlegend\":true,\"textposition\":\"auto\",\"type\":\"bar\",\"x\":[\"VIDEO_PLAYERS\"],\"xaxis\":\"x\",\"y\":[6222002720],\"yaxis\":\"y\"},{\"alignmentgroup\":\"True\",\"hovertemplate\":\"color=SHOPPING<br>x=%{x}<br>y=%{y}<extra></extra>\",\"legendgroup\":\"SHOPPING\",\"marker\":{\"color\":\"#636efa\",\"pattern\":{\"shape\":\"\"}},\"name\":\"SHOPPING\",\"offsetgroup\":\"SHOPPING\",\"orientation\":\"v\",\"showlegend\":true,\"textposition\":\"auto\",\"type\":\"bar\",\"x\":[\"SHOPPING\"],\"xaxis\":\"x\",\"y\":[3247848785],\"yaxis\":\"y\"},{\"alignmentgroup\":\"True\",\"hovertemplate\":\"color=ENTERTAINMENT<br>x=%{x}<br>y=%{y}<extra></extra>\",\"legendgroup\":\"ENTERTAINMENT\",\"marker\":{\"color\":\"#EF553B\",\"pattern\":{\"shape\":\"\"}},\"name\":\"ENTERTAINMENT\",\"offsetgroup\":\"ENTERTAINMENT\",\"orientation\":\"v\",\"showlegend\":true,\"textposition\":\"auto\",\"type\":\"bar\",\"x\":[\"ENTERTAINMENT\"],\"xaxis\":\"x\",\"y\":[2869160000],\"yaxis\":\"y\"},{\"alignmentgroup\":\"True\",\"hovertemplate\":\"color=PERSONALIZATION<br>x=%{x}<br>y=%{y}<extra></extra>\",\"legendgroup\":\"PERSONALIZATION\",\"marker\":{\"color\":\"#00cc96\",\"pattern\":{\"shape\":\"\"}},\"name\":\"PERSONALIZATION\",\"offsetgroup\":\"PERSONALIZATION\",\"orientation\":\"v\",\"showlegend\":true,\"textposition\":\"auto\",\"type\":\"bar\",\"x\":[\"PERSONALIZATION\"],\"xaxis\":\"x\",\"y\":[2325494782],\"yaxis\":\"y\"},{\"alignmentgroup\":\"True\",\"hovertemplate\":\"color=BOOKS_AND_REFERENCE<br>x=%{x}<br>y=%{y}<extra></extra>\",\"legendgroup\":\"BOOKS_AND_REFERENCE\",\"marker\":{\"color\":\"#ab63fa\",\"pattern\":{\"shape\":\"\"}},\"name\":\"BOOKS_AND_REFERENCE\",\"offsetgroup\":\"BOOKS_AND_REFERENCE\",\"orientation\":\"v\",\"showlegend\":true,\"textposition\":\"auto\",\"type\":\"bar\",\"x\":[\"BOOKS_AND_REFERENCE\"],\"xaxis\":\"x\",\"y\":[1921469576],\"yaxis\":\"y\"},{\"alignmentgroup\":\"True\",\"hovertemplate\":\"color=SPORTS<br>x=%{x}<br>y=%{y}<extra></extra>\",\"legendgroup\":\"SPORTS\",\"marker\":{\"color\":\"#FFA15A\",\"pattern\":{\"shape\":\"\"}},\"name\":\"SPORTS\",\"offsetgroup\":\"SPORTS\",\"orientation\":\"v\",\"showlegend\":true,\"textposition\":\"auto\",\"type\":\"bar\",\"x\":[\"SPORTS\"],\"xaxis\":\"x\",\"y\":[1751174498],\"yaxis\":\"y\"},{\"alignmentgroup\":\"True\",\"hovertemplate\":\"color=HEALTH_AND_FITNESS<br>x=%{x}<br>y=%{y}<extra></extra>\",\"legendgroup\":\"HEALTH_AND_FITNESS\",\"marker\":{\"color\":\"#19d3f3\",\"pattern\":{\"shape\":\"\"}},\"name\":\"HEALTH_AND_FITNESS\",\"offsetgroup\":\"HEALTH_AND_FITNESS\",\"orientation\":\"v\",\"showlegend\":true,\"textposition\":\"auto\",\"type\":\"bar\",\"x\":[\"HEALTH_AND_FITNESS\"],\"xaxis\":\"x\",\"y\":[1583072512],\"yaxis\":\"y\"},{\"alignmentgroup\":\"True\",\"hovertemplate\":\"color=BUSINESS<br>x=%{x}<br>y=%{y}<extra></extra>\",\"legendgroup\":\"BUSINESS\",\"marker\":{\"color\":\"#FF6692\",\"pattern\":{\"shape\":\"\"}},\"name\":\"BUSINESS\",\"offsetgroup\":\"BUSINESS\",\"orientation\":\"v\",\"showlegend\":true,\"textposition\":\"auto\",\"type\":\"bar\",\"x\":[\"BUSINESS\"],\"xaxis\":\"x\",\"y\":[1001914865],\"yaxis\":\"y\"},{\"alignmentgroup\":\"True\",\"hovertemplate\":\"color=FINANCE<br>x=%{x}<br>y=%{y}<extra></extra>\",\"legendgroup\":\"FINANCE\",\"marker\":{\"color\":\"#B6E880\",\"pattern\":{\"shape\":\"\"}},\"name\":\"FINANCE\",\"offsetgroup\":\"FINANCE\",\"orientation\":\"v\",\"showlegend\":true,\"textposition\":\"auto\",\"type\":\"bar\",\"x\":[\"FINANCE\"],\"xaxis\":\"x\",\"y\":[876648734],\"yaxis\":\"y\"},{\"alignmentgroup\":\"True\",\"hovertemplate\":\"color=EDUCATION<br>x=%{x}<br>y=%{y}<extra></extra>\",\"legendgroup\":\"EDUCATION\",\"marker\":{\"color\":\"#FF97FF\",\"pattern\":{\"shape\":\"\"}},\"name\":\"EDUCATION\",\"offsetgroup\":\"EDUCATION\",\"orientation\":\"v\",\"showlegend\":true,\"textposition\":\"auto\",\"type\":\"bar\",\"x\":[\"EDUCATION\"],\"xaxis\":\"x\",\"y\":[871452000],\"yaxis\":\"y\"},{\"alignmentgroup\":\"True\",\"hovertemplate\":\"color=MAPS_AND_NAVIGATION<br>x=%{x}<br>y=%{y}<extra></extra>\",\"legendgroup\":\"MAPS_AND_NAVIGATION\",\"marker\":{\"color\":\"#FECB52\",\"pattern\":{\"shape\":\"\"}},\"name\":\"MAPS_AND_NAVIGATION\",\"offsetgroup\":\"MAPS_AND_NAVIGATION\",\"orientation\":\"v\",\"showlegend\":true,\"textposition\":\"auto\",\"type\":\"bar\",\"x\":[\"MAPS_AND_NAVIGATION\"],\"xaxis\":\"x\",\"y\":[724281890],\"yaxis\":\"y\"},{\"alignmentgroup\":\"True\",\"hovertemplate\":\"color=LIFESTYLE<br>x=%{x}<br>y=%{y}<extra></extra>\",\"legendgroup\":\"LIFESTYLE\",\"marker\":{\"color\":\"#636efa\",\"pattern\":{\"shape\":\"\"}},\"name\":\"LIFESTYLE\",\"offsetgroup\":\"LIFESTYLE\",\"orientation\":\"v\",\"showlegend\":true,\"textposition\":\"auto\",\"type\":\"bar\",\"x\":[\"LIFESTYLE\"],\"xaxis\":\"x\",\"y\":[537643539],\"yaxis\":\"y\"},{\"alignmentgroup\":\"True\",\"hovertemplate\":\"color=WEATHER<br>x=%{x}<br>y=%{y}<extra></extra>\",\"legendgroup\":\"WEATHER\",\"marker\":{\"color\":\"#EF553B\",\"pattern\":{\"shape\":\"\"}},\"name\":\"WEATHER\",\"offsetgroup\":\"WEATHER\",\"orientation\":\"v\",\"showlegend\":true,\"textposition\":\"auto\",\"type\":\"bar\",\"x\":[\"WEATHER\"],\"xaxis\":\"x\",\"y\":[426100520],\"yaxis\":\"y\"},{\"alignmentgroup\":\"True\",\"hovertemplate\":\"color=FOOD_AND_DRINK<br>x=%{x}<br>y=%{y}<extra></extra>\",\"legendgroup\":\"FOOD_AND_DRINK\",\"marker\":{\"color\":\"#00cc96\",\"pattern\":{\"shape\":\"\"}},\"name\":\"FOOD_AND_DRINK\",\"offsetgroup\":\"FOOD_AND_DRINK\",\"orientation\":\"v\",\"showlegend\":true,\"textposition\":\"auto\",\"type\":\"bar\",\"x\":[\"FOOD_AND_DRINK\"],\"xaxis\":\"x\",\"y\":[273898751],\"yaxis\":\"y\"},{\"alignmentgroup\":\"True\",\"hovertemplate\":\"color=DATING<br>x=%{x}<br>y=%{y}<extra></extra>\",\"legendgroup\":\"DATING\",\"marker\":{\"color\":\"#ab63fa\",\"pattern\":{\"shape\":\"\"}},\"name\":\"DATING\",\"offsetgroup\":\"DATING\",\"orientation\":\"v\",\"showlegend\":true,\"textposition\":\"auto\",\"type\":\"bar\",\"x\":[\"DATING\"],\"xaxis\":\"x\",\"y\":[264310807],\"yaxis\":\"y\"},{\"alignmentgroup\":\"True\",\"hovertemplate\":\"color=HOUSE_AND_HOME<br>x=%{x}<br>y=%{y}<extra></extra>\",\"legendgroup\":\"HOUSE_AND_HOME\",\"marker\":{\"color\":\"#FFA15A\",\"pattern\":{\"shape\":\"\"}},\"name\":\"HOUSE_AND_HOME\",\"offsetgroup\":\"HOUSE_AND_HOME\",\"orientation\":\"v\",\"showlegend\":true,\"textposition\":\"auto\",\"type\":\"bar\",\"x\":[\"HOUSE_AND_HOME\"],\"xaxis\":\"x\",\"y\":[168712461],\"yaxis\":\"y\"},{\"alignmentgroup\":\"True\",\"hovertemplate\":\"color=ART_AND_DESIGN<br>x=%{x}<br>y=%{y}<extra></extra>\",\"legendgroup\":\"ART_AND_DESIGN\",\"marker\":{\"color\":\"#19d3f3\",\"pattern\":{\"shape\":\"\"}},\"name\":\"ART_AND_DESIGN\",\"offsetgroup\":\"ART_AND_DESIGN\",\"orientation\":\"v\",\"showlegend\":true,\"textposition\":\"auto\",\"type\":\"bar\",\"x\":[\"ART_AND_DESIGN\"],\"xaxis\":\"x\",\"y\":[124338100],\"yaxis\":\"y\"},{\"alignmentgroup\":\"True\",\"hovertemplate\":\"color=LIBRARIES_AND_DEMO<br>x=%{x}<br>y=%{y}<extra></extra>\",\"legendgroup\":\"LIBRARIES_AND_DEMO\",\"marker\":{\"color\":\"#FF6692\",\"pattern\":{\"shape\":\"\"}},\"name\":\"LIBRARIES_AND_DEMO\",\"offsetgroup\":\"LIBRARIES_AND_DEMO\",\"orientation\":\"v\",\"showlegend\":true,\"textposition\":\"auto\",\"type\":\"bar\",\"x\":[\"LIBRARIES_AND_DEMO\"],\"xaxis\":\"x\",\"y\":[62995910],\"yaxis\":\"y\"},{\"alignmentgroup\":\"True\",\"hovertemplate\":\"color=COMICS<br>x=%{x}<br>y=%{y}<extra></extra>\",\"legendgroup\":\"COMICS\",\"marker\":{\"color\":\"#B6E880\",\"pattern\":{\"shape\":\"\"}},\"name\":\"COMICS\",\"offsetgroup\":\"COMICS\",\"orientation\":\"v\",\"showlegend\":true,\"textposition\":\"auto\",\"type\":\"bar\",\"x\":[\"COMICS\"],\"xaxis\":\"x\",\"y\":[56086150],\"yaxis\":\"y\"},{\"alignmentgroup\":\"True\",\"hovertemplate\":\"color=MEDICAL<br>x=%{x}<br>y=%{y}<extra></extra>\",\"legendgroup\":\"MEDICAL\",\"marker\":{\"color\":\"#FF97FF\",\"pattern\":{\"shape\":\"\"}},\"name\":\"MEDICAL\",\"offsetgroup\":\"MEDICAL\",\"orientation\":\"v\",\"showlegend\":true,\"textposition\":\"auto\",\"type\":\"bar\",\"x\":[\"MEDICAL\"],\"xaxis\":\"x\",\"y\":[53257437],\"yaxis\":\"y\"},{\"alignmentgroup\":\"True\",\"hovertemplate\":\"color=AUTO_AND_VEHICLES<br>x=%{x}<br>y=%{y}<extra></extra>\",\"legendgroup\":\"AUTO_AND_VEHICLES\",\"marker\":{\"color\":\"#FECB52\",\"pattern\":{\"shape\":\"\"}},\"name\":\"AUTO_AND_VEHICLES\",\"offsetgroup\":\"AUTO_AND_VEHICLES\",\"orientation\":\"v\",\"showlegend\":true,\"textposition\":\"auto\",\"type\":\"bar\",\"x\":[\"AUTO_AND_VEHICLES\"],\"xaxis\":\"x\",\"y\":[53130211],\"yaxis\":\"y\"},{\"alignmentgroup\":\"True\",\"hovertemplate\":\"color=PARENTING<br>x=%{x}<br>y=%{y}<extra></extra>\",\"legendgroup\":\"PARENTING\",\"marker\":{\"color\":\"#636efa\",\"pattern\":{\"shape\":\"\"}},\"name\":\"PARENTING\",\"offsetgroup\":\"PARENTING\",\"orientation\":\"v\",\"showlegend\":true,\"textposition\":\"auto\",\"type\":\"bar\",\"x\":[\"PARENTING\"],\"xaxis\":\"x\",\"y\":[31521110],\"yaxis\":\"y\"},{\"alignmentgroup\":\"True\",\"hovertemplate\":\"color=BEAUTY<br>x=%{x}<br>y=%{y}<extra></extra>\",\"legendgroup\":\"BEAUTY\",\"marker\":{\"color\":\"#EF553B\",\"pattern\":{\"shape\":\"\"}},\"name\":\"BEAUTY\",\"offsetgroup\":\"BEAUTY\",\"orientation\":\"v\",\"showlegend\":true,\"textposition\":\"auto\",\"type\":\"bar\",\"x\":[\"BEAUTY\"],\"xaxis\":\"x\",\"y\":[27197050],\"yaxis\":\"y\"},{\"alignmentgroup\":\"True\",\"hovertemplate\":\"color=EVENTS<br>x=%{x}<br>y=%{y}<extra></extra>\",\"legendgroup\":\"EVENTS\",\"marker\":{\"color\":\"#00cc96\",\"pattern\":{\"shape\":\"\"}},\"name\":\"EVENTS\",\"offsetgroup\":\"EVENTS\",\"orientation\":\"v\",\"showlegend\":true,\"textposition\":\"auto\",\"type\":\"bar\",\"x\":[\"EVENTS\"],\"xaxis\":\"x\",\"y\":[15973161],\"yaxis\":\"y\"}],                        {\"barmode\":\"relative\",\"legend\":{\"title\":{\"text\":\"color\"},\"tracegroupgap\":0},\"margin\":{\"t\":60},\"template\":{\"data\":{\"bar\":[{\"error_x\":{\"color\":\"#2a3f5f\"},\"error_y\":{\"color\":\"#2a3f5f\"},\"marker\":{\"line\":{\"color\":\"#E5ECF6\",\"width\":0.5},\"pattern\":{\"fillmode\":\"overlay\",\"size\":10,\"solidity\":0.2}},\"type\":\"bar\"}],\"barpolar\":[{\"marker\":{\"line\":{\"color\":\"#E5ECF6\",\"width\":0.5},\"pattern\":{\"fillmode\":\"overlay\",\"size\":10,\"solidity\":0.2}},\"type\":\"barpolar\"}],\"carpet\":[{\"aaxis\":{\"endlinecolor\":\"#2a3f5f\",\"gridcolor\":\"white\",\"linecolor\":\"white\",\"minorgridcolor\":\"white\",\"startlinecolor\":\"#2a3f5f\"},\"baxis\":{\"endlinecolor\":\"#2a3f5f\",\"gridcolor\":\"white\",\"linecolor\":\"white\",\"minorgridcolor\":\"white\",\"startlinecolor\":\"#2a3f5f\"},\"type\":\"carpet\"}],\"choropleth\":[{\"colorbar\":{\"outlinewidth\":0,\"ticks\":\"\"},\"type\":\"choropleth\"}],\"contour\":[{\"colorbar\":{\"outlinewidth\":0,\"ticks\":\"\"},\"colorscale\":[[0.0,\"#0d0887\"],[0.1111111111111111,\"#46039f\"],[0.2222222222222222,\"#7201a8\"],[0.3333333333333333,\"#9c179e\"],[0.4444444444444444,\"#bd3786\"],[0.5555555555555556,\"#d8576b\"],[0.6666666666666666,\"#ed7953\"],[0.7777777777777778,\"#fb9f3a\"],[0.8888888888888888,\"#fdca26\"],[1.0,\"#f0f921\"]],\"type\":\"contour\"}],\"contourcarpet\":[{\"colorbar\":{\"outlinewidth\":0,\"ticks\":\"\"},\"type\":\"contourcarpet\"}],\"heatmap\":[{\"colorbar\":{\"outlinewidth\":0,\"ticks\":\"\"},\"colorscale\":[[0.0,\"#0d0887\"],[0.1111111111111111,\"#46039f\"],[0.2222222222222222,\"#7201a8\"],[0.3333333333333333,\"#9c179e\"],[0.4444444444444444,\"#bd3786\"],[0.5555555555555556,\"#d8576b\"],[0.6666666666666666,\"#ed7953\"],[0.7777777777777778,\"#fb9f3a\"],[0.8888888888888888,\"#fdca26\"],[1.0,\"#f0f921\"]],\"type\":\"heatmap\"}],\"heatmapgl\":[{\"colorbar\":{\"outlinewidth\":0,\"ticks\":\"\"},\"colorscale\":[[0.0,\"#0d0887\"],[0.1111111111111111,\"#46039f\"],[0.2222222222222222,\"#7201a8\"],[0.3333333333333333,\"#9c179e\"],[0.4444444444444444,\"#bd3786\"],[0.5555555555555556,\"#d8576b\"],[0.6666666666666666,\"#ed7953\"],[0.7777777777777778,\"#fb9f3a\"],[0.8888888888888888,\"#fdca26\"],[1.0,\"#f0f921\"]],\"type\":\"heatmapgl\"}],\"histogram\":[{\"marker\":{\"pattern\":{\"fillmode\":\"overlay\",\"size\":10,\"solidity\":0.2}},\"type\":\"histogram\"}],\"histogram2d\":[{\"colorbar\":{\"outlinewidth\":0,\"ticks\":\"\"},\"colorscale\":[[0.0,\"#0d0887\"],[0.1111111111111111,\"#46039f\"],[0.2222222222222222,\"#7201a8\"],[0.3333333333333333,\"#9c179e\"],[0.4444444444444444,\"#bd3786\"],[0.5555555555555556,\"#d8576b\"],[0.6666666666666666,\"#ed7953\"],[0.7777777777777778,\"#fb9f3a\"],[0.8888888888888888,\"#fdca26\"],[1.0,\"#f0f921\"]],\"type\":\"histogram2d\"}],\"histogram2dcontour\":[{\"colorbar\":{\"outlinewidth\":0,\"ticks\":\"\"},\"colorscale\":[[0.0,\"#0d0887\"],[0.1111111111111111,\"#46039f\"],[0.2222222222222222,\"#7201a8\"],[0.3333333333333333,\"#9c179e\"],[0.4444444444444444,\"#bd3786\"],[0.5555555555555556,\"#d8576b\"],[0.6666666666666666,\"#ed7953\"],[0.7777777777777778,\"#fb9f3a\"],[0.8888888888888888,\"#fdca26\"],[1.0,\"#f0f921\"]],\"type\":\"histogram2dcontour\"}],\"mesh3d\":[{\"colorbar\":{\"outlinewidth\":0,\"ticks\":\"\"},\"type\":\"mesh3d\"}],\"parcoords\":[{\"line\":{\"colorbar\":{\"outlinewidth\":0,\"ticks\":\"\"}},\"type\":\"parcoords\"}],\"pie\":[{\"automargin\":true,\"type\":\"pie\"}],\"scatter\":[{\"marker\":{\"colorbar\":{\"outlinewidth\":0,\"ticks\":\"\"}},\"type\":\"scatter\"}],\"scatter3d\":[{\"line\":{\"colorbar\":{\"outlinewidth\":0,\"ticks\":\"\"}},\"marker\":{\"colorbar\":{\"outlinewidth\":0,\"ticks\":\"\"}},\"type\":\"scatter3d\"}],\"scattercarpet\":[{\"marker\":{\"colorbar\":{\"outlinewidth\":0,\"ticks\":\"\"}},\"type\":\"scattercarpet\"}],\"scattergeo\":[{\"marker\":{\"colorbar\":{\"outlinewidth\":0,\"ticks\":\"\"}},\"type\":\"scattergeo\"}],\"scattergl\":[{\"marker\":{\"colorbar\":{\"outlinewidth\":0,\"ticks\":\"\"}},\"type\":\"scattergl\"}],\"scattermapbox\":[{\"marker\":{\"colorbar\":{\"outlinewidth\":0,\"ticks\":\"\"}},\"type\":\"scattermapbox\"}],\"scatterpolar\":[{\"marker\":{\"colorbar\":{\"outlinewidth\":0,\"ticks\":\"\"}},\"type\":\"scatterpolar\"}],\"scatterpolargl\":[{\"marker\":{\"colorbar\":{\"outlinewidth\":0,\"ticks\":\"\"}},\"type\":\"scatterpolargl\"}],\"scatterternary\":[{\"marker\":{\"colorbar\":{\"outlinewidth\":0,\"ticks\":\"\"}},\"type\":\"scatterternary\"}],\"surface\":[{\"colorbar\":{\"outlinewidth\":0,\"ticks\":\"\"},\"colorscale\":[[0.0,\"#0d0887\"],[0.1111111111111111,\"#46039f\"],[0.2222222222222222,\"#7201a8\"],[0.3333333333333333,\"#9c179e\"],[0.4444444444444444,\"#bd3786\"],[0.5555555555555556,\"#d8576b\"],[0.6666666666666666,\"#ed7953\"],[0.7777777777777778,\"#fb9f3a\"],[0.8888888888888888,\"#fdca26\"],[1.0,\"#f0f921\"]],\"type\":\"surface\"}],\"table\":[{\"cells\":{\"fill\":{\"color\":\"#EBF0F8\"},\"line\":{\"color\":\"white\"}},\"header\":{\"fill\":{\"color\":\"#C8D4E3\"},\"line\":{\"color\":\"white\"}},\"type\":\"table\"}]},\"layout\":{\"annotationdefaults\":{\"arrowcolor\":\"#2a3f5f\",\"arrowhead\":0,\"arrowwidth\":1},\"autotypenumbers\":\"strict\",\"coloraxis\":{\"colorbar\":{\"outlinewidth\":0,\"ticks\":\"\"}},\"colorscale\":{\"diverging\":[[0,\"#8e0152\"],[0.1,\"#c51b7d\"],[0.2,\"#de77ae\"],[0.3,\"#f1b6da\"],[0.4,\"#fde0ef\"],[0.5,\"#f7f7f7\"],[0.6,\"#e6f5d0\"],[0.7,\"#b8e186\"],[0.8,\"#7fbc41\"],[0.9,\"#4d9221\"],[1,\"#276419\"]],\"sequential\":[[0.0,\"#0d0887\"],[0.1111111111111111,\"#46039f\"],[0.2222222222222222,\"#7201a8\"],[0.3333333333333333,\"#9c179e\"],[0.4444444444444444,\"#bd3786\"],[0.5555555555555556,\"#d8576b\"],[0.6666666666666666,\"#ed7953\"],[0.7777777777777778,\"#fb9f3a\"],[0.8888888888888888,\"#fdca26\"],[1.0,\"#f0f921\"]],\"sequentialminus\":[[0.0,\"#0d0887\"],[0.1111111111111111,\"#46039f\"],[0.2222222222222222,\"#7201a8\"],[0.3333333333333333,\"#9c179e\"],[0.4444444444444444,\"#bd3786\"],[0.5555555555555556,\"#d8576b\"],[0.6666666666666666,\"#ed7953\"],[0.7777777777777778,\"#fb9f3a\"],[0.8888888888888888,\"#fdca26\"],[1.0,\"#f0f921\"]]},\"colorway\":[\"#636efa\",\"#EF553B\",\"#00cc96\",\"#ab63fa\",\"#FFA15A\",\"#19d3f3\",\"#FF6692\",\"#B6E880\",\"#FF97FF\",\"#FECB52\"],\"font\":{\"color\":\"#2a3f5f\"},\"geo\":{\"bgcolor\":\"white\",\"lakecolor\":\"white\",\"landcolor\":\"#E5ECF6\",\"showlakes\":true,\"showland\":true,\"subunitcolor\":\"white\"},\"hoverlabel\":{\"align\":\"left\"},\"hovermode\":\"closest\",\"mapbox\":{\"style\":\"light\"},\"paper_bgcolor\":\"white\",\"plot_bgcolor\":\"#E5ECF6\",\"polar\":{\"angularaxis\":{\"gridcolor\":\"white\",\"linecolor\":\"white\",\"ticks\":\"\"},\"bgcolor\":\"#E5ECF6\",\"radialaxis\":{\"gridcolor\":\"white\",\"linecolor\":\"white\",\"ticks\":\"\"}},\"scene\":{\"xaxis\":{\"backgroundcolor\":\"#E5ECF6\",\"gridcolor\":\"white\",\"gridwidth\":2,\"linecolor\":\"white\",\"showbackground\":true,\"ticks\":\"\",\"zerolinecolor\":\"white\"},\"yaxis\":{\"backgroundcolor\":\"#E5ECF6\",\"gridcolor\":\"white\",\"gridwidth\":2,\"linecolor\":\"white\",\"showbackground\":true,\"ticks\":\"\",\"zerolinecolor\":\"white\"},\"zaxis\":{\"backgroundcolor\":\"#E5ECF6\",\"gridcolor\":\"white\",\"gridwidth\":2,\"linecolor\":\"white\",\"showbackground\":true,\"ticks\":\"\",\"zerolinecolor\":\"white\"}},\"shapedefaults\":{\"line\":{\"color\":\"#2a3f5f\"}},\"ternary\":{\"aaxis\":{\"gridcolor\":\"white\",\"linecolor\":\"white\",\"ticks\":\"\"},\"baxis\":{\"gridcolor\":\"white\",\"linecolor\":\"white\",\"ticks\":\"\"},\"bgcolor\":\"#E5ECF6\",\"caxis\":{\"gridcolor\":\"white\",\"linecolor\":\"white\",\"ticks\":\"\"}},\"title\":{\"x\":0.05},\"xaxis\":{\"automargin\":true,\"gridcolor\":\"white\",\"linecolor\":\"white\",\"ticks\":\"\",\"title\":{\"standoff\":15},\"zerolinecolor\":\"white\",\"zerolinewidth\":2},\"yaxis\":{\"automargin\":true,\"gridcolor\":\"white\",\"linecolor\":\"white\",\"ticks\":\"\",\"title\":{\"standoff\":15},\"zerolinecolor\":\"white\",\"zerolinewidth\":2}}},\"xaxis\":{\"anchor\":\"y\",\"domain\":[0.0,1.0],\"title\":{\"text\":\"x\"}},\"yaxis\":{\"anchor\":\"x\",\"domain\":[0.0,1.0],\"title\":{\"text\":\"y\"}}},                        {\"responsive\": true}                    ).then(function(){\n",
       "                            \n",
       "var gd = document.getElementById('d4f7e1a5-cca4-44bc-b457-60d97c7b4bd4');\n",
       "var x = new MutationObserver(function (mutations, observer) {{\n",
       "        var display = window.getComputedStyle(gd).display;\n",
       "        if (!display || display === 'none') {{\n",
       "            console.log([gd, 'removed!']);\n",
       "            Plotly.purge(gd);\n",
       "            observer.disconnect();\n",
       "        }}\n",
       "}});\n",
       "\n",
       "// Listen for the removal of the full notebook cells\n",
       "var notebookContainer = gd.closest('#notebook-container');\n",
       "if (notebookContainer) {{\n",
       "    x.observe(notebookContainer, {childList: true});\n",
       "}}\n",
       "\n",
       "// Listen for the clearing of the current output cell\n",
       "var outputEl = gd.closest('.output');\n",
       "if (outputEl) {{\n",
       "    x.observe(outputEl, {childList: true});\n",
       "}}\n",
       "\n",
       "                        })                };                });            </script>        </div>"
      ]
     },
     "metadata": {},
     "output_type": "display_data"
    }
   ],
   "source": [
    "px.bar(data, x = x_val.index, y = x_val, color = x_val.index)"
   ]
  },
  {
   "cell_type": "markdown",
   "id": "19458359",
   "metadata": {},
   "source": [
    "- Game has maximum number of installations followed by Communication, Productivity,Social, Tools"
   ]
  },
  {
   "cell_type": "markdown",
   "id": "285eee4b",
   "metadata": {},
   "source": [
    "# Which Category has maximum average rating"
   ]
  },
  {
   "cell_type": "code",
   "execution_count": 11,
   "id": "cb00c387",
   "metadata": {},
   "outputs": [
    {
     "data": {
      "application/vnd.plotly.v1+json": {
       "config": {
        "plotlyServerURL": "https://plot.ly"
       },
       "data": [
        {
         "alignmentgroup": "True",
         "hovertemplate": "x=%{x}<br>y=%{y}<br>color=%{marker.color}<extra></extra>",
         "legendgroup": "",
         "marker": {
          "color": [
           4.435555555555557,
           4.389032258064517,
           4.358064516129031,
           4.346067415730338,
           4.335987261146501,
           4.300000000000001,
           4.2863263445761195,
           4.278571428571428,
           4.2771043771043775,
           4.259663865546221,
           4.255598455598457,
           4.243999999999999,
           4.223510971786835,
           4.211396011396012,
           4.197368421052633,
           4.192272467086437,
           4.192113564668767,
           4.19041095890411,
           4.18914285714286,
           4.178461538461538,
           4.1669724770642205,
           4.158536585365852,
           4.155172413793104,
           4.1321888412017165,
           4.131888544891644,
           4.126174496644294,
           4.121452145214522,
           4.10929203539823,
           4.094904458598724,
           4.063750000000001,
           4.051612903225806,
           4.047411444141691,
           3.9707692307692306
          ],
          "coloraxis": "coloraxis",
          "pattern": {
           "shape": ""
          }
         },
         "name": "",
         "offsetgroup": "",
         "orientation": "v",
         "showlegend": false,
         "textposition": "auto",
         "type": "bar",
         "x": [
          "EVENTS",
          "EDUCATION",
          "ART_AND_DESIGN",
          "BOOKS_AND_REFERENCE",
          "PERSONALIZATION",
          "PARENTING",
          "GAME",
          "BEAUTY",
          "HEALTH_AND_FITNESS",
          "SHOPPING",
          "SOCIAL",
          "WEATHER",
          "SPORTS",
          "PRODUCTIVITY",
          "HOUSE_AND_HOME",
          "FAMILY",
          "PHOTOGRAPHY",
          "AUTO_AND_VEHICLES",
          "MEDICAL",
          "LIBRARIES_AND_DEMO",
          "FOOD_AND_DRINK",
          "COMMUNICATION",
          "COMICS",
          "NEWS_AND_MAGAZINES",
          "FINANCE",
          "ENTERTAINMENT",
          "BUSINESS",
          "TRAVEL_AND_LOCAL",
          "LIFESTYLE",
          "VIDEO_PLAYERS",
          "MAPS_AND_NAVIGATION",
          "TOOLS",
          "DATING"
         ],
         "xaxis": "x",
         "y": [
          4.435555555555557,
          4.389032258064517,
          4.358064516129031,
          4.346067415730338,
          4.335987261146501,
          4.300000000000001,
          4.2863263445761195,
          4.278571428571428,
          4.2771043771043775,
          4.259663865546221,
          4.255598455598457,
          4.243999999999999,
          4.223510971786835,
          4.211396011396012,
          4.197368421052633,
          4.192272467086437,
          4.192113564668767,
          4.19041095890411,
          4.18914285714286,
          4.178461538461538,
          4.1669724770642205,
          4.158536585365852,
          4.155172413793104,
          4.1321888412017165,
          4.131888544891644,
          4.126174496644294,
          4.121452145214522,
          4.10929203539823,
          4.094904458598724,
          4.063750000000001,
          4.051612903225806,
          4.047411444141691,
          3.9707692307692306
         ],
         "yaxis": "y"
        }
       ],
       "layout": {
        "barmode": "relative",
        "coloraxis": {
         "colorbar": {
          "title": {
           "text": "color"
          }
         },
         "colorscale": [
          [
           0,
           "#0d0887"
          ],
          [
           0.1111111111111111,
           "#46039f"
          ],
          [
           0.2222222222222222,
           "#7201a8"
          ],
          [
           0.3333333333333333,
           "#9c179e"
          ],
          [
           0.4444444444444444,
           "#bd3786"
          ],
          [
           0.5555555555555556,
           "#d8576b"
          ],
          [
           0.6666666666666666,
           "#ed7953"
          ],
          [
           0.7777777777777778,
           "#fb9f3a"
          ],
          [
           0.8888888888888888,
           "#fdca26"
          ],
          [
           1,
           "#f0f921"
          ]
         ]
        },
        "legend": {
         "tracegroupgap": 0
        },
        "margin": {
         "t": 60
        },
        "template": {
         "data": {
          "bar": [
           {
            "error_x": {
             "color": "#2a3f5f"
            },
            "error_y": {
             "color": "#2a3f5f"
            },
            "marker": {
             "line": {
              "color": "#E5ECF6",
              "width": 0.5
             },
             "pattern": {
              "fillmode": "overlay",
              "size": 10,
              "solidity": 0.2
             }
            },
            "type": "bar"
           }
          ],
          "barpolar": [
           {
            "marker": {
             "line": {
              "color": "#E5ECF6",
              "width": 0.5
             },
             "pattern": {
              "fillmode": "overlay",
              "size": 10,
              "solidity": 0.2
             }
            },
            "type": "barpolar"
           }
          ],
          "carpet": [
           {
            "aaxis": {
             "endlinecolor": "#2a3f5f",
             "gridcolor": "white",
             "linecolor": "white",
             "minorgridcolor": "white",
             "startlinecolor": "#2a3f5f"
            },
            "baxis": {
             "endlinecolor": "#2a3f5f",
             "gridcolor": "white",
             "linecolor": "white",
             "minorgridcolor": "white",
             "startlinecolor": "#2a3f5f"
            },
            "type": "carpet"
           }
          ],
          "choropleth": [
           {
            "colorbar": {
             "outlinewidth": 0,
             "ticks": ""
            },
            "type": "choropleth"
           }
          ],
          "contour": [
           {
            "colorbar": {
             "outlinewidth": 0,
             "ticks": ""
            },
            "colorscale": [
             [
              0,
              "#0d0887"
             ],
             [
              0.1111111111111111,
              "#46039f"
             ],
             [
              0.2222222222222222,
              "#7201a8"
             ],
             [
              0.3333333333333333,
              "#9c179e"
             ],
             [
              0.4444444444444444,
              "#bd3786"
             ],
             [
              0.5555555555555556,
              "#d8576b"
             ],
             [
              0.6666666666666666,
              "#ed7953"
             ],
             [
              0.7777777777777778,
              "#fb9f3a"
             ],
             [
              0.8888888888888888,
              "#fdca26"
             ],
             [
              1,
              "#f0f921"
             ]
            ],
            "type": "contour"
           }
          ],
          "contourcarpet": [
           {
            "colorbar": {
             "outlinewidth": 0,
             "ticks": ""
            },
            "type": "contourcarpet"
           }
          ],
          "heatmap": [
           {
            "colorbar": {
             "outlinewidth": 0,
             "ticks": ""
            },
            "colorscale": [
             [
              0,
              "#0d0887"
             ],
             [
              0.1111111111111111,
              "#46039f"
             ],
             [
              0.2222222222222222,
              "#7201a8"
             ],
             [
              0.3333333333333333,
              "#9c179e"
             ],
             [
              0.4444444444444444,
              "#bd3786"
             ],
             [
              0.5555555555555556,
              "#d8576b"
             ],
             [
              0.6666666666666666,
              "#ed7953"
             ],
             [
              0.7777777777777778,
              "#fb9f3a"
             ],
             [
              0.8888888888888888,
              "#fdca26"
             ],
             [
              1,
              "#f0f921"
             ]
            ],
            "type": "heatmap"
           }
          ],
          "heatmapgl": [
           {
            "colorbar": {
             "outlinewidth": 0,
             "ticks": ""
            },
            "colorscale": [
             [
              0,
              "#0d0887"
             ],
             [
              0.1111111111111111,
              "#46039f"
             ],
             [
              0.2222222222222222,
              "#7201a8"
             ],
             [
              0.3333333333333333,
              "#9c179e"
             ],
             [
              0.4444444444444444,
              "#bd3786"
             ],
             [
              0.5555555555555556,
              "#d8576b"
             ],
             [
              0.6666666666666666,
              "#ed7953"
             ],
             [
              0.7777777777777778,
              "#fb9f3a"
             ],
             [
              0.8888888888888888,
              "#fdca26"
             ],
             [
              1,
              "#f0f921"
             ]
            ],
            "type": "heatmapgl"
           }
          ],
          "histogram": [
           {
            "marker": {
             "pattern": {
              "fillmode": "overlay",
              "size": 10,
              "solidity": 0.2
             }
            },
            "type": "histogram"
           }
          ],
          "histogram2d": [
           {
            "colorbar": {
             "outlinewidth": 0,
             "ticks": ""
            },
            "colorscale": [
             [
              0,
              "#0d0887"
             ],
             [
              0.1111111111111111,
              "#46039f"
             ],
             [
              0.2222222222222222,
              "#7201a8"
             ],
             [
              0.3333333333333333,
              "#9c179e"
             ],
             [
              0.4444444444444444,
              "#bd3786"
             ],
             [
              0.5555555555555556,
              "#d8576b"
             ],
             [
              0.6666666666666666,
              "#ed7953"
             ],
             [
              0.7777777777777778,
              "#fb9f3a"
             ],
             [
              0.8888888888888888,
              "#fdca26"
             ],
             [
              1,
              "#f0f921"
             ]
            ],
            "type": "histogram2d"
           }
          ],
          "histogram2dcontour": [
           {
            "colorbar": {
             "outlinewidth": 0,
             "ticks": ""
            },
            "colorscale": [
             [
              0,
              "#0d0887"
             ],
             [
              0.1111111111111111,
              "#46039f"
             ],
             [
              0.2222222222222222,
              "#7201a8"
             ],
             [
              0.3333333333333333,
              "#9c179e"
             ],
             [
              0.4444444444444444,
              "#bd3786"
             ],
             [
              0.5555555555555556,
              "#d8576b"
             ],
             [
              0.6666666666666666,
              "#ed7953"
             ],
             [
              0.7777777777777778,
              "#fb9f3a"
             ],
             [
              0.8888888888888888,
              "#fdca26"
             ],
             [
              1,
              "#f0f921"
             ]
            ],
            "type": "histogram2dcontour"
           }
          ],
          "mesh3d": [
           {
            "colorbar": {
             "outlinewidth": 0,
             "ticks": ""
            },
            "type": "mesh3d"
           }
          ],
          "parcoords": [
           {
            "line": {
             "colorbar": {
              "outlinewidth": 0,
              "ticks": ""
             }
            },
            "type": "parcoords"
           }
          ],
          "pie": [
           {
            "automargin": true,
            "type": "pie"
           }
          ],
          "scatter": [
           {
            "marker": {
             "colorbar": {
              "outlinewidth": 0,
              "ticks": ""
             }
            },
            "type": "scatter"
           }
          ],
          "scatter3d": [
           {
            "line": {
             "colorbar": {
              "outlinewidth": 0,
              "ticks": ""
             }
            },
            "marker": {
             "colorbar": {
              "outlinewidth": 0,
              "ticks": ""
             }
            },
            "type": "scatter3d"
           }
          ],
          "scattercarpet": [
           {
            "marker": {
             "colorbar": {
              "outlinewidth": 0,
              "ticks": ""
             }
            },
            "type": "scattercarpet"
           }
          ],
          "scattergeo": [
           {
            "marker": {
             "colorbar": {
              "outlinewidth": 0,
              "ticks": ""
             }
            },
            "type": "scattergeo"
           }
          ],
          "scattergl": [
           {
            "marker": {
             "colorbar": {
              "outlinewidth": 0,
              "ticks": ""
             }
            },
            "type": "scattergl"
           }
          ],
          "scattermapbox": [
           {
            "marker": {
             "colorbar": {
              "outlinewidth": 0,
              "ticks": ""
             }
            },
            "type": "scattermapbox"
           }
          ],
          "scatterpolar": [
           {
            "marker": {
             "colorbar": {
              "outlinewidth": 0,
              "ticks": ""
             }
            },
            "type": "scatterpolar"
           }
          ],
          "scatterpolargl": [
           {
            "marker": {
             "colorbar": {
              "outlinewidth": 0,
              "ticks": ""
             }
            },
            "type": "scatterpolargl"
           }
          ],
          "scatterternary": [
           {
            "marker": {
             "colorbar": {
              "outlinewidth": 0,
              "ticks": ""
             }
            },
            "type": "scatterternary"
           }
          ],
          "surface": [
           {
            "colorbar": {
             "outlinewidth": 0,
             "ticks": ""
            },
            "colorscale": [
             [
              0,
              "#0d0887"
             ],
             [
              0.1111111111111111,
              "#46039f"
             ],
             [
              0.2222222222222222,
              "#7201a8"
             ],
             [
              0.3333333333333333,
              "#9c179e"
             ],
             [
              0.4444444444444444,
              "#bd3786"
             ],
             [
              0.5555555555555556,
              "#d8576b"
             ],
             [
              0.6666666666666666,
              "#ed7953"
             ],
             [
              0.7777777777777778,
              "#fb9f3a"
             ],
             [
              0.8888888888888888,
              "#fdca26"
             ],
             [
              1,
              "#f0f921"
             ]
            ],
            "type": "surface"
           }
          ],
          "table": [
           {
            "cells": {
             "fill": {
              "color": "#EBF0F8"
             },
             "line": {
              "color": "white"
             }
            },
            "header": {
             "fill": {
              "color": "#C8D4E3"
             },
             "line": {
              "color": "white"
             }
            },
            "type": "table"
           }
          ]
         },
         "layout": {
          "annotationdefaults": {
           "arrowcolor": "#2a3f5f",
           "arrowhead": 0,
           "arrowwidth": 1
          },
          "autotypenumbers": "strict",
          "coloraxis": {
           "colorbar": {
            "outlinewidth": 0,
            "ticks": ""
           }
          },
          "colorscale": {
           "diverging": [
            [
             0,
             "#8e0152"
            ],
            [
             0.1,
             "#c51b7d"
            ],
            [
             0.2,
             "#de77ae"
            ],
            [
             0.3,
             "#f1b6da"
            ],
            [
             0.4,
             "#fde0ef"
            ],
            [
             0.5,
             "#f7f7f7"
            ],
            [
             0.6,
             "#e6f5d0"
            ],
            [
             0.7,
             "#b8e186"
            ],
            [
             0.8,
             "#7fbc41"
            ],
            [
             0.9,
             "#4d9221"
            ],
            [
             1,
             "#276419"
            ]
           ],
           "sequential": [
            [
             0,
             "#0d0887"
            ],
            [
             0.1111111111111111,
             "#46039f"
            ],
            [
             0.2222222222222222,
             "#7201a8"
            ],
            [
             0.3333333333333333,
             "#9c179e"
            ],
            [
             0.4444444444444444,
             "#bd3786"
            ],
            [
             0.5555555555555556,
             "#d8576b"
            ],
            [
             0.6666666666666666,
             "#ed7953"
            ],
            [
             0.7777777777777778,
             "#fb9f3a"
            ],
            [
             0.8888888888888888,
             "#fdca26"
            ],
            [
             1,
             "#f0f921"
            ]
           ],
           "sequentialminus": [
            [
             0,
             "#0d0887"
            ],
            [
             0.1111111111111111,
             "#46039f"
            ],
            [
             0.2222222222222222,
             "#7201a8"
            ],
            [
             0.3333333333333333,
             "#9c179e"
            ],
            [
             0.4444444444444444,
             "#bd3786"
            ],
            [
             0.5555555555555556,
             "#d8576b"
            ],
            [
             0.6666666666666666,
             "#ed7953"
            ],
            [
             0.7777777777777778,
             "#fb9f3a"
            ],
            [
             0.8888888888888888,
             "#fdca26"
            ],
            [
             1,
             "#f0f921"
            ]
           ]
          },
          "colorway": [
           "#636efa",
           "#EF553B",
           "#00cc96",
           "#ab63fa",
           "#FFA15A",
           "#19d3f3",
           "#FF6692",
           "#B6E880",
           "#FF97FF",
           "#FECB52"
          ],
          "font": {
           "color": "#2a3f5f"
          },
          "geo": {
           "bgcolor": "white",
           "lakecolor": "white",
           "landcolor": "#E5ECF6",
           "showlakes": true,
           "showland": true,
           "subunitcolor": "white"
          },
          "hoverlabel": {
           "align": "left"
          },
          "hovermode": "closest",
          "mapbox": {
           "style": "light"
          },
          "paper_bgcolor": "white",
          "plot_bgcolor": "#E5ECF6",
          "polar": {
           "angularaxis": {
            "gridcolor": "white",
            "linecolor": "white",
            "ticks": ""
           },
           "bgcolor": "#E5ECF6",
           "radialaxis": {
            "gridcolor": "white",
            "linecolor": "white",
            "ticks": ""
           }
          },
          "scene": {
           "xaxis": {
            "backgroundcolor": "#E5ECF6",
            "gridcolor": "white",
            "gridwidth": 2,
            "linecolor": "white",
            "showbackground": true,
            "ticks": "",
            "zerolinecolor": "white"
           },
           "yaxis": {
            "backgroundcolor": "#E5ECF6",
            "gridcolor": "white",
            "gridwidth": 2,
            "linecolor": "white",
            "showbackground": true,
            "ticks": "",
            "zerolinecolor": "white"
           },
           "zaxis": {
            "backgroundcolor": "#E5ECF6",
            "gridcolor": "white",
            "gridwidth": 2,
            "linecolor": "white",
            "showbackground": true,
            "ticks": "",
            "zerolinecolor": "white"
           }
          },
          "shapedefaults": {
           "line": {
            "color": "#2a3f5f"
           }
          },
          "ternary": {
           "aaxis": {
            "gridcolor": "white",
            "linecolor": "white",
            "ticks": ""
           },
           "baxis": {
            "gridcolor": "white",
            "linecolor": "white",
            "ticks": ""
           },
           "bgcolor": "#E5ECF6",
           "caxis": {
            "gridcolor": "white",
            "linecolor": "white",
            "ticks": ""
           }
          },
          "title": {
           "x": 0.05
          },
          "xaxis": {
           "automargin": true,
           "gridcolor": "white",
           "linecolor": "white",
           "ticks": "",
           "title": {
            "standoff": 15
           },
           "zerolinecolor": "white",
           "zerolinewidth": 2
          },
          "yaxis": {
           "automargin": true,
           "gridcolor": "white",
           "linecolor": "white",
           "ticks": "",
           "title": {
            "standoff": 15
           },
           "zerolinecolor": "white",
           "zerolinewidth": 2
          }
         }
        },
        "xaxis": {
         "anchor": "y",
         "domain": [
          0,
          1
         ],
         "title": {
          "text": "x"
         }
        },
        "yaxis": {
         "anchor": "x",
         "domain": [
          0,
          1
         ],
         "title": {
          "text": "y"
         }
        }
       }
      },
      "text/html": [
       "<div>                            <div id=\"189f4841-2984-43e6-a171-1d2cb546ca13\" class=\"plotly-graph-div\" style=\"height:525px; width:100%;\"></div>            <script type=\"text/javascript\">                require([\"plotly\"], function(Plotly) {                    window.PLOTLYENV=window.PLOTLYENV || {};                                    if (document.getElementById(\"189f4841-2984-43e6-a171-1d2cb546ca13\")) {                    Plotly.newPlot(                        \"189f4841-2984-43e6-a171-1d2cb546ca13\",                        [{\"alignmentgroup\":\"True\",\"hovertemplate\":\"x=%{x}<br>y=%{y}<br>color=%{marker.color}<extra></extra>\",\"legendgroup\":\"\",\"marker\":{\"color\":[4.435555555555557,4.389032258064517,4.358064516129031,4.346067415730338,4.335987261146501,4.300000000000001,4.2863263445761195,4.278571428571428,4.2771043771043775,4.259663865546221,4.255598455598457,4.243999999999999,4.223510971786835,4.211396011396012,4.197368421052633,4.192272467086437,4.192113564668767,4.19041095890411,4.18914285714286,4.178461538461538,4.1669724770642205,4.158536585365852,4.155172413793104,4.1321888412017165,4.131888544891644,4.126174496644294,4.121452145214522,4.10929203539823,4.094904458598724,4.063750000000001,4.051612903225806,4.047411444141691,3.9707692307692306],\"coloraxis\":\"coloraxis\",\"pattern\":{\"shape\":\"\"}},\"name\":\"\",\"offsetgroup\":\"\",\"orientation\":\"v\",\"showlegend\":false,\"textposition\":\"auto\",\"type\":\"bar\",\"x\":[\"EVENTS\",\"EDUCATION\",\"ART_AND_DESIGN\",\"BOOKS_AND_REFERENCE\",\"PERSONALIZATION\",\"PARENTING\",\"GAME\",\"BEAUTY\",\"HEALTH_AND_FITNESS\",\"SHOPPING\",\"SOCIAL\",\"WEATHER\",\"SPORTS\",\"PRODUCTIVITY\",\"HOUSE_AND_HOME\",\"FAMILY\",\"PHOTOGRAPHY\",\"AUTO_AND_VEHICLES\",\"MEDICAL\",\"LIBRARIES_AND_DEMO\",\"FOOD_AND_DRINK\",\"COMMUNICATION\",\"COMICS\",\"NEWS_AND_MAGAZINES\",\"FINANCE\",\"ENTERTAINMENT\",\"BUSINESS\",\"TRAVEL_AND_LOCAL\",\"LIFESTYLE\",\"VIDEO_PLAYERS\",\"MAPS_AND_NAVIGATION\",\"TOOLS\",\"DATING\"],\"xaxis\":\"x\",\"y\":[4.435555555555557,4.389032258064517,4.358064516129031,4.346067415730338,4.335987261146501,4.300000000000001,4.2863263445761195,4.278571428571428,4.2771043771043775,4.259663865546221,4.255598455598457,4.243999999999999,4.223510971786835,4.211396011396012,4.197368421052633,4.192272467086437,4.192113564668767,4.19041095890411,4.18914285714286,4.178461538461538,4.1669724770642205,4.158536585365852,4.155172413793104,4.1321888412017165,4.131888544891644,4.126174496644294,4.121452145214522,4.10929203539823,4.094904458598724,4.063750000000001,4.051612903225806,4.047411444141691,3.9707692307692306],\"yaxis\":\"y\"}],                        {\"barmode\":\"relative\",\"coloraxis\":{\"colorbar\":{\"title\":{\"text\":\"color\"}},\"colorscale\":[[0.0,\"#0d0887\"],[0.1111111111111111,\"#46039f\"],[0.2222222222222222,\"#7201a8\"],[0.3333333333333333,\"#9c179e\"],[0.4444444444444444,\"#bd3786\"],[0.5555555555555556,\"#d8576b\"],[0.6666666666666666,\"#ed7953\"],[0.7777777777777778,\"#fb9f3a\"],[0.8888888888888888,\"#fdca26\"],[1.0,\"#f0f921\"]]},\"legend\":{\"tracegroupgap\":0},\"margin\":{\"t\":60},\"template\":{\"data\":{\"bar\":[{\"error_x\":{\"color\":\"#2a3f5f\"},\"error_y\":{\"color\":\"#2a3f5f\"},\"marker\":{\"line\":{\"color\":\"#E5ECF6\",\"width\":0.5},\"pattern\":{\"fillmode\":\"overlay\",\"size\":10,\"solidity\":0.2}},\"type\":\"bar\"}],\"barpolar\":[{\"marker\":{\"line\":{\"color\":\"#E5ECF6\",\"width\":0.5},\"pattern\":{\"fillmode\":\"overlay\",\"size\":10,\"solidity\":0.2}},\"type\":\"barpolar\"}],\"carpet\":[{\"aaxis\":{\"endlinecolor\":\"#2a3f5f\",\"gridcolor\":\"white\",\"linecolor\":\"white\",\"minorgridcolor\":\"white\",\"startlinecolor\":\"#2a3f5f\"},\"baxis\":{\"endlinecolor\":\"#2a3f5f\",\"gridcolor\":\"white\",\"linecolor\":\"white\",\"minorgridcolor\":\"white\",\"startlinecolor\":\"#2a3f5f\"},\"type\":\"carpet\"}],\"choropleth\":[{\"colorbar\":{\"outlinewidth\":0,\"ticks\":\"\"},\"type\":\"choropleth\"}],\"contour\":[{\"colorbar\":{\"outlinewidth\":0,\"ticks\":\"\"},\"colorscale\":[[0.0,\"#0d0887\"],[0.1111111111111111,\"#46039f\"],[0.2222222222222222,\"#7201a8\"],[0.3333333333333333,\"#9c179e\"],[0.4444444444444444,\"#bd3786\"],[0.5555555555555556,\"#d8576b\"],[0.6666666666666666,\"#ed7953\"],[0.7777777777777778,\"#fb9f3a\"],[0.8888888888888888,\"#fdca26\"],[1.0,\"#f0f921\"]],\"type\":\"contour\"}],\"contourcarpet\":[{\"colorbar\":{\"outlinewidth\":0,\"ticks\":\"\"},\"type\":\"contourcarpet\"}],\"heatmap\":[{\"colorbar\":{\"outlinewidth\":0,\"ticks\":\"\"},\"colorscale\":[[0.0,\"#0d0887\"],[0.1111111111111111,\"#46039f\"],[0.2222222222222222,\"#7201a8\"],[0.3333333333333333,\"#9c179e\"],[0.4444444444444444,\"#bd3786\"],[0.5555555555555556,\"#d8576b\"],[0.6666666666666666,\"#ed7953\"],[0.7777777777777778,\"#fb9f3a\"],[0.8888888888888888,\"#fdca26\"],[1.0,\"#f0f921\"]],\"type\":\"heatmap\"}],\"heatmapgl\":[{\"colorbar\":{\"outlinewidth\":0,\"ticks\":\"\"},\"colorscale\":[[0.0,\"#0d0887\"],[0.1111111111111111,\"#46039f\"],[0.2222222222222222,\"#7201a8\"],[0.3333333333333333,\"#9c179e\"],[0.4444444444444444,\"#bd3786\"],[0.5555555555555556,\"#d8576b\"],[0.6666666666666666,\"#ed7953\"],[0.7777777777777778,\"#fb9f3a\"],[0.8888888888888888,\"#fdca26\"],[1.0,\"#f0f921\"]],\"type\":\"heatmapgl\"}],\"histogram\":[{\"marker\":{\"pattern\":{\"fillmode\":\"overlay\",\"size\":10,\"solidity\":0.2}},\"type\":\"histogram\"}],\"histogram2d\":[{\"colorbar\":{\"outlinewidth\":0,\"ticks\":\"\"},\"colorscale\":[[0.0,\"#0d0887\"],[0.1111111111111111,\"#46039f\"],[0.2222222222222222,\"#7201a8\"],[0.3333333333333333,\"#9c179e\"],[0.4444444444444444,\"#bd3786\"],[0.5555555555555556,\"#d8576b\"],[0.6666666666666666,\"#ed7953\"],[0.7777777777777778,\"#fb9f3a\"],[0.8888888888888888,\"#fdca26\"],[1.0,\"#f0f921\"]],\"type\":\"histogram2d\"}],\"histogram2dcontour\":[{\"colorbar\":{\"outlinewidth\":0,\"ticks\":\"\"},\"colorscale\":[[0.0,\"#0d0887\"],[0.1111111111111111,\"#46039f\"],[0.2222222222222222,\"#7201a8\"],[0.3333333333333333,\"#9c179e\"],[0.4444444444444444,\"#bd3786\"],[0.5555555555555556,\"#d8576b\"],[0.6666666666666666,\"#ed7953\"],[0.7777777777777778,\"#fb9f3a\"],[0.8888888888888888,\"#fdca26\"],[1.0,\"#f0f921\"]],\"type\":\"histogram2dcontour\"}],\"mesh3d\":[{\"colorbar\":{\"outlinewidth\":0,\"ticks\":\"\"},\"type\":\"mesh3d\"}],\"parcoords\":[{\"line\":{\"colorbar\":{\"outlinewidth\":0,\"ticks\":\"\"}},\"type\":\"parcoords\"}],\"pie\":[{\"automargin\":true,\"type\":\"pie\"}],\"scatter\":[{\"marker\":{\"colorbar\":{\"outlinewidth\":0,\"ticks\":\"\"}},\"type\":\"scatter\"}],\"scatter3d\":[{\"line\":{\"colorbar\":{\"outlinewidth\":0,\"ticks\":\"\"}},\"marker\":{\"colorbar\":{\"outlinewidth\":0,\"ticks\":\"\"}},\"type\":\"scatter3d\"}],\"scattercarpet\":[{\"marker\":{\"colorbar\":{\"outlinewidth\":0,\"ticks\":\"\"}},\"type\":\"scattercarpet\"}],\"scattergeo\":[{\"marker\":{\"colorbar\":{\"outlinewidth\":0,\"ticks\":\"\"}},\"type\":\"scattergeo\"}],\"scattergl\":[{\"marker\":{\"colorbar\":{\"outlinewidth\":0,\"ticks\":\"\"}},\"type\":\"scattergl\"}],\"scattermapbox\":[{\"marker\":{\"colorbar\":{\"outlinewidth\":0,\"ticks\":\"\"}},\"type\":\"scattermapbox\"}],\"scatterpolar\":[{\"marker\":{\"colorbar\":{\"outlinewidth\":0,\"ticks\":\"\"}},\"type\":\"scatterpolar\"}],\"scatterpolargl\":[{\"marker\":{\"colorbar\":{\"outlinewidth\":0,\"ticks\":\"\"}},\"type\":\"scatterpolargl\"}],\"scatterternary\":[{\"marker\":{\"colorbar\":{\"outlinewidth\":0,\"ticks\":\"\"}},\"type\":\"scatterternary\"}],\"surface\":[{\"colorbar\":{\"outlinewidth\":0,\"ticks\":\"\"},\"colorscale\":[[0.0,\"#0d0887\"],[0.1111111111111111,\"#46039f\"],[0.2222222222222222,\"#7201a8\"],[0.3333333333333333,\"#9c179e\"],[0.4444444444444444,\"#bd3786\"],[0.5555555555555556,\"#d8576b\"],[0.6666666666666666,\"#ed7953\"],[0.7777777777777778,\"#fb9f3a\"],[0.8888888888888888,\"#fdca26\"],[1.0,\"#f0f921\"]],\"type\":\"surface\"}],\"table\":[{\"cells\":{\"fill\":{\"color\":\"#EBF0F8\"},\"line\":{\"color\":\"white\"}},\"header\":{\"fill\":{\"color\":\"#C8D4E3\"},\"line\":{\"color\":\"white\"}},\"type\":\"table\"}]},\"layout\":{\"annotationdefaults\":{\"arrowcolor\":\"#2a3f5f\",\"arrowhead\":0,\"arrowwidth\":1},\"autotypenumbers\":\"strict\",\"coloraxis\":{\"colorbar\":{\"outlinewidth\":0,\"ticks\":\"\"}},\"colorscale\":{\"diverging\":[[0,\"#8e0152\"],[0.1,\"#c51b7d\"],[0.2,\"#de77ae\"],[0.3,\"#f1b6da\"],[0.4,\"#fde0ef\"],[0.5,\"#f7f7f7\"],[0.6,\"#e6f5d0\"],[0.7,\"#b8e186\"],[0.8,\"#7fbc41\"],[0.9,\"#4d9221\"],[1,\"#276419\"]],\"sequential\":[[0.0,\"#0d0887\"],[0.1111111111111111,\"#46039f\"],[0.2222222222222222,\"#7201a8\"],[0.3333333333333333,\"#9c179e\"],[0.4444444444444444,\"#bd3786\"],[0.5555555555555556,\"#d8576b\"],[0.6666666666666666,\"#ed7953\"],[0.7777777777777778,\"#fb9f3a\"],[0.8888888888888888,\"#fdca26\"],[1.0,\"#f0f921\"]],\"sequentialminus\":[[0.0,\"#0d0887\"],[0.1111111111111111,\"#46039f\"],[0.2222222222222222,\"#7201a8\"],[0.3333333333333333,\"#9c179e\"],[0.4444444444444444,\"#bd3786\"],[0.5555555555555556,\"#d8576b\"],[0.6666666666666666,\"#ed7953\"],[0.7777777777777778,\"#fb9f3a\"],[0.8888888888888888,\"#fdca26\"],[1.0,\"#f0f921\"]]},\"colorway\":[\"#636efa\",\"#EF553B\",\"#00cc96\",\"#ab63fa\",\"#FFA15A\",\"#19d3f3\",\"#FF6692\",\"#B6E880\",\"#FF97FF\",\"#FECB52\"],\"font\":{\"color\":\"#2a3f5f\"},\"geo\":{\"bgcolor\":\"white\",\"lakecolor\":\"white\",\"landcolor\":\"#E5ECF6\",\"showlakes\":true,\"showland\":true,\"subunitcolor\":\"white\"},\"hoverlabel\":{\"align\":\"left\"},\"hovermode\":\"closest\",\"mapbox\":{\"style\":\"light\"},\"paper_bgcolor\":\"white\",\"plot_bgcolor\":\"#E5ECF6\",\"polar\":{\"angularaxis\":{\"gridcolor\":\"white\",\"linecolor\":\"white\",\"ticks\":\"\"},\"bgcolor\":\"#E5ECF6\",\"radialaxis\":{\"gridcolor\":\"white\",\"linecolor\":\"white\",\"ticks\":\"\"}},\"scene\":{\"xaxis\":{\"backgroundcolor\":\"#E5ECF6\",\"gridcolor\":\"white\",\"gridwidth\":2,\"linecolor\":\"white\",\"showbackground\":true,\"ticks\":\"\",\"zerolinecolor\":\"white\"},\"yaxis\":{\"backgroundcolor\":\"#E5ECF6\",\"gridcolor\":\"white\",\"gridwidth\":2,\"linecolor\":\"white\",\"showbackground\":true,\"ticks\":\"\",\"zerolinecolor\":\"white\"},\"zaxis\":{\"backgroundcolor\":\"#E5ECF6\",\"gridcolor\":\"white\",\"gridwidth\":2,\"linecolor\":\"white\",\"showbackground\":true,\"ticks\":\"\",\"zerolinecolor\":\"white\"}},\"shapedefaults\":{\"line\":{\"color\":\"#2a3f5f\"}},\"ternary\":{\"aaxis\":{\"gridcolor\":\"white\",\"linecolor\":\"white\",\"ticks\":\"\"},\"baxis\":{\"gridcolor\":\"white\",\"linecolor\":\"white\",\"ticks\":\"\"},\"bgcolor\":\"#E5ECF6\",\"caxis\":{\"gridcolor\":\"white\",\"linecolor\":\"white\",\"ticks\":\"\"}},\"title\":{\"x\":0.05},\"xaxis\":{\"automargin\":true,\"gridcolor\":\"white\",\"linecolor\":\"white\",\"ticks\":\"\",\"title\":{\"standoff\":15},\"zerolinecolor\":\"white\",\"zerolinewidth\":2},\"yaxis\":{\"automargin\":true,\"gridcolor\":\"white\",\"linecolor\":\"white\",\"ticks\":\"\",\"title\":{\"standoff\":15},\"zerolinecolor\":\"white\",\"zerolinewidth\":2}}},\"xaxis\":{\"anchor\":\"y\",\"domain\":[0.0,1.0],\"title\":{\"text\":\"x\"}},\"yaxis\":{\"anchor\":\"x\",\"domain\":[0.0,1.0],\"title\":{\"text\":\"y\"}}},                        {\"responsive\": true}                    ).then(function(){\n",
       "                            \n",
       "var gd = document.getElementById('189f4841-2984-43e6-a171-1d2cb546ca13');\n",
       "var x = new MutationObserver(function (mutations, observer) {{\n",
       "        var display = window.getComputedStyle(gd).display;\n",
       "        if (!display || display === 'none') {{\n",
       "            console.log([gd, 'removed!']);\n",
       "            Plotly.purge(gd);\n",
       "            observer.disconnect();\n",
       "        }}\n",
       "}});\n",
       "\n",
       "// Listen for the removal of the full notebook cells\n",
       "var notebookContainer = gd.closest('#notebook-container');\n",
       "if (notebookContainer) {{\n",
       "    x.observe(notebookContainer, {childList: true});\n",
       "}}\n",
       "\n",
       "// Listen for the clearing of the current output cell\n",
       "var outputEl = gd.closest('.output');\n",
       "if (outputEl) {{\n",
       "    x.observe(outputEl, {childList: true});\n",
       "}}\n",
       "\n",
       "                        })                };                });            </script>        </div>"
      ]
     },
     "metadata": {},
     "output_type": "display_data"
    }
   ],
   "source": [
    "x_rat_cat = data['Rating'].groupby(by = data['Category']).mean().sort_values(ascending =False)\n",
    "px.bar(data, x=x_rat_cat.index, y = x_rat_cat.values, color = x_rat_cat)"
   ]
  },
  {
   "cell_type": "markdown",
   "id": "5389a7a0",
   "metadata": {},
   "source": [
    "- top 12 categories in terms rating include categories which has least number of installations except GAmes and Social, \n",
    "- categories with extremely low number of installations cant be compared with categories with extremely high installation in terms of ratings\n",
    "- we will check the average ratings of top 10 categories n terms of installations \n",
    "- Game and Social categories are very much popular and favourable by the ppl"
   ]
  },
  {
   "cell_type": "code",
   "execution_count": 12,
   "id": "708b1551",
   "metadata": {},
   "outputs": [
    {
     "data": {
      "application/vnd.plotly.v1+json": {
       "config": {
        "plotlyServerURL": "https://plot.ly"
       },
       "data": [
        {
         "alignmentgroup": "True",
         "hovertemplate": "color=GAME<br>x=%{x}<br>y=%{y}<extra></extra>",
         "legendgroup": "GAME",
         "marker": {
          "color": "#636efa",
          "pattern": {
           "shape": ""
          }
         },
         "name": "GAME",
         "offsetgroup": "GAME",
         "orientation": "v",
         "showlegend": true,
         "textposition": "auto",
         "type": "bar",
         "x": [
          "GAME"
         ],
         "xaxis": "x",
         "y": [
          4.2863263445761195
         ],
         "yaxis": "y"
        },
        {
         "alignmentgroup": "True",
         "hovertemplate": "color=COMMUNICATION<br>x=%{x}<br>y=%{y}<extra></extra>",
         "legendgroup": "COMMUNICATION",
         "marker": {
          "color": "#EF553B",
          "pattern": {
           "shape": ""
          }
         },
         "name": "COMMUNICATION",
         "offsetgroup": "COMMUNICATION",
         "orientation": "v",
         "showlegend": true,
         "textposition": "auto",
         "type": "bar",
         "x": [
          "COMMUNICATION"
         ],
         "xaxis": "x",
         "y": [
          4.158536585365852
         ],
         "yaxis": "y"
        },
        {
         "alignmentgroup": "True",
         "hovertemplate": "color=PRODUCTIVITY<br>x=%{x}<br>y=%{y}<extra></extra>",
         "legendgroup": "PRODUCTIVITY",
         "marker": {
          "color": "#00cc96",
          "pattern": {
           "shape": ""
          }
         },
         "name": "PRODUCTIVITY",
         "offsetgroup": "PRODUCTIVITY",
         "orientation": "v",
         "showlegend": true,
         "textposition": "auto",
         "type": "bar",
         "x": [
          "PRODUCTIVITY"
         ],
         "xaxis": "x",
         "y": [
          4.211396011396012
         ],
         "yaxis": "y"
        },
        {
         "alignmentgroup": "True",
         "hovertemplate": "color=SOCIAL<br>x=%{x}<br>y=%{y}<extra></extra>",
         "legendgroup": "SOCIAL",
         "marker": {
          "color": "#ab63fa",
          "pattern": {
           "shape": ""
          }
         },
         "name": "SOCIAL",
         "offsetgroup": "SOCIAL",
         "orientation": "v",
         "showlegend": true,
         "textposition": "auto",
         "type": "bar",
         "x": [
          "SOCIAL"
         ],
         "xaxis": "x",
         "y": [
          4.255598455598457
         ],
         "yaxis": "y"
        },
        {
         "alignmentgroup": "True",
         "hovertemplate": "color=TOOLS<br>x=%{x}<br>y=%{y}<extra></extra>",
         "legendgroup": "TOOLS",
         "marker": {
          "color": "#FFA15A",
          "pattern": {
           "shape": ""
          }
         },
         "name": "TOOLS",
         "offsetgroup": "TOOLS",
         "orientation": "v",
         "showlegend": true,
         "textposition": "auto",
         "type": "bar",
         "x": [
          "TOOLS"
         ],
         "xaxis": "x",
         "y": [
          4.047411444141691
         ],
         "yaxis": "y"
        },
        {
         "alignmentgroup": "True",
         "hovertemplate": "color=FAMILY<br>x=%{x}<br>y=%{y}<extra></extra>",
         "legendgroup": "FAMILY",
         "marker": {
          "color": "#19d3f3",
          "pattern": {
           "shape": ""
          }
         },
         "name": "FAMILY",
         "offsetgroup": "FAMILY",
         "orientation": "v",
         "showlegend": true,
         "textposition": "auto",
         "type": "bar",
         "x": [
          "FAMILY"
         ],
         "xaxis": "x",
         "y": [
          4.192272467086437
         ],
         "yaxis": "y"
        },
        {
         "alignmentgroup": "True",
         "hovertemplate": "color=PHOTOGRAPHY<br>x=%{x}<br>y=%{y}<extra></extra>",
         "legendgroup": "PHOTOGRAPHY",
         "marker": {
          "color": "#FF6692",
          "pattern": {
           "shape": ""
          }
         },
         "name": "PHOTOGRAPHY",
         "offsetgroup": "PHOTOGRAPHY",
         "orientation": "v",
         "showlegend": true,
         "textposition": "auto",
         "type": "bar",
         "x": [
          "PHOTOGRAPHY"
         ],
         "xaxis": "x",
         "y": [
          4.192113564668767
         ],
         "yaxis": "y"
        },
        {
         "alignmentgroup": "True",
         "hovertemplate": "color=NEWS_AND_MAGAZINES<br>x=%{x}<br>y=%{y}<extra></extra>",
         "legendgroup": "NEWS_AND_MAGAZINES",
         "marker": {
          "color": "#B6E880",
          "pattern": {
           "shape": ""
          }
         },
         "name": "NEWS_AND_MAGAZINES",
         "offsetgroup": "NEWS_AND_MAGAZINES",
         "orientation": "v",
         "showlegend": true,
         "textposition": "auto",
         "type": "bar",
         "x": [
          "NEWS_AND_MAGAZINES"
         ],
         "xaxis": "x",
         "y": [
          4.1321888412017165
         ],
         "yaxis": "y"
        },
        {
         "alignmentgroup": "True",
         "hovertemplate": "color=TRAVEL_AND_LOCAL<br>x=%{x}<br>y=%{y}<extra></extra>",
         "legendgroup": "TRAVEL_AND_LOCAL",
         "marker": {
          "color": "#FF97FF",
          "pattern": {
           "shape": ""
          }
         },
         "name": "TRAVEL_AND_LOCAL",
         "offsetgroup": "TRAVEL_AND_LOCAL",
         "orientation": "v",
         "showlegend": true,
         "textposition": "auto",
         "type": "bar",
         "x": [
          "TRAVEL_AND_LOCAL"
         ],
         "xaxis": "x",
         "y": [
          4.10929203539823
         ],
         "yaxis": "y"
        },
        {
         "alignmentgroup": "True",
         "hovertemplate": "color=VIDEO_PLAYERS<br>x=%{x}<br>y=%{y}<extra></extra>",
         "legendgroup": "VIDEO_PLAYERS",
         "marker": {
          "color": "#FECB52",
          "pattern": {
           "shape": ""
          }
         },
         "name": "VIDEO_PLAYERS",
         "offsetgroup": "VIDEO_PLAYERS",
         "orientation": "v",
         "showlegend": true,
         "textposition": "auto",
         "type": "bar",
         "x": [
          "VIDEO_PLAYERS"
         ],
         "xaxis": "x",
         "y": [
          4.063750000000001
         ],
         "yaxis": "y"
        }
       ],
       "layout": {
        "barmode": "relative",
        "legend": {
         "title": {
          "text": "color"
         },
         "tracegroupgap": 0
        },
        "margin": {
         "t": 60
        },
        "template": {
         "data": {
          "bar": [
           {
            "error_x": {
             "color": "#2a3f5f"
            },
            "error_y": {
             "color": "#2a3f5f"
            },
            "marker": {
             "line": {
              "color": "#E5ECF6",
              "width": 0.5
             },
             "pattern": {
              "fillmode": "overlay",
              "size": 10,
              "solidity": 0.2
             }
            },
            "type": "bar"
           }
          ],
          "barpolar": [
           {
            "marker": {
             "line": {
              "color": "#E5ECF6",
              "width": 0.5
             },
             "pattern": {
              "fillmode": "overlay",
              "size": 10,
              "solidity": 0.2
             }
            },
            "type": "barpolar"
           }
          ],
          "carpet": [
           {
            "aaxis": {
             "endlinecolor": "#2a3f5f",
             "gridcolor": "white",
             "linecolor": "white",
             "minorgridcolor": "white",
             "startlinecolor": "#2a3f5f"
            },
            "baxis": {
             "endlinecolor": "#2a3f5f",
             "gridcolor": "white",
             "linecolor": "white",
             "minorgridcolor": "white",
             "startlinecolor": "#2a3f5f"
            },
            "type": "carpet"
           }
          ],
          "choropleth": [
           {
            "colorbar": {
             "outlinewidth": 0,
             "ticks": ""
            },
            "type": "choropleth"
           }
          ],
          "contour": [
           {
            "colorbar": {
             "outlinewidth": 0,
             "ticks": ""
            },
            "colorscale": [
             [
              0,
              "#0d0887"
             ],
             [
              0.1111111111111111,
              "#46039f"
             ],
             [
              0.2222222222222222,
              "#7201a8"
             ],
             [
              0.3333333333333333,
              "#9c179e"
             ],
             [
              0.4444444444444444,
              "#bd3786"
             ],
             [
              0.5555555555555556,
              "#d8576b"
             ],
             [
              0.6666666666666666,
              "#ed7953"
             ],
             [
              0.7777777777777778,
              "#fb9f3a"
             ],
             [
              0.8888888888888888,
              "#fdca26"
             ],
             [
              1,
              "#f0f921"
             ]
            ],
            "type": "contour"
           }
          ],
          "contourcarpet": [
           {
            "colorbar": {
             "outlinewidth": 0,
             "ticks": ""
            },
            "type": "contourcarpet"
           }
          ],
          "heatmap": [
           {
            "colorbar": {
             "outlinewidth": 0,
             "ticks": ""
            },
            "colorscale": [
             [
              0,
              "#0d0887"
             ],
             [
              0.1111111111111111,
              "#46039f"
             ],
             [
              0.2222222222222222,
              "#7201a8"
             ],
             [
              0.3333333333333333,
              "#9c179e"
             ],
             [
              0.4444444444444444,
              "#bd3786"
             ],
             [
              0.5555555555555556,
              "#d8576b"
             ],
             [
              0.6666666666666666,
              "#ed7953"
             ],
             [
              0.7777777777777778,
              "#fb9f3a"
             ],
             [
              0.8888888888888888,
              "#fdca26"
             ],
             [
              1,
              "#f0f921"
             ]
            ],
            "type": "heatmap"
           }
          ],
          "heatmapgl": [
           {
            "colorbar": {
             "outlinewidth": 0,
             "ticks": ""
            },
            "colorscale": [
             [
              0,
              "#0d0887"
             ],
             [
              0.1111111111111111,
              "#46039f"
             ],
             [
              0.2222222222222222,
              "#7201a8"
             ],
             [
              0.3333333333333333,
              "#9c179e"
             ],
             [
              0.4444444444444444,
              "#bd3786"
             ],
             [
              0.5555555555555556,
              "#d8576b"
             ],
             [
              0.6666666666666666,
              "#ed7953"
             ],
             [
              0.7777777777777778,
              "#fb9f3a"
             ],
             [
              0.8888888888888888,
              "#fdca26"
             ],
             [
              1,
              "#f0f921"
             ]
            ],
            "type": "heatmapgl"
           }
          ],
          "histogram": [
           {
            "marker": {
             "pattern": {
              "fillmode": "overlay",
              "size": 10,
              "solidity": 0.2
             }
            },
            "type": "histogram"
           }
          ],
          "histogram2d": [
           {
            "colorbar": {
             "outlinewidth": 0,
             "ticks": ""
            },
            "colorscale": [
             [
              0,
              "#0d0887"
             ],
             [
              0.1111111111111111,
              "#46039f"
             ],
             [
              0.2222222222222222,
              "#7201a8"
             ],
             [
              0.3333333333333333,
              "#9c179e"
             ],
             [
              0.4444444444444444,
              "#bd3786"
             ],
             [
              0.5555555555555556,
              "#d8576b"
             ],
             [
              0.6666666666666666,
              "#ed7953"
             ],
             [
              0.7777777777777778,
              "#fb9f3a"
             ],
             [
              0.8888888888888888,
              "#fdca26"
             ],
             [
              1,
              "#f0f921"
             ]
            ],
            "type": "histogram2d"
           }
          ],
          "histogram2dcontour": [
           {
            "colorbar": {
             "outlinewidth": 0,
             "ticks": ""
            },
            "colorscale": [
             [
              0,
              "#0d0887"
             ],
             [
              0.1111111111111111,
              "#46039f"
             ],
             [
              0.2222222222222222,
              "#7201a8"
             ],
             [
              0.3333333333333333,
              "#9c179e"
             ],
             [
              0.4444444444444444,
              "#bd3786"
             ],
             [
              0.5555555555555556,
              "#d8576b"
             ],
             [
              0.6666666666666666,
              "#ed7953"
             ],
             [
              0.7777777777777778,
              "#fb9f3a"
             ],
             [
              0.8888888888888888,
              "#fdca26"
             ],
             [
              1,
              "#f0f921"
             ]
            ],
            "type": "histogram2dcontour"
           }
          ],
          "mesh3d": [
           {
            "colorbar": {
             "outlinewidth": 0,
             "ticks": ""
            },
            "type": "mesh3d"
           }
          ],
          "parcoords": [
           {
            "line": {
             "colorbar": {
              "outlinewidth": 0,
              "ticks": ""
             }
            },
            "type": "parcoords"
           }
          ],
          "pie": [
           {
            "automargin": true,
            "type": "pie"
           }
          ],
          "scatter": [
           {
            "marker": {
             "colorbar": {
              "outlinewidth": 0,
              "ticks": ""
             }
            },
            "type": "scatter"
           }
          ],
          "scatter3d": [
           {
            "line": {
             "colorbar": {
              "outlinewidth": 0,
              "ticks": ""
             }
            },
            "marker": {
             "colorbar": {
              "outlinewidth": 0,
              "ticks": ""
             }
            },
            "type": "scatter3d"
           }
          ],
          "scattercarpet": [
           {
            "marker": {
             "colorbar": {
              "outlinewidth": 0,
              "ticks": ""
             }
            },
            "type": "scattercarpet"
           }
          ],
          "scattergeo": [
           {
            "marker": {
             "colorbar": {
              "outlinewidth": 0,
              "ticks": ""
             }
            },
            "type": "scattergeo"
           }
          ],
          "scattergl": [
           {
            "marker": {
             "colorbar": {
              "outlinewidth": 0,
              "ticks": ""
             }
            },
            "type": "scattergl"
           }
          ],
          "scattermapbox": [
           {
            "marker": {
             "colorbar": {
              "outlinewidth": 0,
              "ticks": ""
             }
            },
            "type": "scattermapbox"
           }
          ],
          "scatterpolar": [
           {
            "marker": {
             "colorbar": {
              "outlinewidth": 0,
              "ticks": ""
             }
            },
            "type": "scatterpolar"
           }
          ],
          "scatterpolargl": [
           {
            "marker": {
             "colorbar": {
              "outlinewidth": 0,
              "ticks": ""
             }
            },
            "type": "scatterpolargl"
           }
          ],
          "scatterternary": [
           {
            "marker": {
             "colorbar": {
              "outlinewidth": 0,
              "ticks": ""
             }
            },
            "type": "scatterternary"
           }
          ],
          "surface": [
           {
            "colorbar": {
             "outlinewidth": 0,
             "ticks": ""
            },
            "colorscale": [
             [
              0,
              "#0d0887"
             ],
             [
              0.1111111111111111,
              "#46039f"
             ],
             [
              0.2222222222222222,
              "#7201a8"
             ],
             [
              0.3333333333333333,
              "#9c179e"
             ],
             [
              0.4444444444444444,
              "#bd3786"
             ],
             [
              0.5555555555555556,
              "#d8576b"
             ],
             [
              0.6666666666666666,
              "#ed7953"
             ],
             [
              0.7777777777777778,
              "#fb9f3a"
             ],
             [
              0.8888888888888888,
              "#fdca26"
             ],
             [
              1,
              "#f0f921"
             ]
            ],
            "type": "surface"
           }
          ],
          "table": [
           {
            "cells": {
             "fill": {
              "color": "#EBF0F8"
             },
             "line": {
              "color": "white"
             }
            },
            "header": {
             "fill": {
              "color": "#C8D4E3"
             },
             "line": {
              "color": "white"
             }
            },
            "type": "table"
           }
          ]
         },
         "layout": {
          "annotationdefaults": {
           "arrowcolor": "#2a3f5f",
           "arrowhead": 0,
           "arrowwidth": 1
          },
          "autotypenumbers": "strict",
          "coloraxis": {
           "colorbar": {
            "outlinewidth": 0,
            "ticks": ""
           }
          },
          "colorscale": {
           "diverging": [
            [
             0,
             "#8e0152"
            ],
            [
             0.1,
             "#c51b7d"
            ],
            [
             0.2,
             "#de77ae"
            ],
            [
             0.3,
             "#f1b6da"
            ],
            [
             0.4,
             "#fde0ef"
            ],
            [
             0.5,
             "#f7f7f7"
            ],
            [
             0.6,
             "#e6f5d0"
            ],
            [
             0.7,
             "#b8e186"
            ],
            [
             0.8,
             "#7fbc41"
            ],
            [
             0.9,
             "#4d9221"
            ],
            [
             1,
             "#276419"
            ]
           ],
           "sequential": [
            [
             0,
             "#0d0887"
            ],
            [
             0.1111111111111111,
             "#46039f"
            ],
            [
             0.2222222222222222,
             "#7201a8"
            ],
            [
             0.3333333333333333,
             "#9c179e"
            ],
            [
             0.4444444444444444,
             "#bd3786"
            ],
            [
             0.5555555555555556,
             "#d8576b"
            ],
            [
             0.6666666666666666,
             "#ed7953"
            ],
            [
             0.7777777777777778,
             "#fb9f3a"
            ],
            [
             0.8888888888888888,
             "#fdca26"
            ],
            [
             1,
             "#f0f921"
            ]
           ],
           "sequentialminus": [
            [
             0,
             "#0d0887"
            ],
            [
             0.1111111111111111,
             "#46039f"
            ],
            [
             0.2222222222222222,
             "#7201a8"
            ],
            [
             0.3333333333333333,
             "#9c179e"
            ],
            [
             0.4444444444444444,
             "#bd3786"
            ],
            [
             0.5555555555555556,
             "#d8576b"
            ],
            [
             0.6666666666666666,
             "#ed7953"
            ],
            [
             0.7777777777777778,
             "#fb9f3a"
            ],
            [
             0.8888888888888888,
             "#fdca26"
            ],
            [
             1,
             "#f0f921"
            ]
           ]
          },
          "colorway": [
           "#636efa",
           "#EF553B",
           "#00cc96",
           "#ab63fa",
           "#FFA15A",
           "#19d3f3",
           "#FF6692",
           "#B6E880",
           "#FF97FF",
           "#FECB52"
          ],
          "font": {
           "color": "#2a3f5f"
          },
          "geo": {
           "bgcolor": "white",
           "lakecolor": "white",
           "landcolor": "#E5ECF6",
           "showlakes": true,
           "showland": true,
           "subunitcolor": "white"
          },
          "hoverlabel": {
           "align": "left"
          },
          "hovermode": "closest",
          "mapbox": {
           "style": "light"
          },
          "paper_bgcolor": "white",
          "plot_bgcolor": "#E5ECF6",
          "polar": {
           "angularaxis": {
            "gridcolor": "white",
            "linecolor": "white",
            "ticks": ""
           },
           "bgcolor": "#E5ECF6",
           "radialaxis": {
            "gridcolor": "white",
            "linecolor": "white",
            "ticks": ""
           }
          },
          "scene": {
           "xaxis": {
            "backgroundcolor": "#E5ECF6",
            "gridcolor": "white",
            "gridwidth": 2,
            "linecolor": "white",
            "showbackground": true,
            "ticks": "",
            "zerolinecolor": "white"
           },
           "yaxis": {
            "backgroundcolor": "#E5ECF6",
            "gridcolor": "white",
            "gridwidth": 2,
            "linecolor": "white",
            "showbackground": true,
            "ticks": "",
            "zerolinecolor": "white"
           },
           "zaxis": {
            "backgroundcolor": "#E5ECF6",
            "gridcolor": "white",
            "gridwidth": 2,
            "linecolor": "white",
            "showbackground": true,
            "ticks": "",
            "zerolinecolor": "white"
           }
          },
          "shapedefaults": {
           "line": {
            "color": "#2a3f5f"
           }
          },
          "ternary": {
           "aaxis": {
            "gridcolor": "white",
            "linecolor": "white",
            "ticks": ""
           },
           "baxis": {
            "gridcolor": "white",
            "linecolor": "white",
            "ticks": ""
           },
           "bgcolor": "#E5ECF6",
           "caxis": {
            "gridcolor": "white",
            "linecolor": "white",
            "ticks": ""
           }
          },
          "title": {
           "x": 0.05
          },
          "xaxis": {
           "automargin": true,
           "gridcolor": "white",
           "linecolor": "white",
           "ticks": "",
           "title": {
            "standoff": 15
           },
           "zerolinecolor": "white",
           "zerolinewidth": 2
          },
          "yaxis": {
           "automargin": true,
           "gridcolor": "white",
           "linecolor": "white",
           "ticks": "",
           "title": {
            "standoff": 15
           },
           "zerolinecolor": "white",
           "zerolinewidth": 2
          }
         }
        },
        "xaxis": {
         "anchor": "y",
         "domain": [
          0,
          1
         ],
         "title": {
          "text": "x"
         }
        },
        "yaxis": {
         "anchor": "x",
         "domain": [
          0,
          1
         ],
         "title": {
          "text": "y"
         }
        }
       }
      },
      "text/html": [
       "<div>                            <div id=\"1ea580af-5496-4955-905d-c9ba337de728\" class=\"plotly-graph-div\" style=\"height:525px; width:100%;\"></div>            <script type=\"text/javascript\">                require([\"plotly\"], function(Plotly) {                    window.PLOTLYENV=window.PLOTLYENV || {};                                    if (document.getElementById(\"1ea580af-5496-4955-905d-c9ba337de728\")) {                    Plotly.newPlot(                        \"1ea580af-5496-4955-905d-c9ba337de728\",                        [{\"alignmentgroup\":\"True\",\"hovertemplate\":\"color=GAME<br>x=%{x}<br>y=%{y}<extra></extra>\",\"legendgroup\":\"GAME\",\"marker\":{\"color\":\"#636efa\",\"pattern\":{\"shape\":\"\"}},\"name\":\"GAME\",\"offsetgroup\":\"GAME\",\"orientation\":\"v\",\"showlegend\":true,\"textposition\":\"auto\",\"type\":\"bar\",\"x\":[\"GAME\"],\"xaxis\":\"x\",\"y\":[4.2863263445761195],\"yaxis\":\"y\"},{\"alignmentgroup\":\"True\",\"hovertemplate\":\"color=COMMUNICATION<br>x=%{x}<br>y=%{y}<extra></extra>\",\"legendgroup\":\"COMMUNICATION\",\"marker\":{\"color\":\"#EF553B\",\"pattern\":{\"shape\":\"\"}},\"name\":\"COMMUNICATION\",\"offsetgroup\":\"COMMUNICATION\",\"orientation\":\"v\",\"showlegend\":true,\"textposition\":\"auto\",\"type\":\"bar\",\"x\":[\"COMMUNICATION\"],\"xaxis\":\"x\",\"y\":[4.158536585365852],\"yaxis\":\"y\"},{\"alignmentgroup\":\"True\",\"hovertemplate\":\"color=PRODUCTIVITY<br>x=%{x}<br>y=%{y}<extra></extra>\",\"legendgroup\":\"PRODUCTIVITY\",\"marker\":{\"color\":\"#00cc96\",\"pattern\":{\"shape\":\"\"}},\"name\":\"PRODUCTIVITY\",\"offsetgroup\":\"PRODUCTIVITY\",\"orientation\":\"v\",\"showlegend\":true,\"textposition\":\"auto\",\"type\":\"bar\",\"x\":[\"PRODUCTIVITY\"],\"xaxis\":\"x\",\"y\":[4.211396011396012],\"yaxis\":\"y\"},{\"alignmentgroup\":\"True\",\"hovertemplate\":\"color=SOCIAL<br>x=%{x}<br>y=%{y}<extra></extra>\",\"legendgroup\":\"SOCIAL\",\"marker\":{\"color\":\"#ab63fa\",\"pattern\":{\"shape\":\"\"}},\"name\":\"SOCIAL\",\"offsetgroup\":\"SOCIAL\",\"orientation\":\"v\",\"showlegend\":true,\"textposition\":\"auto\",\"type\":\"bar\",\"x\":[\"SOCIAL\"],\"xaxis\":\"x\",\"y\":[4.255598455598457],\"yaxis\":\"y\"},{\"alignmentgroup\":\"True\",\"hovertemplate\":\"color=TOOLS<br>x=%{x}<br>y=%{y}<extra></extra>\",\"legendgroup\":\"TOOLS\",\"marker\":{\"color\":\"#FFA15A\",\"pattern\":{\"shape\":\"\"}},\"name\":\"TOOLS\",\"offsetgroup\":\"TOOLS\",\"orientation\":\"v\",\"showlegend\":true,\"textposition\":\"auto\",\"type\":\"bar\",\"x\":[\"TOOLS\"],\"xaxis\":\"x\",\"y\":[4.047411444141691],\"yaxis\":\"y\"},{\"alignmentgroup\":\"True\",\"hovertemplate\":\"color=FAMILY<br>x=%{x}<br>y=%{y}<extra></extra>\",\"legendgroup\":\"FAMILY\",\"marker\":{\"color\":\"#19d3f3\",\"pattern\":{\"shape\":\"\"}},\"name\":\"FAMILY\",\"offsetgroup\":\"FAMILY\",\"orientation\":\"v\",\"showlegend\":true,\"textposition\":\"auto\",\"type\":\"bar\",\"x\":[\"FAMILY\"],\"xaxis\":\"x\",\"y\":[4.192272467086437],\"yaxis\":\"y\"},{\"alignmentgroup\":\"True\",\"hovertemplate\":\"color=PHOTOGRAPHY<br>x=%{x}<br>y=%{y}<extra></extra>\",\"legendgroup\":\"PHOTOGRAPHY\",\"marker\":{\"color\":\"#FF6692\",\"pattern\":{\"shape\":\"\"}},\"name\":\"PHOTOGRAPHY\",\"offsetgroup\":\"PHOTOGRAPHY\",\"orientation\":\"v\",\"showlegend\":true,\"textposition\":\"auto\",\"type\":\"bar\",\"x\":[\"PHOTOGRAPHY\"],\"xaxis\":\"x\",\"y\":[4.192113564668767],\"yaxis\":\"y\"},{\"alignmentgroup\":\"True\",\"hovertemplate\":\"color=NEWS_AND_MAGAZINES<br>x=%{x}<br>y=%{y}<extra></extra>\",\"legendgroup\":\"NEWS_AND_MAGAZINES\",\"marker\":{\"color\":\"#B6E880\",\"pattern\":{\"shape\":\"\"}},\"name\":\"NEWS_AND_MAGAZINES\",\"offsetgroup\":\"NEWS_AND_MAGAZINES\",\"orientation\":\"v\",\"showlegend\":true,\"textposition\":\"auto\",\"type\":\"bar\",\"x\":[\"NEWS_AND_MAGAZINES\"],\"xaxis\":\"x\",\"y\":[4.1321888412017165],\"yaxis\":\"y\"},{\"alignmentgroup\":\"True\",\"hovertemplate\":\"color=TRAVEL_AND_LOCAL<br>x=%{x}<br>y=%{y}<extra></extra>\",\"legendgroup\":\"TRAVEL_AND_LOCAL\",\"marker\":{\"color\":\"#FF97FF\",\"pattern\":{\"shape\":\"\"}},\"name\":\"TRAVEL_AND_LOCAL\",\"offsetgroup\":\"TRAVEL_AND_LOCAL\",\"orientation\":\"v\",\"showlegend\":true,\"textposition\":\"auto\",\"type\":\"bar\",\"x\":[\"TRAVEL_AND_LOCAL\"],\"xaxis\":\"x\",\"y\":[4.10929203539823],\"yaxis\":\"y\"},{\"alignmentgroup\":\"True\",\"hovertemplate\":\"color=VIDEO_PLAYERS<br>x=%{x}<br>y=%{y}<extra></extra>\",\"legendgroup\":\"VIDEO_PLAYERS\",\"marker\":{\"color\":\"#FECB52\",\"pattern\":{\"shape\":\"\"}},\"name\":\"VIDEO_PLAYERS\",\"offsetgroup\":\"VIDEO_PLAYERS\",\"orientation\":\"v\",\"showlegend\":true,\"textposition\":\"auto\",\"type\":\"bar\",\"x\":[\"VIDEO_PLAYERS\"],\"xaxis\":\"x\",\"y\":[4.063750000000001],\"yaxis\":\"y\"}],                        {\"barmode\":\"relative\",\"legend\":{\"title\":{\"text\":\"color\"},\"tracegroupgap\":0},\"margin\":{\"t\":60},\"template\":{\"data\":{\"bar\":[{\"error_x\":{\"color\":\"#2a3f5f\"},\"error_y\":{\"color\":\"#2a3f5f\"},\"marker\":{\"line\":{\"color\":\"#E5ECF6\",\"width\":0.5},\"pattern\":{\"fillmode\":\"overlay\",\"size\":10,\"solidity\":0.2}},\"type\":\"bar\"}],\"barpolar\":[{\"marker\":{\"line\":{\"color\":\"#E5ECF6\",\"width\":0.5},\"pattern\":{\"fillmode\":\"overlay\",\"size\":10,\"solidity\":0.2}},\"type\":\"barpolar\"}],\"carpet\":[{\"aaxis\":{\"endlinecolor\":\"#2a3f5f\",\"gridcolor\":\"white\",\"linecolor\":\"white\",\"minorgridcolor\":\"white\",\"startlinecolor\":\"#2a3f5f\"},\"baxis\":{\"endlinecolor\":\"#2a3f5f\",\"gridcolor\":\"white\",\"linecolor\":\"white\",\"minorgridcolor\":\"white\",\"startlinecolor\":\"#2a3f5f\"},\"type\":\"carpet\"}],\"choropleth\":[{\"colorbar\":{\"outlinewidth\":0,\"ticks\":\"\"},\"type\":\"choropleth\"}],\"contour\":[{\"colorbar\":{\"outlinewidth\":0,\"ticks\":\"\"},\"colorscale\":[[0.0,\"#0d0887\"],[0.1111111111111111,\"#46039f\"],[0.2222222222222222,\"#7201a8\"],[0.3333333333333333,\"#9c179e\"],[0.4444444444444444,\"#bd3786\"],[0.5555555555555556,\"#d8576b\"],[0.6666666666666666,\"#ed7953\"],[0.7777777777777778,\"#fb9f3a\"],[0.8888888888888888,\"#fdca26\"],[1.0,\"#f0f921\"]],\"type\":\"contour\"}],\"contourcarpet\":[{\"colorbar\":{\"outlinewidth\":0,\"ticks\":\"\"},\"type\":\"contourcarpet\"}],\"heatmap\":[{\"colorbar\":{\"outlinewidth\":0,\"ticks\":\"\"},\"colorscale\":[[0.0,\"#0d0887\"],[0.1111111111111111,\"#46039f\"],[0.2222222222222222,\"#7201a8\"],[0.3333333333333333,\"#9c179e\"],[0.4444444444444444,\"#bd3786\"],[0.5555555555555556,\"#d8576b\"],[0.6666666666666666,\"#ed7953\"],[0.7777777777777778,\"#fb9f3a\"],[0.8888888888888888,\"#fdca26\"],[1.0,\"#f0f921\"]],\"type\":\"heatmap\"}],\"heatmapgl\":[{\"colorbar\":{\"outlinewidth\":0,\"ticks\":\"\"},\"colorscale\":[[0.0,\"#0d0887\"],[0.1111111111111111,\"#46039f\"],[0.2222222222222222,\"#7201a8\"],[0.3333333333333333,\"#9c179e\"],[0.4444444444444444,\"#bd3786\"],[0.5555555555555556,\"#d8576b\"],[0.6666666666666666,\"#ed7953\"],[0.7777777777777778,\"#fb9f3a\"],[0.8888888888888888,\"#fdca26\"],[1.0,\"#f0f921\"]],\"type\":\"heatmapgl\"}],\"histogram\":[{\"marker\":{\"pattern\":{\"fillmode\":\"overlay\",\"size\":10,\"solidity\":0.2}},\"type\":\"histogram\"}],\"histogram2d\":[{\"colorbar\":{\"outlinewidth\":0,\"ticks\":\"\"},\"colorscale\":[[0.0,\"#0d0887\"],[0.1111111111111111,\"#46039f\"],[0.2222222222222222,\"#7201a8\"],[0.3333333333333333,\"#9c179e\"],[0.4444444444444444,\"#bd3786\"],[0.5555555555555556,\"#d8576b\"],[0.6666666666666666,\"#ed7953\"],[0.7777777777777778,\"#fb9f3a\"],[0.8888888888888888,\"#fdca26\"],[1.0,\"#f0f921\"]],\"type\":\"histogram2d\"}],\"histogram2dcontour\":[{\"colorbar\":{\"outlinewidth\":0,\"ticks\":\"\"},\"colorscale\":[[0.0,\"#0d0887\"],[0.1111111111111111,\"#46039f\"],[0.2222222222222222,\"#7201a8\"],[0.3333333333333333,\"#9c179e\"],[0.4444444444444444,\"#bd3786\"],[0.5555555555555556,\"#d8576b\"],[0.6666666666666666,\"#ed7953\"],[0.7777777777777778,\"#fb9f3a\"],[0.8888888888888888,\"#fdca26\"],[1.0,\"#f0f921\"]],\"type\":\"histogram2dcontour\"}],\"mesh3d\":[{\"colorbar\":{\"outlinewidth\":0,\"ticks\":\"\"},\"type\":\"mesh3d\"}],\"parcoords\":[{\"line\":{\"colorbar\":{\"outlinewidth\":0,\"ticks\":\"\"}},\"type\":\"parcoords\"}],\"pie\":[{\"automargin\":true,\"type\":\"pie\"}],\"scatter\":[{\"marker\":{\"colorbar\":{\"outlinewidth\":0,\"ticks\":\"\"}},\"type\":\"scatter\"}],\"scatter3d\":[{\"line\":{\"colorbar\":{\"outlinewidth\":0,\"ticks\":\"\"}},\"marker\":{\"colorbar\":{\"outlinewidth\":0,\"ticks\":\"\"}},\"type\":\"scatter3d\"}],\"scattercarpet\":[{\"marker\":{\"colorbar\":{\"outlinewidth\":0,\"ticks\":\"\"}},\"type\":\"scattercarpet\"}],\"scattergeo\":[{\"marker\":{\"colorbar\":{\"outlinewidth\":0,\"ticks\":\"\"}},\"type\":\"scattergeo\"}],\"scattergl\":[{\"marker\":{\"colorbar\":{\"outlinewidth\":0,\"ticks\":\"\"}},\"type\":\"scattergl\"}],\"scattermapbox\":[{\"marker\":{\"colorbar\":{\"outlinewidth\":0,\"ticks\":\"\"}},\"type\":\"scattermapbox\"}],\"scatterpolar\":[{\"marker\":{\"colorbar\":{\"outlinewidth\":0,\"ticks\":\"\"}},\"type\":\"scatterpolar\"}],\"scatterpolargl\":[{\"marker\":{\"colorbar\":{\"outlinewidth\":0,\"ticks\":\"\"}},\"type\":\"scatterpolargl\"}],\"scatterternary\":[{\"marker\":{\"colorbar\":{\"outlinewidth\":0,\"ticks\":\"\"}},\"type\":\"scatterternary\"}],\"surface\":[{\"colorbar\":{\"outlinewidth\":0,\"ticks\":\"\"},\"colorscale\":[[0.0,\"#0d0887\"],[0.1111111111111111,\"#46039f\"],[0.2222222222222222,\"#7201a8\"],[0.3333333333333333,\"#9c179e\"],[0.4444444444444444,\"#bd3786\"],[0.5555555555555556,\"#d8576b\"],[0.6666666666666666,\"#ed7953\"],[0.7777777777777778,\"#fb9f3a\"],[0.8888888888888888,\"#fdca26\"],[1.0,\"#f0f921\"]],\"type\":\"surface\"}],\"table\":[{\"cells\":{\"fill\":{\"color\":\"#EBF0F8\"},\"line\":{\"color\":\"white\"}},\"header\":{\"fill\":{\"color\":\"#C8D4E3\"},\"line\":{\"color\":\"white\"}},\"type\":\"table\"}]},\"layout\":{\"annotationdefaults\":{\"arrowcolor\":\"#2a3f5f\",\"arrowhead\":0,\"arrowwidth\":1},\"autotypenumbers\":\"strict\",\"coloraxis\":{\"colorbar\":{\"outlinewidth\":0,\"ticks\":\"\"}},\"colorscale\":{\"diverging\":[[0,\"#8e0152\"],[0.1,\"#c51b7d\"],[0.2,\"#de77ae\"],[0.3,\"#f1b6da\"],[0.4,\"#fde0ef\"],[0.5,\"#f7f7f7\"],[0.6,\"#e6f5d0\"],[0.7,\"#b8e186\"],[0.8,\"#7fbc41\"],[0.9,\"#4d9221\"],[1,\"#276419\"]],\"sequential\":[[0.0,\"#0d0887\"],[0.1111111111111111,\"#46039f\"],[0.2222222222222222,\"#7201a8\"],[0.3333333333333333,\"#9c179e\"],[0.4444444444444444,\"#bd3786\"],[0.5555555555555556,\"#d8576b\"],[0.6666666666666666,\"#ed7953\"],[0.7777777777777778,\"#fb9f3a\"],[0.8888888888888888,\"#fdca26\"],[1.0,\"#f0f921\"]],\"sequentialminus\":[[0.0,\"#0d0887\"],[0.1111111111111111,\"#46039f\"],[0.2222222222222222,\"#7201a8\"],[0.3333333333333333,\"#9c179e\"],[0.4444444444444444,\"#bd3786\"],[0.5555555555555556,\"#d8576b\"],[0.6666666666666666,\"#ed7953\"],[0.7777777777777778,\"#fb9f3a\"],[0.8888888888888888,\"#fdca26\"],[1.0,\"#f0f921\"]]},\"colorway\":[\"#636efa\",\"#EF553B\",\"#00cc96\",\"#ab63fa\",\"#FFA15A\",\"#19d3f3\",\"#FF6692\",\"#B6E880\",\"#FF97FF\",\"#FECB52\"],\"font\":{\"color\":\"#2a3f5f\"},\"geo\":{\"bgcolor\":\"white\",\"lakecolor\":\"white\",\"landcolor\":\"#E5ECF6\",\"showlakes\":true,\"showland\":true,\"subunitcolor\":\"white\"},\"hoverlabel\":{\"align\":\"left\"},\"hovermode\":\"closest\",\"mapbox\":{\"style\":\"light\"},\"paper_bgcolor\":\"white\",\"plot_bgcolor\":\"#E5ECF6\",\"polar\":{\"angularaxis\":{\"gridcolor\":\"white\",\"linecolor\":\"white\",\"ticks\":\"\"},\"bgcolor\":\"#E5ECF6\",\"radialaxis\":{\"gridcolor\":\"white\",\"linecolor\":\"white\",\"ticks\":\"\"}},\"scene\":{\"xaxis\":{\"backgroundcolor\":\"#E5ECF6\",\"gridcolor\":\"white\",\"gridwidth\":2,\"linecolor\":\"white\",\"showbackground\":true,\"ticks\":\"\",\"zerolinecolor\":\"white\"},\"yaxis\":{\"backgroundcolor\":\"#E5ECF6\",\"gridcolor\":\"white\",\"gridwidth\":2,\"linecolor\":\"white\",\"showbackground\":true,\"ticks\":\"\",\"zerolinecolor\":\"white\"},\"zaxis\":{\"backgroundcolor\":\"#E5ECF6\",\"gridcolor\":\"white\",\"gridwidth\":2,\"linecolor\":\"white\",\"showbackground\":true,\"ticks\":\"\",\"zerolinecolor\":\"white\"}},\"shapedefaults\":{\"line\":{\"color\":\"#2a3f5f\"}},\"ternary\":{\"aaxis\":{\"gridcolor\":\"white\",\"linecolor\":\"white\",\"ticks\":\"\"},\"baxis\":{\"gridcolor\":\"white\",\"linecolor\":\"white\",\"ticks\":\"\"},\"bgcolor\":\"#E5ECF6\",\"caxis\":{\"gridcolor\":\"white\",\"linecolor\":\"white\",\"ticks\":\"\"}},\"title\":{\"x\":0.05},\"xaxis\":{\"automargin\":true,\"gridcolor\":\"white\",\"linecolor\":\"white\",\"ticks\":\"\",\"title\":{\"standoff\":15},\"zerolinecolor\":\"white\",\"zerolinewidth\":2},\"yaxis\":{\"automargin\":true,\"gridcolor\":\"white\",\"linecolor\":\"white\",\"ticks\":\"\",\"title\":{\"standoff\":15},\"zerolinecolor\":\"white\",\"zerolinewidth\":2}}},\"xaxis\":{\"anchor\":\"y\",\"domain\":[0.0,1.0],\"title\":{\"text\":\"x\"}},\"yaxis\":{\"anchor\":\"x\",\"domain\":[0.0,1.0],\"title\":{\"text\":\"y\"}}},                        {\"responsive\": true}                    ).then(function(){\n",
       "                            \n",
       "var gd = document.getElementById('1ea580af-5496-4955-905d-c9ba337de728');\n",
       "var x = new MutationObserver(function (mutations, observer) {{\n",
       "        var display = window.getComputedStyle(gd).display;\n",
       "        if (!display || display === 'none') {{\n",
       "            console.log([gd, 'removed!']);\n",
       "            Plotly.purge(gd);\n",
       "            observer.disconnect();\n",
       "        }}\n",
       "}});\n",
       "\n",
       "// Listen for the removal of the full notebook cells\n",
       "var notebookContainer = gd.closest('#notebook-container');\n",
       "if (notebookContainer) {{\n",
       "    x.observe(notebookContainer, {childList: true});\n",
       "}}\n",
       "\n",
       "// Listen for the clearing of the current output cell\n",
       "var outputEl = gd.closest('.output');\n",
       "if (outputEl) {{\n",
       "    x.observe(outputEl, {childList: true});\n",
       "}}\n",
       "\n",
       "                        })                };                });            </script>        </div>"
      ]
     },
     "metadata": {},
     "output_type": "display_data"
    }
   ],
   "source": [
    "px.bar(data, x  = x_val.head(10).index, y = x_rat_cat[x_val.head(10).index], color = x_val.head(10).index)"
   ]
  },
  {
   "cell_type": "markdown",
   "id": "0fca757d",
   "metadata": {},
   "source": [
    "- it seems like Game Category is performing good in terms of number of installations and rating  followed by social \n",
    "- Tools catgeory has the lowest rating among top installed categories, better apps in this category can be launched or the existing app can be looked upon for further improvements"
   ]
  },
  {
   "cell_type": "markdown",
   "id": "68a2f392",
   "metadata": {},
   "source": [
    "# Which Category has maximum number of reviews submitted on GPS"
   ]
  },
  {
   "cell_type": "code",
   "execution_count": 13,
   "id": "8ee5902b",
   "metadata": {},
   "outputs": [],
   "source": [
    "# there are some negative signs before('-') we will remove them \n",
    "def positive(column):\n",
    "    for i in column:\n",
    "        if i>0:\n",
    "            return i\n",
    "        else:\n",
    "            return i*(-1)\n",
    "data['Reviews'] = data[['Reviews']].apply(positive,axis=1)"
   ]
  },
  {
   "cell_type": "code",
   "execution_count": 14,
   "id": "c03478af",
   "metadata": {},
   "outputs": [
    {
     "data": {
      "application/vnd.plotly.v1+json": {
       "config": {
        "plotlyServerURL": "https://plot.ly"
       },
       "data": [
        {
         "alignmentgroup": "True",
         "hovertemplate": "color=FAMILY<br>x=%{x}<br>y=%{y}<extra></extra>",
         "legendgroup": "FAMILY",
         "marker": {
          "color": "#636efa",
          "pattern": {
           "shape": ""
          }
         },
         "name": "FAMILY",
         "offsetgroup": "FAMILY",
         "orientation": "v",
         "showlegend": true,
         "textposition": "auto",
         "type": "bar",
         "x": [
          "FAMILY"
         ],
         "xaxis": "x",
         "y": [
          98786
         ],
         "yaxis": "y"
        },
        {
         "alignmentgroup": "True",
         "hovertemplate": "color=GAME<br>x=%{x}<br>y=%{y}<extra></extra>",
         "legendgroup": "GAME",
         "marker": {
          "color": "#EF553B",
          "pattern": {
           "shape": ""
          }
         },
         "name": "GAME",
         "offsetgroup": "GAME",
         "orientation": "v",
         "showlegend": true,
         "textposition": "auto",
         "type": "bar",
         "x": [
          "GAME"
         ],
         "xaxis": "x",
         "y": [
          66245
         ],
         "yaxis": "y"
        },
        {
         "alignmentgroup": "True",
         "hovertemplate": "color=TOOLS<br>x=%{x}<br>y=%{y}<extra></extra>",
         "legendgroup": "TOOLS",
         "marker": {
          "color": "#00cc96",
          "pattern": {
           "shape": ""
          }
         },
         "name": "TOOLS",
         "offsetgroup": "TOOLS",
         "orientation": "v",
         "showlegend": true,
         "textposition": "auto",
         "type": "bar",
         "x": [
          "TOOLS"
         ],
         "xaxis": "x",
         "y": [
          42246
         ],
         "yaxis": "y"
        },
        {
         "alignmentgroup": "True",
         "hovertemplate": "color=SPORTS<br>x=%{x}<br>y=%{y}<extra></extra>",
         "legendgroup": "SPORTS",
         "marker": {
          "color": "#ab63fa",
          "pattern": {
           "shape": ""
          }
         },
         "name": "SPORTS",
         "offsetgroup": "SPORTS",
         "orientation": "v",
         "showlegend": true,
         "textposition": "auto",
         "type": "bar",
         "x": [
          "SPORTS"
         ],
         "xaxis": "x",
         "y": [
          21363
         ],
         "yaxis": "y"
        },
        {
         "alignmentgroup": "True",
         "hovertemplate": "color=PRODUCTIVITY<br>x=%{x}<br>y=%{y}<extra></extra>",
         "legendgroup": "PRODUCTIVITY",
         "marker": {
          "color": "#FFA15A",
          "pattern": {
           "shape": ""
          }
         },
         "name": "PRODUCTIVITY",
         "offsetgroup": "PRODUCTIVITY",
         "orientation": "v",
         "showlegend": true,
         "textposition": "auto",
         "type": "bar",
         "x": [
          "PRODUCTIVITY"
         ],
         "xaxis": "x",
         "y": [
          20015
         ],
         "yaxis": "y"
        },
        {
         "alignmentgroup": "True",
         "hovertemplate": "color=COMMUNICATION<br>x=%{x}<br>y=%{y}<extra></extra>",
         "legendgroup": "COMMUNICATION",
         "marker": {
          "color": "#19d3f3",
          "pattern": {
           "shape": ""
          }
         },
         "name": "COMMUNICATION",
         "offsetgroup": "COMMUNICATION",
         "orientation": "v",
         "showlegend": true,
         "textposition": "auto",
         "type": "bar",
         "x": [
          "COMMUNICATION"
         ],
         "xaxis": "x",
         "y": [
          19262
         ],
         "yaxis": "y"
        },
        {
         "alignmentgroup": "True",
         "hovertemplate": "color=PHOTOGRAPHY<br>x=%{x}<br>y=%{y}<extra></extra>",
         "legendgroup": "PHOTOGRAPHY",
         "marker": {
          "color": "#FF6692",
          "pattern": {
           "shape": ""
          }
         },
         "name": "PHOTOGRAPHY",
         "offsetgroup": "PHOTOGRAPHY",
         "orientation": "v",
         "showlegend": true,
         "textposition": "auto",
         "type": "bar",
         "x": [
          "PHOTOGRAPHY"
         ],
         "xaxis": "x",
         "y": [
          19164
         ],
         "yaxis": "y"
        },
        {
         "alignmentgroup": "True",
         "hovertemplate": "color=FINANCE<br>x=%{x}<br>y=%{y}<extra></extra>",
         "legendgroup": "FINANCE",
         "marker": {
          "color": "#B6E880",
          "pattern": {
           "shape": ""
          }
         },
         "name": "FINANCE",
         "offsetgroup": "FINANCE",
         "orientation": "v",
         "showlegend": true,
         "textposition": "auto",
         "type": "bar",
         "x": [
          "FINANCE"
         ],
         "xaxis": "x",
         "y": [
          18964
         ],
         "yaxis": "y"
        },
        {
         "alignmentgroup": "True",
         "hovertemplate": "color=PERSONALIZATION<br>x=%{x}<br>y=%{y}<extra></extra>",
         "legendgroup": "PERSONALIZATION",
         "marker": {
          "color": "#FF97FF",
          "pattern": {
           "shape": ""
          }
         },
         "name": "PERSONALIZATION",
         "offsetgroup": "PERSONALIZATION",
         "orientation": "v",
         "showlegend": true,
         "textposition": "auto",
         "type": "bar",
         "x": [
          "PERSONALIZATION"
         ],
         "xaxis": "x",
         "y": [
          17828
         ],
         "yaxis": "y"
        },
        {
         "alignmentgroup": "True",
         "hovertemplate": "color=HEALTH_AND_FITNESS<br>x=%{x}<br>y=%{y}<extra></extra>",
         "legendgroup": "HEALTH_AND_FITNESS",
         "marker": {
          "color": "#FECB52",
          "pattern": {
           "shape": ""
          }
         },
         "name": "HEALTH_AND_FITNESS",
         "offsetgroup": "HEALTH_AND_FITNESS",
         "orientation": "v",
         "showlegend": true,
         "textposition": "auto",
         "type": "bar",
         "x": [
          "HEALTH_AND_FITNESS"
         ],
         "xaxis": "x",
         "y": [
          17383
         ],
         "yaxis": "y"
        },
        {
         "alignmentgroup": "True",
         "hovertemplate": "color=LIFESTYLE<br>x=%{x}<br>y=%{y}<extra></extra>",
         "legendgroup": "LIFESTYLE",
         "marker": {
          "color": "#636efa",
          "pattern": {
           "shape": ""
          }
         },
         "name": "LIFESTYLE",
         "offsetgroup": "LIFESTYLE",
         "orientation": "v",
         "showlegend": true,
         "textposition": "auto",
         "type": "bar",
         "x": [
          "LIFESTYLE"
         ],
         "xaxis": "x",
         "y": [
          16954
         ],
         "yaxis": "y"
        },
        {
         "alignmentgroup": "True",
         "hovertemplate": "color=MEDICAL<br>x=%{x}<br>y=%{y}<extra></extra>",
         "legendgroup": "MEDICAL",
         "marker": {
          "color": "#EF553B",
          "pattern": {
           "shape": ""
          }
         },
         "name": "MEDICAL",
         "offsetgroup": "MEDICAL",
         "orientation": "v",
         "showlegend": true,
         "textposition": "auto",
         "type": "bar",
         "x": [
          "MEDICAL"
         ],
         "xaxis": "x",
         "y": [
          16309
         ],
         "yaxis": "y"
        },
        {
         "alignmentgroup": "True",
         "hovertemplate": "color=BUSINESS<br>x=%{x}<br>y=%{y}<extra></extra>",
         "legendgroup": "BUSINESS",
         "marker": {
          "color": "#00cc96",
          "pattern": {
           "shape": ""
          }
         },
         "name": "BUSINESS",
         "offsetgroup": "BUSINESS",
         "orientation": "v",
         "showlegend": true,
         "textposition": "auto",
         "type": "bar",
         "x": [
          "BUSINESS"
         ],
         "xaxis": "x",
         "y": [
          16134
         ],
         "yaxis": "y"
        },
        {
         "alignmentgroup": "True",
         "hovertemplate": "color=SOCIAL<br>x=%{x}<br>y=%{y}<extra></extra>",
         "legendgroup": "SOCIAL",
         "marker": {
          "color": "#ab63fa",
          "pattern": {
           "shape": ""
          }
         },
         "name": "SOCIAL",
         "offsetgroup": "SOCIAL",
         "orientation": "v",
         "showlegend": true,
         "textposition": "auto",
         "type": "bar",
         "x": [
          "SOCIAL"
         ],
         "xaxis": "x",
         "y": [
          15674
         ],
         "yaxis": "y"
        },
        {
         "alignmentgroup": "True",
         "hovertemplate": "color=NEWS_AND_MAGAZINES<br>x=%{x}<br>y=%{y}<extra></extra>",
         "legendgroup": "NEWS_AND_MAGAZINES",
         "marker": {
          "color": "#FFA15A",
          "pattern": {
           "shape": ""
          }
         },
         "name": "NEWS_AND_MAGAZINES",
         "offsetgroup": "NEWS_AND_MAGAZINES",
         "orientation": "v",
         "showlegend": true,
         "textposition": "auto",
         "type": "bar",
         "x": [
          "NEWS_AND_MAGAZINES"
         ],
         "xaxis": "x",
         "y": [
          13733
         ],
         "yaxis": "y"
        },
        {
         "alignmentgroup": "True",
         "hovertemplate": "color=SHOPPING<br>x=%{x}<br>y=%{y}<extra></extra>",
         "legendgroup": "SHOPPING",
         "marker": {
          "color": "#19d3f3",
          "pattern": {
           "shape": ""
          }
         },
         "name": "SHOPPING",
         "offsetgroup": "SHOPPING",
         "orientation": "v",
         "showlegend": true,
         "textposition": "auto",
         "type": "bar",
         "x": [
          "SHOPPING"
         ],
         "xaxis": "x",
         "y": [
          13668
         ],
         "yaxis": "y"
        },
        {
         "alignmentgroup": "True",
         "hovertemplate": "color=TRAVEL_AND_LOCAL<br>x=%{x}<br>y=%{y}<extra></extra>",
         "legendgroup": "TRAVEL_AND_LOCAL",
         "marker": {
          "color": "#FF6692",
          "pattern": {
           "shape": ""
          }
         },
         "name": "TRAVEL_AND_LOCAL",
         "offsetgroup": "TRAVEL_AND_LOCAL",
         "orientation": "v",
         "showlegend": true,
         "textposition": "auto",
         "type": "bar",
         "x": [
          "TRAVEL_AND_LOCAL"
         ],
         "xaxis": "x",
         "y": [
          12871
         ],
         "yaxis": "y"
        },
        {
         "alignmentgroup": "True",
         "hovertemplate": "color=DATING<br>x=%{x}<br>y=%{y}<extra></extra>",
         "legendgroup": "DATING",
         "marker": {
          "color": "#B6E880",
          "pattern": {
           "shape": ""
          }
         },
         "name": "DATING",
         "offsetgroup": "DATING",
         "orientation": "v",
         "showlegend": true,
         "textposition": "auto",
         "type": "bar",
         "x": [
          "DATING"
         ],
         "xaxis": "x",
         "y": [
          11518
         ],
         "yaxis": "y"
        },
        {
         "alignmentgroup": "True",
         "hovertemplate": "color=BOOKS_AND_REFERENCE<br>x=%{x}<br>y=%{y}<extra></extra>",
         "legendgroup": "BOOKS_AND_REFERENCE",
         "marker": {
          "color": "#FF97FF",
          "pattern": {
           "shape": ""
          }
         },
         "name": "BOOKS_AND_REFERENCE",
         "offsetgroup": "BOOKS_AND_REFERENCE",
         "orientation": "v",
         "showlegend": true,
         "textposition": "auto",
         "type": "bar",
         "x": [
          "BOOKS_AND_REFERENCE"
         ],
         "xaxis": "x",
         "y": [
          11317
         ],
         "yaxis": "y"
        },
        {
         "alignmentgroup": "True",
         "hovertemplate": "color=EDUCATION<br>x=%{x}<br>y=%{y}<extra></extra>",
         "legendgroup": "EDUCATION",
         "marker": {
          "color": "#FECB52",
          "pattern": {
           "shape": ""
          }
         },
         "name": "EDUCATION",
         "offsetgroup": "EDUCATION",
         "orientation": "v",
         "showlegend": true,
         "textposition": "auto",
         "type": "bar",
         "x": [
          "EDUCATION"
         ],
         "xaxis": "x",
         "y": [
          10816
         ],
         "yaxis": "y"
        },
        {
         "alignmentgroup": "True",
         "hovertemplate": "color=ENTERTAINMENT<br>x=%{x}<br>y=%{y}<extra></extra>",
         "legendgroup": "ENTERTAINMENT",
         "marker": {
          "color": "#636efa",
          "pattern": {
           "shape": ""
          }
         },
         "name": "ENTERTAINMENT",
         "offsetgroup": "ENTERTAINMENT",
         "orientation": "v",
         "showlegend": true,
         "textposition": "auto",
         "type": "bar",
         "x": [
          "ENTERTAINMENT"
         ],
         "xaxis": "x",
         "y": [
          9834
         ],
         "yaxis": "y"
        },
        {
         "alignmentgroup": "True",
         "hovertemplate": "color=VIDEO_PLAYERS<br>x=%{x}<br>y=%{y}<extra></extra>",
         "legendgroup": "VIDEO_PLAYERS",
         "marker": {
          "color": "#EF553B",
          "pattern": {
           "shape": ""
          }
         },
         "name": "VIDEO_PLAYERS",
         "offsetgroup": "VIDEO_PLAYERS",
         "orientation": "v",
         "showlegend": true,
         "textposition": "auto",
         "type": "bar",
         "x": [
          "VIDEO_PLAYERS"
         ],
         "xaxis": "x",
         "y": [
          9036
         ],
         "yaxis": "y"
        },
        {
         "alignmentgroup": "True",
         "hovertemplate": "color=MAPS_AND_NAVIGATION<br>x=%{x}<br>y=%{y}<extra></extra>",
         "legendgroup": "MAPS_AND_NAVIGATION",
         "marker": {
          "color": "#00cc96",
          "pattern": {
           "shape": ""
          }
         },
         "name": "MAPS_AND_NAVIGATION",
         "offsetgroup": "MAPS_AND_NAVIGATION",
         "orientation": "v",
         "showlegend": true,
         "textposition": "auto",
         "type": "bar",
         "x": [
          "MAPS_AND_NAVIGATION"
         ],
         "xaxis": "x",
         "y": [
          7302
         ],
         "yaxis": "y"
        },
        {
         "alignmentgroup": "True",
         "hovertemplate": "color=FOOD_AND_DRINK<br>x=%{x}<br>y=%{y}<extra></extra>",
         "legendgroup": "FOOD_AND_DRINK",
         "marker": {
          "color": "#ab63fa",
          "pattern": {
           "shape": ""
          }
         },
         "name": "FOOD_AND_DRINK",
         "offsetgroup": "FOOD_AND_DRINK",
         "orientation": "v",
         "showlegend": true,
         "textposition": "auto",
         "type": "bar",
         "x": [
          "FOOD_AND_DRINK"
         ],
         "xaxis": "x",
         "y": [
          6824
         ],
         "yaxis": "y"
        },
        {
         "alignmentgroup": "True",
         "hovertemplate": "color=WEATHER<br>x=%{x}<br>y=%{y}<extra></extra>",
         "legendgroup": "WEATHER",
         "marker": {
          "color": "#FFA15A",
          "pattern": {
           "shape": ""
          }
         },
         "name": "WEATHER",
         "offsetgroup": "WEATHER",
         "orientation": "v",
         "showlegend": true,
         "textposition": "auto",
         "type": "bar",
         "x": [
          "WEATHER"
         ],
         "xaxis": "x",
         "y": [
          5031
         ],
         "yaxis": "y"
        },
        {
         "alignmentgroup": "True",
         "hovertemplate": "color=HOUSE_AND_HOME<br>x=%{x}<br>y=%{y}<extra></extra>",
         "legendgroup": "HOUSE_AND_HOME",
         "marker": {
          "color": "#19d3f3",
          "pattern": {
           "shape": ""
          }
         },
         "name": "HOUSE_AND_HOME",
         "offsetgroup": "HOUSE_AND_HOME",
         "orientation": "v",
         "showlegend": true,
         "textposition": "auto",
         "type": "bar",
         "x": [
          "HOUSE_AND_HOME"
         ],
         "xaxis": "x",
         "y": [
          4839
         ],
         "yaxis": "y"
        },
        {
         "alignmentgroup": "True",
         "hovertemplate": "color=LIBRARIES_AND_DEMO<br>x=%{x}<br>y=%{y}<extra></extra>",
         "legendgroup": "LIBRARIES_AND_DEMO",
         "marker": {
          "color": "#FF6692",
          "pattern": {
           "shape": ""
          }
         },
         "name": "LIBRARIES_AND_DEMO",
         "offsetgroup": "LIBRARIES_AND_DEMO",
         "orientation": "v",
         "showlegend": true,
         "textposition": "auto",
         "type": "bar",
         "x": [
          "LIBRARIES_AND_DEMO"
         ],
         "xaxis": "x",
         "y": [
          4754
         ],
         "yaxis": "y"
        },
        {
         "alignmentgroup": "True",
         "hovertemplate": "color=ART_AND_DESIGN<br>x=%{x}<br>y=%{y}<extra></extra>",
         "legendgroup": "ART_AND_DESIGN",
         "marker": {
          "color": "#B6E880",
          "pattern": {
           "shape": ""
          }
         },
         "name": "ART_AND_DESIGN",
         "offsetgroup": "ART_AND_DESIGN",
         "orientation": "v",
         "showlegend": true,
         "textposition": "auto",
         "type": "bar",
         "x": [
          "ART_AND_DESIGN"
         ],
         "xaxis": "x",
         "y": [
          3962
         ],
         "yaxis": "y"
        },
        {
         "alignmentgroup": "True",
         "hovertemplate": "color=AUTO_AND_VEHICLES<br>x=%{x}<br>y=%{y}<extra></extra>",
         "legendgroup": "AUTO_AND_VEHICLES",
         "marker": {
          "color": "#FF97FF",
          "pattern": {
           "shape": ""
          }
         },
         "name": "AUTO_AND_VEHICLES",
         "offsetgroup": "AUTO_AND_VEHICLES",
         "orientation": "v",
         "showlegend": true,
         "textposition": "auto",
         "type": "bar",
         "x": [
          "AUTO_AND_VEHICLES"
         ],
         "xaxis": "x",
         "y": [
          3820
         ],
         "yaxis": "y"
        },
        {
         "alignmentgroup": "True",
         "hovertemplate": "color=COMICS<br>x=%{x}<br>y=%{y}<extra></extra>",
         "legendgroup": "COMICS",
         "marker": {
          "color": "#FECB52",
          "pattern": {
           "shape": ""
          }
         },
         "name": "COMICS",
         "offsetgroup": "COMICS",
         "orientation": "v",
         "showlegend": true,
         "textposition": "auto",
         "type": "bar",
         "x": [
          "COMICS"
         ],
         "xaxis": "x",
         "y": [
          3712
         ],
         "yaxis": "y"
        },
        {
         "alignmentgroup": "True",
         "hovertemplate": "color=PARENTING<br>x=%{x}<br>y=%{y}<extra></extra>",
         "legendgroup": "PARENTING",
         "marker": {
          "color": "#636efa",
          "pattern": {
           "shape": ""
          }
         },
         "name": "PARENTING",
         "offsetgroup": "PARENTING",
         "orientation": "v",
         "showlegend": true,
         "textposition": "auto",
         "type": "bar",
         "x": [
          "PARENTING"
         ],
         "xaxis": "x",
         "y": [
          3363
         ],
         "yaxis": "y"
        },
        {
         "alignmentgroup": "True",
         "hovertemplate": "color=BEAUTY<br>x=%{x}<br>y=%{y}<extra></extra>",
         "legendgroup": "BEAUTY",
         "marker": {
          "color": "#EF553B",
          "pattern": {
           "shape": ""
          }
         },
         "name": "BEAUTY",
         "offsetgroup": "BEAUTY",
         "orientation": "v",
         "showlegend": true,
         "textposition": "auto",
         "type": "bar",
         "x": [
          "BEAUTY"
         ],
         "xaxis": "x",
         "y": [
          2846
         ],
         "yaxis": "y"
        },
        {
         "alignmentgroup": "True",
         "hovertemplate": "color=EVENTS<br>x=%{x}<br>y=%{y}<extra></extra>",
         "legendgroup": "EVENTS",
         "marker": {
          "color": "#00cc96",
          "pattern": {
           "shape": ""
          }
         },
         "name": "EVENTS",
         "offsetgroup": "EVENTS",
         "orientation": "v",
         "showlegend": true,
         "textposition": "auto",
         "type": "bar",
         "x": [
          "EVENTS"
         ],
         "xaxis": "x",
         "y": [
          2506
         ],
         "yaxis": "y"
        }
       ],
       "layout": {
        "barmode": "relative",
        "legend": {
         "title": {
          "text": "color"
         },
         "tracegroupgap": 0
        },
        "margin": {
         "t": 60
        },
        "template": {
         "data": {
          "bar": [
           {
            "error_x": {
             "color": "#2a3f5f"
            },
            "error_y": {
             "color": "#2a3f5f"
            },
            "marker": {
             "line": {
              "color": "#E5ECF6",
              "width": 0.5
             },
             "pattern": {
              "fillmode": "overlay",
              "size": 10,
              "solidity": 0.2
             }
            },
            "type": "bar"
           }
          ],
          "barpolar": [
           {
            "marker": {
             "line": {
              "color": "#E5ECF6",
              "width": 0.5
             },
             "pattern": {
              "fillmode": "overlay",
              "size": 10,
              "solidity": 0.2
             }
            },
            "type": "barpolar"
           }
          ],
          "carpet": [
           {
            "aaxis": {
             "endlinecolor": "#2a3f5f",
             "gridcolor": "white",
             "linecolor": "white",
             "minorgridcolor": "white",
             "startlinecolor": "#2a3f5f"
            },
            "baxis": {
             "endlinecolor": "#2a3f5f",
             "gridcolor": "white",
             "linecolor": "white",
             "minorgridcolor": "white",
             "startlinecolor": "#2a3f5f"
            },
            "type": "carpet"
           }
          ],
          "choropleth": [
           {
            "colorbar": {
             "outlinewidth": 0,
             "ticks": ""
            },
            "type": "choropleth"
           }
          ],
          "contour": [
           {
            "colorbar": {
             "outlinewidth": 0,
             "ticks": ""
            },
            "colorscale": [
             [
              0,
              "#0d0887"
             ],
             [
              0.1111111111111111,
              "#46039f"
             ],
             [
              0.2222222222222222,
              "#7201a8"
             ],
             [
              0.3333333333333333,
              "#9c179e"
             ],
             [
              0.4444444444444444,
              "#bd3786"
             ],
             [
              0.5555555555555556,
              "#d8576b"
             ],
             [
              0.6666666666666666,
              "#ed7953"
             ],
             [
              0.7777777777777778,
              "#fb9f3a"
             ],
             [
              0.8888888888888888,
              "#fdca26"
             ],
             [
              1,
              "#f0f921"
             ]
            ],
            "type": "contour"
           }
          ],
          "contourcarpet": [
           {
            "colorbar": {
             "outlinewidth": 0,
             "ticks": ""
            },
            "type": "contourcarpet"
           }
          ],
          "heatmap": [
           {
            "colorbar": {
             "outlinewidth": 0,
             "ticks": ""
            },
            "colorscale": [
             [
              0,
              "#0d0887"
             ],
             [
              0.1111111111111111,
              "#46039f"
             ],
             [
              0.2222222222222222,
              "#7201a8"
             ],
             [
              0.3333333333333333,
              "#9c179e"
             ],
             [
              0.4444444444444444,
              "#bd3786"
             ],
             [
              0.5555555555555556,
              "#d8576b"
             ],
             [
              0.6666666666666666,
              "#ed7953"
             ],
             [
              0.7777777777777778,
              "#fb9f3a"
             ],
             [
              0.8888888888888888,
              "#fdca26"
             ],
             [
              1,
              "#f0f921"
             ]
            ],
            "type": "heatmap"
           }
          ],
          "heatmapgl": [
           {
            "colorbar": {
             "outlinewidth": 0,
             "ticks": ""
            },
            "colorscale": [
             [
              0,
              "#0d0887"
             ],
             [
              0.1111111111111111,
              "#46039f"
             ],
             [
              0.2222222222222222,
              "#7201a8"
             ],
             [
              0.3333333333333333,
              "#9c179e"
             ],
             [
              0.4444444444444444,
              "#bd3786"
             ],
             [
              0.5555555555555556,
              "#d8576b"
             ],
             [
              0.6666666666666666,
              "#ed7953"
             ],
             [
              0.7777777777777778,
              "#fb9f3a"
             ],
             [
              0.8888888888888888,
              "#fdca26"
             ],
             [
              1,
              "#f0f921"
             ]
            ],
            "type": "heatmapgl"
           }
          ],
          "histogram": [
           {
            "marker": {
             "pattern": {
              "fillmode": "overlay",
              "size": 10,
              "solidity": 0.2
             }
            },
            "type": "histogram"
           }
          ],
          "histogram2d": [
           {
            "colorbar": {
             "outlinewidth": 0,
             "ticks": ""
            },
            "colorscale": [
             [
              0,
              "#0d0887"
             ],
             [
              0.1111111111111111,
              "#46039f"
             ],
             [
              0.2222222222222222,
              "#7201a8"
             ],
             [
              0.3333333333333333,
              "#9c179e"
             ],
             [
              0.4444444444444444,
              "#bd3786"
             ],
             [
              0.5555555555555556,
              "#d8576b"
             ],
             [
              0.6666666666666666,
              "#ed7953"
             ],
             [
              0.7777777777777778,
              "#fb9f3a"
             ],
             [
              0.8888888888888888,
              "#fdca26"
             ],
             [
              1,
              "#f0f921"
             ]
            ],
            "type": "histogram2d"
           }
          ],
          "histogram2dcontour": [
           {
            "colorbar": {
             "outlinewidth": 0,
             "ticks": ""
            },
            "colorscale": [
             [
              0,
              "#0d0887"
             ],
             [
              0.1111111111111111,
              "#46039f"
             ],
             [
              0.2222222222222222,
              "#7201a8"
             ],
             [
              0.3333333333333333,
              "#9c179e"
             ],
             [
              0.4444444444444444,
              "#bd3786"
             ],
             [
              0.5555555555555556,
              "#d8576b"
             ],
             [
              0.6666666666666666,
              "#ed7953"
             ],
             [
              0.7777777777777778,
              "#fb9f3a"
             ],
             [
              0.8888888888888888,
              "#fdca26"
             ],
             [
              1,
              "#f0f921"
             ]
            ],
            "type": "histogram2dcontour"
           }
          ],
          "mesh3d": [
           {
            "colorbar": {
             "outlinewidth": 0,
             "ticks": ""
            },
            "type": "mesh3d"
           }
          ],
          "parcoords": [
           {
            "line": {
             "colorbar": {
              "outlinewidth": 0,
              "ticks": ""
             }
            },
            "type": "parcoords"
           }
          ],
          "pie": [
           {
            "automargin": true,
            "type": "pie"
           }
          ],
          "scatter": [
           {
            "marker": {
             "colorbar": {
              "outlinewidth": 0,
              "ticks": ""
             }
            },
            "type": "scatter"
           }
          ],
          "scatter3d": [
           {
            "line": {
             "colorbar": {
              "outlinewidth": 0,
              "ticks": ""
             }
            },
            "marker": {
             "colorbar": {
              "outlinewidth": 0,
              "ticks": ""
             }
            },
            "type": "scatter3d"
           }
          ],
          "scattercarpet": [
           {
            "marker": {
             "colorbar": {
              "outlinewidth": 0,
              "ticks": ""
             }
            },
            "type": "scattercarpet"
           }
          ],
          "scattergeo": [
           {
            "marker": {
             "colorbar": {
              "outlinewidth": 0,
              "ticks": ""
             }
            },
            "type": "scattergeo"
           }
          ],
          "scattergl": [
           {
            "marker": {
             "colorbar": {
              "outlinewidth": 0,
              "ticks": ""
             }
            },
            "type": "scattergl"
           }
          ],
          "scattermapbox": [
           {
            "marker": {
             "colorbar": {
              "outlinewidth": 0,
              "ticks": ""
             }
            },
            "type": "scattermapbox"
           }
          ],
          "scatterpolar": [
           {
            "marker": {
             "colorbar": {
              "outlinewidth": 0,
              "ticks": ""
             }
            },
            "type": "scatterpolar"
           }
          ],
          "scatterpolargl": [
           {
            "marker": {
             "colorbar": {
              "outlinewidth": 0,
              "ticks": ""
             }
            },
            "type": "scatterpolargl"
           }
          ],
          "scatterternary": [
           {
            "marker": {
             "colorbar": {
              "outlinewidth": 0,
              "ticks": ""
             }
            },
            "type": "scatterternary"
           }
          ],
          "surface": [
           {
            "colorbar": {
             "outlinewidth": 0,
             "ticks": ""
            },
            "colorscale": [
             [
              0,
              "#0d0887"
             ],
             [
              0.1111111111111111,
              "#46039f"
             ],
             [
              0.2222222222222222,
              "#7201a8"
             ],
             [
              0.3333333333333333,
              "#9c179e"
             ],
             [
              0.4444444444444444,
              "#bd3786"
             ],
             [
              0.5555555555555556,
              "#d8576b"
             ],
             [
              0.6666666666666666,
              "#ed7953"
             ],
             [
              0.7777777777777778,
              "#fb9f3a"
             ],
             [
              0.8888888888888888,
              "#fdca26"
             ],
             [
              1,
              "#f0f921"
             ]
            ],
            "type": "surface"
           }
          ],
          "table": [
           {
            "cells": {
             "fill": {
              "color": "#EBF0F8"
             },
             "line": {
              "color": "white"
             }
            },
            "header": {
             "fill": {
              "color": "#C8D4E3"
             },
             "line": {
              "color": "white"
             }
            },
            "type": "table"
           }
          ]
         },
         "layout": {
          "annotationdefaults": {
           "arrowcolor": "#2a3f5f",
           "arrowhead": 0,
           "arrowwidth": 1
          },
          "autotypenumbers": "strict",
          "coloraxis": {
           "colorbar": {
            "outlinewidth": 0,
            "ticks": ""
           }
          },
          "colorscale": {
           "diverging": [
            [
             0,
             "#8e0152"
            ],
            [
             0.1,
             "#c51b7d"
            ],
            [
             0.2,
             "#de77ae"
            ],
            [
             0.3,
             "#f1b6da"
            ],
            [
             0.4,
             "#fde0ef"
            ],
            [
             0.5,
             "#f7f7f7"
            ],
            [
             0.6,
             "#e6f5d0"
            ],
            [
             0.7,
             "#b8e186"
            ],
            [
             0.8,
             "#7fbc41"
            ],
            [
             0.9,
             "#4d9221"
            ],
            [
             1,
             "#276419"
            ]
           ],
           "sequential": [
            [
             0,
             "#0d0887"
            ],
            [
             0.1111111111111111,
             "#46039f"
            ],
            [
             0.2222222222222222,
             "#7201a8"
            ],
            [
             0.3333333333333333,
             "#9c179e"
            ],
            [
             0.4444444444444444,
             "#bd3786"
            ],
            [
             0.5555555555555556,
             "#d8576b"
            ],
            [
             0.6666666666666666,
             "#ed7953"
            ],
            [
             0.7777777777777778,
             "#fb9f3a"
            ],
            [
             0.8888888888888888,
             "#fdca26"
            ],
            [
             1,
             "#f0f921"
            ]
           ],
           "sequentialminus": [
            [
             0,
             "#0d0887"
            ],
            [
             0.1111111111111111,
             "#46039f"
            ],
            [
             0.2222222222222222,
             "#7201a8"
            ],
            [
             0.3333333333333333,
             "#9c179e"
            ],
            [
             0.4444444444444444,
             "#bd3786"
            ],
            [
             0.5555555555555556,
             "#d8576b"
            ],
            [
             0.6666666666666666,
             "#ed7953"
            ],
            [
             0.7777777777777778,
             "#fb9f3a"
            ],
            [
             0.8888888888888888,
             "#fdca26"
            ],
            [
             1,
             "#f0f921"
            ]
           ]
          },
          "colorway": [
           "#636efa",
           "#EF553B",
           "#00cc96",
           "#ab63fa",
           "#FFA15A",
           "#19d3f3",
           "#FF6692",
           "#B6E880",
           "#FF97FF",
           "#FECB52"
          ],
          "font": {
           "color": "#2a3f5f"
          },
          "geo": {
           "bgcolor": "white",
           "lakecolor": "white",
           "landcolor": "#E5ECF6",
           "showlakes": true,
           "showland": true,
           "subunitcolor": "white"
          },
          "hoverlabel": {
           "align": "left"
          },
          "hovermode": "closest",
          "mapbox": {
           "style": "light"
          },
          "paper_bgcolor": "white",
          "plot_bgcolor": "#E5ECF6",
          "polar": {
           "angularaxis": {
            "gridcolor": "white",
            "linecolor": "white",
            "ticks": ""
           },
           "bgcolor": "#E5ECF6",
           "radialaxis": {
            "gridcolor": "white",
            "linecolor": "white",
            "ticks": ""
           }
          },
          "scene": {
           "xaxis": {
            "backgroundcolor": "#E5ECF6",
            "gridcolor": "white",
            "gridwidth": 2,
            "linecolor": "white",
            "showbackground": true,
            "ticks": "",
            "zerolinecolor": "white"
           },
           "yaxis": {
            "backgroundcolor": "#E5ECF6",
            "gridcolor": "white",
            "gridwidth": 2,
            "linecolor": "white",
            "showbackground": true,
            "ticks": "",
            "zerolinecolor": "white"
           },
           "zaxis": {
            "backgroundcolor": "#E5ECF6",
            "gridcolor": "white",
            "gridwidth": 2,
            "linecolor": "white",
            "showbackground": true,
            "ticks": "",
            "zerolinecolor": "white"
           }
          },
          "shapedefaults": {
           "line": {
            "color": "#2a3f5f"
           }
          },
          "ternary": {
           "aaxis": {
            "gridcolor": "white",
            "linecolor": "white",
            "ticks": ""
           },
           "baxis": {
            "gridcolor": "white",
            "linecolor": "white",
            "ticks": ""
           },
           "bgcolor": "#E5ECF6",
           "caxis": {
            "gridcolor": "white",
            "linecolor": "white",
            "ticks": ""
           }
          },
          "title": {
           "x": 0.05
          },
          "xaxis": {
           "automargin": true,
           "gridcolor": "white",
           "linecolor": "white",
           "ticks": "",
           "title": {
            "standoff": 15
           },
           "zerolinecolor": "white",
           "zerolinewidth": 2
          },
          "yaxis": {
           "automargin": true,
           "gridcolor": "white",
           "linecolor": "white",
           "ticks": "",
           "title": {
            "standoff": 15
           },
           "zerolinecolor": "white",
           "zerolinewidth": 2
          }
         }
        },
        "xaxis": {
         "anchor": "y",
         "domain": [
          0,
          1
         ],
         "title": {
          "text": "x"
         }
        },
        "yaxis": {
         "anchor": "x",
         "domain": [
          0,
          1
         ],
         "title": {
          "text": "y"
         }
        }
       }
      },
      "text/html": [
       "<div>                            <div id=\"4c7c51e3-f096-4685-b593-7db6998f6643\" class=\"plotly-graph-div\" style=\"height:525px; width:100%;\"></div>            <script type=\"text/javascript\">                require([\"plotly\"], function(Plotly) {                    window.PLOTLYENV=window.PLOTLYENV || {};                                    if (document.getElementById(\"4c7c51e3-f096-4685-b593-7db6998f6643\")) {                    Plotly.newPlot(                        \"4c7c51e3-f096-4685-b593-7db6998f6643\",                        [{\"alignmentgroup\":\"True\",\"hovertemplate\":\"color=FAMILY<br>x=%{x}<br>y=%{y}<extra></extra>\",\"legendgroup\":\"FAMILY\",\"marker\":{\"color\":\"#636efa\",\"pattern\":{\"shape\":\"\"}},\"name\":\"FAMILY\",\"offsetgroup\":\"FAMILY\",\"orientation\":\"v\",\"showlegend\":true,\"textposition\":\"auto\",\"type\":\"bar\",\"x\":[\"FAMILY\"],\"xaxis\":\"x\",\"y\":[98786],\"yaxis\":\"y\"},{\"alignmentgroup\":\"True\",\"hovertemplate\":\"color=GAME<br>x=%{x}<br>y=%{y}<extra></extra>\",\"legendgroup\":\"GAME\",\"marker\":{\"color\":\"#EF553B\",\"pattern\":{\"shape\":\"\"}},\"name\":\"GAME\",\"offsetgroup\":\"GAME\",\"orientation\":\"v\",\"showlegend\":true,\"textposition\":\"auto\",\"type\":\"bar\",\"x\":[\"GAME\"],\"xaxis\":\"x\",\"y\":[66245],\"yaxis\":\"y\"},{\"alignmentgroup\":\"True\",\"hovertemplate\":\"color=TOOLS<br>x=%{x}<br>y=%{y}<extra></extra>\",\"legendgroup\":\"TOOLS\",\"marker\":{\"color\":\"#00cc96\",\"pattern\":{\"shape\":\"\"}},\"name\":\"TOOLS\",\"offsetgroup\":\"TOOLS\",\"orientation\":\"v\",\"showlegend\":true,\"textposition\":\"auto\",\"type\":\"bar\",\"x\":[\"TOOLS\"],\"xaxis\":\"x\",\"y\":[42246],\"yaxis\":\"y\"},{\"alignmentgroup\":\"True\",\"hovertemplate\":\"color=SPORTS<br>x=%{x}<br>y=%{y}<extra></extra>\",\"legendgroup\":\"SPORTS\",\"marker\":{\"color\":\"#ab63fa\",\"pattern\":{\"shape\":\"\"}},\"name\":\"SPORTS\",\"offsetgroup\":\"SPORTS\",\"orientation\":\"v\",\"showlegend\":true,\"textposition\":\"auto\",\"type\":\"bar\",\"x\":[\"SPORTS\"],\"xaxis\":\"x\",\"y\":[21363],\"yaxis\":\"y\"},{\"alignmentgroup\":\"True\",\"hovertemplate\":\"color=PRODUCTIVITY<br>x=%{x}<br>y=%{y}<extra></extra>\",\"legendgroup\":\"PRODUCTIVITY\",\"marker\":{\"color\":\"#FFA15A\",\"pattern\":{\"shape\":\"\"}},\"name\":\"PRODUCTIVITY\",\"offsetgroup\":\"PRODUCTIVITY\",\"orientation\":\"v\",\"showlegend\":true,\"textposition\":\"auto\",\"type\":\"bar\",\"x\":[\"PRODUCTIVITY\"],\"xaxis\":\"x\",\"y\":[20015],\"yaxis\":\"y\"},{\"alignmentgroup\":\"True\",\"hovertemplate\":\"color=COMMUNICATION<br>x=%{x}<br>y=%{y}<extra></extra>\",\"legendgroup\":\"COMMUNICATION\",\"marker\":{\"color\":\"#19d3f3\",\"pattern\":{\"shape\":\"\"}},\"name\":\"COMMUNICATION\",\"offsetgroup\":\"COMMUNICATION\",\"orientation\":\"v\",\"showlegend\":true,\"textposition\":\"auto\",\"type\":\"bar\",\"x\":[\"COMMUNICATION\"],\"xaxis\":\"x\",\"y\":[19262],\"yaxis\":\"y\"},{\"alignmentgroup\":\"True\",\"hovertemplate\":\"color=PHOTOGRAPHY<br>x=%{x}<br>y=%{y}<extra></extra>\",\"legendgroup\":\"PHOTOGRAPHY\",\"marker\":{\"color\":\"#FF6692\",\"pattern\":{\"shape\":\"\"}},\"name\":\"PHOTOGRAPHY\",\"offsetgroup\":\"PHOTOGRAPHY\",\"orientation\":\"v\",\"showlegend\":true,\"textposition\":\"auto\",\"type\":\"bar\",\"x\":[\"PHOTOGRAPHY\"],\"xaxis\":\"x\",\"y\":[19164],\"yaxis\":\"y\"},{\"alignmentgroup\":\"True\",\"hovertemplate\":\"color=FINANCE<br>x=%{x}<br>y=%{y}<extra></extra>\",\"legendgroup\":\"FINANCE\",\"marker\":{\"color\":\"#B6E880\",\"pattern\":{\"shape\":\"\"}},\"name\":\"FINANCE\",\"offsetgroup\":\"FINANCE\",\"orientation\":\"v\",\"showlegend\":true,\"textposition\":\"auto\",\"type\":\"bar\",\"x\":[\"FINANCE\"],\"xaxis\":\"x\",\"y\":[18964],\"yaxis\":\"y\"},{\"alignmentgroup\":\"True\",\"hovertemplate\":\"color=PERSONALIZATION<br>x=%{x}<br>y=%{y}<extra></extra>\",\"legendgroup\":\"PERSONALIZATION\",\"marker\":{\"color\":\"#FF97FF\",\"pattern\":{\"shape\":\"\"}},\"name\":\"PERSONALIZATION\",\"offsetgroup\":\"PERSONALIZATION\",\"orientation\":\"v\",\"showlegend\":true,\"textposition\":\"auto\",\"type\":\"bar\",\"x\":[\"PERSONALIZATION\"],\"xaxis\":\"x\",\"y\":[17828],\"yaxis\":\"y\"},{\"alignmentgroup\":\"True\",\"hovertemplate\":\"color=HEALTH_AND_FITNESS<br>x=%{x}<br>y=%{y}<extra></extra>\",\"legendgroup\":\"HEALTH_AND_FITNESS\",\"marker\":{\"color\":\"#FECB52\",\"pattern\":{\"shape\":\"\"}},\"name\":\"HEALTH_AND_FITNESS\",\"offsetgroup\":\"HEALTH_AND_FITNESS\",\"orientation\":\"v\",\"showlegend\":true,\"textposition\":\"auto\",\"type\":\"bar\",\"x\":[\"HEALTH_AND_FITNESS\"],\"xaxis\":\"x\",\"y\":[17383],\"yaxis\":\"y\"},{\"alignmentgroup\":\"True\",\"hovertemplate\":\"color=LIFESTYLE<br>x=%{x}<br>y=%{y}<extra></extra>\",\"legendgroup\":\"LIFESTYLE\",\"marker\":{\"color\":\"#636efa\",\"pattern\":{\"shape\":\"\"}},\"name\":\"LIFESTYLE\",\"offsetgroup\":\"LIFESTYLE\",\"orientation\":\"v\",\"showlegend\":true,\"textposition\":\"auto\",\"type\":\"bar\",\"x\":[\"LIFESTYLE\"],\"xaxis\":\"x\",\"y\":[16954],\"yaxis\":\"y\"},{\"alignmentgroup\":\"True\",\"hovertemplate\":\"color=MEDICAL<br>x=%{x}<br>y=%{y}<extra></extra>\",\"legendgroup\":\"MEDICAL\",\"marker\":{\"color\":\"#EF553B\",\"pattern\":{\"shape\":\"\"}},\"name\":\"MEDICAL\",\"offsetgroup\":\"MEDICAL\",\"orientation\":\"v\",\"showlegend\":true,\"textposition\":\"auto\",\"type\":\"bar\",\"x\":[\"MEDICAL\"],\"xaxis\":\"x\",\"y\":[16309],\"yaxis\":\"y\"},{\"alignmentgroup\":\"True\",\"hovertemplate\":\"color=BUSINESS<br>x=%{x}<br>y=%{y}<extra></extra>\",\"legendgroup\":\"BUSINESS\",\"marker\":{\"color\":\"#00cc96\",\"pattern\":{\"shape\":\"\"}},\"name\":\"BUSINESS\",\"offsetgroup\":\"BUSINESS\",\"orientation\":\"v\",\"showlegend\":true,\"textposition\":\"auto\",\"type\":\"bar\",\"x\":[\"BUSINESS\"],\"xaxis\":\"x\",\"y\":[16134],\"yaxis\":\"y\"},{\"alignmentgroup\":\"True\",\"hovertemplate\":\"color=SOCIAL<br>x=%{x}<br>y=%{y}<extra></extra>\",\"legendgroup\":\"SOCIAL\",\"marker\":{\"color\":\"#ab63fa\",\"pattern\":{\"shape\":\"\"}},\"name\":\"SOCIAL\",\"offsetgroup\":\"SOCIAL\",\"orientation\":\"v\",\"showlegend\":true,\"textposition\":\"auto\",\"type\":\"bar\",\"x\":[\"SOCIAL\"],\"xaxis\":\"x\",\"y\":[15674],\"yaxis\":\"y\"},{\"alignmentgroup\":\"True\",\"hovertemplate\":\"color=NEWS_AND_MAGAZINES<br>x=%{x}<br>y=%{y}<extra></extra>\",\"legendgroup\":\"NEWS_AND_MAGAZINES\",\"marker\":{\"color\":\"#FFA15A\",\"pattern\":{\"shape\":\"\"}},\"name\":\"NEWS_AND_MAGAZINES\",\"offsetgroup\":\"NEWS_AND_MAGAZINES\",\"orientation\":\"v\",\"showlegend\":true,\"textposition\":\"auto\",\"type\":\"bar\",\"x\":[\"NEWS_AND_MAGAZINES\"],\"xaxis\":\"x\",\"y\":[13733],\"yaxis\":\"y\"},{\"alignmentgroup\":\"True\",\"hovertemplate\":\"color=SHOPPING<br>x=%{x}<br>y=%{y}<extra></extra>\",\"legendgroup\":\"SHOPPING\",\"marker\":{\"color\":\"#19d3f3\",\"pattern\":{\"shape\":\"\"}},\"name\":\"SHOPPING\",\"offsetgroup\":\"SHOPPING\",\"orientation\":\"v\",\"showlegend\":true,\"textposition\":\"auto\",\"type\":\"bar\",\"x\":[\"SHOPPING\"],\"xaxis\":\"x\",\"y\":[13668],\"yaxis\":\"y\"},{\"alignmentgroup\":\"True\",\"hovertemplate\":\"color=TRAVEL_AND_LOCAL<br>x=%{x}<br>y=%{y}<extra></extra>\",\"legendgroup\":\"TRAVEL_AND_LOCAL\",\"marker\":{\"color\":\"#FF6692\",\"pattern\":{\"shape\":\"\"}},\"name\":\"TRAVEL_AND_LOCAL\",\"offsetgroup\":\"TRAVEL_AND_LOCAL\",\"orientation\":\"v\",\"showlegend\":true,\"textposition\":\"auto\",\"type\":\"bar\",\"x\":[\"TRAVEL_AND_LOCAL\"],\"xaxis\":\"x\",\"y\":[12871],\"yaxis\":\"y\"},{\"alignmentgroup\":\"True\",\"hovertemplate\":\"color=DATING<br>x=%{x}<br>y=%{y}<extra></extra>\",\"legendgroup\":\"DATING\",\"marker\":{\"color\":\"#B6E880\",\"pattern\":{\"shape\":\"\"}},\"name\":\"DATING\",\"offsetgroup\":\"DATING\",\"orientation\":\"v\",\"showlegend\":true,\"textposition\":\"auto\",\"type\":\"bar\",\"x\":[\"DATING\"],\"xaxis\":\"x\",\"y\":[11518],\"yaxis\":\"y\"},{\"alignmentgroup\":\"True\",\"hovertemplate\":\"color=BOOKS_AND_REFERENCE<br>x=%{x}<br>y=%{y}<extra></extra>\",\"legendgroup\":\"BOOKS_AND_REFERENCE\",\"marker\":{\"color\":\"#FF97FF\",\"pattern\":{\"shape\":\"\"}},\"name\":\"BOOKS_AND_REFERENCE\",\"offsetgroup\":\"BOOKS_AND_REFERENCE\",\"orientation\":\"v\",\"showlegend\":true,\"textposition\":\"auto\",\"type\":\"bar\",\"x\":[\"BOOKS_AND_REFERENCE\"],\"xaxis\":\"x\",\"y\":[11317],\"yaxis\":\"y\"},{\"alignmentgroup\":\"True\",\"hovertemplate\":\"color=EDUCATION<br>x=%{x}<br>y=%{y}<extra></extra>\",\"legendgroup\":\"EDUCATION\",\"marker\":{\"color\":\"#FECB52\",\"pattern\":{\"shape\":\"\"}},\"name\":\"EDUCATION\",\"offsetgroup\":\"EDUCATION\",\"orientation\":\"v\",\"showlegend\":true,\"textposition\":\"auto\",\"type\":\"bar\",\"x\":[\"EDUCATION\"],\"xaxis\":\"x\",\"y\":[10816],\"yaxis\":\"y\"},{\"alignmentgroup\":\"True\",\"hovertemplate\":\"color=ENTERTAINMENT<br>x=%{x}<br>y=%{y}<extra></extra>\",\"legendgroup\":\"ENTERTAINMENT\",\"marker\":{\"color\":\"#636efa\",\"pattern\":{\"shape\":\"\"}},\"name\":\"ENTERTAINMENT\",\"offsetgroup\":\"ENTERTAINMENT\",\"orientation\":\"v\",\"showlegend\":true,\"textposition\":\"auto\",\"type\":\"bar\",\"x\":[\"ENTERTAINMENT\"],\"xaxis\":\"x\",\"y\":[9834],\"yaxis\":\"y\"},{\"alignmentgroup\":\"True\",\"hovertemplate\":\"color=VIDEO_PLAYERS<br>x=%{x}<br>y=%{y}<extra></extra>\",\"legendgroup\":\"VIDEO_PLAYERS\",\"marker\":{\"color\":\"#EF553B\",\"pattern\":{\"shape\":\"\"}},\"name\":\"VIDEO_PLAYERS\",\"offsetgroup\":\"VIDEO_PLAYERS\",\"orientation\":\"v\",\"showlegend\":true,\"textposition\":\"auto\",\"type\":\"bar\",\"x\":[\"VIDEO_PLAYERS\"],\"xaxis\":\"x\",\"y\":[9036],\"yaxis\":\"y\"},{\"alignmentgroup\":\"True\",\"hovertemplate\":\"color=MAPS_AND_NAVIGATION<br>x=%{x}<br>y=%{y}<extra></extra>\",\"legendgroup\":\"MAPS_AND_NAVIGATION\",\"marker\":{\"color\":\"#00cc96\",\"pattern\":{\"shape\":\"\"}},\"name\":\"MAPS_AND_NAVIGATION\",\"offsetgroup\":\"MAPS_AND_NAVIGATION\",\"orientation\":\"v\",\"showlegend\":true,\"textposition\":\"auto\",\"type\":\"bar\",\"x\":[\"MAPS_AND_NAVIGATION\"],\"xaxis\":\"x\",\"y\":[7302],\"yaxis\":\"y\"},{\"alignmentgroup\":\"True\",\"hovertemplate\":\"color=FOOD_AND_DRINK<br>x=%{x}<br>y=%{y}<extra></extra>\",\"legendgroup\":\"FOOD_AND_DRINK\",\"marker\":{\"color\":\"#ab63fa\",\"pattern\":{\"shape\":\"\"}},\"name\":\"FOOD_AND_DRINK\",\"offsetgroup\":\"FOOD_AND_DRINK\",\"orientation\":\"v\",\"showlegend\":true,\"textposition\":\"auto\",\"type\":\"bar\",\"x\":[\"FOOD_AND_DRINK\"],\"xaxis\":\"x\",\"y\":[6824],\"yaxis\":\"y\"},{\"alignmentgroup\":\"True\",\"hovertemplate\":\"color=WEATHER<br>x=%{x}<br>y=%{y}<extra></extra>\",\"legendgroup\":\"WEATHER\",\"marker\":{\"color\":\"#FFA15A\",\"pattern\":{\"shape\":\"\"}},\"name\":\"WEATHER\",\"offsetgroup\":\"WEATHER\",\"orientation\":\"v\",\"showlegend\":true,\"textposition\":\"auto\",\"type\":\"bar\",\"x\":[\"WEATHER\"],\"xaxis\":\"x\",\"y\":[5031],\"yaxis\":\"y\"},{\"alignmentgroup\":\"True\",\"hovertemplate\":\"color=HOUSE_AND_HOME<br>x=%{x}<br>y=%{y}<extra></extra>\",\"legendgroup\":\"HOUSE_AND_HOME\",\"marker\":{\"color\":\"#19d3f3\",\"pattern\":{\"shape\":\"\"}},\"name\":\"HOUSE_AND_HOME\",\"offsetgroup\":\"HOUSE_AND_HOME\",\"orientation\":\"v\",\"showlegend\":true,\"textposition\":\"auto\",\"type\":\"bar\",\"x\":[\"HOUSE_AND_HOME\"],\"xaxis\":\"x\",\"y\":[4839],\"yaxis\":\"y\"},{\"alignmentgroup\":\"True\",\"hovertemplate\":\"color=LIBRARIES_AND_DEMO<br>x=%{x}<br>y=%{y}<extra></extra>\",\"legendgroup\":\"LIBRARIES_AND_DEMO\",\"marker\":{\"color\":\"#FF6692\",\"pattern\":{\"shape\":\"\"}},\"name\":\"LIBRARIES_AND_DEMO\",\"offsetgroup\":\"LIBRARIES_AND_DEMO\",\"orientation\":\"v\",\"showlegend\":true,\"textposition\":\"auto\",\"type\":\"bar\",\"x\":[\"LIBRARIES_AND_DEMO\"],\"xaxis\":\"x\",\"y\":[4754],\"yaxis\":\"y\"},{\"alignmentgroup\":\"True\",\"hovertemplate\":\"color=ART_AND_DESIGN<br>x=%{x}<br>y=%{y}<extra></extra>\",\"legendgroup\":\"ART_AND_DESIGN\",\"marker\":{\"color\":\"#B6E880\",\"pattern\":{\"shape\":\"\"}},\"name\":\"ART_AND_DESIGN\",\"offsetgroup\":\"ART_AND_DESIGN\",\"orientation\":\"v\",\"showlegend\":true,\"textposition\":\"auto\",\"type\":\"bar\",\"x\":[\"ART_AND_DESIGN\"],\"xaxis\":\"x\",\"y\":[3962],\"yaxis\":\"y\"},{\"alignmentgroup\":\"True\",\"hovertemplate\":\"color=AUTO_AND_VEHICLES<br>x=%{x}<br>y=%{y}<extra></extra>\",\"legendgroup\":\"AUTO_AND_VEHICLES\",\"marker\":{\"color\":\"#FF97FF\",\"pattern\":{\"shape\":\"\"}},\"name\":\"AUTO_AND_VEHICLES\",\"offsetgroup\":\"AUTO_AND_VEHICLES\",\"orientation\":\"v\",\"showlegend\":true,\"textposition\":\"auto\",\"type\":\"bar\",\"x\":[\"AUTO_AND_VEHICLES\"],\"xaxis\":\"x\",\"y\":[3820],\"yaxis\":\"y\"},{\"alignmentgroup\":\"True\",\"hovertemplate\":\"color=COMICS<br>x=%{x}<br>y=%{y}<extra></extra>\",\"legendgroup\":\"COMICS\",\"marker\":{\"color\":\"#FECB52\",\"pattern\":{\"shape\":\"\"}},\"name\":\"COMICS\",\"offsetgroup\":\"COMICS\",\"orientation\":\"v\",\"showlegend\":true,\"textposition\":\"auto\",\"type\":\"bar\",\"x\":[\"COMICS\"],\"xaxis\":\"x\",\"y\":[3712],\"yaxis\":\"y\"},{\"alignmentgroup\":\"True\",\"hovertemplate\":\"color=PARENTING<br>x=%{x}<br>y=%{y}<extra></extra>\",\"legendgroup\":\"PARENTING\",\"marker\":{\"color\":\"#636efa\",\"pattern\":{\"shape\":\"\"}},\"name\":\"PARENTING\",\"offsetgroup\":\"PARENTING\",\"orientation\":\"v\",\"showlegend\":true,\"textposition\":\"auto\",\"type\":\"bar\",\"x\":[\"PARENTING\"],\"xaxis\":\"x\",\"y\":[3363],\"yaxis\":\"y\"},{\"alignmentgroup\":\"True\",\"hovertemplate\":\"color=BEAUTY<br>x=%{x}<br>y=%{y}<extra></extra>\",\"legendgroup\":\"BEAUTY\",\"marker\":{\"color\":\"#EF553B\",\"pattern\":{\"shape\":\"\"}},\"name\":\"BEAUTY\",\"offsetgroup\":\"BEAUTY\",\"orientation\":\"v\",\"showlegend\":true,\"textposition\":\"auto\",\"type\":\"bar\",\"x\":[\"BEAUTY\"],\"xaxis\":\"x\",\"y\":[2846],\"yaxis\":\"y\"},{\"alignmentgroup\":\"True\",\"hovertemplate\":\"color=EVENTS<br>x=%{x}<br>y=%{y}<extra></extra>\",\"legendgroup\":\"EVENTS\",\"marker\":{\"color\":\"#00cc96\",\"pattern\":{\"shape\":\"\"}},\"name\":\"EVENTS\",\"offsetgroup\":\"EVENTS\",\"orientation\":\"v\",\"showlegend\":true,\"textposition\":\"auto\",\"type\":\"bar\",\"x\":[\"EVENTS\"],\"xaxis\":\"x\",\"y\":[2506],\"yaxis\":\"y\"}],                        {\"barmode\":\"relative\",\"legend\":{\"title\":{\"text\":\"color\"},\"tracegroupgap\":0},\"margin\":{\"t\":60},\"template\":{\"data\":{\"bar\":[{\"error_x\":{\"color\":\"#2a3f5f\"},\"error_y\":{\"color\":\"#2a3f5f\"},\"marker\":{\"line\":{\"color\":\"#E5ECF6\",\"width\":0.5},\"pattern\":{\"fillmode\":\"overlay\",\"size\":10,\"solidity\":0.2}},\"type\":\"bar\"}],\"barpolar\":[{\"marker\":{\"line\":{\"color\":\"#E5ECF6\",\"width\":0.5},\"pattern\":{\"fillmode\":\"overlay\",\"size\":10,\"solidity\":0.2}},\"type\":\"barpolar\"}],\"carpet\":[{\"aaxis\":{\"endlinecolor\":\"#2a3f5f\",\"gridcolor\":\"white\",\"linecolor\":\"white\",\"minorgridcolor\":\"white\",\"startlinecolor\":\"#2a3f5f\"},\"baxis\":{\"endlinecolor\":\"#2a3f5f\",\"gridcolor\":\"white\",\"linecolor\":\"white\",\"minorgridcolor\":\"white\",\"startlinecolor\":\"#2a3f5f\"},\"type\":\"carpet\"}],\"choropleth\":[{\"colorbar\":{\"outlinewidth\":0,\"ticks\":\"\"},\"type\":\"choropleth\"}],\"contour\":[{\"colorbar\":{\"outlinewidth\":0,\"ticks\":\"\"},\"colorscale\":[[0.0,\"#0d0887\"],[0.1111111111111111,\"#46039f\"],[0.2222222222222222,\"#7201a8\"],[0.3333333333333333,\"#9c179e\"],[0.4444444444444444,\"#bd3786\"],[0.5555555555555556,\"#d8576b\"],[0.6666666666666666,\"#ed7953\"],[0.7777777777777778,\"#fb9f3a\"],[0.8888888888888888,\"#fdca26\"],[1.0,\"#f0f921\"]],\"type\":\"contour\"}],\"contourcarpet\":[{\"colorbar\":{\"outlinewidth\":0,\"ticks\":\"\"},\"type\":\"contourcarpet\"}],\"heatmap\":[{\"colorbar\":{\"outlinewidth\":0,\"ticks\":\"\"},\"colorscale\":[[0.0,\"#0d0887\"],[0.1111111111111111,\"#46039f\"],[0.2222222222222222,\"#7201a8\"],[0.3333333333333333,\"#9c179e\"],[0.4444444444444444,\"#bd3786\"],[0.5555555555555556,\"#d8576b\"],[0.6666666666666666,\"#ed7953\"],[0.7777777777777778,\"#fb9f3a\"],[0.8888888888888888,\"#fdca26\"],[1.0,\"#f0f921\"]],\"type\":\"heatmap\"}],\"heatmapgl\":[{\"colorbar\":{\"outlinewidth\":0,\"ticks\":\"\"},\"colorscale\":[[0.0,\"#0d0887\"],[0.1111111111111111,\"#46039f\"],[0.2222222222222222,\"#7201a8\"],[0.3333333333333333,\"#9c179e\"],[0.4444444444444444,\"#bd3786\"],[0.5555555555555556,\"#d8576b\"],[0.6666666666666666,\"#ed7953\"],[0.7777777777777778,\"#fb9f3a\"],[0.8888888888888888,\"#fdca26\"],[1.0,\"#f0f921\"]],\"type\":\"heatmapgl\"}],\"histogram\":[{\"marker\":{\"pattern\":{\"fillmode\":\"overlay\",\"size\":10,\"solidity\":0.2}},\"type\":\"histogram\"}],\"histogram2d\":[{\"colorbar\":{\"outlinewidth\":0,\"ticks\":\"\"},\"colorscale\":[[0.0,\"#0d0887\"],[0.1111111111111111,\"#46039f\"],[0.2222222222222222,\"#7201a8\"],[0.3333333333333333,\"#9c179e\"],[0.4444444444444444,\"#bd3786\"],[0.5555555555555556,\"#d8576b\"],[0.6666666666666666,\"#ed7953\"],[0.7777777777777778,\"#fb9f3a\"],[0.8888888888888888,\"#fdca26\"],[1.0,\"#f0f921\"]],\"type\":\"histogram2d\"}],\"histogram2dcontour\":[{\"colorbar\":{\"outlinewidth\":0,\"ticks\":\"\"},\"colorscale\":[[0.0,\"#0d0887\"],[0.1111111111111111,\"#46039f\"],[0.2222222222222222,\"#7201a8\"],[0.3333333333333333,\"#9c179e\"],[0.4444444444444444,\"#bd3786\"],[0.5555555555555556,\"#d8576b\"],[0.6666666666666666,\"#ed7953\"],[0.7777777777777778,\"#fb9f3a\"],[0.8888888888888888,\"#fdca26\"],[1.0,\"#f0f921\"]],\"type\":\"histogram2dcontour\"}],\"mesh3d\":[{\"colorbar\":{\"outlinewidth\":0,\"ticks\":\"\"},\"type\":\"mesh3d\"}],\"parcoords\":[{\"line\":{\"colorbar\":{\"outlinewidth\":0,\"ticks\":\"\"}},\"type\":\"parcoords\"}],\"pie\":[{\"automargin\":true,\"type\":\"pie\"}],\"scatter\":[{\"marker\":{\"colorbar\":{\"outlinewidth\":0,\"ticks\":\"\"}},\"type\":\"scatter\"}],\"scatter3d\":[{\"line\":{\"colorbar\":{\"outlinewidth\":0,\"ticks\":\"\"}},\"marker\":{\"colorbar\":{\"outlinewidth\":0,\"ticks\":\"\"}},\"type\":\"scatter3d\"}],\"scattercarpet\":[{\"marker\":{\"colorbar\":{\"outlinewidth\":0,\"ticks\":\"\"}},\"type\":\"scattercarpet\"}],\"scattergeo\":[{\"marker\":{\"colorbar\":{\"outlinewidth\":0,\"ticks\":\"\"}},\"type\":\"scattergeo\"}],\"scattergl\":[{\"marker\":{\"colorbar\":{\"outlinewidth\":0,\"ticks\":\"\"}},\"type\":\"scattergl\"}],\"scattermapbox\":[{\"marker\":{\"colorbar\":{\"outlinewidth\":0,\"ticks\":\"\"}},\"type\":\"scattermapbox\"}],\"scatterpolar\":[{\"marker\":{\"colorbar\":{\"outlinewidth\":0,\"ticks\":\"\"}},\"type\":\"scatterpolar\"}],\"scatterpolargl\":[{\"marker\":{\"colorbar\":{\"outlinewidth\":0,\"ticks\":\"\"}},\"type\":\"scatterpolargl\"}],\"scatterternary\":[{\"marker\":{\"colorbar\":{\"outlinewidth\":0,\"ticks\":\"\"}},\"type\":\"scatterternary\"}],\"surface\":[{\"colorbar\":{\"outlinewidth\":0,\"ticks\":\"\"},\"colorscale\":[[0.0,\"#0d0887\"],[0.1111111111111111,\"#46039f\"],[0.2222222222222222,\"#7201a8\"],[0.3333333333333333,\"#9c179e\"],[0.4444444444444444,\"#bd3786\"],[0.5555555555555556,\"#d8576b\"],[0.6666666666666666,\"#ed7953\"],[0.7777777777777778,\"#fb9f3a\"],[0.8888888888888888,\"#fdca26\"],[1.0,\"#f0f921\"]],\"type\":\"surface\"}],\"table\":[{\"cells\":{\"fill\":{\"color\":\"#EBF0F8\"},\"line\":{\"color\":\"white\"}},\"header\":{\"fill\":{\"color\":\"#C8D4E3\"},\"line\":{\"color\":\"white\"}},\"type\":\"table\"}]},\"layout\":{\"annotationdefaults\":{\"arrowcolor\":\"#2a3f5f\",\"arrowhead\":0,\"arrowwidth\":1},\"autotypenumbers\":\"strict\",\"coloraxis\":{\"colorbar\":{\"outlinewidth\":0,\"ticks\":\"\"}},\"colorscale\":{\"diverging\":[[0,\"#8e0152\"],[0.1,\"#c51b7d\"],[0.2,\"#de77ae\"],[0.3,\"#f1b6da\"],[0.4,\"#fde0ef\"],[0.5,\"#f7f7f7\"],[0.6,\"#e6f5d0\"],[0.7,\"#b8e186\"],[0.8,\"#7fbc41\"],[0.9,\"#4d9221\"],[1,\"#276419\"]],\"sequential\":[[0.0,\"#0d0887\"],[0.1111111111111111,\"#46039f\"],[0.2222222222222222,\"#7201a8\"],[0.3333333333333333,\"#9c179e\"],[0.4444444444444444,\"#bd3786\"],[0.5555555555555556,\"#d8576b\"],[0.6666666666666666,\"#ed7953\"],[0.7777777777777778,\"#fb9f3a\"],[0.8888888888888888,\"#fdca26\"],[1.0,\"#f0f921\"]],\"sequentialminus\":[[0.0,\"#0d0887\"],[0.1111111111111111,\"#46039f\"],[0.2222222222222222,\"#7201a8\"],[0.3333333333333333,\"#9c179e\"],[0.4444444444444444,\"#bd3786\"],[0.5555555555555556,\"#d8576b\"],[0.6666666666666666,\"#ed7953\"],[0.7777777777777778,\"#fb9f3a\"],[0.8888888888888888,\"#fdca26\"],[1.0,\"#f0f921\"]]},\"colorway\":[\"#636efa\",\"#EF553B\",\"#00cc96\",\"#ab63fa\",\"#FFA15A\",\"#19d3f3\",\"#FF6692\",\"#B6E880\",\"#FF97FF\",\"#FECB52\"],\"font\":{\"color\":\"#2a3f5f\"},\"geo\":{\"bgcolor\":\"white\",\"lakecolor\":\"white\",\"landcolor\":\"#E5ECF6\",\"showlakes\":true,\"showland\":true,\"subunitcolor\":\"white\"},\"hoverlabel\":{\"align\":\"left\"},\"hovermode\":\"closest\",\"mapbox\":{\"style\":\"light\"},\"paper_bgcolor\":\"white\",\"plot_bgcolor\":\"#E5ECF6\",\"polar\":{\"angularaxis\":{\"gridcolor\":\"white\",\"linecolor\":\"white\",\"ticks\":\"\"},\"bgcolor\":\"#E5ECF6\",\"radialaxis\":{\"gridcolor\":\"white\",\"linecolor\":\"white\",\"ticks\":\"\"}},\"scene\":{\"xaxis\":{\"backgroundcolor\":\"#E5ECF6\",\"gridcolor\":\"white\",\"gridwidth\":2,\"linecolor\":\"white\",\"showbackground\":true,\"ticks\":\"\",\"zerolinecolor\":\"white\"},\"yaxis\":{\"backgroundcolor\":\"#E5ECF6\",\"gridcolor\":\"white\",\"gridwidth\":2,\"linecolor\":\"white\",\"showbackground\":true,\"ticks\":\"\",\"zerolinecolor\":\"white\"},\"zaxis\":{\"backgroundcolor\":\"#E5ECF6\",\"gridcolor\":\"white\",\"gridwidth\":2,\"linecolor\":\"white\",\"showbackground\":true,\"ticks\":\"\",\"zerolinecolor\":\"white\"}},\"shapedefaults\":{\"line\":{\"color\":\"#2a3f5f\"}},\"ternary\":{\"aaxis\":{\"gridcolor\":\"white\",\"linecolor\":\"white\",\"ticks\":\"\"},\"baxis\":{\"gridcolor\":\"white\",\"linecolor\":\"white\",\"ticks\":\"\"},\"bgcolor\":\"#E5ECF6\",\"caxis\":{\"gridcolor\":\"white\",\"linecolor\":\"white\",\"ticks\":\"\"}},\"title\":{\"x\":0.05},\"xaxis\":{\"automargin\":true,\"gridcolor\":\"white\",\"linecolor\":\"white\",\"ticks\":\"\",\"title\":{\"standoff\":15},\"zerolinecolor\":\"white\",\"zerolinewidth\":2},\"yaxis\":{\"automargin\":true,\"gridcolor\":\"white\",\"linecolor\":\"white\",\"ticks\":\"\",\"title\":{\"standoff\":15},\"zerolinecolor\":\"white\",\"zerolinewidth\":2}}},\"xaxis\":{\"anchor\":\"y\",\"domain\":[0.0,1.0],\"title\":{\"text\":\"x\"}},\"yaxis\":{\"anchor\":\"x\",\"domain\":[0.0,1.0],\"title\":{\"text\":\"y\"}}},                        {\"responsive\": true}                    ).then(function(){\n",
       "                            \n",
       "var gd = document.getElementById('4c7c51e3-f096-4685-b593-7db6998f6643');\n",
       "var x = new MutationObserver(function (mutations, observer) {{\n",
       "        var display = window.getComputedStyle(gd).display;\n",
       "        if (!display || display === 'none') {{\n",
       "            console.log([gd, 'removed!']);\n",
       "            Plotly.purge(gd);\n",
       "            observer.disconnect();\n",
       "        }}\n",
       "}});\n",
       "\n",
       "// Listen for the removal of the full notebook cells\n",
       "var notebookContainer = gd.closest('#notebook-container');\n",
       "if (notebookContainer) {{\n",
       "    x.observe(notebookContainer, {childList: true});\n",
       "}}\n",
       "\n",
       "// Listen for the clearing of the current output cell\n",
       "var outputEl = gd.closest('.output');\n",
       "if (outputEl) {{\n",
       "    x.observe(outputEl, {childList: true});\n",
       "}}\n",
       "\n",
       "                        })                };                });            </script>        </div>"
      ]
     },
     "metadata": {},
     "output_type": "display_data"
    }
   ],
   "source": [
    "x_cat_rev = data['Reviews'].groupby(by = data['Category']).sum().sort_values(ascending =False)\n",
    "px.bar(data, x = x_cat_rev.index, y = x_cat_rev.values, color = x_cat_rev.index)"
   ]
  },
  {
   "cell_type": "markdown",
   "id": "d405bf8f",
   "metadata": {},
   "source": [
    "- It seems like Family category apps have maximum reviews submitted, thtere could be many reasons for it one reason could be family is an integral part and ppl dont want to miss reporting any good/bad reviews on it so that others can consider those points\n",
    "- Since Game category has maximum number of installation it was expected to have good amount of reveiws\n",
    "- Events and last few categories have least number of reviews submitted which is obvious as users ar less in number for these categories"
   ]
  },
  {
   "cell_type": "markdown",
   "id": "ee7e66c0",
   "metadata": {},
   "source": [
    "# Which of the highest Installed category has highest ratings submitted?"
   ]
  },
  {
   "cell_type": "code",
   "execution_count": 15,
   "id": "4e4fcfff",
   "metadata": {},
   "outputs": [
    {
     "data": {
      "application/vnd.plotly.v1+json": {
       "config": {
        "plotlyServerURL": "https://plot.ly"
       },
       "data": [
        {
         "alignmentgroup": "True",
         "hovertemplate": "color=GAME<br>x=%{x}<br>y=%{y}<extra></extra>",
         "legendgroup": "GAME",
         "marker": {
          "color": "#636efa",
          "pattern": {
           "shape": ""
          }
         },
         "name": "GAME",
         "offsetgroup": "GAME",
         "orientation": "v",
         "showlegend": true,
         "textposition": "auto",
         "type": "bar",
         "x": [
          "GAME"
         ],
         "xaxis": "x",
         "y": [
          66245
         ],
         "yaxis": "y"
        },
        {
         "alignmentgroup": "True",
         "hovertemplate": "color=COMMUNICATION<br>x=%{x}<br>y=%{y}<extra></extra>",
         "legendgroup": "COMMUNICATION",
         "marker": {
          "color": "#EF553B",
          "pattern": {
           "shape": ""
          }
         },
         "name": "COMMUNICATION",
         "offsetgroup": "COMMUNICATION",
         "orientation": "v",
         "showlegend": true,
         "textposition": "auto",
         "type": "bar",
         "x": [
          "COMMUNICATION"
         ],
         "xaxis": "x",
         "y": [
          19262
         ],
         "yaxis": "y"
        },
        {
         "alignmentgroup": "True",
         "hovertemplate": "color=PRODUCTIVITY<br>x=%{x}<br>y=%{y}<extra></extra>",
         "legendgroup": "PRODUCTIVITY",
         "marker": {
          "color": "#00cc96",
          "pattern": {
           "shape": ""
          }
         },
         "name": "PRODUCTIVITY",
         "offsetgroup": "PRODUCTIVITY",
         "orientation": "v",
         "showlegend": true,
         "textposition": "auto",
         "type": "bar",
         "x": [
          "PRODUCTIVITY"
         ],
         "xaxis": "x",
         "y": [
          20015
         ],
         "yaxis": "y"
        },
        {
         "alignmentgroup": "True",
         "hovertemplate": "color=SOCIAL<br>x=%{x}<br>y=%{y}<extra></extra>",
         "legendgroup": "SOCIAL",
         "marker": {
          "color": "#ab63fa",
          "pattern": {
           "shape": ""
          }
         },
         "name": "SOCIAL",
         "offsetgroup": "SOCIAL",
         "orientation": "v",
         "showlegend": true,
         "textposition": "auto",
         "type": "bar",
         "x": [
          "SOCIAL"
         ],
         "xaxis": "x",
         "y": [
          15674
         ],
         "yaxis": "y"
        },
        {
         "alignmentgroup": "True",
         "hovertemplate": "color=TOOLS<br>x=%{x}<br>y=%{y}<extra></extra>",
         "legendgroup": "TOOLS",
         "marker": {
          "color": "#FFA15A",
          "pattern": {
           "shape": ""
          }
         },
         "name": "TOOLS",
         "offsetgroup": "TOOLS",
         "orientation": "v",
         "showlegend": true,
         "textposition": "auto",
         "type": "bar",
         "x": [
          "TOOLS"
         ],
         "xaxis": "x",
         "y": [
          42246
         ],
         "yaxis": "y"
        },
        {
         "alignmentgroup": "True",
         "hovertemplate": "color=FAMILY<br>x=%{x}<br>y=%{y}<extra></extra>",
         "legendgroup": "FAMILY",
         "marker": {
          "color": "#19d3f3",
          "pattern": {
           "shape": ""
          }
         },
         "name": "FAMILY",
         "offsetgroup": "FAMILY",
         "orientation": "v",
         "showlegend": true,
         "textposition": "auto",
         "type": "bar",
         "x": [
          "FAMILY"
         ],
         "xaxis": "x",
         "y": [
          98786
         ],
         "yaxis": "y"
        },
        {
         "alignmentgroup": "True",
         "hovertemplate": "color=PHOTOGRAPHY<br>x=%{x}<br>y=%{y}<extra></extra>",
         "legendgroup": "PHOTOGRAPHY",
         "marker": {
          "color": "#FF6692",
          "pattern": {
           "shape": ""
          }
         },
         "name": "PHOTOGRAPHY",
         "offsetgroup": "PHOTOGRAPHY",
         "orientation": "v",
         "showlegend": true,
         "textposition": "auto",
         "type": "bar",
         "x": [
          "PHOTOGRAPHY"
         ],
         "xaxis": "x",
         "y": [
          19164
         ],
         "yaxis": "y"
        },
        {
         "alignmentgroup": "True",
         "hovertemplate": "color=NEWS_AND_MAGAZINES<br>x=%{x}<br>y=%{y}<extra></extra>",
         "legendgroup": "NEWS_AND_MAGAZINES",
         "marker": {
          "color": "#B6E880",
          "pattern": {
           "shape": ""
          }
         },
         "name": "NEWS_AND_MAGAZINES",
         "offsetgroup": "NEWS_AND_MAGAZINES",
         "orientation": "v",
         "showlegend": true,
         "textposition": "auto",
         "type": "bar",
         "x": [
          "NEWS_AND_MAGAZINES"
         ],
         "xaxis": "x",
         "y": [
          13733
         ],
         "yaxis": "y"
        },
        {
         "alignmentgroup": "True",
         "hovertemplate": "color=TRAVEL_AND_LOCAL<br>x=%{x}<br>y=%{y}<extra></extra>",
         "legendgroup": "TRAVEL_AND_LOCAL",
         "marker": {
          "color": "#FF97FF",
          "pattern": {
           "shape": ""
          }
         },
         "name": "TRAVEL_AND_LOCAL",
         "offsetgroup": "TRAVEL_AND_LOCAL",
         "orientation": "v",
         "showlegend": true,
         "textposition": "auto",
         "type": "bar",
         "x": [
          "TRAVEL_AND_LOCAL"
         ],
         "xaxis": "x",
         "y": [
          12871
         ],
         "yaxis": "y"
        },
        {
         "alignmentgroup": "True",
         "hovertemplate": "color=VIDEO_PLAYERS<br>x=%{x}<br>y=%{y}<extra></extra>",
         "legendgroup": "VIDEO_PLAYERS",
         "marker": {
          "color": "#FECB52",
          "pattern": {
           "shape": ""
          }
         },
         "name": "VIDEO_PLAYERS",
         "offsetgroup": "VIDEO_PLAYERS",
         "orientation": "v",
         "showlegend": true,
         "textposition": "auto",
         "type": "bar",
         "x": [
          "VIDEO_PLAYERS"
         ],
         "xaxis": "x",
         "y": [
          9036
         ],
         "yaxis": "y"
        }
       ],
       "layout": {
        "barmode": "relative",
        "legend": {
         "title": {
          "text": "color"
         },
         "tracegroupgap": 0
        },
        "margin": {
         "t": 60
        },
        "template": {
         "data": {
          "bar": [
           {
            "error_x": {
             "color": "#2a3f5f"
            },
            "error_y": {
             "color": "#2a3f5f"
            },
            "marker": {
             "line": {
              "color": "#E5ECF6",
              "width": 0.5
             },
             "pattern": {
              "fillmode": "overlay",
              "size": 10,
              "solidity": 0.2
             }
            },
            "type": "bar"
           }
          ],
          "barpolar": [
           {
            "marker": {
             "line": {
              "color": "#E5ECF6",
              "width": 0.5
             },
             "pattern": {
              "fillmode": "overlay",
              "size": 10,
              "solidity": 0.2
             }
            },
            "type": "barpolar"
           }
          ],
          "carpet": [
           {
            "aaxis": {
             "endlinecolor": "#2a3f5f",
             "gridcolor": "white",
             "linecolor": "white",
             "minorgridcolor": "white",
             "startlinecolor": "#2a3f5f"
            },
            "baxis": {
             "endlinecolor": "#2a3f5f",
             "gridcolor": "white",
             "linecolor": "white",
             "minorgridcolor": "white",
             "startlinecolor": "#2a3f5f"
            },
            "type": "carpet"
           }
          ],
          "choropleth": [
           {
            "colorbar": {
             "outlinewidth": 0,
             "ticks": ""
            },
            "type": "choropleth"
           }
          ],
          "contour": [
           {
            "colorbar": {
             "outlinewidth": 0,
             "ticks": ""
            },
            "colorscale": [
             [
              0,
              "#0d0887"
             ],
             [
              0.1111111111111111,
              "#46039f"
             ],
             [
              0.2222222222222222,
              "#7201a8"
             ],
             [
              0.3333333333333333,
              "#9c179e"
             ],
             [
              0.4444444444444444,
              "#bd3786"
             ],
             [
              0.5555555555555556,
              "#d8576b"
             ],
             [
              0.6666666666666666,
              "#ed7953"
             ],
             [
              0.7777777777777778,
              "#fb9f3a"
             ],
             [
              0.8888888888888888,
              "#fdca26"
             ],
             [
              1,
              "#f0f921"
             ]
            ],
            "type": "contour"
           }
          ],
          "contourcarpet": [
           {
            "colorbar": {
             "outlinewidth": 0,
             "ticks": ""
            },
            "type": "contourcarpet"
           }
          ],
          "heatmap": [
           {
            "colorbar": {
             "outlinewidth": 0,
             "ticks": ""
            },
            "colorscale": [
             [
              0,
              "#0d0887"
             ],
             [
              0.1111111111111111,
              "#46039f"
             ],
             [
              0.2222222222222222,
              "#7201a8"
             ],
             [
              0.3333333333333333,
              "#9c179e"
             ],
             [
              0.4444444444444444,
              "#bd3786"
             ],
             [
              0.5555555555555556,
              "#d8576b"
             ],
             [
              0.6666666666666666,
              "#ed7953"
             ],
             [
              0.7777777777777778,
              "#fb9f3a"
             ],
             [
              0.8888888888888888,
              "#fdca26"
             ],
             [
              1,
              "#f0f921"
             ]
            ],
            "type": "heatmap"
           }
          ],
          "heatmapgl": [
           {
            "colorbar": {
             "outlinewidth": 0,
             "ticks": ""
            },
            "colorscale": [
             [
              0,
              "#0d0887"
             ],
             [
              0.1111111111111111,
              "#46039f"
             ],
             [
              0.2222222222222222,
              "#7201a8"
             ],
             [
              0.3333333333333333,
              "#9c179e"
             ],
             [
              0.4444444444444444,
              "#bd3786"
             ],
             [
              0.5555555555555556,
              "#d8576b"
             ],
             [
              0.6666666666666666,
              "#ed7953"
             ],
             [
              0.7777777777777778,
              "#fb9f3a"
             ],
             [
              0.8888888888888888,
              "#fdca26"
             ],
             [
              1,
              "#f0f921"
             ]
            ],
            "type": "heatmapgl"
           }
          ],
          "histogram": [
           {
            "marker": {
             "pattern": {
              "fillmode": "overlay",
              "size": 10,
              "solidity": 0.2
             }
            },
            "type": "histogram"
           }
          ],
          "histogram2d": [
           {
            "colorbar": {
             "outlinewidth": 0,
             "ticks": ""
            },
            "colorscale": [
             [
              0,
              "#0d0887"
             ],
             [
              0.1111111111111111,
              "#46039f"
             ],
             [
              0.2222222222222222,
              "#7201a8"
             ],
             [
              0.3333333333333333,
              "#9c179e"
             ],
             [
              0.4444444444444444,
              "#bd3786"
             ],
             [
              0.5555555555555556,
              "#d8576b"
             ],
             [
              0.6666666666666666,
              "#ed7953"
             ],
             [
              0.7777777777777778,
              "#fb9f3a"
             ],
             [
              0.8888888888888888,
              "#fdca26"
             ],
             [
              1,
              "#f0f921"
             ]
            ],
            "type": "histogram2d"
           }
          ],
          "histogram2dcontour": [
           {
            "colorbar": {
             "outlinewidth": 0,
             "ticks": ""
            },
            "colorscale": [
             [
              0,
              "#0d0887"
             ],
             [
              0.1111111111111111,
              "#46039f"
             ],
             [
              0.2222222222222222,
              "#7201a8"
             ],
             [
              0.3333333333333333,
              "#9c179e"
             ],
             [
              0.4444444444444444,
              "#bd3786"
             ],
             [
              0.5555555555555556,
              "#d8576b"
             ],
             [
              0.6666666666666666,
              "#ed7953"
             ],
             [
              0.7777777777777778,
              "#fb9f3a"
             ],
             [
              0.8888888888888888,
              "#fdca26"
             ],
             [
              1,
              "#f0f921"
             ]
            ],
            "type": "histogram2dcontour"
           }
          ],
          "mesh3d": [
           {
            "colorbar": {
             "outlinewidth": 0,
             "ticks": ""
            },
            "type": "mesh3d"
           }
          ],
          "parcoords": [
           {
            "line": {
             "colorbar": {
              "outlinewidth": 0,
              "ticks": ""
             }
            },
            "type": "parcoords"
           }
          ],
          "pie": [
           {
            "automargin": true,
            "type": "pie"
           }
          ],
          "scatter": [
           {
            "marker": {
             "colorbar": {
              "outlinewidth": 0,
              "ticks": ""
             }
            },
            "type": "scatter"
           }
          ],
          "scatter3d": [
           {
            "line": {
             "colorbar": {
              "outlinewidth": 0,
              "ticks": ""
             }
            },
            "marker": {
             "colorbar": {
              "outlinewidth": 0,
              "ticks": ""
             }
            },
            "type": "scatter3d"
           }
          ],
          "scattercarpet": [
           {
            "marker": {
             "colorbar": {
              "outlinewidth": 0,
              "ticks": ""
             }
            },
            "type": "scattercarpet"
           }
          ],
          "scattergeo": [
           {
            "marker": {
             "colorbar": {
              "outlinewidth": 0,
              "ticks": ""
             }
            },
            "type": "scattergeo"
           }
          ],
          "scattergl": [
           {
            "marker": {
             "colorbar": {
              "outlinewidth": 0,
              "ticks": ""
             }
            },
            "type": "scattergl"
           }
          ],
          "scattermapbox": [
           {
            "marker": {
             "colorbar": {
              "outlinewidth": 0,
              "ticks": ""
             }
            },
            "type": "scattermapbox"
           }
          ],
          "scatterpolar": [
           {
            "marker": {
             "colorbar": {
              "outlinewidth": 0,
              "ticks": ""
             }
            },
            "type": "scatterpolar"
           }
          ],
          "scatterpolargl": [
           {
            "marker": {
             "colorbar": {
              "outlinewidth": 0,
              "ticks": ""
             }
            },
            "type": "scatterpolargl"
           }
          ],
          "scatterternary": [
           {
            "marker": {
             "colorbar": {
              "outlinewidth": 0,
              "ticks": ""
             }
            },
            "type": "scatterternary"
           }
          ],
          "surface": [
           {
            "colorbar": {
             "outlinewidth": 0,
             "ticks": ""
            },
            "colorscale": [
             [
              0,
              "#0d0887"
             ],
             [
              0.1111111111111111,
              "#46039f"
             ],
             [
              0.2222222222222222,
              "#7201a8"
             ],
             [
              0.3333333333333333,
              "#9c179e"
             ],
             [
              0.4444444444444444,
              "#bd3786"
             ],
             [
              0.5555555555555556,
              "#d8576b"
             ],
             [
              0.6666666666666666,
              "#ed7953"
             ],
             [
              0.7777777777777778,
              "#fb9f3a"
             ],
             [
              0.8888888888888888,
              "#fdca26"
             ],
             [
              1,
              "#f0f921"
             ]
            ],
            "type": "surface"
           }
          ],
          "table": [
           {
            "cells": {
             "fill": {
              "color": "#EBF0F8"
             },
             "line": {
              "color": "white"
             }
            },
            "header": {
             "fill": {
              "color": "#C8D4E3"
             },
             "line": {
              "color": "white"
             }
            },
            "type": "table"
           }
          ]
         },
         "layout": {
          "annotationdefaults": {
           "arrowcolor": "#2a3f5f",
           "arrowhead": 0,
           "arrowwidth": 1
          },
          "autotypenumbers": "strict",
          "coloraxis": {
           "colorbar": {
            "outlinewidth": 0,
            "ticks": ""
           }
          },
          "colorscale": {
           "diverging": [
            [
             0,
             "#8e0152"
            ],
            [
             0.1,
             "#c51b7d"
            ],
            [
             0.2,
             "#de77ae"
            ],
            [
             0.3,
             "#f1b6da"
            ],
            [
             0.4,
             "#fde0ef"
            ],
            [
             0.5,
             "#f7f7f7"
            ],
            [
             0.6,
             "#e6f5d0"
            ],
            [
             0.7,
             "#b8e186"
            ],
            [
             0.8,
             "#7fbc41"
            ],
            [
             0.9,
             "#4d9221"
            ],
            [
             1,
             "#276419"
            ]
           ],
           "sequential": [
            [
             0,
             "#0d0887"
            ],
            [
             0.1111111111111111,
             "#46039f"
            ],
            [
             0.2222222222222222,
             "#7201a8"
            ],
            [
             0.3333333333333333,
             "#9c179e"
            ],
            [
             0.4444444444444444,
             "#bd3786"
            ],
            [
             0.5555555555555556,
             "#d8576b"
            ],
            [
             0.6666666666666666,
             "#ed7953"
            ],
            [
             0.7777777777777778,
             "#fb9f3a"
            ],
            [
             0.8888888888888888,
             "#fdca26"
            ],
            [
             1,
             "#f0f921"
            ]
           ],
           "sequentialminus": [
            [
             0,
             "#0d0887"
            ],
            [
             0.1111111111111111,
             "#46039f"
            ],
            [
             0.2222222222222222,
             "#7201a8"
            ],
            [
             0.3333333333333333,
             "#9c179e"
            ],
            [
             0.4444444444444444,
             "#bd3786"
            ],
            [
             0.5555555555555556,
             "#d8576b"
            ],
            [
             0.6666666666666666,
             "#ed7953"
            ],
            [
             0.7777777777777778,
             "#fb9f3a"
            ],
            [
             0.8888888888888888,
             "#fdca26"
            ],
            [
             1,
             "#f0f921"
            ]
           ]
          },
          "colorway": [
           "#636efa",
           "#EF553B",
           "#00cc96",
           "#ab63fa",
           "#FFA15A",
           "#19d3f3",
           "#FF6692",
           "#B6E880",
           "#FF97FF",
           "#FECB52"
          ],
          "font": {
           "color": "#2a3f5f"
          },
          "geo": {
           "bgcolor": "white",
           "lakecolor": "white",
           "landcolor": "#E5ECF6",
           "showlakes": true,
           "showland": true,
           "subunitcolor": "white"
          },
          "hoverlabel": {
           "align": "left"
          },
          "hovermode": "closest",
          "mapbox": {
           "style": "light"
          },
          "paper_bgcolor": "white",
          "plot_bgcolor": "#E5ECF6",
          "polar": {
           "angularaxis": {
            "gridcolor": "white",
            "linecolor": "white",
            "ticks": ""
           },
           "bgcolor": "#E5ECF6",
           "radialaxis": {
            "gridcolor": "white",
            "linecolor": "white",
            "ticks": ""
           }
          },
          "scene": {
           "xaxis": {
            "backgroundcolor": "#E5ECF6",
            "gridcolor": "white",
            "gridwidth": 2,
            "linecolor": "white",
            "showbackground": true,
            "ticks": "",
            "zerolinecolor": "white"
           },
           "yaxis": {
            "backgroundcolor": "#E5ECF6",
            "gridcolor": "white",
            "gridwidth": 2,
            "linecolor": "white",
            "showbackground": true,
            "ticks": "",
            "zerolinecolor": "white"
           },
           "zaxis": {
            "backgroundcolor": "#E5ECF6",
            "gridcolor": "white",
            "gridwidth": 2,
            "linecolor": "white",
            "showbackground": true,
            "ticks": "",
            "zerolinecolor": "white"
           }
          },
          "shapedefaults": {
           "line": {
            "color": "#2a3f5f"
           }
          },
          "ternary": {
           "aaxis": {
            "gridcolor": "white",
            "linecolor": "white",
            "ticks": ""
           },
           "baxis": {
            "gridcolor": "white",
            "linecolor": "white",
            "ticks": ""
           },
           "bgcolor": "#E5ECF6",
           "caxis": {
            "gridcolor": "white",
            "linecolor": "white",
            "ticks": ""
           }
          },
          "title": {
           "x": 0.05
          },
          "xaxis": {
           "automargin": true,
           "gridcolor": "white",
           "linecolor": "white",
           "ticks": "",
           "title": {
            "standoff": 15
           },
           "zerolinecolor": "white",
           "zerolinewidth": 2
          },
          "yaxis": {
           "automargin": true,
           "gridcolor": "white",
           "linecolor": "white",
           "ticks": "",
           "title": {
            "standoff": 15
           },
           "zerolinecolor": "white",
           "zerolinewidth": 2
          }
         }
        },
        "xaxis": {
         "anchor": "y",
         "domain": [
          0,
          1
         ],
         "title": {
          "text": "x"
         }
        },
        "yaxis": {
         "anchor": "x",
         "domain": [
          0,
          1
         ],
         "title": {
          "text": "y"
         }
        }
       }
      },
      "text/html": [
       "<div>                            <div id=\"f4560e8a-63f8-4658-8cbc-74c7665671d1\" class=\"plotly-graph-div\" style=\"height:525px; width:100%;\"></div>            <script type=\"text/javascript\">                require([\"plotly\"], function(Plotly) {                    window.PLOTLYENV=window.PLOTLYENV || {};                                    if (document.getElementById(\"f4560e8a-63f8-4658-8cbc-74c7665671d1\")) {                    Plotly.newPlot(                        \"f4560e8a-63f8-4658-8cbc-74c7665671d1\",                        [{\"alignmentgroup\":\"True\",\"hovertemplate\":\"color=GAME<br>x=%{x}<br>y=%{y}<extra></extra>\",\"legendgroup\":\"GAME\",\"marker\":{\"color\":\"#636efa\",\"pattern\":{\"shape\":\"\"}},\"name\":\"GAME\",\"offsetgroup\":\"GAME\",\"orientation\":\"v\",\"showlegend\":true,\"textposition\":\"auto\",\"type\":\"bar\",\"x\":[\"GAME\"],\"xaxis\":\"x\",\"y\":[66245],\"yaxis\":\"y\"},{\"alignmentgroup\":\"True\",\"hovertemplate\":\"color=COMMUNICATION<br>x=%{x}<br>y=%{y}<extra></extra>\",\"legendgroup\":\"COMMUNICATION\",\"marker\":{\"color\":\"#EF553B\",\"pattern\":{\"shape\":\"\"}},\"name\":\"COMMUNICATION\",\"offsetgroup\":\"COMMUNICATION\",\"orientation\":\"v\",\"showlegend\":true,\"textposition\":\"auto\",\"type\":\"bar\",\"x\":[\"COMMUNICATION\"],\"xaxis\":\"x\",\"y\":[19262],\"yaxis\":\"y\"},{\"alignmentgroup\":\"True\",\"hovertemplate\":\"color=PRODUCTIVITY<br>x=%{x}<br>y=%{y}<extra></extra>\",\"legendgroup\":\"PRODUCTIVITY\",\"marker\":{\"color\":\"#00cc96\",\"pattern\":{\"shape\":\"\"}},\"name\":\"PRODUCTIVITY\",\"offsetgroup\":\"PRODUCTIVITY\",\"orientation\":\"v\",\"showlegend\":true,\"textposition\":\"auto\",\"type\":\"bar\",\"x\":[\"PRODUCTIVITY\"],\"xaxis\":\"x\",\"y\":[20015],\"yaxis\":\"y\"},{\"alignmentgroup\":\"True\",\"hovertemplate\":\"color=SOCIAL<br>x=%{x}<br>y=%{y}<extra></extra>\",\"legendgroup\":\"SOCIAL\",\"marker\":{\"color\":\"#ab63fa\",\"pattern\":{\"shape\":\"\"}},\"name\":\"SOCIAL\",\"offsetgroup\":\"SOCIAL\",\"orientation\":\"v\",\"showlegend\":true,\"textposition\":\"auto\",\"type\":\"bar\",\"x\":[\"SOCIAL\"],\"xaxis\":\"x\",\"y\":[15674],\"yaxis\":\"y\"},{\"alignmentgroup\":\"True\",\"hovertemplate\":\"color=TOOLS<br>x=%{x}<br>y=%{y}<extra></extra>\",\"legendgroup\":\"TOOLS\",\"marker\":{\"color\":\"#FFA15A\",\"pattern\":{\"shape\":\"\"}},\"name\":\"TOOLS\",\"offsetgroup\":\"TOOLS\",\"orientation\":\"v\",\"showlegend\":true,\"textposition\":\"auto\",\"type\":\"bar\",\"x\":[\"TOOLS\"],\"xaxis\":\"x\",\"y\":[42246],\"yaxis\":\"y\"},{\"alignmentgroup\":\"True\",\"hovertemplate\":\"color=FAMILY<br>x=%{x}<br>y=%{y}<extra></extra>\",\"legendgroup\":\"FAMILY\",\"marker\":{\"color\":\"#19d3f3\",\"pattern\":{\"shape\":\"\"}},\"name\":\"FAMILY\",\"offsetgroup\":\"FAMILY\",\"orientation\":\"v\",\"showlegend\":true,\"textposition\":\"auto\",\"type\":\"bar\",\"x\":[\"FAMILY\"],\"xaxis\":\"x\",\"y\":[98786],\"yaxis\":\"y\"},{\"alignmentgroup\":\"True\",\"hovertemplate\":\"color=PHOTOGRAPHY<br>x=%{x}<br>y=%{y}<extra></extra>\",\"legendgroup\":\"PHOTOGRAPHY\",\"marker\":{\"color\":\"#FF6692\",\"pattern\":{\"shape\":\"\"}},\"name\":\"PHOTOGRAPHY\",\"offsetgroup\":\"PHOTOGRAPHY\",\"orientation\":\"v\",\"showlegend\":true,\"textposition\":\"auto\",\"type\":\"bar\",\"x\":[\"PHOTOGRAPHY\"],\"xaxis\":\"x\",\"y\":[19164],\"yaxis\":\"y\"},{\"alignmentgroup\":\"True\",\"hovertemplate\":\"color=NEWS_AND_MAGAZINES<br>x=%{x}<br>y=%{y}<extra></extra>\",\"legendgroup\":\"NEWS_AND_MAGAZINES\",\"marker\":{\"color\":\"#B6E880\",\"pattern\":{\"shape\":\"\"}},\"name\":\"NEWS_AND_MAGAZINES\",\"offsetgroup\":\"NEWS_AND_MAGAZINES\",\"orientation\":\"v\",\"showlegend\":true,\"textposition\":\"auto\",\"type\":\"bar\",\"x\":[\"NEWS_AND_MAGAZINES\"],\"xaxis\":\"x\",\"y\":[13733],\"yaxis\":\"y\"},{\"alignmentgroup\":\"True\",\"hovertemplate\":\"color=TRAVEL_AND_LOCAL<br>x=%{x}<br>y=%{y}<extra></extra>\",\"legendgroup\":\"TRAVEL_AND_LOCAL\",\"marker\":{\"color\":\"#FF97FF\",\"pattern\":{\"shape\":\"\"}},\"name\":\"TRAVEL_AND_LOCAL\",\"offsetgroup\":\"TRAVEL_AND_LOCAL\",\"orientation\":\"v\",\"showlegend\":true,\"textposition\":\"auto\",\"type\":\"bar\",\"x\":[\"TRAVEL_AND_LOCAL\"],\"xaxis\":\"x\",\"y\":[12871],\"yaxis\":\"y\"},{\"alignmentgroup\":\"True\",\"hovertemplate\":\"color=VIDEO_PLAYERS<br>x=%{x}<br>y=%{y}<extra></extra>\",\"legendgroup\":\"VIDEO_PLAYERS\",\"marker\":{\"color\":\"#FECB52\",\"pattern\":{\"shape\":\"\"}},\"name\":\"VIDEO_PLAYERS\",\"offsetgroup\":\"VIDEO_PLAYERS\",\"orientation\":\"v\",\"showlegend\":true,\"textposition\":\"auto\",\"type\":\"bar\",\"x\":[\"VIDEO_PLAYERS\"],\"xaxis\":\"x\",\"y\":[9036],\"yaxis\":\"y\"}],                        {\"barmode\":\"relative\",\"legend\":{\"title\":{\"text\":\"color\"},\"tracegroupgap\":0},\"margin\":{\"t\":60},\"template\":{\"data\":{\"bar\":[{\"error_x\":{\"color\":\"#2a3f5f\"},\"error_y\":{\"color\":\"#2a3f5f\"},\"marker\":{\"line\":{\"color\":\"#E5ECF6\",\"width\":0.5},\"pattern\":{\"fillmode\":\"overlay\",\"size\":10,\"solidity\":0.2}},\"type\":\"bar\"}],\"barpolar\":[{\"marker\":{\"line\":{\"color\":\"#E5ECF6\",\"width\":0.5},\"pattern\":{\"fillmode\":\"overlay\",\"size\":10,\"solidity\":0.2}},\"type\":\"barpolar\"}],\"carpet\":[{\"aaxis\":{\"endlinecolor\":\"#2a3f5f\",\"gridcolor\":\"white\",\"linecolor\":\"white\",\"minorgridcolor\":\"white\",\"startlinecolor\":\"#2a3f5f\"},\"baxis\":{\"endlinecolor\":\"#2a3f5f\",\"gridcolor\":\"white\",\"linecolor\":\"white\",\"minorgridcolor\":\"white\",\"startlinecolor\":\"#2a3f5f\"},\"type\":\"carpet\"}],\"choropleth\":[{\"colorbar\":{\"outlinewidth\":0,\"ticks\":\"\"},\"type\":\"choropleth\"}],\"contour\":[{\"colorbar\":{\"outlinewidth\":0,\"ticks\":\"\"},\"colorscale\":[[0.0,\"#0d0887\"],[0.1111111111111111,\"#46039f\"],[0.2222222222222222,\"#7201a8\"],[0.3333333333333333,\"#9c179e\"],[0.4444444444444444,\"#bd3786\"],[0.5555555555555556,\"#d8576b\"],[0.6666666666666666,\"#ed7953\"],[0.7777777777777778,\"#fb9f3a\"],[0.8888888888888888,\"#fdca26\"],[1.0,\"#f0f921\"]],\"type\":\"contour\"}],\"contourcarpet\":[{\"colorbar\":{\"outlinewidth\":0,\"ticks\":\"\"},\"type\":\"contourcarpet\"}],\"heatmap\":[{\"colorbar\":{\"outlinewidth\":0,\"ticks\":\"\"},\"colorscale\":[[0.0,\"#0d0887\"],[0.1111111111111111,\"#46039f\"],[0.2222222222222222,\"#7201a8\"],[0.3333333333333333,\"#9c179e\"],[0.4444444444444444,\"#bd3786\"],[0.5555555555555556,\"#d8576b\"],[0.6666666666666666,\"#ed7953\"],[0.7777777777777778,\"#fb9f3a\"],[0.8888888888888888,\"#fdca26\"],[1.0,\"#f0f921\"]],\"type\":\"heatmap\"}],\"heatmapgl\":[{\"colorbar\":{\"outlinewidth\":0,\"ticks\":\"\"},\"colorscale\":[[0.0,\"#0d0887\"],[0.1111111111111111,\"#46039f\"],[0.2222222222222222,\"#7201a8\"],[0.3333333333333333,\"#9c179e\"],[0.4444444444444444,\"#bd3786\"],[0.5555555555555556,\"#d8576b\"],[0.6666666666666666,\"#ed7953\"],[0.7777777777777778,\"#fb9f3a\"],[0.8888888888888888,\"#fdca26\"],[1.0,\"#f0f921\"]],\"type\":\"heatmapgl\"}],\"histogram\":[{\"marker\":{\"pattern\":{\"fillmode\":\"overlay\",\"size\":10,\"solidity\":0.2}},\"type\":\"histogram\"}],\"histogram2d\":[{\"colorbar\":{\"outlinewidth\":0,\"ticks\":\"\"},\"colorscale\":[[0.0,\"#0d0887\"],[0.1111111111111111,\"#46039f\"],[0.2222222222222222,\"#7201a8\"],[0.3333333333333333,\"#9c179e\"],[0.4444444444444444,\"#bd3786\"],[0.5555555555555556,\"#d8576b\"],[0.6666666666666666,\"#ed7953\"],[0.7777777777777778,\"#fb9f3a\"],[0.8888888888888888,\"#fdca26\"],[1.0,\"#f0f921\"]],\"type\":\"histogram2d\"}],\"histogram2dcontour\":[{\"colorbar\":{\"outlinewidth\":0,\"ticks\":\"\"},\"colorscale\":[[0.0,\"#0d0887\"],[0.1111111111111111,\"#46039f\"],[0.2222222222222222,\"#7201a8\"],[0.3333333333333333,\"#9c179e\"],[0.4444444444444444,\"#bd3786\"],[0.5555555555555556,\"#d8576b\"],[0.6666666666666666,\"#ed7953\"],[0.7777777777777778,\"#fb9f3a\"],[0.8888888888888888,\"#fdca26\"],[1.0,\"#f0f921\"]],\"type\":\"histogram2dcontour\"}],\"mesh3d\":[{\"colorbar\":{\"outlinewidth\":0,\"ticks\":\"\"},\"type\":\"mesh3d\"}],\"parcoords\":[{\"line\":{\"colorbar\":{\"outlinewidth\":0,\"ticks\":\"\"}},\"type\":\"parcoords\"}],\"pie\":[{\"automargin\":true,\"type\":\"pie\"}],\"scatter\":[{\"marker\":{\"colorbar\":{\"outlinewidth\":0,\"ticks\":\"\"}},\"type\":\"scatter\"}],\"scatter3d\":[{\"line\":{\"colorbar\":{\"outlinewidth\":0,\"ticks\":\"\"}},\"marker\":{\"colorbar\":{\"outlinewidth\":0,\"ticks\":\"\"}},\"type\":\"scatter3d\"}],\"scattercarpet\":[{\"marker\":{\"colorbar\":{\"outlinewidth\":0,\"ticks\":\"\"}},\"type\":\"scattercarpet\"}],\"scattergeo\":[{\"marker\":{\"colorbar\":{\"outlinewidth\":0,\"ticks\":\"\"}},\"type\":\"scattergeo\"}],\"scattergl\":[{\"marker\":{\"colorbar\":{\"outlinewidth\":0,\"ticks\":\"\"}},\"type\":\"scattergl\"}],\"scattermapbox\":[{\"marker\":{\"colorbar\":{\"outlinewidth\":0,\"ticks\":\"\"}},\"type\":\"scattermapbox\"}],\"scatterpolar\":[{\"marker\":{\"colorbar\":{\"outlinewidth\":0,\"ticks\":\"\"}},\"type\":\"scatterpolar\"}],\"scatterpolargl\":[{\"marker\":{\"colorbar\":{\"outlinewidth\":0,\"ticks\":\"\"}},\"type\":\"scatterpolargl\"}],\"scatterternary\":[{\"marker\":{\"colorbar\":{\"outlinewidth\":0,\"ticks\":\"\"}},\"type\":\"scatterternary\"}],\"surface\":[{\"colorbar\":{\"outlinewidth\":0,\"ticks\":\"\"},\"colorscale\":[[0.0,\"#0d0887\"],[0.1111111111111111,\"#46039f\"],[0.2222222222222222,\"#7201a8\"],[0.3333333333333333,\"#9c179e\"],[0.4444444444444444,\"#bd3786\"],[0.5555555555555556,\"#d8576b\"],[0.6666666666666666,\"#ed7953\"],[0.7777777777777778,\"#fb9f3a\"],[0.8888888888888888,\"#fdca26\"],[1.0,\"#f0f921\"]],\"type\":\"surface\"}],\"table\":[{\"cells\":{\"fill\":{\"color\":\"#EBF0F8\"},\"line\":{\"color\":\"white\"}},\"header\":{\"fill\":{\"color\":\"#C8D4E3\"},\"line\":{\"color\":\"white\"}},\"type\":\"table\"}]},\"layout\":{\"annotationdefaults\":{\"arrowcolor\":\"#2a3f5f\",\"arrowhead\":0,\"arrowwidth\":1},\"autotypenumbers\":\"strict\",\"coloraxis\":{\"colorbar\":{\"outlinewidth\":0,\"ticks\":\"\"}},\"colorscale\":{\"diverging\":[[0,\"#8e0152\"],[0.1,\"#c51b7d\"],[0.2,\"#de77ae\"],[0.3,\"#f1b6da\"],[0.4,\"#fde0ef\"],[0.5,\"#f7f7f7\"],[0.6,\"#e6f5d0\"],[0.7,\"#b8e186\"],[0.8,\"#7fbc41\"],[0.9,\"#4d9221\"],[1,\"#276419\"]],\"sequential\":[[0.0,\"#0d0887\"],[0.1111111111111111,\"#46039f\"],[0.2222222222222222,\"#7201a8\"],[0.3333333333333333,\"#9c179e\"],[0.4444444444444444,\"#bd3786\"],[0.5555555555555556,\"#d8576b\"],[0.6666666666666666,\"#ed7953\"],[0.7777777777777778,\"#fb9f3a\"],[0.8888888888888888,\"#fdca26\"],[1.0,\"#f0f921\"]],\"sequentialminus\":[[0.0,\"#0d0887\"],[0.1111111111111111,\"#46039f\"],[0.2222222222222222,\"#7201a8\"],[0.3333333333333333,\"#9c179e\"],[0.4444444444444444,\"#bd3786\"],[0.5555555555555556,\"#d8576b\"],[0.6666666666666666,\"#ed7953\"],[0.7777777777777778,\"#fb9f3a\"],[0.8888888888888888,\"#fdca26\"],[1.0,\"#f0f921\"]]},\"colorway\":[\"#636efa\",\"#EF553B\",\"#00cc96\",\"#ab63fa\",\"#FFA15A\",\"#19d3f3\",\"#FF6692\",\"#B6E880\",\"#FF97FF\",\"#FECB52\"],\"font\":{\"color\":\"#2a3f5f\"},\"geo\":{\"bgcolor\":\"white\",\"lakecolor\":\"white\",\"landcolor\":\"#E5ECF6\",\"showlakes\":true,\"showland\":true,\"subunitcolor\":\"white\"},\"hoverlabel\":{\"align\":\"left\"},\"hovermode\":\"closest\",\"mapbox\":{\"style\":\"light\"},\"paper_bgcolor\":\"white\",\"plot_bgcolor\":\"#E5ECF6\",\"polar\":{\"angularaxis\":{\"gridcolor\":\"white\",\"linecolor\":\"white\",\"ticks\":\"\"},\"bgcolor\":\"#E5ECF6\",\"radialaxis\":{\"gridcolor\":\"white\",\"linecolor\":\"white\",\"ticks\":\"\"}},\"scene\":{\"xaxis\":{\"backgroundcolor\":\"#E5ECF6\",\"gridcolor\":\"white\",\"gridwidth\":2,\"linecolor\":\"white\",\"showbackground\":true,\"ticks\":\"\",\"zerolinecolor\":\"white\"},\"yaxis\":{\"backgroundcolor\":\"#E5ECF6\",\"gridcolor\":\"white\",\"gridwidth\":2,\"linecolor\":\"white\",\"showbackground\":true,\"ticks\":\"\",\"zerolinecolor\":\"white\"},\"zaxis\":{\"backgroundcolor\":\"#E5ECF6\",\"gridcolor\":\"white\",\"gridwidth\":2,\"linecolor\":\"white\",\"showbackground\":true,\"ticks\":\"\",\"zerolinecolor\":\"white\"}},\"shapedefaults\":{\"line\":{\"color\":\"#2a3f5f\"}},\"ternary\":{\"aaxis\":{\"gridcolor\":\"white\",\"linecolor\":\"white\",\"ticks\":\"\"},\"baxis\":{\"gridcolor\":\"white\",\"linecolor\":\"white\",\"ticks\":\"\"},\"bgcolor\":\"#E5ECF6\",\"caxis\":{\"gridcolor\":\"white\",\"linecolor\":\"white\",\"ticks\":\"\"}},\"title\":{\"x\":0.05},\"xaxis\":{\"automargin\":true,\"gridcolor\":\"white\",\"linecolor\":\"white\",\"ticks\":\"\",\"title\":{\"standoff\":15},\"zerolinecolor\":\"white\",\"zerolinewidth\":2},\"yaxis\":{\"automargin\":true,\"gridcolor\":\"white\",\"linecolor\":\"white\",\"ticks\":\"\",\"title\":{\"standoff\":15},\"zerolinecolor\":\"white\",\"zerolinewidth\":2}}},\"xaxis\":{\"anchor\":\"y\",\"domain\":[0.0,1.0],\"title\":{\"text\":\"x\"}},\"yaxis\":{\"anchor\":\"x\",\"domain\":[0.0,1.0],\"title\":{\"text\":\"y\"}}},                        {\"responsive\": true}                    ).then(function(){\n",
       "                            \n",
       "var gd = document.getElementById('f4560e8a-63f8-4658-8cbc-74c7665671d1');\n",
       "var x = new MutationObserver(function (mutations, observer) {{\n",
       "        var display = window.getComputedStyle(gd).display;\n",
       "        if (!display || display === 'none') {{\n",
       "            console.log([gd, 'removed!']);\n",
       "            Plotly.purge(gd);\n",
       "            observer.disconnect();\n",
       "        }}\n",
       "}});\n",
       "\n",
       "// Listen for the removal of the full notebook cells\n",
       "var notebookContainer = gd.closest('#notebook-container');\n",
       "if (notebookContainer) {{\n",
       "    x.observe(notebookContainer, {childList: true});\n",
       "}}\n",
       "\n",
       "// Listen for the clearing of the current output cell\n",
       "var outputEl = gd.closest('.output');\n",
       "if (outputEl) {{\n",
       "    x.observe(outputEl, {childList: true});\n",
       "}}\n",
       "\n",
       "                        })                };                });            </script>        </div>"
      ]
     },
     "metadata": {},
     "output_type": "display_data"
    }
   ],
   "source": [
    "px.bar(data, x = x_cat_rev[x_val.head(10).index].index, y = x_cat_rev[x_val.head(10).index].values, color = x_cat_rev[x_val.head(10).index].index)"
   ]
  },
  {
   "cell_type": "markdown",
   "id": "631ded04",
   "metadata": {},
   "source": [
    "# Findings:\n",
    "- Though the number of installation in Game category is highest but in terms of review collection it is very low.\n",
    "- We can include a scheme wherein the user can have extra lives in the game if he submits review on the google play store or may be extension of trial. The reviews can then be used for improvements.\n",
    "### The Benefits of Reviews for the Google Play Store as per https://www.makeuseof.com/why-you-should-leave-reviews-on-the-google-play-store/\n",
    "- Leaving reviews for an app not only helps the users and the developers, but also the Google Play Store itself. The Play Store's goal as an app platform is to show you fast, accurate, and personalized results when you search for your desired app and keep spam apps away.\n",
    "\n",
    "- To make that happen, it needs information on the app's performance—which is displayed via user reviews. An app that has a 4.5-star rating is most probably safer and more relevant than an app with a 2-star rating of the same genre.\n",
    "\n",
    "- This information helps Google's algorithm better rank the apps on the Play Store and bring you high-quality app results that you are most likely to download and have a good experience with. The more favorable an app's rating and reviews, the more the number of people downloading that app and using Play Store's services."
   ]
  },
  {
   "cell_type": "markdown",
   "id": "967349bd",
   "metadata": {},
   "source": [
    "# Which categories are of Type paid?"
   ]
  },
  {
   "cell_type": "code",
   "execution_count": 16,
   "id": "770cd1fe",
   "metadata": {},
   "outputs": [
    {
     "data": {
      "application/vnd.plotly.v1+json": {
       "config": {
        "plotlyServerURL": "https://plot.ly"
       },
       "data": [
        {
         "alignmentgroup": "True",
         "hovertemplate": "color=FAMILY<br>x=%{x}<br>y=%{y}<extra></extra>",
         "legendgroup": "FAMILY",
         "marker": {
          "color": "#636efa",
          "pattern": {
           "shape": ""
          }
         },
         "name": "FAMILY",
         "offsetgroup": "FAMILY",
         "orientation": "v",
         "showlegend": true,
         "textposition": "auto",
         "type": "bar",
         "x": [
          "FAMILY"
         ],
         "xaxis": "x",
         "y": [
          191
         ],
         "yaxis": "y"
        },
        {
         "alignmentgroup": "True",
         "hovertemplate": "color=MEDICAL<br>x=%{x}<br>y=%{y}<extra></extra>",
         "legendgroup": "MEDICAL",
         "marker": {
          "color": "#EF553B",
          "pattern": {
           "shape": ""
          }
         },
         "name": "MEDICAL",
         "offsetgroup": "MEDICAL",
         "orientation": "v",
         "showlegend": true,
         "textposition": "auto",
         "type": "bar",
         "x": [
          "MEDICAL"
         ],
         "xaxis": "x",
         "y": [
          109
         ],
         "yaxis": "y"
        },
        {
         "alignmentgroup": "True",
         "hovertemplate": "color=PERSONALIZATION<br>x=%{x}<br>y=%{y}<extra></extra>",
         "legendgroup": "PERSONALIZATION",
         "marker": {
          "color": "#00cc96",
          "pattern": {
           "shape": ""
          }
         },
         "name": "PERSONALIZATION",
         "offsetgroup": "PERSONALIZATION",
         "orientation": "v",
         "showlegend": true,
         "textposition": "auto",
         "type": "bar",
         "x": [
          "PERSONALIZATION"
         ],
         "xaxis": "x",
         "y": [
          83
         ],
         "yaxis": "y"
        },
        {
         "alignmentgroup": "True",
         "hovertemplate": "color=GAME<br>x=%{x}<br>y=%{y}<extra></extra>",
         "legendgroup": "GAME",
         "marker": {
          "color": "#ab63fa",
          "pattern": {
           "shape": ""
          }
         },
         "name": "GAME",
         "offsetgroup": "GAME",
         "orientation": "v",
         "showlegend": true,
         "textposition": "auto",
         "type": "bar",
         "x": [
          "GAME"
         ],
         "xaxis": "x",
         "y": [
          83
         ],
         "yaxis": "y"
        },
        {
         "alignmentgroup": "True",
         "hovertemplate": "color=TOOLS<br>x=%{x}<br>y=%{y}<extra></extra>",
         "legendgroup": "TOOLS",
         "marker": {
          "color": "#FFA15A",
          "pattern": {
           "shape": ""
          }
         },
         "name": "TOOLS",
         "offsetgroup": "TOOLS",
         "orientation": "v",
         "showlegend": true,
         "textposition": "auto",
         "type": "bar",
         "x": [
          "TOOLS"
         ],
         "xaxis": "x",
         "y": [
          78
         ],
         "yaxis": "y"
        },
        {
         "alignmentgroup": "True",
         "hovertemplate": "color=PRODUCTIVITY<br>x=%{x}<br>y=%{y}<extra></extra>",
         "legendgroup": "PRODUCTIVITY",
         "marker": {
          "color": "#19d3f3",
          "pattern": {
           "shape": ""
          }
         },
         "name": "PRODUCTIVITY",
         "offsetgroup": "PRODUCTIVITY",
         "orientation": "v",
         "showlegend": true,
         "textposition": "auto",
         "type": "bar",
         "x": [
          "PRODUCTIVITY"
         ],
         "xaxis": "x",
         "y": [
          28
         ],
         "yaxis": "y"
        },
        {
         "alignmentgroup": "True",
         "hovertemplate": "color=BOOKS_AND_REFERENCE<br>x=%{x}<br>y=%{y}<extra></extra>",
         "legendgroup": "BOOKS_AND_REFERENCE",
         "marker": {
          "color": "#FF6692",
          "pattern": {
           "shape": ""
          }
         },
         "name": "BOOKS_AND_REFERENCE",
         "offsetgroup": "BOOKS_AND_REFERENCE",
         "orientation": "v",
         "showlegend": true,
         "textposition": "auto",
         "type": "bar",
         "x": [
          "BOOKS_AND_REFERENCE"
         ],
         "xaxis": "x",
         "y": [
          28
         ],
         "yaxis": "y"
        },
        {
         "alignmentgroup": "True",
         "hovertemplate": "color=COMMUNICATION<br>x=%{x}<br>y=%{y}<extra></extra>",
         "legendgroup": "COMMUNICATION",
         "marker": {
          "color": "#B6E880",
          "pattern": {
           "shape": ""
          }
         },
         "name": "COMMUNICATION",
         "offsetgroup": "COMMUNICATION",
         "orientation": "v",
         "showlegend": true,
         "textposition": "auto",
         "type": "bar",
         "x": [
          "COMMUNICATION"
         ],
         "xaxis": "x",
         "y": [
          27
         ],
         "yaxis": "y"
        },
        {
         "alignmentgroup": "True",
         "hovertemplate": "color=SPORTS<br>x=%{x}<br>y=%{y}<extra></extra>",
         "legendgroup": "SPORTS",
         "marker": {
          "color": "#FF97FF",
          "pattern": {
           "shape": ""
          }
         },
         "name": "SPORTS",
         "offsetgroup": "SPORTS",
         "orientation": "v",
         "showlegend": true,
         "textposition": "auto",
         "type": "bar",
         "x": [
          "SPORTS"
         ],
         "xaxis": "x",
         "y": [
          24
         ],
         "yaxis": "y"
        },
        {
         "alignmentgroup": "True",
         "hovertemplate": "color=PHOTOGRAPHY<br>x=%{x}<br>y=%{y}<extra></extra>",
         "legendgroup": "PHOTOGRAPHY",
         "marker": {
          "color": "#FECB52",
          "pattern": {
           "shape": ""
          }
         },
         "name": "PHOTOGRAPHY",
         "offsetgroup": "PHOTOGRAPHY",
         "orientation": "v",
         "showlegend": true,
         "textposition": "auto",
         "type": "bar",
         "x": [
          "PHOTOGRAPHY"
         ],
         "xaxis": "x",
         "y": [
          22
         ],
         "yaxis": "y"
        },
        {
         "alignmentgroup": "True",
         "hovertemplate": "color=LIFESTYLE<br>x=%{x}<br>y=%{y}<extra></extra>",
         "legendgroup": "LIFESTYLE",
         "marker": {
          "color": "#636efa",
          "pattern": {
           "shape": ""
          }
         },
         "name": "LIFESTYLE",
         "offsetgroup": "LIFESTYLE",
         "orientation": "v",
         "showlegend": true,
         "textposition": "auto",
         "type": "bar",
         "x": [
          "LIFESTYLE"
         ],
         "xaxis": "x",
         "y": [
          19
         ],
         "yaxis": "y"
        },
        {
         "alignmentgroup": "True",
         "hovertemplate": "color=FINANCE<br>x=%{x}<br>y=%{y}<extra></extra>",
         "legendgroup": "FINANCE",
         "marker": {
          "color": "#EF553B",
          "pattern": {
           "shape": ""
          }
         },
         "name": "FINANCE",
         "offsetgroup": "FINANCE",
         "orientation": "v",
         "showlegend": true,
         "textposition": "auto",
         "type": "bar",
         "x": [
          "FINANCE"
         ],
         "xaxis": "x",
         "y": [
          17
         ],
         "yaxis": "y"
        },
        {
         "alignmentgroup": "True",
         "hovertemplate": "color=HEALTH_AND_FITNESS<br>x=%{x}<br>y=%{y}<extra></extra>",
         "legendgroup": "HEALTH_AND_FITNESS",
         "marker": {
          "color": "#00cc96",
          "pattern": {
           "shape": ""
          }
         },
         "name": "HEALTH_AND_FITNESS",
         "offsetgroup": "HEALTH_AND_FITNESS",
         "orientation": "v",
         "showlegend": true,
         "textposition": "auto",
         "type": "bar",
         "x": [
          "HEALTH_AND_FITNESS"
         ],
         "xaxis": "x",
         "y": [
          16
         ],
         "yaxis": "y"
        },
        {
         "alignmentgroup": "True",
         "hovertemplate": "color=BUSINESS<br>x=%{x}<br>y=%{y}<extra></extra>",
         "legendgroup": "BUSINESS",
         "marker": {
          "color": "#ab63fa",
          "pattern": {
           "shape": ""
          }
         },
         "name": "BUSINESS",
         "offsetgroup": "BUSINESS",
         "orientation": "v",
         "showlegend": true,
         "textposition": "auto",
         "type": "bar",
         "x": [
          "BUSINESS"
         ],
         "xaxis": "x",
         "y": [
          14
         ],
         "yaxis": "y"
        },
        {
         "alignmentgroup": "True",
         "hovertemplate": "color=TRAVEL_AND_LOCAL<br>x=%{x}<br>y=%{y}<extra></extra>",
         "legendgroup": "TRAVEL_AND_LOCAL",
         "marker": {
          "color": "#FFA15A",
          "pattern": {
           "shape": ""
          }
         },
         "name": "TRAVEL_AND_LOCAL",
         "offsetgroup": "TRAVEL_AND_LOCAL",
         "orientation": "v",
         "showlegend": true,
         "textposition": "auto",
         "type": "bar",
         "x": [
          "TRAVEL_AND_LOCAL"
         ],
         "xaxis": "x",
         "y": [
          12
         ],
         "yaxis": "y"
        },
        {
         "alignmentgroup": "True",
         "hovertemplate": "color=WEATHER<br>x=%{x}<br>y=%{y}<extra></extra>",
         "legendgroup": "WEATHER",
         "marker": {
          "color": "#19d3f3",
          "pattern": {
           "shape": ""
          }
         },
         "name": "WEATHER",
         "offsetgroup": "WEATHER",
         "orientation": "v",
         "showlegend": true,
         "textposition": "auto",
         "type": "bar",
         "x": [
          "WEATHER"
         ],
         "xaxis": "x",
         "y": [
          8
         ],
         "yaxis": "y"
        },
        {
         "alignmentgroup": "True",
         "hovertemplate": "color=DATING<br>x=%{x}<br>y=%{y}<extra></extra>",
         "legendgroup": "DATING",
         "marker": {
          "color": "#FF6692",
          "pattern": {
           "shape": ""
          }
         },
         "name": "DATING",
         "offsetgroup": "DATING",
         "orientation": "v",
         "showlegend": true,
         "textposition": "auto",
         "type": "bar",
         "x": [
          "DATING"
         ],
         "xaxis": "x",
         "y": [
          7
         ],
         "yaxis": "y"
        },
        {
         "alignmentgroup": "True",
         "hovertemplate": "color=MAPS_AND_NAVIGATION<br>x=%{x}<br>y=%{y}<extra></extra>",
         "legendgroup": "MAPS_AND_NAVIGATION",
         "marker": {
          "color": "#B6E880",
          "pattern": {
           "shape": ""
          }
         },
         "name": "MAPS_AND_NAVIGATION",
         "offsetgroup": "MAPS_AND_NAVIGATION",
         "orientation": "v",
         "showlegend": true,
         "textposition": "auto",
         "type": "bar",
         "x": [
          "MAPS_AND_NAVIGATION"
         ],
         "xaxis": "x",
         "y": [
          5
         ],
         "yaxis": "y"
        },
        {
         "alignmentgroup": "True",
         "hovertemplate": "color=EDUCATION<br>x=%{x}<br>y=%{y}<extra></extra>",
         "legendgroup": "EDUCATION",
         "marker": {
          "color": "#FF97FF",
          "pattern": {
           "shape": ""
          }
         },
         "name": "EDUCATION",
         "offsetgroup": "EDUCATION",
         "orientation": "v",
         "showlegend": true,
         "textposition": "auto",
         "type": "bar",
         "x": [
          "EDUCATION"
         ],
         "xaxis": "x",
         "y": [
          4
         ],
         "yaxis": "y"
        },
        {
         "alignmentgroup": "True",
         "hovertemplate": "color=VIDEO_PLAYERS<br>x=%{x}<br>y=%{y}<extra></extra>",
         "legendgroup": "VIDEO_PLAYERS",
         "marker": {
          "color": "#FECB52",
          "pattern": {
           "shape": ""
          }
         },
         "name": "VIDEO_PLAYERS",
         "offsetgroup": "VIDEO_PLAYERS",
         "orientation": "v",
         "showlegend": true,
         "textposition": "auto",
         "type": "bar",
         "x": [
          "VIDEO_PLAYERS"
         ],
         "xaxis": "x",
         "y": [
          4
         ],
         "yaxis": "y"
        },
        {
         "alignmentgroup": "True",
         "hovertemplate": "color=SOCIAL<br>x=%{x}<br>y=%{y}<extra></extra>",
         "legendgroup": "SOCIAL",
         "marker": {
          "color": "#636efa",
          "pattern": {
           "shape": ""
          }
         },
         "name": "SOCIAL",
         "offsetgroup": "SOCIAL",
         "orientation": "v",
         "showlegend": true,
         "textposition": "auto",
         "type": "bar",
         "x": [
          "SOCIAL"
         ],
         "xaxis": "x",
         "y": [
          3
         ],
         "yaxis": "y"
        },
        {
         "alignmentgroup": "True",
         "hovertemplate": "color=ART_AND_DESIGN<br>x=%{x}<br>y=%{y}<extra></extra>",
         "legendgroup": "ART_AND_DESIGN",
         "marker": {
          "color": "#EF553B",
          "pattern": {
           "shape": ""
          }
         },
         "name": "ART_AND_DESIGN",
         "offsetgroup": "ART_AND_DESIGN",
         "orientation": "v",
         "showlegend": true,
         "textposition": "auto",
         "type": "bar",
         "x": [
          "ART_AND_DESIGN"
         ],
         "xaxis": "x",
         "y": [
          3
         ],
         "yaxis": "y"
        },
        {
         "alignmentgroup": "True",
         "hovertemplate": "color=AUTO_AND_VEHICLES<br>x=%{x}<br>y=%{y}<extra></extra>",
         "legendgroup": "AUTO_AND_VEHICLES",
         "marker": {
          "color": "#00cc96",
          "pattern": {
           "shape": ""
          }
         },
         "name": "AUTO_AND_VEHICLES",
         "offsetgroup": "AUTO_AND_VEHICLES",
         "orientation": "v",
         "showlegend": true,
         "textposition": "auto",
         "type": "bar",
         "x": [
          "AUTO_AND_VEHICLES"
         ],
         "xaxis": "x",
         "y": [
          3
         ],
         "yaxis": "y"
        },
        {
         "alignmentgroup": "True",
         "hovertemplate": "color=FOOD_AND_DRINK<br>x=%{x}<br>y=%{y}<extra></extra>",
         "legendgroup": "FOOD_AND_DRINK",
         "marker": {
          "color": "#ab63fa",
          "pattern": {
           "shape": ""
          }
         },
         "name": "FOOD_AND_DRINK",
         "offsetgroup": "FOOD_AND_DRINK",
         "orientation": "v",
         "showlegend": true,
         "textposition": "auto",
         "type": "bar",
         "x": [
          "FOOD_AND_DRINK"
         ],
         "xaxis": "x",
         "y": [
          2
         ],
         "yaxis": "y"
        },
        {
         "alignmentgroup": "True",
         "hovertemplate": "color=PARENTING<br>x=%{x}<br>y=%{y}<extra></extra>",
         "legendgroup": "PARENTING",
         "marker": {
          "color": "#FFA15A",
          "pattern": {
           "shape": ""
          }
         },
         "name": "PARENTING",
         "offsetgroup": "PARENTING",
         "orientation": "v",
         "showlegend": true,
         "textposition": "auto",
         "type": "bar",
         "x": [
          "PARENTING"
         ],
         "xaxis": "x",
         "y": [
          2
         ],
         "yaxis": "y"
        },
        {
         "alignmentgroup": "True",
         "hovertemplate": "color=SHOPPING<br>x=%{x}<br>y=%{y}<extra></extra>",
         "legendgroup": "SHOPPING",
         "marker": {
          "color": "#19d3f3",
          "pattern": {
           "shape": ""
          }
         },
         "name": "SHOPPING",
         "offsetgroup": "SHOPPING",
         "orientation": "v",
         "showlegend": true,
         "textposition": "auto",
         "type": "bar",
         "x": [
          "SHOPPING"
         ],
         "xaxis": "x",
         "y": [
          2
         ],
         "yaxis": "y"
        },
        {
         "alignmentgroup": "True",
         "hovertemplate": "color=ENTERTAINMENT<br>x=%{x}<br>y=%{y}<extra></extra>",
         "legendgroup": "ENTERTAINMENT",
         "marker": {
          "color": "#FF6692",
          "pattern": {
           "shape": ""
          }
         },
         "name": "ENTERTAINMENT",
         "offsetgroup": "ENTERTAINMENT",
         "orientation": "v",
         "showlegend": true,
         "textposition": "auto",
         "type": "bar",
         "x": [
          "ENTERTAINMENT"
         ],
         "xaxis": "x",
         "y": [
          2
         ],
         "yaxis": "y"
        },
        {
         "alignmentgroup": "True",
         "hovertemplate": "color=NEWS_AND_MAGAZINES<br>x=%{x}<br>y=%{y}<extra></extra>",
         "legendgroup": "NEWS_AND_MAGAZINES",
         "marker": {
          "color": "#B6E880",
          "pattern": {
           "shape": ""
          }
         },
         "name": "NEWS_AND_MAGAZINES",
         "offsetgroup": "NEWS_AND_MAGAZINES",
         "orientation": "v",
         "showlegend": true,
         "textposition": "auto",
         "type": "bar",
         "x": [
          "NEWS_AND_MAGAZINES"
         ],
         "xaxis": "x",
         "y": [
          2
         ],
         "yaxis": "y"
        },
        {
         "alignmentgroup": "True",
         "hovertemplate": "color=EVENTS<br>x=%{x}<br>y=%{y}<extra></extra>",
         "legendgroup": "EVENTS",
         "marker": {
          "color": "#FF97FF",
          "pattern": {
           "shape": ""
          }
         },
         "name": "EVENTS",
         "offsetgroup": "EVENTS",
         "orientation": "v",
         "showlegend": true,
         "textposition": "auto",
         "type": "bar",
         "x": [
          "EVENTS"
         ],
         "xaxis": "x",
         "y": [
          1
         ],
         "yaxis": "y"
        },
        {
         "alignmentgroup": "True",
         "hovertemplate": "color=LIBRARIES_AND_DEMO<br>x=%{x}<br>y=%{y}<extra></extra>",
         "legendgroup": "LIBRARIES_AND_DEMO",
         "marker": {
          "color": "#FECB52",
          "pattern": {
           "shape": ""
          }
         },
         "name": "LIBRARIES_AND_DEMO",
         "offsetgroup": "LIBRARIES_AND_DEMO",
         "orientation": "v",
         "showlegend": true,
         "textposition": "auto",
         "type": "bar",
         "x": [
          "LIBRARIES_AND_DEMO"
         ],
         "xaxis": "x",
         "y": [
          1
         ],
         "yaxis": "y"
        }
       ],
       "layout": {
        "barmode": "relative",
        "legend": {
         "title": {
          "text": "color"
         },
         "tracegroupgap": 0
        },
        "margin": {
         "t": 60
        },
        "template": {
         "data": {
          "bar": [
           {
            "error_x": {
             "color": "#2a3f5f"
            },
            "error_y": {
             "color": "#2a3f5f"
            },
            "marker": {
             "line": {
              "color": "#E5ECF6",
              "width": 0.5
             },
             "pattern": {
              "fillmode": "overlay",
              "size": 10,
              "solidity": 0.2
             }
            },
            "type": "bar"
           }
          ],
          "barpolar": [
           {
            "marker": {
             "line": {
              "color": "#E5ECF6",
              "width": 0.5
             },
             "pattern": {
              "fillmode": "overlay",
              "size": 10,
              "solidity": 0.2
             }
            },
            "type": "barpolar"
           }
          ],
          "carpet": [
           {
            "aaxis": {
             "endlinecolor": "#2a3f5f",
             "gridcolor": "white",
             "linecolor": "white",
             "minorgridcolor": "white",
             "startlinecolor": "#2a3f5f"
            },
            "baxis": {
             "endlinecolor": "#2a3f5f",
             "gridcolor": "white",
             "linecolor": "white",
             "minorgridcolor": "white",
             "startlinecolor": "#2a3f5f"
            },
            "type": "carpet"
           }
          ],
          "choropleth": [
           {
            "colorbar": {
             "outlinewidth": 0,
             "ticks": ""
            },
            "type": "choropleth"
           }
          ],
          "contour": [
           {
            "colorbar": {
             "outlinewidth": 0,
             "ticks": ""
            },
            "colorscale": [
             [
              0,
              "#0d0887"
             ],
             [
              0.1111111111111111,
              "#46039f"
             ],
             [
              0.2222222222222222,
              "#7201a8"
             ],
             [
              0.3333333333333333,
              "#9c179e"
             ],
             [
              0.4444444444444444,
              "#bd3786"
             ],
             [
              0.5555555555555556,
              "#d8576b"
             ],
             [
              0.6666666666666666,
              "#ed7953"
             ],
             [
              0.7777777777777778,
              "#fb9f3a"
             ],
             [
              0.8888888888888888,
              "#fdca26"
             ],
             [
              1,
              "#f0f921"
             ]
            ],
            "type": "contour"
           }
          ],
          "contourcarpet": [
           {
            "colorbar": {
             "outlinewidth": 0,
             "ticks": ""
            },
            "type": "contourcarpet"
           }
          ],
          "heatmap": [
           {
            "colorbar": {
             "outlinewidth": 0,
             "ticks": ""
            },
            "colorscale": [
             [
              0,
              "#0d0887"
             ],
             [
              0.1111111111111111,
              "#46039f"
             ],
             [
              0.2222222222222222,
              "#7201a8"
             ],
             [
              0.3333333333333333,
              "#9c179e"
             ],
             [
              0.4444444444444444,
              "#bd3786"
             ],
             [
              0.5555555555555556,
              "#d8576b"
             ],
             [
              0.6666666666666666,
              "#ed7953"
             ],
             [
              0.7777777777777778,
              "#fb9f3a"
             ],
             [
              0.8888888888888888,
              "#fdca26"
             ],
             [
              1,
              "#f0f921"
             ]
            ],
            "type": "heatmap"
           }
          ],
          "heatmapgl": [
           {
            "colorbar": {
             "outlinewidth": 0,
             "ticks": ""
            },
            "colorscale": [
             [
              0,
              "#0d0887"
             ],
             [
              0.1111111111111111,
              "#46039f"
             ],
             [
              0.2222222222222222,
              "#7201a8"
             ],
             [
              0.3333333333333333,
              "#9c179e"
             ],
             [
              0.4444444444444444,
              "#bd3786"
             ],
             [
              0.5555555555555556,
              "#d8576b"
             ],
             [
              0.6666666666666666,
              "#ed7953"
             ],
             [
              0.7777777777777778,
              "#fb9f3a"
             ],
             [
              0.8888888888888888,
              "#fdca26"
             ],
             [
              1,
              "#f0f921"
             ]
            ],
            "type": "heatmapgl"
           }
          ],
          "histogram": [
           {
            "marker": {
             "pattern": {
              "fillmode": "overlay",
              "size": 10,
              "solidity": 0.2
             }
            },
            "type": "histogram"
           }
          ],
          "histogram2d": [
           {
            "colorbar": {
             "outlinewidth": 0,
             "ticks": ""
            },
            "colorscale": [
             [
              0,
              "#0d0887"
             ],
             [
              0.1111111111111111,
              "#46039f"
             ],
             [
              0.2222222222222222,
              "#7201a8"
             ],
             [
              0.3333333333333333,
              "#9c179e"
             ],
             [
              0.4444444444444444,
              "#bd3786"
             ],
             [
              0.5555555555555556,
              "#d8576b"
             ],
             [
              0.6666666666666666,
              "#ed7953"
             ],
             [
              0.7777777777777778,
              "#fb9f3a"
             ],
             [
              0.8888888888888888,
              "#fdca26"
             ],
             [
              1,
              "#f0f921"
             ]
            ],
            "type": "histogram2d"
           }
          ],
          "histogram2dcontour": [
           {
            "colorbar": {
             "outlinewidth": 0,
             "ticks": ""
            },
            "colorscale": [
             [
              0,
              "#0d0887"
             ],
             [
              0.1111111111111111,
              "#46039f"
             ],
             [
              0.2222222222222222,
              "#7201a8"
             ],
             [
              0.3333333333333333,
              "#9c179e"
             ],
             [
              0.4444444444444444,
              "#bd3786"
             ],
             [
              0.5555555555555556,
              "#d8576b"
             ],
             [
              0.6666666666666666,
              "#ed7953"
             ],
             [
              0.7777777777777778,
              "#fb9f3a"
             ],
             [
              0.8888888888888888,
              "#fdca26"
             ],
             [
              1,
              "#f0f921"
             ]
            ],
            "type": "histogram2dcontour"
           }
          ],
          "mesh3d": [
           {
            "colorbar": {
             "outlinewidth": 0,
             "ticks": ""
            },
            "type": "mesh3d"
           }
          ],
          "parcoords": [
           {
            "line": {
             "colorbar": {
              "outlinewidth": 0,
              "ticks": ""
             }
            },
            "type": "parcoords"
           }
          ],
          "pie": [
           {
            "automargin": true,
            "type": "pie"
           }
          ],
          "scatter": [
           {
            "marker": {
             "colorbar": {
              "outlinewidth": 0,
              "ticks": ""
             }
            },
            "type": "scatter"
           }
          ],
          "scatter3d": [
           {
            "line": {
             "colorbar": {
              "outlinewidth": 0,
              "ticks": ""
             }
            },
            "marker": {
             "colorbar": {
              "outlinewidth": 0,
              "ticks": ""
             }
            },
            "type": "scatter3d"
           }
          ],
          "scattercarpet": [
           {
            "marker": {
             "colorbar": {
              "outlinewidth": 0,
              "ticks": ""
             }
            },
            "type": "scattercarpet"
           }
          ],
          "scattergeo": [
           {
            "marker": {
             "colorbar": {
              "outlinewidth": 0,
              "ticks": ""
             }
            },
            "type": "scattergeo"
           }
          ],
          "scattergl": [
           {
            "marker": {
             "colorbar": {
              "outlinewidth": 0,
              "ticks": ""
             }
            },
            "type": "scattergl"
           }
          ],
          "scattermapbox": [
           {
            "marker": {
             "colorbar": {
              "outlinewidth": 0,
              "ticks": ""
             }
            },
            "type": "scattermapbox"
           }
          ],
          "scatterpolar": [
           {
            "marker": {
             "colorbar": {
              "outlinewidth": 0,
              "ticks": ""
             }
            },
            "type": "scatterpolar"
           }
          ],
          "scatterpolargl": [
           {
            "marker": {
             "colorbar": {
              "outlinewidth": 0,
              "ticks": ""
             }
            },
            "type": "scatterpolargl"
           }
          ],
          "scatterternary": [
           {
            "marker": {
             "colorbar": {
              "outlinewidth": 0,
              "ticks": ""
             }
            },
            "type": "scatterternary"
           }
          ],
          "surface": [
           {
            "colorbar": {
             "outlinewidth": 0,
             "ticks": ""
            },
            "colorscale": [
             [
              0,
              "#0d0887"
             ],
             [
              0.1111111111111111,
              "#46039f"
             ],
             [
              0.2222222222222222,
              "#7201a8"
             ],
             [
              0.3333333333333333,
              "#9c179e"
             ],
             [
              0.4444444444444444,
              "#bd3786"
             ],
             [
              0.5555555555555556,
              "#d8576b"
             ],
             [
              0.6666666666666666,
              "#ed7953"
             ],
             [
              0.7777777777777778,
              "#fb9f3a"
             ],
             [
              0.8888888888888888,
              "#fdca26"
             ],
             [
              1,
              "#f0f921"
             ]
            ],
            "type": "surface"
           }
          ],
          "table": [
           {
            "cells": {
             "fill": {
              "color": "#EBF0F8"
             },
             "line": {
              "color": "white"
             }
            },
            "header": {
             "fill": {
              "color": "#C8D4E3"
             },
             "line": {
              "color": "white"
             }
            },
            "type": "table"
           }
          ]
         },
         "layout": {
          "annotationdefaults": {
           "arrowcolor": "#2a3f5f",
           "arrowhead": 0,
           "arrowwidth": 1
          },
          "autotypenumbers": "strict",
          "coloraxis": {
           "colorbar": {
            "outlinewidth": 0,
            "ticks": ""
           }
          },
          "colorscale": {
           "diverging": [
            [
             0,
             "#8e0152"
            ],
            [
             0.1,
             "#c51b7d"
            ],
            [
             0.2,
             "#de77ae"
            ],
            [
             0.3,
             "#f1b6da"
            ],
            [
             0.4,
             "#fde0ef"
            ],
            [
             0.5,
             "#f7f7f7"
            ],
            [
             0.6,
             "#e6f5d0"
            ],
            [
             0.7,
             "#b8e186"
            ],
            [
             0.8,
             "#7fbc41"
            ],
            [
             0.9,
             "#4d9221"
            ],
            [
             1,
             "#276419"
            ]
           ],
           "sequential": [
            [
             0,
             "#0d0887"
            ],
            [
             0.1111111111111111,
             "#46039f"
            ],
            [
             0.2222222222222222,
             "#7201a8"
            ],
            [
             0.3333333333333333,
             "#9c179e"
            ],
            [
             0.4444444444444444,
             "#bd3786"
            ],
            [
             0.5555555555555556,
             "#d8576b"
            ],
            [
             0.6666666666666666,
             "#ed7953"
            ],
            [
             0.7777777777777778,
             "#fb9f3a"
            ],
            [
             0.8888888888888888,
             "#fdca26"
            ],
            [
             1,
             "#f0f921"
            ]
           ],
           "sequentialminus": [
            [
             0,
             "#0d0887"
            ],
            [
             0.1111111111111111,
             "#46039f"
            ],
            [
             0.2222222222222222,
             "#7201a8"
            ],
            [
             0.3333333333333333,
             "#9c179e"
            ],
            [
             0.4444444444444444,
             "#bd3786"
            ],
            [
             0.5555555555555556,
             "#d8576b"
            ],
            [
             0.6666666666666666,
             "#ed7953"
            ],
            [
             0.7777777777777778,
             "#fb9f3a"
            ],
            [
             0.8888888888888888,
             "#fdca26"
            ],
            [
             1,
             "#f0f921"
            ]
           ]
          },
          "colorway": [
           "#636efa",
           "#EF553B",
           "#00cc96",
           "#ab63fa",
           "#FFA15A",
           "#19d3f3",
           "#FF6692",
           "#B6E880",
           "#FF97FF",
           "#FECB52"
          ],
          "font": {
           "color": "#2a3f5f"
          },
          "geo": {
           "bgcolor": "white",
           "lakecolor": "white",
           "landcolor": "#E5ECF6",
           "showlakes": true,
           "showland": true,
           "subunitcolor": "white"
          },
          "hoverlabel": {
           "align": "left"
          },
          "hovermode": "closest",
          "mapbox": {
           "style": "light"
          },
          "paper_bgcolor": "white",
          "plot_bgcolor": "#E5ECF6",
          "polar": {
           "angularaxis": {
            "gridcolor": "white",
            "linecolor": "white",
            "ticks": ""
           },
           "bgcolor": "#E5ECF6",
           "radialaxis": {
            "gridcolor": "white",
            "linecolor": "white",
            "ticks": ""
           }
          },
          "scene": {
           "xaxis": {
            "backgroundcolor": "#E5ECF6",
            "gridcolor": "white",
            "gridwidth": 2,
            "linecolor": "white",
            "showbackground": true,
            "ticks": "",
            "zerolinecolor": "white"
           },
           "yaxis": {
            "backgroundcolor": "#E5ECF6",
            "gridcolor": "white",
            "gridwidth": 2,
            "linecolor": "white",
            "showbackground": true,
            "ticks": "",
            "zerolinecolor": "white"
           },
           "zaxis": {
            "backgroundcolor": "#E5ECF6",
            "gridcolor": "white",
            "gridwidth": 2,
            "linecolor": "white",
            "showbackground": true,
            "ticks": "",
            "zerolinecolor": "white"
           }
          },
          "shapedefaults": {
           "line": {
            "color": "#2a3f5f"
           }
          },
          "ternary": {
           "aaxis": {
            "gridcolor": "white",
            "linecolor": "white",
            "ticks": ""
           },
           "baxis": {
            "gridcolor": "white",
            "linecolor": "white",
            "ticks": ""
           },
           "bgcolor": "#E5ECF6",
           "caxis": {
            "gridcolor": "white",
            "linecolor": "white",
            "ticks": ""
           }
          },
          "title": {
           "x": 0.05
          },
          "xaxis": {
           "automargin": true,
           "gridcolor": "white",
           "linecolor": "white",
           "ticks": "",
           "title": {
            "standoff": 15
           },
           "zerolinecolor": "white",
           "zerolinewidth": 2
          },
          "yaxis": {
           "automargin": true,
           "gridcolor": "white",
           "linecolor": "white",
           "ticks": "",
           "title": {
            "standoff": 15
           },
           "zerolinecolor": "white",
           "zerolinewidth": 2
          }
         }
        },
        "xaxis": {
         "anchor": "y",
         "domain": [
          0,
          1
         ],
         "title": {
          "text": "x"
         }
        },
        "yaxis": {
         "anchor": "x",
         "domain": [
          0,
          1
         ],
         "title": {
          "text": "y"
         }
        }
       }
      },
      "text/html": [
       "<div>                            <div id=\"1f186d82-ee86-4884-b087-4667bdeef8b7\" class=\"plotly-graph-div\" style=\"height:525px; width:100%;\"></div>            <script type=\"text/javascript\">                require([\"plotly\"], function(Plotly) {                    window.PLOTLYENV=window.PLOTLYENV || {};                                    if (document.getElementById(\"1f186d82-ee86-4884-b087-4667bdeef8b7\")) {                    Plotly.newPlot(                        \"1f186d82-ee86-4884-b087-4667bdeef8b7\",                        [{\"alignmentgroup\":\"True\",\"hovertemplate\":\"color=FAMILY<br>x=%{x}<br>y=%{y}<extra></extra>\",\"legendgroup\":\"FAMILY\",\"marker\":{\"color\":\"#636efa\",\"pattern\":{\"shape\":\"\"}},\"name\":\"FAMILY\",\"offsetgroup\":\"FAMILY\",\"orientation\":\"v\",\"showlegend\":true,\"textposition\":\"auto\",\"type\":\"bar\",\"x\":[\"FAMILY\"],\"xaxis\":\"x\",\"y\":[191],\"yaxis\":\"y\"},{\"alignmentgroup\":\"True\",\"hovertemplate\":\"color=MEDICAL<br>x=%{x}<br>y=%{y}<extra></extra>\",\"legendgroup\":\"MEDICAL\",\"marker\":{\"color\":\"#EF553B\",\"pattern\":{\"shape\":\"\"}},\"name\":\"MEDICAL\",\"offsetgroup\":\"MEDICAL\",\"orientation\":\"v\",\"showlegend\":true,\"textposition\":\"auto\",\"type\":\"bar\",\"x\":[\"MEDICAL\"],\"xaxis\":\"x\",\"y\":[109],\"yaxis\":\"y\"},{\"alignmentgroup\":\"True\",\"hovertemplate\":\"color=PERSONALIZATION<br>x=%{x}<br>y=%{y}<extra></extra>\",\"legendgroup\":\"PERSONALIZATION\",\"marker\":{\"color\":\"#00cc96\",\"pattern\":{\"shape\":\"\"}},\"name\":\"PERSONALIZATION\",\"offsetgroup\":\"PERSONALIZATION\",\"orientation\":\"v\",\"showlegend\":true,\"textposition\":\"auto\",\"type\":\"bar\",\"x\":[\"PERSONALIZATION\"],\"xaxis\":\"x\",\"y\":[83],\"yaxis\":\"y\"},{\"alignmentgroup\":\"True\",\"hovertemplate\":\"color=GAME<br>x=%{x}<br>y=%{y}<extra></extra>\",\"legendgroup\":\"GAME\",\"marker\":{\"color\":\"#ab63fa\",\"pattern\":{\"shape\":\"\"}},\"name\":\"GAME\",\"offsetgroup\":\"GAME\",\"orientation\":\"v\",\"showlegend\":true,\"textposition\":\"auto\",\"type\":\"bar\",\"x\":[\"GAME\"],\"xaxis\":\"x\",\"y\":[83],\"yaxis\":\"y\"},{\"alignmentgroup\":\"True\",\"hovertemplate\":\"color=TOOLS<br>x=%{x}<br>y=%{y}<extra></extra>\",\"legendgroup\":\"TOOLS\",\"marker\":{\"color\":\"#FFA15A\",\"pattern\":{\"shape\":\"\"}},\"name\":\"TOOLS\",\"offsetgroup\":\"TOOLS\",\"orientation\":\"v\",\"showlegend\":true,\"textposition\":\"auto\",\"type\":\"bar\",\"x\":[\"TOOLS\"],\"xaxis\":\"x\",\"y\":[78],\"yaxis\":\"y\"},{\"alignmentgroup\":\"True\",\"hovertemplate\":\"color=PRODUCTIVITY<br>x=%{x}<br>y=%{y}<extra></extra>\",\"legendgroup\":\"PRODUCTIVITY\",\"marker\":{\"color\":\"#19d3f3\",\"pattern\":{\"shape\":\"\"}},\"name\":\"PRODUCTIVITY\",\"offsetgroup\":\"PRODUCTIVITY\",\"orientation\":\"v\",\"showlegend\":true,\"textposition\":\"auto\",\"type\":\"bar\",\"x\":[\"PRODUCTIVITY\"],\"xaxis\":\"x\",\"y\":[28],\"yaxis\":\"y\"},{\"alignmentgroup\":\"True\",\"hovertemplate\":\"color=BOOKS_AND_REFERENCE<br>x=%{x}<br>y=%{y}<extra></extra>\",\"legendgroup\":\"BOOKS_AND_REFERENCE\",\"marker\":{\"color\":\"#FF6692\",\"pattern\":{\"shape\":\"\"}},\"name\":\"BOOKS_AND_REFERENCE\",\"offsetgroup\":\"BOOKS_AND_REFERENCE\",\"orientation\":\"v\",\"showlegend\":true,\"textposition\":\"auto\",\"type\":\"bar\",\"x\":[\"BOOKS_AND_REFERENCE\"],\"xaxis\":\"x\",\"y\":[28],\"yaxis\":\"y\"},{\"alignmentgroup\":\"True\",\"hovertemplate\":\"color=COMMUNICATION<br>x=%{x}<br>y=%{y}<extra></extra>\",\"legendgroup\":\"COMMUNICATION\",\"marker\":{\"color\":\"#B6E880\",\"pattern\":{\"shape\":\"\"}},\"name\":\"COMMUNICATION\",\"offsetgroup\":\"COMMUNICATION\",\"orientation\":\"v\",\"showlegend\":true,\"textposition\":\"auto\",\"type\":\"bar\",\"x\":[\"COMMUNICATION\"],\"xaxis\":\"x\",\"y\":[27],\"yaxis\":\"y\"},{\"alignmentgroup\":\"True\",\"hovertemplate\":\"color=SPORTS<br>x=%{x}<br>y=%{y}<extra></extra>\",\"legendgroup\":\"SPORTS\",\"marker\":{\"color\":\"#FF97FF\",\"pattern\":{\"shape\":\"\"}},\"name\":\"SPORTS\",\"offsetgroup\":\"SPORTS\",\"orientation\":\"v\",\"showlegend\":true,\"textposition\":\"auto\",\"type\":\"bar\",\"x\":[\"SPORTS\"],\"xaxis\":\"x\",\"y\":[24],\"yaxis\":\"y\"},{\"alignmentgroup\":\"True\",\"hovertemplate\":\"color=PHOTOGRAPHY<br>x=%{x}<br>y=%{y}<extra></extra>\",\"legendgroup\":\"PHOTOGRAPHY\",\"marker\":{\"color\":\"#FECB52\",\"pattern\":{\"shape\":\"\"}},\"name\":\"PHOTOGRAPHY\",\"offsetgroup\":\"PHOTOGRAPHY\",\"orientation\":\"v\",\"showlegend\":true,\"textposition\":\"auto\",\"type\":\"bar\",\"x\":[\"PHOTOGRAPHY\"],\"xaxis\":\"x\",\"y\":[22],\"yaxis\":\"y\"},{\"alignmentgroup\":\"True\",\"hovertemplate\":\"color=LIFESTYLE<br>x=%{x}<br>y=%{y}<extra></extra>\",\"legendgroup\":\"LIFESTYLE\",\"marker\":{\"color\":\"#636efa\",\"pattern\":{\"shape\":\"\"}},\"name\":\"LIFESTYLE\",\"offsetgroup\":\"LIFESTYLE\",\"orientation\":\"v\",\"showlegend\":true,\"textposition\":\"auto\",\"type\":\"bar\",\"x\":[\"LIFESTYLE\"],\"xaxis\":\"x\",\"y\":[19],\"yaxis\":\"y\"},{\"alignmentgroup\":\"True\",\"hovertemplate\":\"color=FINANCE<br>x=%{x}<br>y=%{y}<extra></extra>\",\"legendgroup\":\"FINANCE\",\"marker\":{\"color\":\"#EF553B\",\"pattern\":{\"shape\":\"\"}},\"name\":\"FINANCE\",\"offsetgroup\":\"FINANCE\",\"orientation\":\"v\",\"showlegend\":true,\"textposition\":\"auto\",\"type\":\"bar\",\"x\":[\"FINANCE\"],\"xaxis\":\"x\",\"y\":[17],\"yaxis\":\"y\"},{\"alignmentgroup\":\"True\",\"hovertemplate\":\"color=HEALTH_AND_FITNESS<br>x=%{x}<br>y=%{y}<extra></extra>\",\"legendgroup\":\"HEALTH_AND_FITNESS\",\"marker\":{\"color\":\"#00cc96\",\"pattern\":{\"shape\":\"\"}},\"name\":\"HEALTH_AND_FITNESS\",\"offsetgroup\":\"HEALTH_AND_FITNESS\",\"orientation\":\"v\",\"showlegend\":true,\"textposition\":\"auto\",\"type\":\"bar\",\"x\":[\"HEALTH_AND_FITNESS\"],\"xaxis\":\"x\",\"y\":[16],\"yaxis\":\"y\"},{\"alignmentgroup\":\"True\",\"hovertemplate\":\"color=BUSINESS<br>x=%{x}<br>y=%{y}<extra></extra>\",\"legendgroup\":\"BUSINESS\",\"marker\":{\"color\":\"#ab63fa\",\"pattern\":{\"shape\":\"\"}},\"name\":\"BUSINESS\",\"offsetgroup\":\"BUSINESS\",\"orientation\":\"v\",\"showlegend\":true,\"textposition\":\"auto\",\"type\":\"bar\",\"x\":[\"BUSINESS\"],\"xaxis\":\"x\",\"y\":[14],\"yaxis\":\"y\"},{\"alignmentgroup\":\"True\",\"hovertemplate\":\"color=TRAVEL_AND_LOCAL<br>x=%{x}<br>y=%{y}<extra></extra>\",\"legendgroup\":\"TRAVEL_AND_LOCAL\",\"marker\":{\"color\":\"#FFA15A\",\"pattern\":{\"shape\":\"\"}},\"name\":\"TRAVEL_AND_LOCAL\",\"offsetgroup\":\"TRAVEL_AND_LOCAL\",\"orientation\":\"v\",\"showlegend\":true,\"textposition\":\"auto\",\"type\":\"bar\",\"x\":[\"TRAVEL_AND_LOCAL\"],\"xaxis\":\"x\",\"y\":[12],\"yaxis\":\"y\"},{\"alignmentgroup\":\"True\",\"hovertemplate\":\"color=WEATHER<br>x=%{x}<br>y=%{y}<extra></extra>\",\"legendgroup\":\"WEATHER\",\"marker\":{\"color\":\"#19d3f3\",\"pattern\":{\"shape\":\"\"}},\"name\":\"WEATHER\",\"offsetgroup\":\"WEATHER\",\"orientation\":\"v\",\"showlegend\":true,\"textposition\":\"auto\",\"type\":\"bar\",\"x\":[\"WEATHER\"],\"xaxis\":\"x\",\"y\":[8],\"yaxis\":\"y\"},{\"alignmentgroup\":\"True\",\"hovertemplate\":\"color=DATING<br>x=%{x}<br>y=%{y}<extra></extra>\",\"legendgroup\":\"DATING\",\"marker\":{\"color\":\"#FF6692\",\"pattern\":{\"shape\":\"\"}},\"name\":\"DATING\",\"offsetgroup\":\"DATING\",\"orientation\":\"v\",\"showlegend\":true,\"textposition\":\"auto\",\"type\":\"bar\",\"x\":[\"DATING\"],\"xaxis\":\"x\",\"y\":[7],\"yaxis\":\"y\"},{\"alignmentgroup\":\"True\",\"hovertemplate\":\"color=MAPS_AND_NAVIGATION<br>x=%{x}<br>y=%{y}<extra></extra>\",\"legendgroup\":\"MAPS_AND_NAVIGATION\",\"marker\":{\"color\":\"#B6E880\",\"pattern\":{\"shape\":\"\"}},\"name\":\"MAPS_AND_NAVIGATION\",\"offsetgroup\":\"MAPS_AND_NAVIGATION\",\"orientation\":\"v\",\"showlegend\":true,\"textposition\":\"auto\",\"type\":\"bar\",\"x\":[\"MAPS_AND_NAVIGATION\"],\"xaxis\":\"x\",\"y\":[5],\"yaxis\":\"y\"},{\"alignmentgroup\":\"True\",\"hovertemplate\":\"color=EDUCATION<br>x=%{x}<br>y=%{y}<extra></extra>\",\"legendgroup\":\"EDUCATION\",\"marker\":{\"color\":\"#FF97FF\",\"pattern\":{\"shape\":\"\"}},\"name\":\"EDUCATION\",\"offsetgroup\":\"EDUCATION\",\"orientation\":\"v\",\"showlegend\":true,\"textposition\":\"auto\",\"type\":\"bar\",\"x\":[\"EDUCATION\"],\"xaxis\":\"x\",\"y\":[4],\"yaxis\":\"y\"},{\"alignmentgroup\":\"True\",\"hovertemplate\":\"color=VIDEO_PLAYERS<br>x=%{x}<br>y=%{y}<extra></extra>\",\"legendgroup\":\"VIDEO_PLAYERS\",\"marker\":{\"color\":\"#FECB52\",\"pattern\":{\"shape\":\"\"}},\"name\":\"VIDEO_PLAYERS\",\"offsetgroup\":\"VIDEO_PLAYERS\",\"orientation\":\"v\",\"showlegend\":true,\"textposition\":\"auto\",\"type\":\"bar\",\"x\":[\"VIDEO_PLAYERS\"],\"xaxis\":\"x\",\"y\":[4],\"yaxis\":\"y\"},{\"alignmentgroup\":\"True\",\"hovertemplate\":\"color=SOCIAL<br>x=%{x}<br>y=%{y}<extra></extra>\",\"legendgroup\":\"SOCIAL\",\"marker\":{\"color\":\"#636efa\",\"pattern\":{\"shape\":\"\"}},\"name\":\"SOCIAL\",\"offsetgroup\":\"SOCIAL\",\"orientation\":\"v\",\"showlegend\":true,\"textposition\":\"auto\",\"type\":\"bar\",\"x\":[\"SOCIAL\"],\"xaxis\":\"x\",\"y\":[3],\"yaxis\":\"y\"},{\"alignmentgroup\":\"True\",\"hovertemplate\":\"color=ART_AND_DESIGN<br>x=%{x}<br>y=%{y}<extra></extra>\",\"legendgroup\":\"ART_AND_DESIGN\",\"marker\":{\"color\":\"#EF553B\",\"pattern\":{\"shape\":\"\"}},\"name\":\"ART_AND_DESIGN\",\"offsetgroup\":\"ART_AND_DESIGN\",\"orientation\":\"v\",\"showlegend\":true,\"textposition\":\"auto\",\"type\":\"bar\",\"x\":[\"ART_AND_DESIGN\"],\"xaxis\":\"x\",\"y\":[3],\"yaxis\":\"y\"},{\"alignmentgroup\":\"True\",\"hovertemplate\":\"color=AUTO_AND_VEHICLES<br>x=%{x}<br>y=%{y}<extra></extra>\",\"legendgroup\":\"AUTO_AND_VEHICLES\",\"marker\":{\"color\":\"#00cc96\",\"pattern\":{\"shape\":\"\"}},\"name\":\"AUTO_AND_VEHICLES\",\"offsetgroup\":\"AUTO_AND_VEHICLES\",\"orientation\":\"v\",\"showlegend\":true,\"textposition\":\"auto\",\"type\":\"bar\",\"x\":[\"AUTO_AND_VEHICLES\"],\"xaxis\":\"x\",\"y\":[3],\"yaxis\":\"y\"},{\"alignmentgroup\":\"True\",\"hovertemplate\":\"color=FOOD_AND_DRINK<br>x=%{x}<br>y=%{y}<extra></extra>\",\"legendgroup\":\"FOOD_AND_DRINK\",\"marker\":{\"color\":\"#ab63fa\",\"pattern\":{\"shape\":\"\"}},\"name\":\"FOOD_AND_DRINK\",\"offsetgroup\":\"FOOD_AND_DRINK\",\"orientation\":\"v\",\"showlegend\":true,\"textposition\":\"auto\",\"type\":\"bar\",\"x\":[\"FOOD_AND_DRINK\"],\"xaxis\":\"x\",\"y\":[2],\"yaxis\":\"y\"},{\"alignmentgroup\":\"True\",\"hovertemplate\":\"color=PARENTING<br>x=%{x}<br>y=%{y}<extra></extra>\",\"legendgroup\":\"PARENTING\",\"marker\":{\"color\":\"#FFA15A\",\"pattern\":{\"shape\":\"\"}},\"name\":\"PARENTING\",\"offsetgroup\":\"PARENTING\",\"orientation\":\"v\",\"showlegend\":true,\"textposition\":\"auto\",\"type\":\"bar\",\"x\":[\"PARENTING\"],\"xaxis\":\"x\",\"y\":[2],\"yaxis\":\"y\"},{\"alignmentgroup\":\"True\",\"hovertemplate\":\"color=SHOPPING<br>x=%{x}<br>y=%{y}<extra></extra>\",\"legendgroup\":\"SHOPPING\",\"marker\":{\"color\":\"#19d3f3\",\"pattern\":{\"shape\":\"\"}},\"name\":\"SHOPPING\",\"offsetgroup\":\"SHOPPING\",\"orientation\":\"v\",\"showlegend\":true,\"textposition\":\"auto\",\"type\":\"bar\",\"x\":[\"SHOPPING\"],\"xaxis\":\"x\",\"y\":[2],\"yaxis\":\"y\"},{\"alignmentgroup\":\"True\",\"hovertemplate\":\"color=ENTERTAINMENT<br>x=%{x}<br>y=%{y}<extra></extra>\",\"legendgroup\":\"ENTERTAINMENT\",\"marker\":{\"color\":\"#FF6692\",\"pattern\":{\"shape\":\"\"}},\"name\":\"ENTERTAINMENT\",\"offsetgroup\":\"ENTERTAINMENT\",\"orientation\":\"v\",\"showlegend\":true,\"textposition\":\"auto\",\"type\":\"bar\",\"x\":[\"ENTERTAINMENT\"],\"xaxis\":\"x\",\"y\":[2],\"yaxis\":\"y\"},{\"alignmentgroup\":\"True\",\"hovertemplate\":\"color=NEWS_AND_MAGAZINES<br>x=%{x}<br>y=%{y}<extra></extra>\",\"legendgroup\":\"NEWS_AND_MAGAZINES\",\"marker\":{\"color\":\"#B6E880\",\"pattern\":{\"shape\":\"\"}},\"name\":\"NEWS_AND_MAGAZINES\",\"offsetgroup\":\"NEWS_AND_MAGAZINES\",\"orientation\":\"v\",\"showlegend\":true,\"textposition\":\"auto\",\"type\":\"bar\",\"x\":[\"NEWS_AND_MAGAZINES\"],\"xaxis\":\"x\",\"y\":[2],\"yaxis\":\"y\"},{\"alignmentgroup\":\"True\",\"hovertemplate\":\"color=EVENTS<br>x=%{x}<br>y=%{y}<extra></extra>\",\"legendgroup\":\"EVENTS\",\"marker\":{\"color\":\"#FF97FF\",\"pattern\":{\"shape\":\"\"}},\"name\":\"EVENTS\",\"offsetgroup\":\"EVENTS\",\"orientation\":\"v\",\"showlegend\":true,\"textposition\":\"auto\",\"type\":\"bar\",\"x\":[\"EVENTS\"],\"xaxis\":\"x\",\"y\":[1],\"yaxis\":\"y\"},{\"alignmentgroup\":\"True\",\"hovertemplate\":\"color=LIBRARIES_AND_DEMO<br>x=%{x}<br>y=%{y}<extra></extra>\",\"legendgroup\":\"LIBRARIES_AND_DEMO\",\"marker\":{\"color\":\"#FECB52\",\"pattern\":{\"shape\":\"\"}},\"name\":\"LIBRARIES_AND_DEMO\",\"offsetgroup\":\"LIBRARIES_AND_DEMO\",\"orientation\":\"v\",\"showlegend\":true,\"textposition\":\"auto\",\"type\":\"bar\",\"x\":[\"LIBRARIES_AND_DEMO\"],\"xaxis\":\"x\",\"y\":[1],\"yaxis\":\"y\"}],                        {\"barmode\":\"relative\",\"legend\":{\"title\":{\"text\":\"color\"},\"tracegroupgap\":0},\"margin\":{\"t\":60},\"template\":{\"data\":{\"bar\":[{\"error_x\":{\"color\":\"#2a3f5f\"},\"error_y\":{\"color\":\"#2a3f5f\"},\"marker\":{\"line\":{\"color\":\"#E5ECF6\",\"width\":0.5},\"pattern\":{\"fillmode\":\"overlay\",\"size\":10,\"solidity\":0.2}},\"type\":\"bar\"}],\"barpolar\":[{\"marker\":{\"line\":{\"color\":\"#E5ECF6\",\"width\":0.5},\"pattern\":{\"fillmode\":\"overlay\",\"size\":10,\"solidity\":0.2}},\"type\":\"barpolar\"}],\"carpet\":[{\"aaxis\":{\"endlinecolor\":\"#2a3f5f\",\"gridcolor\":\"white\",\"linecolor\":\"white\",\"minorgridcolor\":\"white\",\"startlinecolor\":\"#2a3f5f\"},\"baxis\":{\"endlinecolor\":\"#2a3f5f\",\"gridcolor\":\"white\",\"linecolor\":\"white\",\"minorgridcolor\":\"white\",\"startlinecolor\":\"#2a3f5f\"},\"type\":\"carpet\"}],\"choropleth\":[{\"colorbar\":{\"outlinewidth\":0,\"ticks\":\"\"},\"type\":\"choropleth\"}],\"contour\":[{\"colorbar\":{\"outlinewidth\":0,\"ticks\":\"\"},\"colorscale\":[[0.0,\"#0d0887\"],[0.1111111111111111,\"#46039f\"],[0.2222222222222222,\"#7201a8\"],[0.3333333333333333,\"#9c179e\"],[0.4444444444444444,\"#bd3786\"],[0.5555555555555556,\"#d8576b\"],[0.6666666666666666,\"#ed7953\"],[0.7777777777777778,\"#fb9f3a\"],[0.8888888888888888,\"#fdca26\"],[1.0,\"#f0f921\"]],\"type\":\"contour\"}],\"contourcarpet\":[{\"colorbar\":{\"outlinewidth\":0,\"ticks\":\"\"},\"type\":\"contourcarpet\"}],\"heatmap\":[{\"colorbar\":{\"outlinewidth\":0,\"ticks\":\"\"},\"colorscale\":[[0.0,\"#0d0887\"],[0.1111111111111111,\"#46039f\"],[0.2222222222222222,\"#7201a8\"],[0.3333333333333333,\"#9c179e\"],[0.4444444444444444,\"#bd3786\"],[0.5555555555555556,\"#d8576b\"],[0.6666666666666666,\"#ed7953\"],[0.7777777777777778,\"#fb9f3a\"],[0.8888888888888888,\"#fdca26\"],[1.0,\"#f0f921\"]],\"type\":\"heatmap\"}],\"heatmapgl\":[{\"colorbar\":{\"outlinewidth\":0,\"ticks\":\"\"},\"colorscale\":[[0.0,\"#0d0887\"],[0.1111111111111111,\"#46039f\"],[0.2222222222222222,\"#7201a8\"],[0.3333333333333333,\"#9c179e\"],[0.4444444444444444,\"#bd3786\"],[0.5555555555555556,\"#d8576b\"],[0.6666666666666666,\"#ed7953\"],[0.7777777777777778,\"#fb9f3a\"],[0.8888888888888888,\"#fdca26\"],[1.0,\"#f0f921\"]],\"type\":\"heatmapgl\"}],\"histogram\":[{\"marker\":{\"pattern\":{\"fillmode\":\"overlay\",\"size\":10,\"solidity\":0.2}},\"type\":\"histogram\"}],\"histogram2d\":[{\"colorbar\":{\"outlinewidth\":0,\"ticks\":\"\"},\"colorscale\":[[0.0,\"#0d0887\"],[0.1111111111111111,\"#46039f\"],[0.2222222222222222,\"#7201a8\"],[0.3333333333333333,\"#9c179e\"],[0.4444444444444444,\"#bd3786\"],[0.5555555555555556,\"#d8576b\"],[0.6666666666666666,\"#ed7953\"],[0.7777777777777778,\"#fb9f3a\"],[0.8888888888888888,\"#fdca26\"],[1.0,\"#f0f921\"]],\"type\":\"histogram2d\"}],\"histogram2dcontour\":[{\"colorbar\":{\"outlinewidth\":0,\"ticks\":\"\"},\"colorscale\":[[0.0,\"#0d0887\"],[0.1111111111111111,\"#46039f\"],[0.2222222222222222,\"#7201a8\"],[0.3333333333333333,\"#9c179e\"],[0.4444444444444444,\"#bd3786\"],[0.5555555555555556,\"#d8576b\"],[0.6666666666666666,\"#ed7953\"],[0.7777777777777778,\"#fb9f3a\"],[0.8888888888888888,\"#fdca26\"],[1.0,\"#f0f921\"]],\"type\":\"histogram2dcontour\"}],\"mesh3d\":[{\"colorbar\":{\"outlinewidth\":0,\"ticks\":\"\"},\"type\":\"mesh3d\"}],\"parcoords\":[{\"line\":{\"colorbar\":{\"outlinewidth\":0,\"ticks\":\"\"}},\"type\":\"parcoords\"}],\"pie\":[{\"automargin\":true,\"type\":\"pie\"}],\"scatter\":[{\"marker\":{\"colorbar\":{\"outlinewidth\":0,\"ticks\":\"\"}},\"type\":\"scatter\"}],\"scatter3d\":[{\"line\":{\"colorbar\":{\"outlinewidth\":0,\"ticks\":\"\"}},\"marker\":{\"colorbar\":{\"outlinewidth\":0,\"ticks\":\"\"}},\"type\":\"scatter3d\"}],\"scattercarpet\":[{\"marker\":{\"colorbar\":{\"outlinewidth\":0,\"ticks\":\"\"}},\"type\":\"scattercarpet\"}],\"scattergeo\":[{\"marker\":{\"colorbar\":{\"outlinewidth\":0,\"ticks\":\"\"}},\"type\":\"scattergeo\"}],\"scattergl\":[{\"marker\":{\"colorbar\":{\"outlinewidth\":0,\"ticks\":\"\"}},\"type\":\"scattergl\"}],\"scattermapbox\":[{\"marker\":{\"colorbar\":{\"outlinewidth\":0,\"ticks\":\"\"}},\"type\":\"scattermapbox\"}],\"scatterpolar\":[{\"marker\":{\"colorbar\":{\"outlinewidth\":0,\"ticks\":\"\"}},\"type\":\"scatterpolar\"}],\"scatterpolargl\":[{\"marker\":{\"colorbar\":{\"outlinewidth\":0,\"ticks\":\"\"}},\"type\":\"scatterpolargl\"}],\"scatterternary\":[{\"marker\":{\"colorbar\":{\"outlinewidth\":0,\"ticks\":\"\"}},\"type\":\"scatterternary\"}],\"surface\":[{\"colorbar\":{\"outlinewidth\":0,\"ticks\":\"\"},\"colorscale\":[[0.0,\"#0d0887\"],[0.1111111111111111,\"#46039f\"],[0.2222222222222222,\"#7201a8\"],[0.3333333333333333,\"#9c179e\"],[0.4444444444444444,\"#bd3786\"],[0.5555555555555556,\"#d8576b\"],[0.6666666666666666,\"#ed7953\"],[0.7777777777777778,\"#fb9f3a\"],[0.8888888888888888,\"#fdca26\"],[1.0,\"#f0f921\"]],\"type\":\"surface\"}],\"table\":[{\"cells\":{\"fill\":{\"color\":\"#EBF0F8\"},\"line\":{\"color\":\"white\"}},\"header\":{\"fill\":{\"color\":\"#C8D4E3\"},\"line\":{\"color\":\"white\"}},\"type\":\"table\"}]},\"layout\":{\"annotationdefaults\":{\"arrowcolor\":\"#2a3f5f\",\"arrowhead\":0,\"arrowwidth\":1},\"autotypenumbers\":\"strict\",\"coloraxis\":{\"colorbar\":{\"outlinewidth\":0,\"ticks\":\"\"}},\"colorscale\":{\"diverging\":[[0,\"#8e0152\"],[0.1,\"#c51b7d\"],[0.2,\"#de77ae\"],[0.3,\"#f1b6da\"],[0.4,\"#fde0ef\"],[0.5,\"#f7f7f7\"],[0.6,\"#e6f5d0\"],[0.7,\"#b8e186\"],[0.8,\"#7fbc41\"],[0.9,\"#4d9221\"],[1,\"#276419\"]],\"sequential\":[[0.0,\"#0d0887\"],[0.1111111111111111,\"#46039f\"],[0.2222222222222222,\"#7201a8\"],[0.3333333333333333,\"#9c179e\"],[0.4444444444444444,\"#bd3786\"],[0.5555555555555556,\"#d8576b\"],[0.6666666666666666,\"#ed7953\"],[0.7777777777777778,\"#fb9f3a\"],[0.8888888888888888,\"#fdca26\"],[1.0,\"#f0f921\"]],\"sequentialminus\":[[0.0,\"#0d0887\"],[0.1111111111111111,\"#46039f\"],[0.2222222222222222,\"#7201a8\"],[0.3333333333333333,\"#9c179e\"],[0.4444444444444444,\"#bd3786\"],[0.5555555555555556,\"#d8576b\"],[0.6666666666666666,\"#ed7953\"],[0.7777777777777778,\"#fb9f3a\"],[0.8888888888888888,\"#fdca26\"],[1.0,\"#f0f921\"]]},\"colorway\":[\"#636efa\",\"#EF553B\",\"#00cc96\",\"#ab63fa\",\"#FFA15A\",\"#19d3f3\",\"#FF6692\",\"#B6E880\",\"#FF97FF\",\"#FECB52\"],\"font\":{\"color\":\"#2a3f5f\"},\"geo\":{\"bgcolor\":\"white\",\"lakecolor\":\"white\",\"landcolor\":\"#E5ECF6\",\"showlakes\":true,\"showland\":true,\"subunitcolor\":\"white\"},\"hoverlabel\":{\"align\":\"left\"},\"hovermode\":\"closest\",\"mapbox\":{\"style\":\"light\"},\"paper_bgcolor\":\"white\",\"plot_bgcolor\":\"#E5ECF6\",\"polar\":{\"angularaxis\":{\"gridcolor\":\"white\",\"linecolor\":\"white\",\"ticks\":\"\"},\"bgcolor\":\"#E5ECF6\",\"radialaxis\":{\"gridcolor\":\"white\",\"linecolor\":\"white\",\"ticks\":\"\"}},\"scene\":{\"xaxis\":{\"backgroundcolor\":\"#E5ECF6\",\"gridcolor\":\"white\",\"gridwidth\":2,\"linecolor\":\"white\",\"showbackground\":true,\"ticks\":\"\",\"zerolinecolor\":\"white\"},\"yaxis\":{\"backgroundcolor\":\"#E5ECF6\",\"gridcolor\":\"white\",\"gridwidth\":2,\"linecolor\":\"white\",\"showbackground\":true,\"ticks\":\"\",\"zerolinecolor\":\"white\"},\"zaxis\":{\"backgroundcolor\":\"#E5ECF6\",\"gridcolor\":\"white\",\"gridwidth\":2,\"linecolor\":\"white\",\"showbackground\":true,\"ticks\":\"\",\"zerolinecolor\":\"white\"}},\"shapedefaults\":{\"line\":{\"color\":\"#2a3f5f\"}},\"ternary\":{\"aaxis\":{\"gridcolor\":\"white\",\"linecolor\":\"white\",\"ticks\":\"\"},\"baxis\":{\"gridcolor\":\"white\",\"linecolor\":\"white\",\"ticks\":\"\"},\"bgcolor\":\"#E5ECF6\",\"caxis\":{\"gridcolor\":\"white\",\"linecolor\":\"white\",\"ticks\":\"\"}},\"title\":{\"x\":0.05},\"xaxis\":{\"automargin\":true,\"gridcolor\":\"white\",\"linecolor\":\"white\",\"ticks\":\"\",\"title\":{\"standoff\":15},\"zerolinecolor\":\"white\",\"zerolinewidth\":2},\"yaxis\":{\"automargin\":true,\"gridcolor\":\"white\",\"linecolor\":\"white\",\"ticks\":\"\",\"title\":{\"standoff\":15},\"zerolinecolor\":\"white\",\"zerolinewidth\":2}}},\"xaxis\":{\"anchor\":\"y\",\"domain\":[0.0,1.0],\"title\":{\"text\":\"x\"}},\"yaxis\":{\"anchor\":\"x\",\"domain\":[0.0,1.0],\"title\":{\"text\":\"y\"}}},                        {\"responsive\": true}                    ).then(function(){\n",
       "                            \n",
       "var gd = document.getElementById('1f186d82-ee86-4884-b087-4667bdeef8b7');\n",
       "var x = new MutationObserver(function (mutations, observer) {{\n",
       "        var display = window.getComputedStyle(gd).display;\n",
       "        if (!display || display === 'none') {{\n",
       "            console.log([gd, 'removed!']);\n",
       "            Plotly.purge(gd);\n",
       "            observer.disconnect();\n",
       "        }}\n",
       "}});\n",
       "\n",
       "// Listen for the removal of the full notebook cells\n",
       "var notebookContainer = gd.closest('#notebook-container');\n",
       "if (notebookContainer) {{\n",
       "    x.observe(notebookContainer, {childList: true});\n",
       "}}\n",
       "\n",
       "// Listen for the clearing of the current output cell\n",
       "var outputEl = gd.closest('.output');\n",
       "if (outputEl) {{\n",
       "    x.observe(outputEl, {childList: true});\n",
       "}}\n",
       "\n",
       "                        })                };                });            </script>        </div>"
      ]
     },
     "metadata": {},
     "output_type": "display_data"
    }
   ],
   "source": [
    "paid_data = data[data.Type=='Paid']\n",
    "px.bar(paid_data,x = paid_data['Category'].value_counts().index, y = paid_data['Category'].value_counts().values, color = paid_data['Category'].value_counts().index)"
   ]
  },
  {
   "cell_type": "markdown",
   "id": "03a89013",
   "metadata": {},
   "source": [
    "# which are the categories with highest number of paid installations?"
   ]
  },
  {
   "cell_type": "code",
   "execution_count": 17,
   "id": "6b27690d",
   "metadata": {},
   "outputs": [
    {
     "data": {
      "application/vnd.plotly.v1+json": {
       "config": {
        "plotlyServerURL": "https://plot.ly"
       },
       "data": [
        {
         "alignmentgroup": "True",
         "hovertemplate": "x=%{x}<br>y=%{y}<br>color=%{marker.color}<extra></extra>",
         "legendgroup": "",
         "marker": {
          "color": [
           31271814,
           21099965,
           5258794,
           3978740,
           1727441,
           1412055,
           1360050,
           1243815,
           1179110,
           1020033,
           812000,
           602000,
           574110,
           412775,
           200000,
           185602,
           183060,
           121100,
           71000,
           60000,
           50150,
           50100,
           23316,
           21350,
           16000,
           10100,
           6000,
           5500,
           100,
           1
          ],
          "coloraxis": "coloraxis",
          "pattern": {
           "shape": ""
          }
         },
         "name": "",
         "offsetgroup": "",
         "orientation": "v",
         "showlegend": false,
         "textposition": "auto",
         "type": "bar",
         "x": [
          "FAMILY",
          "GAME",
          "PERSONALIZATION",
          "PHOTOGRAPHY",
          "TOOLS",
          "PRODUCTIVITY",
          "COMMUNICATION",
          "SPORTS",
          "LIFESTYLE",
          "MEDICAL",
          "WEATHER",
          "EDUCATION",
          "HEALTH_AND_FITNESS",
          "BUSINESS",
          "ENTERTAINMENT",
          "FINANCE",
          "TRAVEL_AND_LOCAL",
          "MAPS_AND_NAVIGATION",
          "VIDEO_PLAYERS",
          "FOOD_AND_DRINK",
          "AUTO_AND_VEHICLES",
          "PARENTING",
          "BOOKS_AND_REFERENCE",
          "DATING",
          "ART_AND_DESIGN",
          "SHOPPING",
          "SOCIAL",
          "NEWS_AND_MAGAZINES",
          "LIBRARIES_AND_DEMO",
          "EVENTS"
         ],
         "xaxis": "x",
         "y": [
          31271814,
          21099965,
          5258794,
          3978740,
          1727441,
          1412055,
          1360050,
          1243815,
          1179110,
          1020033,
          812000,
          602000,
          574110,
          412775,
          200000,
          185602,
          183060,
          121100,
          71000,
          60000,
          50150,
          50100,
          23316,
          21350,
          16000,
          10100,
          6000,
          5500,
          100,
          1
         ],
         "yaxis": "y"
        }
       ],
       "layout": {
        "barmode": "relative",
        "coloraxis": {
         "colorbar": {
          "title": {
           "text": "color"
          }
         },
         "colorscale": [
          [
           0,
           "#0d0887"
          ],
          [
           0.1111111111111111,
           "#46039f"
          ],
          [
           0.2222222222222222,
           "#7201a8"
          ],
          [
           0.3333333333333333,
           "#9c179e"
          ],
          [
           0.4444444444444444,
           "#bd3786"
          ],
          [
           0.5555555555555556,
           "#d8576b"
          ],
          [
           0.6666666666666666,
           "#ed7953"
          ],
          [
           0.7777777777777778,
           "#fb9f3a"
          ],
          [
           0.8888888888888888,
           "#fdca26"
          ],
          [
           1,
           "#f0f921"
          ]
         ]
        },
        "legend": {
         "tracegroupgap": 0
        },
        "margin": {
         "t": 60
        },
        "template": {
         "data": {
          "bar": [
           {
            "error_x": {
             "color": "#2a3f5f"
            },
            "error_y": {
             "color": "#2a3f5f"
            },
            "marker": {
             "line": {
              "color": "#E5ECF6",
              "width": 0.5
             },
             "pattern": {
              "fillmode": "overlay",
              "size": 10,
              "solidity": 0.2
             }
            },
            "type": "bar"
           }
          ],
          "barpolar": [
           {
            "marker": {
             "line": {
              "color": "#E5ECF6",
              "width": 0.5
             },
             "pattern": {
              "fillmode": "overlay",
              "size": 10,
              "solidity": 0.2
             }
            },
            "type": "barpolar"
           }
          ],
          "carpet": [
           {
            "aaxis": {
             "endlinecolor": "#2a3f5f",
             "gridcolor": "white",
             "linecolor": "white",
             "minorgridcolor": "white",
             "startlinecolor": "#2a3f5f"
            },
            "baxis": {
             "endlinecolor": "#2a3f5f",
             "gridcolor": "white",
             "linecolor": "white",
             "minorgridcolor": "white",
             "startlinecolor": "#2a3f5f"
            },
            "type": "carpet"
           }
          ],
          "choropleth": [
           {
            "colorbar": {
             "outlinewidth": 0,
             "ticks": ""
            },
            "type": "choropleth"
           }
          ],
          "contour": [
           {
            "colorbar": {
             "outlinewidth": 0,
             "ticks": ""
            },
            "colorscale": [
             [
              0,
              "#0d0887"
             ],
             [
              0.1111111111111111,
              "#46039f"
             ],
             [
              0.2222222222222222,
              "#7201a8"
             ],
             [
              0.3333333333333333,
              "#9c179e"
             ],
             [
              0.4444444444444444,
              "#bd3786"
             ],
             [
              0.5555555555555556,
              "#d8576b"
             ],
             [
              0.6666666666666666,
              "#ed7953"
             ],
             [
              0.7777777777777778,
              "#fb9f3a"
             ],
             [
              0.8888888888888888,
              "#fdca26"
             ],
             [
              1,
              "#f0f921"
             ]
            ],
            "type": "contour"
           }
          ],
          "contourcarpet": [
           {
            "colorbar": {
             "outlinewidth": 0,
             "ticks": ""
            },
            "type": "contourcarpet"
           }
          ],
          "heatmap": [
           {
            "colorbar": {
             "outlinewidth": 0,
             "ticks": ""
            },
            "colorscale": [
             [
              0,
              "#0d0887"
             ],
             [
              0.1111111111111111,
              "#46039f"
             ],
             [
              0.2222222222222222,
              "#7201a8"
             ],
             [
              0.3333333333333333,
              "#9c179e"
             ],
             [
              0.4444444444444444,
              "#bd3786"
             ],
             [
              0.5555555555555556,
              "#d8576b"
             ],
             [
              0.6666666666666666,
              "#ed7953"
             ],
             [
              0.7777777777777778,
              "#fb9f3a"
             ],
             [
              0.8888888888888888,
              "#fdca26"
             ],
             [
              1,
              "#f0f921"
             ]
            ],
            "type": "heatmap"
           }
          ],
          "heatmapgl": [
           {
            "colorbar": {
             "outlinewidth": 0,
             "ticks": ""
            },
            "colorscale": [
             [
              0,
              "#0d0887"
             ],
             [
              0.1111111111111111,
              "#46039f"
             ],
             [
              0.2222222222222222,
              "#7201a8"
             ],
             [
              0.3333333333333333,
              "#9c179e"
             ],
             [
              0.4444444444444444,
              "#bd3786"
             ],
             [
              0.5555555555555556,
              "#d8576b"
             ],
             [
              0.6666666666666666,
              "#ed7953"
             ],
             [
              0.7777777777777778,
              "#fb9f3a"
             ],
             [
              0.8888888888888888,
              "#fdca26"
             ],
             [
              1,
              "#f0f921"
             ]
            ],
            "type": "heatmapgl"
           }
          ],
          "histogram": [
           {
            "marker": {
             "pattern": {
              "fillmode": "overlay",
              "size": 10,
              "solidity": 0.2
             }
            },
            "type": "histogram"
           }
          ],
          "histogram2d": [
           {
            "colorbar": {
             "outlinewidth": 0,
             "ticks": ""
            },
            "colorscale": [
             [
              0,
              "#0d0887"
             ],
             [
              0.1111111111111111,
              "#46039f"
             ],
             [
              0.2222222222222222,
              "#7201a8"
             ],
             [
              0.3333333333333333,
              "#9c179e"
             ],
             [
              0.4444444444444444,
              "#bd3786"
             ],
             [
              0.5555555555555556,
              "#d8576b"
             ],
             [
              0.6666666666666666,
              "#ed7953"
             ],
             [
              0.7777777777777778,
              "#fb9f3a"
             ],
             [
              0.8888888888888888,
              "#fdca26"
             ],
             [
              1,
              "#f0f921"
             ]
            ],
            "type": "histogram2d"
           }
          ],
          "histogram2dcontour": [
           {
            "colorbar": {
             "outlinewidth": 0,
             "ticks": ""
            },
            "colorscale": [
             [
              0,
              "#0d0887"
             ],
             [
              0.1111111111111111,
              "#46039f"
             ],
             [
              0.2222222222222222,
              "#7201a8"
             ],
             [
              0.3333333333333333,
              "#9c179e"
             ],
             [
              0.4444444444444444,
              "#bd3786"
             ],
             [
              0.5555555555555556,
              "#d8576b"
             ],
             [
              0.6666666666666666,
              "#ed7953"
             ],
             [
              0.7777777777777778,
              "#fb9f3a"
             ],
             [
              0.8888888888888888,
              "#fdca26"
             ],
             [
              1,
              "#f0f921"
             ]
            ],
            "type": "histogram2dcontour"
           }
          ],
          "mesh3d": [
           {
            "colorbar": {
             "outlinewidth": 0,
             "ticks": ""
            },
            "type": "mesh3d"
           }
          ],
          "parcoords": [
           {
            "line": {
             "colorbar": {
              "outlinewidth": 0,
              "ticks": ""
             }
            },
            "type": "parcoords"
           }
          ],
          "pie": [
           {
            "automargin": true,
            "type": "pie"
           }
          ],
          "scatter": [
           {
            "marker": {
             "colorbar": {
              "outlinewidth": 0,
              "ticks": ""
             }
            },
            "type": "scatter"
           }
          ],
          "scatter3d": [
           {
            "line": {
             "colorbar": {
              "outlinewidth": 0,
              "ticks": ""
             }
            },
            "marker": {
             "colorbar": {
              "outlinewidth": 0,
              "ticks": ""
             }
            },
            "type": "scatter3d"
           }
          ],
          "scattercarpet": [
           {
            "marker": {
             "colorbar": {
              "outlinewidth": 0,
              "ticks": ""
             }
            },
            "type": "scattercarpet"
           }
          ],
          "scattergeo": [
           {
            "marker": {
             "colorbar": {
              "outlinewidth": 0,
              "ticks": ""
             }
            },
            "type": "scattergeo"
           }
          ],
          "scattergl": [
           {
            "marker": {
             "colorbar": {
              "outlinewidth": 0,
              "ticks": ""
             }
            },
            "type": "scattergl"
           }
          ],
          "scattermapbox": [
           {
            "marker": {
             "colorbar": {
              "outlinewidth": 0,
              "ticks": ""
             }
            },
            "type": "scattermapbox"
           }
          ],
          "scatterpolar": [
           {
            "marker": {
             "colorbar": {
              "outlinewidth": 0,
              "ticks": ""
             }
            },
            "type": "scatterpolar"
           }
          ],
          "scatterpolargl": [
           {
            "marker": {
             "colorbar": {
              "outlinewidth": 0,
              "ticks": ""
             }
            },
            "type": "scatterpolargl"
           }
          ],
          "scatterternary": [
           {
            "marker": {
             "colorbar": {
              "outlinewidth": 0,
              "ticks": ""
             }
            },
            "type": "scatterternary"
           }
          ],
          "surface": [
           {
            "colorbar": {
             "outlinewidth": 0,
             "ticks": ""
            },
            "colorscale": [
             [
              0,
              "#0d0887"
             ],
             [
              0.1111111111111111,
              "#46039f"
             ],
             [
              0.2222222222222222,
              "#7201a8"
             ],
             [
              0.3333333333333333,
              "#9c179e"
             ],
             [
              0.4444444444444444,
              "#bd3786"
             ],
             [
              0.5555555555555556,
              "#d8576b"
             ],
             [
              0.6666666666666666,
              "#ed7953"
             ],
             [
              0.7777777777777778,
              "#fb9f3a"
             ],
             [
              0.8888888888888888,
              "#fdca26"
             ],
             [
              1,
              "#f0f921"
             ]
            ],
            "type": "surface"
           }
          ],
          "table": [
           {
            "cells": {
             "fill": {
              "color": "#EBF0F8"
             },
             "line": {
              "color": "white"
             }
            },
            "header": {
             "fill": {
              "color": "#C8D4E3"
             },
             "line": {
              "color": "white"
             }
            },
            "type": "table"
           }
          ]
         },
         "layout": {
          "annotationdefaults": {
           "arrowcolor": "#2a3f5f",
           "arrowhead": 0,
           "arrowwidth": 1
          },
          "autotypenumbers": "strict",
          "coloraxis": {
           "colorbar": {
            "outlinewidth": 0,
            "ticks": ""
           }
          },
          "colorscale": {
           "diverging": [
            [
             0,
             "#8e0152"
            ],
            [
             0.1,
             "#c51b7d"
            ],
            [
             0.2,
             "#de77ae"
            ],
            [
             0.3,
             "#f1b6da"
            ],
            [
             0.4,
             "#fde0ef"
            ],
            [
             0.5,
             "#f7f7f7"
            ],
            [
             0.6,
             "#e6f5d0"
            ],
            [
             0.7,
             "#b8e186"
            ],
            [
             0.8,
             "#7fbc41"
            ],
            [
             0.9,
             "#4d9221"
            ],
            [
             1,
             "#276419"
            ]
           ],
           "sequential": [
            [
             0,
             "#0d0887"
            ],
            [
             0.1111111111111111,
             "#46039f"
            ],
            [
             0.2222222222222222,
             "#7201a8"
            ],
            [
             0.3333333333333333,
             "#9c179e"
            ],
            [
             0.4444444444444444,
             "#bd3786"
            ],
            [
             0.5555555555555556,
             "#d8576b"
            ],
            [
             0.6666666666666666,
             "#ed7953"
            ],
            [
             0.7777777777777778,
             "#fb9f3a"
            ],
            [
             0.8888888888888888,
             "#fdca26"
            ],
            [
             1,
             "#f0f921"
            ]
           ],
           "sequentialminus": [
            [
             0,
             "#0d0887"
            ],
            [
             0.1111111111111111,
             "#46039f"
            ],
            [
             0.2222222222222222,
             "#7201a8"
            ],
            [
             0.3333333333333333,
             "#9c179e"
            ],
            [
             0.4444444444444444,
             "#bd3786"
            ],
            [
             0.5555555555555556,
             "#d8576b"
            ],
            [
             0.6666666666666666,
             "#ed7953"
            ],
            [
             0.7777777777777778,
             "#fb9f3a"
            ],
            [
             0.8888888888888888,
             "#fdca26"
            ],
            [
             1,
             "#f0f921"
            ]
           ]
          },
          "colorway": [
           "#636efa",
           "#EF553B",
           "#00cc96",
           "#ab63fa",
           "#FFA15A",
           "#19d3f3",
           "#FF6692",
           "#B6E880",
           "#FF97FF",
           "#FECB52"
          ],
          "font": {
           "color": "#2a3f5f"
          },
          "geo": {
           "bgcolor": "white",
           "lakecolor": "white",
           "landcolor": "#E5ECF6",
           "showlakes": true,
           "showland": true,
           "subunitcolor": "white"
          },
          "hoverlabel": {
           "align": "left"
          },
          "hovermode": "closest",
          "mapbox": {
           "style": "light"
          },
          "paper_bgcolor": "white",
          "plot_bgcolor": "#E5ECF6",
          "polar": {
           "angularaxis": {
            "gridcolor": "white",
            "linecolor": "white",
            "ticks": ""
           },
           "bgcolor": "#E5ECF6",
           "radialaxis": {
            "gridcolor": "white",
            "linecolor": "white",
            "ticks": ""
           }
          },
          "scene": {
           "xaxis": {
            "backgroundcolor": "#E5ECF6",
            "gridcolor": "white",
            "gridwidth": 2,
            "linecolor": "white",
            "showbackground": true,
            "ticks": "",
            "zerolinecolor": "white"
           },
           "yaxis": {
            "backgroundcolor": "#E5ECF6",
            "gridcolor": "white",
            "gridwidth": 2,
            "linecolor": "white",
            "showbackground": true,
            "ticks": "",
            "zerolinecolor": "white"
           },
           "zaxis": {
            "backgroundcolor": "#E5ECF6",
            "gridcolor": "white",
            "gridwidth": 2,
            "linecolor": "white",
            "showbackground": true,
            "ticks": "",
            "zerolinecolor": "white"
           }
          },
          "shapedefaults": {
           "line": {
            "color": "#2a3f5f"
           }
          },
          "ternary": {
           "aaxis": {
            "gridcolor": "white",
            "linecolor": "white",
            "ticks": ""
           },
           "baxis": {
            "gridcolor": "white",
            "linecolor": "white",
            "ticks": ""
           },
           "bgcolor": "#E5ECF6",
           "caxis": {
            "gridcolor": "white",
            "linecolor": "white",
            "ticks": ""
           }
          },
          "title": {
           "x": 0.05
          },
          "xaxis": {
           "automargin": true,
           "gridcolor": "white",
           "linecolor": "white",
           "ticks": "",
           "title": {
            "standoff": 15
           },
           "zerolinecolor": "white",
           "zerolinewidth": 2
          },
          "yaxis": {
           "automargin": true,
           "gridcolor": "white",
           "linecolor": "white",
           "ticks": "",
           "title": {
            "standoff": 15
           },
           "zerolinecolor": "white",
           "zerolinewidth": 2
          }
         }
        },
        "xaxis": {
         "anchor": "y",
         "domain": [
          0,
          1
         ],
         "title": {
          "text": "x"
         }
        },
        "yaxis": {
         "anchor": "x",
         "domain": [
          0,
          1
         ],
         "title": {
          "text": "y"
         }
        }
       }
      },
      "text/html": [
       "<div>                            <div id=\"92d5bc42-e8d8-45d6-aae3-8b994e38e238\" class=\"plotly-graph-div\" style=\"height:525px; width:100%;\"></div>            <script type=\"text/javascript\">                require([\"plotly\"], function(Plotly) {                    window.PLOTLYENV=window.PLOTLYENV || {};                                    if (document.getElementById(\"92d5bc42-e8d8-45d6-aae3-8b994e38e238\")) {                    Plotly.newPlot(                        \"92d5bc42-e8d8-45d6-aae3-8b994e38e238\",                        [{\"alignmentgroup\":\"True\",\"hovertemplate\":\"x=%{x}<br>y=%{y}<br>color=%{marker.color}<extra></extra>\",\"legendgroup\":\"\",\"marker\":{\"color\":[31271814,21099965,5258794,3978740,1727441,1412055,1360050,1243815,1179110,1020033,812000,602000,574110,412775,200000,185602,183060,121100,71000,60000,50150,50100,23316,21350,16000,10100,6000,5500,100,1],\"coloraxis\":\"coloraxis\",\"pattern\":{\"shape\":\"\"}},\"name\":\"\",\"offsetgroup\":\"\",\"orientation\":\"v\",\"showlegend\":false,\"textposition\":\"auto\",\"type\":\"bar\",\"x\":[\"FAMILY\",\"GAME\",\"PERSONALIZATION\",\"PHOTOGRAPHY\",\"TOOLS\",\"PRODUCTIVITY\",\"COMMUNICATION\",\"SPORTS\",\"LIFESTYLE\",\"MEDICAL\",\"WEATHER\",\"EDUCATION\",\"HEALTH_AND_FITNESS\",\"BUSINESS\",\"ENTERTAINMENT\",\"FINANCE\",\"TRAVEL_AND_LOCAL\",\"MAPS_AND_NAVIGATION\",\"VIDEO_PLAYERS\",\"FOOD_AND_DRINK\",\"AUTO_AND_VEHICLES\",\"PARENTING\",\"BOOKS_AND_REFERENCE\",\"DATING\",\"ART_AND_DESIGN\",\"SHOPPING\",\"SOCIAL\",\"NEWS_AND_MAGAZINES\",\"LIBRARIES_AND_DEMO\",\"EVENTS\"],\"xaxis\":\"x\",\"y\":[31271814,21099965,5258794,3978740,1727441,1412055,1360050,1243815,1179110,1020033,812000,602000,574110,412775,200000,185602,183060,121100,71000,60000,50150,50100,23316,21350,16000,10100,6000,5500,100,1],\"yaxis\":\"y\"}],                        {\"barmode\":\"relative\",\"coloraxis\":{\"colorbar\":{\"title\":{\"text\":\"color\"}},\"colorscale\":[[0.0,\"#0d0887\"],[0.1111111111111111,\"#46039f\"],[0.2222222222222222,\"#7201a8\"],[0.3333333333333333,\"#9c179e\"],[0.4444444444444444,\"#bd3786\"],[0.5555555555555556,\"#d8576b\"],[0.6666666666666666,\"#ed7953\"],[0.7777777777777778,\"#fb9f3a\"],[0.8888888888888888,\"#fdca26\"],[1.0,\"#f0f921\"]]},\"legend\":{\"tracegroupgap\":0},\"margin\":{\"t\":60},\"template\":{\"data\":{\"bar\":[{\"error_x\":{\"color\":\"#2a3f5f\"},\"error_y\":{\"color\":\"#2a3f5f\"},\"marker\":{\"line\":{\"color\":\"#E5ECF6\",\"width\":0.5},\"pattern\":{\"fillmode\":\"overlay\",\"size\":10,\"solidity\":0.2}},\"type\":\"bar\"}],\"barpolar\":[{\"marker\":{\"line\":{\"color\":\"#E5ECF6\",\"width\":0.5},\"pattern\":{\"fillmode\":\"overlay\",\"size\":10,\"solidity\":0.2}},\"type\":\"barpolar\"}],\"carpet\":[{\"aaxis\":{\"endlinecolor\":\"#2a3f5f\",\"gridcolor\":\"white\",\"linecolor\":\"white\",\"minorgridcolor\":\"white\",\"startlinecolor\":\"#2a3f5f\"},\"baxis\":{\"endlinecolor\":\"#2a3f5f\",\"gridcolor\":\"white\",\"linecolor\":\"white\",\"minorgridcolor\":\"white\",\"startlinecolor\":\"#2a3f5f\"},\"type\":\"carpet\"}],\"choropleth\":[{\"colorbar\":{\"outlinewidth\":0,\"ticks\":\"\"},\"type\":\"choropleth\"}],\"contour\":[{\"colorbar\":{\"outlinewidth\":0,\"ticks\":\"\"},\"colorscale\":[[0.0,\"#0d0887\"],[0.1111111111111111,\"#46039f\"],[0.2222222222222222,\"#7201a8\"],[0.3333333333333333,\"#9c179e\"],[0.4444444444444444,\"#bd3786\"],[0.5555555555555556,\"#d8576b\"],[0.6666666666666666,\"#ed7953\"],[0.7777777777777778,\"#fb9f3a\"],[0.8888888888888888,\"#fdca26\"],[1.0,\"#f0f921\"]],\"type\":\"contour\"}],\"contourcarpet\":[{\"colorbar\":{\"outlinewidth\":0,\"ticks\":\"\"},\"type\":\"contourcarpet\"}],\"heatmap\":[{\"colorbar\":{\"outlinewidth\":0,\"ticks\":\"\"},\"colorscale\":[[0.0,\"#0d0887\"],[0.1111111111111111,\"#46039f\"],[0.2222222222222222,\"#7201a8\"],[0.3333333333333333,\"#9c179e\"],[0.4444444444444444,\"#bd3786\"],[0.5555555555555556,\"#d8576b\"],[0.6666666666666666,\"#ed7953\"],[0.7777777777777778,\"#fb9f3a\"],[0.8888888888888888,\"#fdca26\"],[1.0,\"#f0f921\"]],\"type\":\"heatmap\"}],\"heatmapgl\":[{\"colorbar\":{\"outlinewidth\":0,\"ticks\":\"\"},\"colorscale\":[[0.0,\"#0d0887\"],[0.1111111111111111,\"#46039f\"],[0.2222222222222222,\"#7201a8\"],[0.3333333333333333,\"#9c179e\"],[0.4444444444444444,\"#bd3786\"],[0.5555555555555556,\"#d8576b\"],[0.6666666666666666,\"#ed7953\"],[0.7777777777777778,\"#fb9f3a\"],[0.8888888888888888,\"#fdca26\"],[1.0,\"#f0f921\"]],\"type\":\"heatmapgl\"}],\"histogram\":[{\"marker\":{\"pattern\":{\"fillmode\":\"overlay\",\"size\":10,\"solidity\":0.2}},\"type\":\"histogram\"}],\"histogram2d\":[{\"colorbar\":{\"outlinewidth\":0,\"ticks\":\"\"},\"colorscale\":[[0.0,\"#0d0887\"],[0.1111111111111111,\"#46039f\"],[0.2222222222222222,\"#7201a8\"],[0.3333333333333333,\"#9c179e\"],[0.4444444444444444,\"#bd3786\"],[0.5555555555555556,\"#d8576b\"],[0.6666666666666666,\"#ed7953\"],[0.7777777777777778,\"#fb9f3a\"],[0.8888888888888888,\"#fdca26\"],[1.0,\"#f0f921\"]],\"type\":\"histogram2d\"}],\"histogram2dcontour\":[{\"colorbar\":{\"outlinewidth\":0,\"ticks\":\"\"},\"colorscale\":[[0.0,\"#0d0887\"],[0.1111111111111111,\"#46039f\"],[0.2222222222222222,\"#7201a8\"],[0.3333333333333333,\"#9c179e\"],[0.4444444444444444,\"#bd3786\"],[0.5555555555555556,\"#d8576b\"],[0.6666666666666666,\"#ed7953\"],[0.7777777777777778,\"#fb9f3a\"],[0.8888888888888888,\"#fdca26\"],[1.0,\"#f0f921\"]],\"type\":\"histogram2dcontour\"}],\"mesh3d\":[{\"colorbar\":{\"outlinewidth\":0,\"ticks\":\"\"},\"type\":\"mesh3d\"}],\"parcoords\":[{\"line\":{\"colorbar\":{\"outlinewidth\":0,\"ticks\":\"\"}},\"type\":\"parcoords\"}],\"pie\":[{\"automargin\":true,\"type\":\"pie\"}],\"scatter\":[{\"marker\":{\"colorbar\":{\"outlinewidth\":0,\"ticks\":\"\"}},\"type\":\"scatter\"}],\"scatter3d\":[{\"line\":{\"colorbar\":{\"outlinewidth\":0,\"ticks\":\"\"}},\"marker\":{\"colorbar\":{\"outlinewidth\":0,\"ticks\":\"\"}},\"type\":\"scatter3d\"}],\"scattercarpet\":[{\"marker\":{\"colorbar\":{\"outlinewidth\":0,\"ticks\":\"\"}},\"type\":\"scattercarpet\"}],\"scattergeo\":[{\"marker\":{\"colorbar\":{\"outlinewidth\":0,\"ticks\":\"\"}},\"type\":\"scattergeo\"}],\"scattergl\":[{\"marker\":{\"colorbar\":{\"outlinewidth\":0,\"ticks\":\"\"}},\"type\":\"scattergl\"}],\"scattermapbox\":[{\"marker\":{\"colorbar\":{\"outlinewidth\":0,\"ticks\":\"\"}},\"type\":\"scattermapbox\"}],\"scatterpolar\":[{\"marker\":{\"colorbar\":{\"outlinewidth\":0,\"ticks\":\"\"}},\"type\":\"scatterpolar\"}],\"scatterpolargl\":[{\"marker\":{\"colorbar\":{\"outlinewidth\":0,\"ticks\":\"\"}},\"type\":\"scatterpolargl\"}],\"scatterternary\":[{\"marker\":{\"colorbar\":{\"outlinewidth\":0,\"ticks\":\"\"}},\"type\":\"scatterternary\"}],\"surface\":[{\"colorbar\":{\"outlinewidth\":0,\"ticks\":\"\"},\"colorscale\":[[0.0,\"#0d0887\"],[0.1111111111111111,\"#46039f\"],[0.2222222222222222,\"#7201a8\"],[0.3333333333333333,\"#9c179e\"],[0.4444444444444444,\"#bd3786\"],[0.5555555555555556,\"#d8576b\"],[0.6666666666666666,\"#ed7953\"],[0.7777777777777778,\"#fb9f3a\"],[0.8888888888888888,\"#fdca26\"],[1.0,\"#f0f921\"]],\"type\":\"surface\"}],\"table\":[{\"cells\":{\"fill\":{\"color\":\"#EBF0F8\"},\"line\":{\"color\":\"white\"}},\"header\":{\"fill\":{\"color\":\"#C8D4E3\"},\"line\":{\"color\":\"white\"}},\"type\":\"table\"}]},\"layout\":{\"annotationdefaults\":{\"arrowcolor\":\"#2a3f5f\",\"arrowhead\":0,\"arrowwidth\":1},\"autotypenumbers\":\"strict\",\"coloraxis\":{\"colorbar\":{\"outlinewidth\":0,\"ticks\":\"\"}},\"colorscale\":{\"diverging\":[[0,\"#8e0152\"],[0.1,\"#c51b7d\"],[0.2,\"#de77ae\"],[0.3,\"#f1b6da\"],[0.4,\"#fde0ef\"],[0.5,\"#f7f7f7\"],[0.6,\"#e6f5d0\"],[0.7,\"#b8e186\"],[0.8,\"#7fbc41\"],[0.9,\"#4d9221\"],[1,\"#276419\"]],\"sequential\":[[0.0,\"#0d0887\"],[0.1111111111111111,\"#46039f\"],[0.2222222222222222,\"#7201a8\"],[0.3333333333333333,\"#9c179e\"],[0.4444444444444444,\"#bd3786\"],[0.5555555555555556,\"#d8576b\"],[0.6666666666666666,\"#ed7953\"],[0.7777777777777778,\"#fb9f3a\"],[0.8888888888888888,\"#fdca26\"],[1.0,\"#f0f921\"]],\"sequentialminus\":[[0.0,\"#0d0887\"],[0.1111111111111111,\"#46039f\"],[0.2222222222222222,\"#7201a8\"],[0.3333333333333333,\"#9c179e\"],[0.4444444444444444,\"#bd3786\"],[0.5555555555555556,\"#d8576b\"],[0.6666666666666666,\"#ed7953\"],[0.7777777777777778,\"#fb9f3a\"],[0.8888888888888888,\"#fdca26\"],[1.0,\"#f0f921\"]]},\"colorway\":[\"#636efa\",\"#EF553B\",\"#00cc96\",\"#ab63fa\",\"#FFA15A\",\"#19d3f3\",\"#FF6692\",\"#B6E880\",\"#FF97FF\",\"#FECB52\"],\"font\":{\"color\":\"#2a3f5f\"},\"geo\":{\"bgcolor\":\"white\",\"lakecolor\":\"white\",\"landcolor\":\"#E5ECF6\",\"showlakes\":true,\"showland\":true,\"subunitcolor\":\"white\"},\"hoverlabel\":{\"align\":\"left\"},\"hovermode\":\"closest\",\"mapbox\":{\"style\":\"light\"},\"paper_bgcolor\":\"white\",\"plot_bgcolor\":\"#E5ECF6\",\"polar\":{\"angularaxis\":{\"gridcolor\":\"white\",\"linecolor\":\"white\",\"ticks\":\"\"},\"bgcolor\":\"#E5ECF6\",\"radialaxis\":{\"gridcolor\":\"white\",\"linecolor\":\"white\",\"ticks\":\"\"}},\"scene\":{\"xaxis\":{\"backgroundcolor\":\"#E5ECF6\",\"gridcolor\":\"white\",\"gridwidth\":2,\"linecolor\":\"white\",\"showbackground\":true,\"ticks\":\"\",\"zerolinecolor\":\"white\"},\"yaxis\":{\"backgroundcolor\":\"#E5ECF6\",\"gridcolor\":\"white\",\"gridwidth\":2,\"linecolor\":\"white\",\"showbackground\":true,\"ticks\":\"\",\"zerolinecolor\":\"white\"},\"zaxis\":{\"backgroundcolor\":\"#E5ECF6\",\"gridcolor\":\"white\",\"gridwidth\":2,\"linecolor\":\"white\",\"showbackground\":true,\"ticks\":\"\",\"zerolinecolor\":\"white\"}},\"shapedefaults\":{\"line\":{\"color\":\"#2a3f5f\"}},\"ternary\":{\"aaxis\":{\"gridcolor\":\"white\",\"linecolor\":\"white\",\"ticks\":\"\"},\"baxis\":{\"gridcolor\":\"white\",\"linecolor\":\"white\",\"ticks\":\"\"},\"bgcolor\":\"#E5ECF6\",\"caxis\":{\"gridcolor\":\"white\",\"linecolor\":\"white\",\"ticks\":\"\"}},\"title\":{\"x\":0.05},\"xaxis\":{\"automargin\":true,\"gridcolor\":\"white\",\"linecolor\":\"white\",\"ticks\":\"\",\"title\":{\"standoff\":15},\"zerolinecolor\":\"white\",\"zerolinewidth\":2},\"yaxis\":{\"automargin\":true,\"gridcolor\":\"white\",\"linecolor\":\"white\",\"ticks\":\"\",\"title\":{\"standoff\":15},\"zerolinecolor\":\"white\",\"zerolinewidth\":2}}},\"xaxis\":{\"anchor\":\"y\",\"domain\":[0.0,1.0],\"title\":{\"text\":\"x\"}},\"yaxis\":{\"anchor\":\"x\",\"domain\":[0.0,1.0],\"title\":{\"text\":\"y\"}}},                        {\"responsive\": true}                    ).then(function(){\n",
       "                            \n",
       "var gd = document.getElementById('92d5bc42-e8d8-45d6-aae3-8b994e38e238');\n",
       "var x = new MutationObserver(function (mutations, observer) {{\n",
       "        var display = window.getComputedStyle(gd).display;\n",
       "        if (!display || display === 'none') {{\n",
       "            console.log([gd, 'removed!']);\n",
       "            Plotly.purge(gd);\n",
       "            observer.disconnect();\n",
       "        }}\n",
       "}});\n",
       "\n",
       "// Listen for the removal of the full notebook cells\n",
       "var notebookContainer = gd.closest('#notebook-container');\n",
       "if (notebookContainer) {{\n",
       "    x.observe(notebookContainer, {childList: true});\n",
       "}}\n",
       "\n",
       "// Listen for the clearing of the current output cell\n",
       "var outputEl = gd.closest('.output');\n",
       "if (outputEl) {{\n",
       "    x.observe(outputEl, {childList: true});\n",
       "}}\n",
       "\n",
       "                        })                };                });            </script>        </div>"
      ]
     },
     "metadata": {},
     "output_type": "display_data"
    }
   ],
   "source": [
    "paid_cat_install = paid_data['Installs_New'].groupby(by = paid_data['Category']).sum().sort_values(ascending =False)\n",
    "px.bar(paid_data, x = paid_cat_install.index, y = paid_cat_install.values , color =paid_cat_install)"
   ]
  },
  {
   "cell_type": "markdown",
   "id": "0ecc31a9",
   "metadata": {},
   "source": [
    "# Findings\n",
    "- Paid apps from Family category are installed maximum though in overall installations (paid+free) Game Category is at top with 35Billion + installations and Family at 6 Place with 10 Billion+ Installations\n",
    "- There could be many reasons for this. One reason seems like app could be providing one to one consultation to the person which is more preferred over a generalised app which are mostly free"
   ]
  },
  {
   "cell_type": "markdown",
   "id": "eacdefb5",
   "metadata": {},
   "source": [
    "# Which category with paid apps has highest ratings?"
   ]
  },
  {
   "cell_type": "code",
   "execution_count": 18,
   "id": "da2b727f",
   "metadata": {},
   "outputs": [
    {
     "data": {
      "application/vnd.plotly.v1+json": {
       "config": {
        "plotlyServerURL": "https://plot.ly"
       },
       "data": [
        {
         "alignmentgroup": "True",
         "hovertemplate": "color=PARENTING<br>x=%{x}<br>y=%{y}<extra></extra>",
         "legendgroup": "PARENTING",
         "marker": {
          "color": "#636efa",
          "pattern": {
           "shape": ""
          }
         },
         "name": "PARENTING",
         "offsetgroup": "PARENTING",
         "orientation": "v",
         "showlegend": true,
         "textposition": "auto",
         "type": "bar",
         "x": [
          "PARENTING"
         ],
         "xaxis": "x",
         "y": [
          3.35
         ],
         "yaxis": "y"
        },
        {
         "alignmentgroup": "True",
         "hovertemplate": "color=DATING<br>x=%{x}<br>y=%{y}<extra></extra>",
         "legendgroup": "DATING",
         "marker": {
          "color": "#EF553B",
          "pattern": {
           "shape": ""
          }
         },
         "name": "DATING",
         "offsetgroup": "DATING",
         "orientation": "v",
         "showlegend": true,
         "textposition": "auto",
         "type": "bar",
         "x": [
          "DATING"
         ],
         "xaxis": "x",
         "y": [
          3.625
         ],
         "yaxis": "y"
        },
        {
         "alignmentgroup": "True",
         "hovertemplate": "color=SOCIAL<br>x=%{x}<br>y=%{y}<extra></extra>",
         "legendgroup": "SOCIAL",
         "marker": {
          "color": "#00cc96",
          "pattern": {
           "shape": ""
          }
         },
         "name": "SOCIAL",
         "offsetgroup": "SOCIAL",
         "orientation": "v",
         "showlegend": true,
         "textposition": "auto",
         "type": "bar",
         "x": [
          "SOCIAL"
         ],
         "xaxis": "x",
         "y": [
          3.7
         ],
         "yaxis": "y"
        },
        {
         "alignmentgroup": "True",
         "hovertemplate": "color=FINANCE<br>x=%{x}<br>y=%{y}<extra></extra>",
         "legendgroup": "FINANCE",
         "marker": {
          "color": "#ab63fa",
          "pattern": {
           "shape": ""
          }
         },
         "name": "FINANCE",
         "offsetgroup": "FINANCE",
         "orientation": "v",
         "showlegend": true,
         "textposition": "auto",
         "type": "bar",
         "x": [
          "FINANCE"
         ],
         "xaxis": "x",
         "y": [
          3.830769230769231
         ],
         "yaxis": "y"
        },
        {
         "alignmentgroup": "True",
         "hovertemplate": "color=MAPS_AND_NAVIGATION<br>x=%{x}<br>y=%{y}<extra></extra>",
         "legendgroup": "MAPS_AND_NAVIGATION",
         "marker": {
          "color": "#FFA15A",
          "pattern": {
           "shape": ""
          }
         },
         "name": "MAPS_AND_NAVIGATION",
         "offsetgroup": "MAPS_AND_NAVIGATION",
         "orientation": "v",
         "showlegend": true,
         "textposition": "auto",
         "type": "bar",
         "x": [
          "MAPS_AND_NAVIGATION"
         ],
         "xaxis": "x",
         "y": [
          3.8600000000000003
         ],
         "yaxis": "y"
        },
        {
         "alignmentgroup": "True",
         "hovertemplate": "color=PHOTOGRAPHY<br>x=%{x}<br>y=%{y}<extra></extra>",
         "legendgroup": "PHOTOGRAPHY",
         "marker": {
          "color": "#19d3f3",
          "pattern": {
           "shape": ""
          }
         },
         "name": "PHOTOGRAPHY",
         "offsetgroup": "PHOTOGRAPHY",
         "orientation": "v",
         "showlegend": true,
         "textposition": "auto",
         "type": "bar",
         "x": [
          "PHOTOGRAPHY"
         ],
         "xaxis": "x",
         "y": [
          4.044444444444443
         ],
         "yaxis": "y"
        },
        {
         "alignmentgroup": "True",
         "hovertemplate": "color=COMMUNICATION<br>x=%{x}<br>y=%{y}<extra></extra>",
         "legendgroup": "COMMUNICATION",
         "marker": {
          "color": "#FF6692",
          "pattern": {
           "shape": ""
          }
         },
         "name": "COMMUNICATION",
         "offsetgroup": "COMMUNICATION",
         "orientation": "v",
         "showlegend": true,
         "textposition": "auto",
         "type": "bar",
         "x": [
          "COMMUNICATION"
         ],
         "xaxis": "x",
         "y": [
          4.0636363636363635
         ],
         "yaxis": "y"
        },
        {
         "alignmentgroup": "True",
         "hovertemplate": "color=TRAVEL_AND_LOCAL<br>x=%{x}<br>y=%{y}<extra></extra>",
         "legendgroup": "TRAVEL_AND_LOCAL",
         "marker": {
          "color": "#B6E880",
          "pattern": {
           "shape": ""
          }
         },
         "name": "TRAVEL_AND_LOCAL",
         "offsetgroup": "TRAVEL_AND_LOCAL",
         "orientation": "v",
         "showlegend": true,
         "textposition": "auto",
         "type": "bar",
         "x": [
          "TRAVEL_AND_LOCAL"
         ],
         "xaxis": "x",
         "y": [
          4.1
         ],
         "yaxis": "y"
        },
        {
         "alignmentgroup": "True",
         "hovertemplate": "color=VIDEO_PLAYERS<br>x=%{x}<br>y=%{y}<extra></extra>",
         "legendgroup": "VIDEO_PLAYERS",
         "marker": {
          "color": "#FF97FF",
          "pattern": {
           "shape": ""
          }
         },
         "name": "VIDEO_PLAYERS",
         "offsetgroup": "VIDEO_PLAYERS",
         "orientation": "v",
         "showlegend": true,
         "textposition": "auto",
         "type": "bar",
         "x": [
          "VIDEO_PLAYERS"
         ],
         "xaxis": "x",
         "y": [
          4.1000000000000005
         ],
         "yaxis": "y"
        },
        {
         "alignmentgroup": "True",
         "hovertemplate": "color=TOOLS<br>x=%{x}<br>y=%{y}<extra></extra>",
         "legendgroup": "TOOLS",
         "marker": {
          "color": "#FECB52",
          "pattern": {
           "shape": ""
          }
         },
         "name": "TOOLS",
         "offsetgroup": "TOOLS",
         "orientation": "v",
         "showlegend": true,
         "textposition": "auto",
         "type": "bar",
         "x": [
          "TOOLS"
         ],
         "xaxis": "x",
         "y": [
          4.169841269841269
         ],
         "yaxis": "y"
        },
        {
         "alignmentgroup": "True",
         "hovertemplate": "color=BUSINESS<br>x=%{x}<br>y=%{y}<extra></extra>",
         "legendgroup": "BUSINESS",
         "marker": {
          "color": "#636efa",
          "pattern": {
           "shape": ""
          }
         },
         "name": "BUSINESS",
         "offsetgroup": "BUSINESS",
         "orientation": "v",
         "showlegend": true,
         "textposition": "auto",
         "type": "bar",
         "x": [
          "BUSINESS"
         ],
         "xaxis": "x",
         "y": [
          4.2
         ],
         "yaxis": "y"
        },
        {
         "alignmentgroup": "True",
         "hovertemplate": "color=PRODUCTIVITY<br>x=%{x}<br>y=%{y}<extra></extra>",
         "legendgroup": "PRODUCTIVITY",
         "marker": {
          "color": "#EF553B",
          "pattern": {
           "shape": ""
          }
         },
         "name": "PRODUCTIVITY",
         "offsetgroup": "PRODUCTIVITY",
         "orientation": "v",
         "showlegend": true,
         "textposition": "auto",
         "type": "bar",
         "x": [
          "PRODUCTIVITY"
         ],
         "xaxis": "x",
         "y": [
          4.205555555555556
         ],
         "yaxis": "y"
        },
        {
         "alignmentgroup": "True",
         "hovertemplate": "color=LIFESTYLE<br>x=%{x}<br>y=%{y}<extra></extra>",
         "legendgroup": "LIFESTYLE",
         "marker": {
          "color": "#00cc96",
          "pattern": {
           "shape": ""
          }
         },
         "name": "LIFESTYLE",
         "offsetgroup": "LIFESTYLE",
         "orientation": "v",
         "showlegend": true,
         "textposition": "auto",
         "type": "bar",
         "x": [
          "LIFESTYLE"
         ],
         "xaxis": "x",
         "y": [
          4.25
         ],
         "yaxis": "y"
        },
        {
         "alignmentgroup": "True",
         "hovertemplate": "color=SPORTS<br>x=%{x}<br>y=%{y}<extra></extra>",
         "legendgroup": "SPORTS",
         "marker": {
          "color": "#ab63fa",
          "pattern": {
           "shape": ""
          }
         },
         "name": "SPORTS",
         "offsetgroup": "SPORTS",
         "orientation": "v",
         "showlegend": true,
         "textposition": "auto",
         "type": "bar",
         "x": [
          "SPORTS"
         ],
         "xaxis": "x",
         "y": [
          4.254545454545454
         ],
         "yaxis": "y"
        },
        {
         "alignmentgroup": "True",
         "hovertemplate": "color=MEDICAL<br>x=%{x}<br>y=%{y}<extra></extra>",
         "legendgroup": "MEDICAL",
         "marker": {
          "color": "#FFA15A",
          "pattern": {
           "shape": ""
          }
         },
         "name": "MEDICAL",
         "offsetgroup": "MEDICAL",
         "orientation": "v",
         "showlegend": true,
         "textposition": "auto",
         "type": "bar",
         "x": [
          "MEDICAL"
         ],
         "xaxis": "x",
         "y": [
          4.259090909090909
         ],
         "yaxis": "y"
        },
        {
         "alignmentgroup": "True",
         "hovertemplate": "color=BOOKS_AND_REFERENCE<br>x=%{x}<br>y=%{y}<extra></extra>",
         "legendgroup": "BOOKS_AND_REFERENCE",
         "marker": {
          "color": "#19d3f3",
          "pattern": {
           "shape": ""
          }
         },
         "name": "BOOKS_AND_REFERENCE",
         "offsetgroup": "BOOKS_AND_REFERENCE",
         "orientation": "v",
         "showlegend": true,
         "textposition": "auto",
         "type": "bar",
         "x": [
          "BOOKS_AND_REFERENCE"
         ],
         "xaxis": "x",
         "y": [
          4.275
         ],
         "yaxis": "y"
        },
        {
         "alignmentgroup": "True",
         "hovertemplate": "color=FAMILY<br>x=%{x}<br>y=%{y}<extra></extra>",
         "legendgroup": "FAMILY",
         "marker": {
          "color": "#FF6692",
          "pattern": {
           "shape": ""
          }
         },
         "name": "FAMILY",
         "offsetgroup": "FAMILY",
         "orientation": "v",
         "showlegend": true,
         "textposition": "auto",
         "type": "bar",
         "x": [
          "FAMILY"
         ],
         "xaxis": "x",
         "y": [
          4.295061728395064
         ],
         "yaxis": "y"
        },
        {
         "alignmentgroup": "True",
         "hovertemplate": "color=FOOD_AND_DRINK<br>x=%{x}<br>y=%{y}<extra></extra>",
         "legendgroup": "FOOD_AND_DRINK",
         "marker": {
          "color": "#B6E880",
          "pattern": {
           "shape": ""
          }
         },
         "name": "FOOD_AND_DRINK",
         "offsetgroup": "FOOD_AND_DRINK",
         "orientation": "v",
         "showlegend": true,
         "textposition": "auto",
         "type": "bar",
         "x": [
          "FOOD_AND_DRINK"
         ],
         "xaxis": "x",
         "y": [
          4.35
         ],
         "yaxis": "y"
        },
        {
         "alignmentgroup": "True",
         "hovertemplate": "color=WEATHER<br>x=%{x}<br>y=%{y}<extra></extra>",
         "legendgroup": "WEATHER",
         "marker": {
          "color": "#FF97FF",
          "pattern": {
           "shape": ""
          }
         },
         "name": "WEATHER",
         "offsetgroup": "WEATHER",
         "orientation": "v",
         "showlegend": true,
         "textposition": "auto",
         "type": "bar",
         "x": [
          "WEATHER"
         ],
         "xaxis": "x",
         "y": [
          4.371428571428572
         ],
         "yaxis": "y"
        },
        {
         "alignmentgroup": "True",
         "hovertemplate": "color=GAME<br>x=%{x}<br>y=%{y}<extra></extra>",
         "legendgroup": "GAME",
         "marker": {
          "color": "#FECB52",
          "pattern": {
           "shape": ""
          }
         },
         "name": "GAME",
         "offsetgroup": "GAME",
         "orientation": "v",
         "showlegend": true,
         "textposition": "auto",
         "type": "bar",
         "x": [
          "GAME"
         ],
         "xaxis": "x",
         "y": [
          4.372727272727272
         ],
         "yaxis": "y"
        },
        {
         "alignmentgroup": "True",
         "hovertemplate": "color=HEALTH_AND_FITNESS<br>x=%{x}<br>y=%{y}<extra></extra>",
         "legendgroup": "HEALTH_AND_FITNESS",
         "marker": {
          "color": "#636efa",
          "pattern": {
           "shape": ""
          }
         },
         "name": "HEALTH_AND_FITNESS",
         "offsetgroup": "HEALTH_AND_FITNESS",
         "orientation": "v",
         "showlegend": true,
         "textposition": "auto",
         "type": "bar",
         "x": [
          "HEALTH_AND_FITNESS"
         ],
         "xaxis": "x",
         "y": [
          4.391666666666667
         ],
         "yaxis": "y"
        },
        {
         "alignmentgroup": "True",
         "hovertemplate": "color=PERSONALIZATION<br>x=%{x}<br>y=%{y}<extra></extra>",
         "legendgroup": "PERSONALIZATION",
         "marker": {
          "color": "#EF553B",
          "pattern": {
           "shape": ""
          }
         },
         "name": "PERSONALIZATION",
         "offsetgroup": "PERSONALIZATION",
         "orientation": "v",
         "showlegend": true,
         "textposition": "auto",
         "type": "bar",
         "x": [
          "PERSONALIZATION"
         ],
         "xaxis": "x",
         "y": [
          4.441791044776119
         ],
         "yaxis": "y"
        },
        {
         "alignmentgroup": "True",
         "hovertemplate": "color=SHOPPING<br>x=%{x}<br>y=%{y}<extra></extra>",
         "legendgroup": "SHOPPING",
         "marker": {
          "color": "#00cc96",
          "pattern": {
           "shape": ""
          }
         },
         "name": "SHOPPING",
         "offsetgroup": "SHOPPING",
         "orientation": "v",
         "showlegend": true,
         "textposition": "auto",
         "type": "bar",
         "x": [
          "SHOPPING"
         ],
         "xaxis": "x",
         "y": [
          4.5
         ],
         "yaxis": "y"
        },
        {
         "alignmentgroup": "True",
         "hovertemplate": "color=ENTERTAINMENT<br>x=%{x}<br>y=%{y}<extra></extra>",
         "legendgroup": "ENTERTAINMENT",
         "marker": {
          "color": "#ab63fa",
          "pattern": {
           "shape": ""
          }
         },
         "name": "ENTERTAINMENT",
         "offsetgroup": "ENTERTAINMENT",
         "orientation": "v",
         "showlegend": true,
         "textposition": "auto",
         "type": "bar",
         "x": [
          "ENTERTAINMENT"
         ],
         "xaxis": "x",
         "y": [
          4.6
         ],
         "yaxis": "y"
        },
        {
         "alignmentgroup": "True",
         "hovertemplate": "color=AUTO_AND_VEHICLES<br>x=%{x}<br>y=%{y}<extra></extra>",
         "legendgroup": "AUTO_AND_VEHICLES",
         "marker": {
          "color": "#FFA15A",
          "pattern": {
           "shape": ""
          }
         },
         "name": "AUTO_AND_VEHICLES",
         "offsetgroup": "AUTO_AND_VEHICLES",
         "orientation": "v",
         "showlegend": true,
         "textposition": "auto",
         "type": "bar",
         "x": [
          "AUTO_AND_VEHICLES"
         ],
         "xaxis": "x",
         "y": [
          4.6
         ],
         "yaxis": "y"
        },
        {
         "alignmentgroup": "True",
         "hovertemplate": "color=ART_AND_DESIGN<br>x=%{x}<br>y=%{y}<extra></extra>",
         "legendgroup": "ART_AND_DESIGN",
         "marker": {
          "color": "#19d3f3",
          "pattern": {
           "shape": ""
          }
         },
         "name": "ART_AND_DESIGN",
         "offsetgroup": "ART_AND_DESIGN",
         "orientation": "v",
         "showlegend": true,
         "textposition": "auto",
         "type": "bar",
         "x": [
          "ART_AND_DESIGN"
         ],
         "xaxis": "x",
         "y": [
          4.733333333333333
         ],
         "yaxis": "y"
        },
        {
         "alignmentgroup": "True",
         "hovertemplate": "color=EDUCATION<br>x=%{x}<br>y=%{y}<extra></extra>",
         "legendgroup": "EDUCATION",
         "marker": {
          "color": "#FF6692",
          "pattern": {
           "shape": ""
          }
         },
         "name": "EDUCATION",
         "offsetgroup": "EDUCATION",
         "orientation": "v",
         "showlegend": true,
         "textposition": "auto",
         "type": "bar",
         "x": [
          "EDUCATION"
         ],
         "xaxis": "x",
         "y": [
          4.75
         ],
         "yaxis": "y"
        },
        {
         "alignmentgroup": "True",
         "hovertemplate": "color=NEWS_AND_MAGAZINES<br>x=%{x}<br>y=%{y}<extra></extra>",
         "legendgroup": "NEWS_AND_MAGAZINES",
         "marker": {
          "color": "#B6E880",
          "pattern": {
           "shape": ""
          }
         },
         "name": "NEWS_AND_MAGAZINES",
         "offsetgroup": "NEWS_AND_MAGAZINES",
         "orientation": "v",
         "showlegend": true,
         "textposition": "auto",
         "type": "bar",
         "x": [
          "NEWS_AND_MAGAZINES"
         ],
         "xaxis": "x",
         "y": [
          4.800000000000001
         ],
         "yaxis": "y"
        }
       ],
       "layout": {
        "barmode": "relative",
        "legend": {
         "title": {
          "text": "color"
         },
         "tracegroupgap": 0
        },
        "margin": {
         "t": 60
        },
        "template": {
         "data": {
          "bar": [
           {
            "error_x": {
             "color": "#2a3f5f"
            },
            "error_y": {
             "color": "#2a3f5f"
            },
            "marker": {
             "line": {
              "color": "#E5ECF6",
              "width": 0.5
             },
             "pattern": {
              "fillmode": "overlay",
              "size": 10,
              "solidity": 0.2
             }
            },
            "type": "bar"
           }
          ],
          "barpolar": [
           {
            "marker": {
             "line": {
              "color": "#E5ECF6",
              "width": 0.5
             },
             "pattern": {
              "fillmode": "overlay",
              "size": 10,
              "solidity": 0.2
             }
            },
            "type": "barpolar"
           }
          ],
          "carpet": [
           {
            "aaxis": {
             "endlinecolor": "#2a3f5f",
             "gridcolor": "white",
             "linecolor": "white",
             "minorgridcolor": "white",
             "startlinecolor": "#2a3f5f"
            },
            "baxis": {
             "endlinecolor": "#2a3f5f",
             "gridcolor": "white",
             "linecolor": "white",
             "minorgridcolor": "white",
             "startlinecolor": "#2a3f5f"
            },
            "type": "carpet"
           }
          ],
          "choropleth": [
           {
            "colorbar": {
             "outlinewidth": 0,
             "ticks": ""
            },
            "type": "choropleth"
           }
          ],
          "contour": [
           {
            "colorbar": {
             "outlinewidth": 0,
             "ticks": ""
            },
            "colorscale": [
             [
              0,
              "#0d0887"
             ],
             [
              0.1111111111111111,
              "#46039f"
             ],
             [
              0.2222222222222222,
              "#7201a8"
             ],
             [
              0.3333333333333333,
              "#9c179e"
             ],
             [
              0.4444444444444444,
              "#bd3786"
             ],
             [
              0.5555555555555556,
              "#d8576b"
             ],
             [
              0.6666666666666666,
              "#ed7953"
             ],
             [
              0.7777777777777778,
              "#fb9f3a"
             ],
             [
              0.8888888888888888,
              "#fdca26"
             ],
             [
              1,
              "#f0f921"
             ]
            ],
            "type": "contour"
           }
          ],
          "contourcarpet": [
           {
            "colorbar": {
             "outlinewidth": 0,
             "ticks": ""
            },
            "type": "contourcarpet"
           }
          ],
          "heatmap": [
           {
            "colorbar": {
             "outlinewidth": 0,
             "ticks": ""
            },
            "colorscale": [
             [
              0,
              "#0d0887"
             ],
             [
              0.1111111111111111,
              "#46039f"
             ],
             [
              0.2222222222222222,
              "#7201a8"
             ],
             [
              0.3333333333333333,
              "#9c179e"
             ],
             [
              0.4444444444444444,
              "#bd3786"
             ],
             [
              0.5555555555555556,
              "#d8576b"
             ],
             [
              0.6666666666666666,
              "#ed7953"
             ],
             [
              0.7777777777777778,
              "#fb9f3a"
             ],
             [
              0.8888888888888888,
              "#fdca26"
             ],
             [
              1,
              "#f0f921"
             ]
            ],
            "type": "heatmap"
           }
          ],
          "heatmapgl": [
           {
            "colorbar": {
             "outlinewidth": 0,
             "ticks": ""
            },
            "colorscale": [
             [
              0,
              "#0d0887"
             ],
             [
              0.1111111111111111,
              "#46039f"
             ],
             [
              0.2222222222222222,
              "#7201a8"
             ],
             [
              0.3333333333333333,
              "#9c179e"
             ],
             [
              0.4444444444444444,
              "#bd3786"
             ],
             [
              0.5555555555555556,
              "#d8576b"
             ],
             [
              0.6666666666666666,
              "#ed7953"
             ],
             [
              0.7777777777777778,
              "#fb9f3a"
             ],
             [
              0.8888888888888888,
              "#fdca26"
             ],
             [
              1,
              "#f0f921"
             ]
            ],
            "type": "heatmapgl"
           }
          ],
          "histogram": [
           {
            "marker": {
             "pattern": {
              "fillmode": "overlay",
              "size": 10,
              "solidity": 0.2
             }
            },
            "type": "histogram"
           }
          ],
          "histogram2d": [
           {
            "colorbar": {
             "outlinewidth": 0,
             "ticks": ""
            },
            "colorscale": [
             [
              0,
              "#0d0887"
             ],
             [
              0.1111111111111111,
              "#46039f"
             ],
             [
              0.2222222222222222,
              "#7201a8"
             ],
             [
              0.3333333333333333,
              "#9c179e"
             ],
             [
              0.4444444444444444,
              "#bd3786"
             ],
             [
              0.5555555555555556,
              "#d8576b"
             ],
             [
              0.6666666666666666,
              "#ed7953"
             ],
             [
              0.7777777777777778,
              "#fb9f3a"
             ],
             [
              0.8888888888888888,
              "#fdca26"
             ],
             [
              1,
              "#f0f921"
             ]
            ],
            "type": "histogram2d"
           }
          ],
          "histogram2dcontour": [
           {
            "colorbar": {
             "outlinewidth": 0,
             "ticks": ""
            },
            "colorscale": [
             [
              0,
              "#0d0887"
             ],
             [
              0.1111111111111111,
              "#46039f"
             ],
             [
              0.2222222222222222,
              "#7201a8"
             ],
             [
              0.3333333333333333,
              "#9c179e"
             ],
             [
              0.4444444444444444,
              "#bd3786"
             ],
             [
              0.5555555555555556,
              "#d8576b"
             ],
             [
              0.6666666666666666,
              "#ed7953"
             ],
             [
              0.7777777777777778,
              "#fb9f3a"
             ],
             [
              0.8888888888888888,
              "#fdca26"
             ],
             [
              1,
              "#f0f921"
             ]
            ],
            "type": "histogram2dcontour"
           }
          ],
          "mesh3d": [
           {
            "colorbar": {
             "outlinewidth": 0,
             "ticks": ""
            },
            "type": "mesh3d"
           }
          ],
          "parcoords": [
           {
            "line": {
             "colorbar": {
              "outlinewidth": 0,
              "ticks": ""
             }
            },
            "type": "parcoords"
           }
          ],
          "pie": [
           {
            "automargin": true,
            "type": "pie"
           }
          ],
          "scatter": [
           {
            "marker": {
             "colorbar": {
              "outlinewidth": 0,
              "ticks": ""
             }
            },
            "type": "scatter"
           }
          ],
          "scatter3d": [
           {
            "line": {
             "colorbar": {
              "outlinewidth": 0,
              "ticks": ""
             }
            },
            "marker": {
             "colorbar": {
              "outlinewidth": 0,
              "ticks": ""
             }
            },
            "type": "scatter3d"
           }
          ],
          "scattercarpet": [
           {
            "marker": {
             "colorbar": {
              "outlinewidth": 0,
              "ticks": ""
             }
            },
            "type": "scattercarpet"
           }
          ],
          "scattergeo": [
           {
            "marker": {
             "colorbar": {
              "outlinewidth": 0,
              "ticks": ""
             }
            },
            "type": "scattergeo"
           }
          ],
          "scattergl": [
           {
            "marker": {
             "colorbar": {
              "outlinewidth": 0,
              "ticks": ""
             }
            },
            "type": "scattergl"
           }
          ],
          "scattermapbox": [
           {
            "marker": {
             "colorbar": {
              "outlinewidth": 0,
              "ticks": ""
             }
            },
            "type": "scattermapbox"
           }
          ],
          "scatterpolar": [
           {
            "marker": {
             "colorbar": {
              "outlinewidth": 0,
              "ticks": ""
             }
            },
            "type": "scatterpolar"
           }
          ],
          "scatterpolargl": [
           {
            "marker": {
             "colorbar": {
              "outlinewidth": 0,
              "ticks": ""
             }
            },
            "type": "scatterpolargl"
           }
          ],
          "scatterternary": [
           {
            "marker": {
             "colorbar": {
              "outlinewidth": 0,
              "ticks": ""
             }
            },
            "type": "scatterternary"
           }
          ],
          "surface": [
           {
            "colorbar": {
             "outlinewidth": 0,
             "ticks": ""
            },
            "colorscale": [
             [
              0,
              "#0d0887"
             ],
             [
              0.1111111111111111,
              "#46039f"
             ],
             [
              0.2222222222222222,
              "#7201a8"
             ],
             [
              0.3333333333333333,
              "#9c179e"
             ],
             [
              0.4444444444444444,
              "#bd3786"
             ],
             [
              0.5555555555555556,
              "#d8576b"
             ],
             [
              0.6666666666666666,
              "#ed7953"
             ],
             [
              0.7777777777777778,
              "#fb9f3a"
             ],
             [
              0.8888888888888888,
              "#fdca26"
             ],
             [
              1,
              "#f0f921"
             ]
            ],
            "type": "surface"
           }
          ],
          "table": [
           {
            "cells": {
             "fill": {
              "color": "#EBF0F8"
             },
             "line": {
              "color": "white"
             }
            },
            "header": {
             "fill": {
              "color": "#C8D4E3"
             },
             "line": {
              "color": "white"
             }
            },
            "type": "table"
           }
          ]
         },
         "layout": {
          "annotationdefaults": {
           "arrowcolor": "#2a3f5f",
           "arrowhead": 0,
           "arrowwidth": 1
          },
          "autotypenumbers": "strict",
          "coloraxis": {
           "colorbar": {
            "outlinewidth": 0,
            "ticks": ""
           }
          },
          "colorscale": {
           "diverging": [
            [
             0,
             "#8e0152"
            ],
            [
             0.1,
             "#c51b7d"
            ],
            [
             0.2,
             "#de77ae"
            ],
            [
             0.3,
             "#f1b6da"
            ],
            [
             0.4,
             "#fde0ef"
            ],
            [
             0.5,
             "#f7f7f7"
            ],
            [
             0.6,
             "#e6f5d0"
            ],
            [
             0.7,
             "#b8e186"
            ],
            [
             0.8,
             "#7fbc41"
            ],
            [
             0.9,
             "#4d9221"
            ],
            [
             1,
             "#276419"
            ]
           ],
           "sequential": [
            [
             0,
             "#0d0887"
            ],
            [
             0.1111111111111111,
             "#46039f"
            ],
            [
             0.2222222222222222,
             "#7201a8"
            ],
            [
             0.3333333333333333,
             "#9c179e"
            ],
            [
             0.4444444444444444,
             "#bd3786"
            ],
            [
             0.5555555555555556,
             "#d8576b"
            ],
            [
             0.6666666666666666,
             "#ed7953"
            ],
            [
             0.7777777777777778,
             "#fb9f3a"
            ],
            [
             0.8888888888888888,
             "#fdca26"
            ],
            [
             1,
             "#f0f921"
            ]
           ],
           "sequentialminus": [
            [
             0,
             "#0d0887"
            ],
            [
             0.1111111111111111,
             "#46039f"
            ],
            [
             0.2222222222222222,
             "#7201a8"
            ],
            [
             0.3333333333333333,
             "#9c179e"
            ],
            [
             0.4444444444444444,
             "#bd3786"
            ],
            [
             0.5555555555555556,
             "#d8576b"
            ],
            [
             0.6666666666666666,
             "#ed7953"
            ],
            [
             0.7777777777777778,
             "#fb9f3a"
            ],
            [
             0.8888888888888888,
             "#fdca26"
            ],
            [
             1,
             "#f0f921"
            ]
           ]
          },
          "colorway": [
           "#636efa",
           "#EF553B",
           "#00cc96",
           "#ab63fa",
           "#FFA15A",
           "#19d3f3",
           "#FF6692",
           "#B6E880",
           "#FF97FF",
           "#FECB52"
          ],
          "font": {
           "color": "#2a3f5f"
          },
          "geo": {
           "bgcolor": "white",
           "lakecolor": "white",
           "landcolor": "#E5ECF6",
           "showlakes": true,
           "showland": true,
           "subunitcolor": "white"
          },
          "hoverlabel": {
           "align": "left"
          },
          "hovermode": "closest",
          "mapbox": {
           "style": "light"
          },
          "paper_bgcolor": "white",
          "plot_bgcolor": "#E5ECF6",
          "polar": {
           "angularaxis": {
            "gridcolor": "white",
            "linecolor": "white",
            "ticks": ""
           },
           "bgcolor": "#E5ECF6",
           "radialaxis": {
            "gridcolor": "white",
            "linecolor": "white",
            "ticks": ""
           }
          },
          "scene": {
           "xaxis": {
            "backgroundcolor": "#E5ECF6",
            "gridcolor": "white",
            "gridwidth": 2,
            "linecolor": "white",
            "showbackground": true,
            "ticks": "",
            "zerolinecolor": "white"
           },
           "yaxis": {
            "backgroundcolor": "#E5ECF6",
            "gridcolor": "white",
            "gridwidth": 2,
            "linecolor": "white",
            "showbackground": true,
            "ticks": "",
            "zerolinecolor": "white"
           },
           "zaxis": {
            "backgroundcolor": "#E5ECF6",
            "gridcolor": "white",
            "gridwidth": 2,
            "linecolor": "white",
            "showbackground": true,
            "ticks": "",
            "zerolinecolor": "white"
           }
          },
          "shapedefaults": {
           "line": {
            "color": "#2a3f5f"
           }
          },
          "ternary": {
           "aaxis": {
            "gridcolor": "white",
            "linecolor": "white",
            "ticks": ""
           },
           "baxis": {
            "gridcolor": "white",
            "linecolor": "white",
            "ticks": ""
           },
           "bgcolor": "#E5ECF6",
           "caxis": {
            "gridcolor": "white",
            "linecolor": "white",
            "ticks": ""
           }
          },
          "title": {
           "x": 0.05
          },
          "xaxis": {
           "automargin": true,
           "gridcolor": "white",
           "linecolor": "white",
           "ticks": "",
           "title": {
            "standoff": 15
           },
           "zerolinecolor": "white",
           "zerolinewidth": 2
          },
          "yaxis": {
           "automargin": true,
           "gridcolor": "white",
           "linecolor": "white",
           "ticks": "",
           "title": {
            "standoff": 15
           },
           "zerolinecolor": "white",
           "zerolinewidth": 2
          }
         }
        },
        "xaxis": {
         "anchor": "y",
         "domain": [
          0,
          1
         ],
         "title": {
          "text": "x"
         }
        },
        "yaxis": {
         "anchor": "x",
         "domain": [
          0,
          1
         ],
         "title": {
          "text": "y"
         }
        }
       }
      },
      "text/html": [
       "<div>                            <div id=\"540fc799-34b4-48af-98cd-2eef0a223e36\" class=\"plotly-graph-div\" style=\"height:525px; width:100%;\"></div>            <script type=\"text/javascript\">                require([\"plotly\"], function(Plotly) {                    window.PLOTLYENV=window.PLOTLYENV || {};                                    if (document.getElementById(\"540fc799-34b4-48af-98cd-2eef0a223e36\")) {                    Plotly.newPlot(                        \"540fc799-34b4-48af-98cd-2eef0a223e36\",                        [{\"alignmentgroup\":\"True\",\"hovertemplate\":\"color=PARENTING<br>x=%{x}<br>y=%{y}<extra></extra>\",\"legendgroup\":\"PARENTING\",\"marker\":{\"color\":\"#636efa\",\"pattern\":{\"shape\":\"\"}},\"name\":\"PARENTING\",\"offsetgroup\":\"PARENTING\",\"orientation\":\"v\",\"showlegend\":true,\"textposition\":\"auto\",\"type\":\"bar\",\"x\":[\"PARENTING\"],\"xaxis\":\"x\",\"y\":[3.35],\"yaxis\":\"y\"},{\"alignmentgroup\":\"True\",\"hovertemplate\":\"color=DATING<br>x=%{x}<br>y=%{y}<extra></extra>\",\"legendgroup\":\"DATING\",\"marker\":{\"color\":\"#EF553B\",\"pattern\":{\"shape\":\"\"}},\"name\":\"DATING\",\"offsetgroup\":\"DATING\",\"orientation\":\"v\",\"showlegend\":true,\"textposition\":\"auto\",\"type\":\"bar\",\"x\":[\"DATING\"],\"xaxis\":\"x\",\"y\":[3.625],\"yaxis\":\"y\"},{\"alignmentgroup\":\"True\",\"hovertemplate\":\"color=SOCIAL<br>x=%{x}<br>y=%{y}<extra></extra>\",\"legendgroup\":\"SOCIAL\",\"marker\":{\"color\":\"#00cc96\",\"pattern\":{\"shape\":\"\"}},\"name\":\"SOCIAL\",\"offsetgroup\":\"SOCIAL\",\"orientation\":\"v\",\"showlegend\":true,\"textposition\":\"auto\",\"type\":\"bar\",\"x\":[\"SOCIAL\"],\"xaxis\":\"x\",\"y\":[3.7],\"yaxis\":\"y\"},{\"alignmentgroup\":\"True\",\"hovertemplate\":\"color=FINANCE<br>x=%{x}<br>y=%{y}<extra></extra>\",\"legendgroup\":\"FINANCE\",\"marker\":{\"color\":\"#ab63fa\",\"pattern\":{\"shape\":\"\"}},\"name\":\"FINANCE\",\"offsetgroup\":\"FINANCE\",\"orientation\":\"v\",\"showlegend\":true,\"textposition\":\"auto\",\"type\":\"bar\",\"x\":[\"FINANCE\"],\"xaxis\":\"x\",\"y\":[3.830769230769231],\"yaxis\":\"y\"},{\"alignmentgroup\":\"True\",\"hovertemplate\":\"color=MAPS_AND_NAVIGATION<br>x=%{x}<br>y=%{y}<extra></extra>\",\"legendgroup\":\"MAPS_AND_NAVIGATION\",\"marker\":{\"color\":\"#FFA15A\",\"pattern\":{\"shape\":\"\"}},\"name\":\"MAPS_AND_NAVIGATION\",\"offsetgroup\":\"MAPS_AND_NAVIGATION\",\"orientation\":\"v\",\"showlegend\":true,\"textposition\":\"auto\",\"type\":\"bar\",\"x\":[\"MAPS_AND_NAVIGATION\"],\"xaxis\":\"x\",\"y\":[3.8600000000000003],\"yaxis\":\"y\"},{\"alignmentgroup\":\"True\",\"hovertemplate\":\"color=PHOTOGRAPHY<br>x=%{x}<br>y=%{y}<extra></extra>\",\"legendgroup\":\"PHOTOGRAPHY\",\"marker\":{\"color\":\"#19d3f3\",\"pattern\":{\"shape\":\"\"}},\"name\":\"PHOTOGRAPHY\",\"offsetgroup\":\"PHOTOGRAPHY\",\"orientation\":\"v\",\"showlegend\":true,\"textposition\":\"auto\",\"type\":\"bar\",\"x\":[\"PHOTOGRAPHY\"],\"xaxis\":\"x\",\"y\":[4.044444444444443],\"yaxis\":\"y\"},{\"alignmentgroup\":\"True\",\"hovertemplate\":\"color=COMMUNICATION<br>x=%{x}<br>y=%{y}<extra></extra>\",\"legendgroup\":\"COMMUNICATION\",\"marker\":{\"color\":\"#FF6692\",\"pattern\":{\"shape\":\"\"}},\"name\":\"COMMUNICATION\",\"offsetgroup\":\"COMMUNICATION\",\"orientation\":\"v\",\"showlegend\":true,\"textposition\":\"auto\",\"type\":\"bar\",\"x\":[\"COMMUNICATION\"],\"xaxis\":\"x\",\"y\":[4.0636363636363635],\"yaxis\":\"y\"},{\"alignmentgroup\":\"True\",\"hovertemplate\":\"color=TRAVEL_AND_LOCAL<br>x=%{x}<br>y=%{y}<extra></extra>\",\"legendgroup\":\"TRAVEL_AND_LOCAL\",\"marker\":{\"color\":\"#B6E880\",\"pattern\":{\"shape\":\"\"}},\"name\":\"TRAVEL_AND_LOCAL\",\"offsetgroup\":\"TRAVEL_AND_LOCAL\",\"orientation\":\"v\",\"showlegend\":true,\"textposition\":\"auto\",\"type\":\"bar\",\"x\":[\"TRAVEL_AND_LOCAL\"],\"xaxis\":\"x\",\"y\":[4.1],\"yaxis\":\"y\"},{\"alignmentgroup\":\"True\",\"hovertemplate\":\"color=VIDEO_PLAYERS<br>x=%{x}<br>y=%{y}<extra></extra>\",\"legendgroup\":\"VIDEO_PLAYERS\",\"marker\":{\"color\":\"#FF97FF\",\"pattern\":{\"shape\":\"\"}},\"name\":\"VIDEO_PLAYERS\",\"offsetgroup\":\"VIDEO_PLAYERS\",\"orientation\":\"v\",\"showlegend\":true,\"textposition\":\"auto\",\"type\":\"bar\",\"x\":[\"VIDEO_PLAYERS\"],\"xaxis\":\"x\",\"y\":[4.1000000000000005],\"yaxis\":\"y\"},{\"alignmentgroup\":\"True\",\"hovertemplate\":\"color=TOOLS<br>x=%{x}<br>y=%{y}<extra></extra>\",\"legendgroup\":\"TOOLS\",\"marker\":{\"color\":\"#FECB52\",\"pattern\":{\"shape\":\"\"}},\"name\":\"TOOLS\",\"offsetgroup\":\"TOOLS\",\"orientation\":\"v\",\"showlegend\":true,\"textposition\":\"auto\",\"type\":\"bar\",\"x\":[\"TOOLS\"],\"xaxis\":\"x\",\"y\":[4.169841269841269],\"yaxis\":\"y\"},{\"alignmentgroup\":\"True\",\"hovertemplate\":\"color=BUSINESS<br>x=%{x}<br>y=%{y}<extra></extra>\",\"legendgroup\":\"BUSINESS\",\"marker\":{\"color\":\"#636efa\",\"pattern\":{\"shape\":\"\"}},\"name\":\"BUSINESS\",\"offsetgroup\":\"BUSINESS\",\"orientation\":\"v\",\"showlegend\":true,\"textposition\":\"auto\",\"type\":\"bar\",\"x\":[\"BUSINESS\"],\"xaxis\":\"x\",\"y\":[4.2],\"yaxis\":\"y\"},{\"alignmentgroup\":\"True\",\"hovertemplate\":\"color=PRODUCTIVITY<br>x=%{x}<br>y=%{y}<extra></extra>\",\"legendgroup\":\"PRODUCTIVITY\",\"marker\":{\"color\":\"#EF553B\",\"pattern\":{\"shape\":\"\"}},\"name\":\"PRODUCTIVITY\",\"offsetgroup\":\"PRODUCTIVITY\",\"orientation\":\"v\",\"showlegend\":true,\"textposition\":\"auto\",\"type\":\"bar\",\"x\":[\"PRODUCTIVITY\"],\"xaxis\":\"x\",\"y\":[4.205555555555556],\"yaxis\":\"y\"},{\"alignmentgroup\":\"True\",\"hovertemplate\":\"color=LIFESTYLE<br>x=%{x}<br>y=%{y}<extra></extra>\",\"legendgroup\":\"LIFESTYLE\",\"marker\":{\"color\":\"#00cc96\",\"pattern\":{\"shape\":\"\"}},\"name\":\"LIFESTYLE\",\"offsetgroup\":\"LIFESTYLE\",\"orientation\":\"v\",\"showlegend\":true,\"textposition\":\"auto\",\"type\":\"bar\",\"x\":[\"LIFESTYLE\"],\"xaxis\":\"x\",\"y\":[4.25],\"yaxis\":\"y\"},{\"alignmentgroup\":\"True\",\"hovertemplate\":\"color=SPORTS<br>x=%{x}<br>y=%{y}<extra></extra>\",\"legendgroup\":\"SPORTS\",\"marker\":{\"color\":\"#ab63fa\",\"pattern\":{\"shape\":\"\"}},\"name\":\"SPORTS\",\"offsetgroup\":\"SPORTS\",\"orientation\":\"v\",\"showlegend\":true,\"textposition\":\"auto\",\"type\":\"bar\",\"x\":[\"SPORTS\"],\"xaxis\":\"x\",\"y\":[4.254545454545454],\"yaxis\":\"y\"},{\"alignmentgroup\":\"True\",\"hovertemplate\":\"color=MEDICAL<br>x=%{x}<br>y=%{y}<extra></extra>\",\"legendgroup\":\"MEDICAL\",\"marker\":{\"color\":\"#FFA15A\",\"pattern\":{\"shape\":\"\"}},\"name\":\"MEDICAL\",\"offsetgroup\":\"MEDICAL\",\"orientation\":\"v\",\"showlegend\":true,\"textposition\":\"auto\",\"type\":\"bar\",\"x\":[\"MEDICAL\"],\"xaxis\":\"x\",\"y\":[4.259090909090909],\"yaxis\":\"y\"},{\"alignmentgroup\":\"True\",\"hovertemplate\":\"color=BOOKS_AND_REFERENCE<br>x=%{x}<br>y=%{y}<extra></extra>\",\"legendgroup\":\"BOOKS_AND_REFERENCE\",\"marker\":{\"color\":\"#19d3f3\",\"pattern\":{\"shape\":\"\"}},\"name\":\"BOOKS_AND_REFERENCE\",\"offsetgroup\":\"BOOKS_AND_REFERENCE\",\"orientation\":\"v\",\"showlegend\":true,\"textposition\":\"auto\",\"type\":\"bar\",\"x\":[\"BOOKS_AND_REFERENCE\"],\"xaxis\":\"x\",\"y\":[4.275],\"yaxis\":\"y\"},{\"alignmentgroup\":\"True\",\"hovertemplate\":\"color=FAMILY<br>x=%{x}<br>y=%{y}<extra></extra>\",\"legendgroup\":\"FAMILY\",\"marker\":{\"color\":\"#FF6692\",\"pattern\":{\"shape\":\"\"}},\"name\":\"FAMILY\",\"offsetgroup\":\"FAMILY\",\"orientation\":\"v\",\"showlegend\":true,\"textposition\":\"auto\",\"type\":\"bar\",\"x\":[\"FAMILY\"],\"xaxis\":\"x\",\"y\":[4.295061728395064],\"yaxis\":\"y\"},{\"alignmentgroup\":\"True\",\"hovertemplate\":\"color=FOOD_AND_DRINK<br>x=%{x}<br>y=%{y}<extra></extra>\",\"legendgroup\":\"FOOD_AND_DRINK\",\"marker\":{\"color\":\"#B6E880\",\"pattern\":{\"shape\":\"\"}},\"name\":\"FOOD_AND_DRINK\",\"offsetgroup\":\"FOOD_AND_DRINK\",\"orientation\":\"v\",\"showlegend\":true,\"textposition\":\"auto\",\"type\":\"bar\",\"x\":[\"FOOD_AND_DRINK\"],\"xaxis\":\"x\",\"y\":[4.35],\"yaxis\":\"y\"},{\"alignmentgroup\":\"True\",\"hovertemplate\":\"color=WEATHER<br>x=%{x}<br>y=%{y}<extra></extra>\",\"legendgroup\":\"WEATHER\",\"marker\":{\"color\":\"#FF97FF\",\"pattern\":{\"shape\":\"\"}},\"name\":\"WEATHER\",\"offsetgroup\":\"WEATHER\",\"orientation\":\"v\",\"showlegend\":true,\"textposition\":\"auto\",\"type\":\"bar\",\"x\":[\"WEATHER\"],\"xaxis\":\"x\",\"y\":[4.371428571428572],\"yaxis\":\"y\"},{\"alignmentgroup\":\"True\",\"hovertemplate\":\"color=GAME<br>x=%{x}<br>y=%{y}<extra></extra>\",\"legendgroup\":\"GAME\",\"marker\":{\"color\":\"#FECB52\",\"pattern\":{\"shape\":\"\"}},\"name\":\"GAME\",\"offsetgroup\":\"GAME\",\"orientation\":\"v\",\"showlegend\":true,\"textposition\":\"auto\",\"type\":\"bar\",\"x\":[\"GAME\"],\"xaxis\":\"x\",\"y\":[4.372727272727272],\"yaxis\":\"y\"},{\"alignmentgroup\":\"True\",\"hovertemplate\":\"color=HEALTH_AND_FITNESS<br>x=%{x}<br>y=%{y}<extra></extra>\",\"legendgroup\":\"HEALTH_AND_FITNESS\",\"marker\":{\"color\":\"#636efa\",\"pattern\":{\"shape\":\"\"}},\"name\":\"HEALTH_AND_FITNESS\",\"offsetgroup\":\"HEALTH_AND_FITNESS\",\"orientation\":\"v\",\"showlegend\":true,\"textposition\":\"auto\",\"type\":\"bar\",\"x\":[\"HEALTH_AND_FITNESS\"],\"xaxis\":\"x\",\"y\":[4.391666666666667],\"yaxis\":\"y\"},{\"alignmentgroup\":\"True\",\"hovertemplate\":\"color=PERSONALIZATION<br>x=%{x}<br>y=%{y}<extra></extra>\",\"legendgroup\":\"PERSONALIZATION\",\"marker\":{\"color\":\"#EF553B\",\"pattern\":{\"shape\":\"\"}},\"name\":\"PERSONALIZATION\",\"offsetgroup\":\"PERSONALIZATION\",\"orientation\":\"v\",\"showlegend\":true,\"textposition\":\"auto\",\"type\":\"bar\",\"x\":[\"PERSONALIZATION\"],\"xaxis\":\"x\",\"y\":[4.441791044776119],\"yaxis\":\"y\"},{\"alignmentgroup\":\"True\",\"hovertemplate\":\"color=SHOPPING<br>x=%{x}<br>y=%{y}<extra></extra>\",\"legendgroup\":\"SHOPPING\",\"marker\":{\"color\":\"#00cc96\",\"pattern\":{\"shape\":\"\"}},\"name\":\"SHOPPING\",\"offsetgroup\":\"SHOPPING\",\"orientation\":\"v\",\"showlegend\":true,\"textposition\":\"auto\",\"type\":\"bar\",\"x\":[\"SHOPPING\"],\"xaxis\":\"x\",\"y\":[4.5],\"yaxis\":\"y\"},{\"alignmentgroup\":\"True\",\"hovertemplate\":\"color=ENTERTAINMENT<br>x=%{x}<br>y=%{y}<extra></extra>\",\"legendgroup\":\"ENTERTAINMENT\",\"marker\":{\"color\":\"#ab63fa\",\"pattern\":{\"shape\":\"\"}},\"name\":\"ENTERTAINMENT\",\"offsetgroup\":\"ENTERTAINMENT\",\"orientation\":\"v\",\"showlegend\":true,\"textposition\":\"auto\",\"type\":\"bar\",\"x\":[\"ENTERTAINMENT\"],\"xaxis\":\"x\",\"y\":[4.6],\"yaxis\":\"y\"},{\"alignmentgroup\":\"True\",\"hovertemplate\":\"color=AUTO_AND_VEHICLES<br>x=%{x}<br>y=%{y}<extra></extra>\",\"legendgroup\":\"AUTO_AND_VEHICLES\",\"marker\":{\"color\":\"#FFA15A\",\"pattern\":{\"shape\":\"\"}},\"name\":\"AUTO_AND_VEHICLES\",\"offsetgroup\":\"AUTO_AND_VEHICLES\",\"orientation\":\"v\",\"showlegend\":true,\"textposition\":\"auto\",\"type\":\"bar\",\"x\":[\"AUTO_AND_VEHICLES\"],\"xaxis\":\"x\",\"y\":[4.6],\"yaxis\":\"y\"},{\"alignmentgroup\":\"True\",\"hovertemplate\":\"color=ART_AND_DESIGN<br>x=%{x}<br>y=%{y}<extra></extra>\",\"legendgroup\":\"ART_AND_DESIGN\",\"marker\":{\"color\":\"#19d3f3\",\"pattern\":{\"shape\":\"\"}},\"name\":\"ART_AND_DESIGN\",\"offsetgroup\":\"ART_AND_DESIGN\",\"orientation\":\"v\",\"showlegend\":true,\"textposition\":\"auto\",\"type\":\"bar\",\"x\":[\"ART_AND_DESIGN\"],\"xaxis\":\"x\",\"y\":[4.733333333333333],\"yaxis\":\"y\"},{\"alignmentgroup\":\"True\",\"hovertemplate\":\"color=EDUCATION<br>x=%{x}<br>y=%{y}<extra></extra>\",\"legendgroup\":\"EDUCATION\",\"marker\":{\"color\":\"#FF6692\",\"pattern\":{\"shape\":\"\"}},\"name\":\"EDUCATION\",\"offsetgroup\":\"EDUCATION\",\"orientation\":\"v\",\"showlegend\":true,\"textposition\":\"auto\",\"type\":\"bar\",\"x\":[\"EDUCATION\"],\"xaxis\":\"x\",\"y\":[4.75],\"yaxis\":\"y\"},{\"alignmentgroup\":\"True\",\"hovertemplate\":\"color=NEWS_AND_MAGAZINES<br>x=%{x}<br>y=%{y}<extra></extra>\",\"legendgroup\":\"NEWS_AND_MAGAZINES\",\"marker\":{\"color\":\"#B6E880\",\"pattern\":{\"shape\":\"\"}},\"name\":\"NEWS_AND_MAGAZINES\",\"offsetgroup\":\"NEWS_AND_MAGAZINES\",\"orientation\":\"v\",\"showlegend\":true,\"textposition\":\"auto\",\"type\":\"bar\",\"x\":[\"NEWS_AND_MAGAZINES\"],\"xaxis\":\"x\",\"y\":[4.800000000000001],\"yaxis\":\"y\"}],                        {\"barmode\":\"relative\",\"legend\":{\"title\":{\"text\":\"color\"},\"tracegroupgap\":0},\"margin\":{\"t\":60},\"template\":{\"data\":{\"bar\":[{\"error_x\":{\"color\":\"#2a3f5f\"},\"error_y\":{\"color\":\"#2a3f5f\"},\"marker\":{\"line\":{\"color\":\"#E5ECF6\",\"width\":0.5},\"pattern\":{\"fillmode\":\"overlay\",\"size\":10,\"solidity\":0.2}},\"type\":\"bar\"}],\"barpolar\":[{\"marker\":{\"line\":{\"color\":\"#E5ECF6\",\"width\":0.5},\"pattern\":{\"fillmode\":\"overlay\",\"size\":10,\"solidity\":0.2}},\"type\":\"barpolar\"}],\"carpet\":[{\"aaxis\":{\"endlinecolor\":\"#2a3f5f\",\"gridcolor\":\"white\",\"linecolor\":\"white\",\"minorgridcolor\":\"white\",\"startlinecolor\":\"#2a3f5f\"},\"baxis\":{\"endlinecolor\":\"#2a3f5f\",\"gridcolor\":\"white\",\"linecolor\":\"white\",\"minorgridcolor\":\"white\",\"startlinecolor\":\"#2a3f5f\"},\"type\":\"carpet\"}],\"choropleth\":[{\"colorbar\":{\"outlinewidth\":0,\"ticks\":\"\"},\"type\":\"choropleth\"}],\"contour\":[{\"colorbar\":{\"outlinewidth\":0,\"ticks\":\"\"},\"colorscale\":[[0.0,\"#0d0887\"],[0.1111111111111111,\"#46039f\"],[0.2222222222222222,\"#7201a8\"],[0.3333333333333333,\"#9c179e\"],[0.4444444444444444,\"#bd3786\"],[0.5555555555555556,\"#d8576b\"],[0.6666666666666666,\"#ed7953\"],[0.7777777777777778,\"#fb9f3a\"],[0.8888888888888888,\"#fdca26\"],[1.0,\"#f0f921\"]],\"type\":\"contour\"}],\"contourcarpet\":[{\"colorbar\":{\"outlinewidth\":0,\"ticks\":\"\"},\"type\":\"contourcarpet\"}],\"heatmap\":[{\"colorbar\":{\"outlinewidth\":0,\"ticks\":\"\"},\"colorscale\":[[0.0,\"#0d0887\"],[0.1111111111111111,\"#46039f\"],[0.2222222222222222,\"#7201a8\"],[0.3333333333333333,\"#9c179e\"],[0.4444444444444444,\"#bd3786\"],[0.5555555555555556,\"#d8576b\"],[0.6666666666666666,\"#ed7953\"],[0.7777777777777778,\"#fb9f3a\"],[0.8888888888888888,\"#fdca26\"],[1.0,\"#f0f921\"]],\"type\":\"heatmap\"}],\"heatmapgl\":[{\"colorbar\":{\"outlinewidth\":0,\"ticks\":\"\"},\"colorscale\":[[0.0,\"#0d0887\"],[0.1111111111111111,\"#46039f\"],[0.2222222222222222,\"#7201a8\"],[0.3333333333333333,\"#9c179e\"],[0.4444444444444444,\"#bd3786\"],[0.5555555555555556,\"#d8576b\"],[0.6666666666666666,\"#ed7953\"],[0.7777777777777778,\"#fb9f3a\"],[0.8888888888888888,\"#fdca26\"],[1.0,\"#f0f921\"]],\"type\":\"heatmapgl\"}],\"histogram\":[{\"marker\":{\"pattern\":{\"fillmode\":\"overlay\",\"size\":10,\"solidity\":0.2}},\"type\":\"histogram\"}],\"histogram2d\":[{\"colorbar\":{\"outlinewidth\":0,\"ticks\":\"\"},\"colorscale\":[[0.0,\"#0d0887\"],[0.1111111111111111,\"#46039f\"],[0.2222222222222222,\"#7201a8\"],[0.3333333333333333,\"#9c179e\"],[0.4444444444444444,\"#bd3786\"],[0.5555555555555556,\"#d8576b\"],[0.6666666666666666,\"#ed7953\"],[0.7777777777777778,\"#fb9f3a\"],[0.8888888888888888,\"#fdca26\"],[1.0,\"#f0f921\"]],\"type\":\"histogram2d\"}],\"histogram2dcontour\":[{\"colorbar\":{\"outlinewidth\":0,\"ticks\":\"\"},\"colorscale\":[[0.0,\"#0d0887\"],[0.1111111111111111,\"#46039f\"],[0.2222222222222222,\"#7201a8\"],[0.3333333333333333,\"#9c179e\"],[0.4444444444444444,\"#bd3786\"],[0.5555555555555556,\"#d8576b\"],[0.6666666666666666,\"#ed7953\"],[0.7777777777777778,\"#fb9f3a\"],[0.8888888888888888,\"#fdca26\"],[1.0,\"#f0f921\"]],\"type\":\"histogram2dcontour\"}],\"mesh3d\":[{\"colorbar\":{\"outlinewidth\":0,\"ticks\":\"\"},\"type\":\"mesh3d\"}],\"parcoords\":[{\"line\":{\"colorbar\":{\"outlinewidth\":0,\"ticks\":\"\"}},\"type\":\"parcoords\"}],\"pie\":[{\"automargin\":true,\"type\":\"pie\"}],\"scatter\":[{\"marker\":{\"colorbar\":{\"outlinewidth\":0,\"ticks\":\"\"}},\"type\":\"scatter\"}],\"scatter3d\":[{\"line\":{\"colorbar\":{\"outlinewidth\":0,\"ticks\":\"\"}},\"marker\":{\"colorbar\":{\"outlinewidth\":0,\"ticks\":\"\"}},\"type\":\"scatter3d\"}],\"scattercarpet\":[{\"marker\":{\"colorbar\":{\"outlinewidth\":0,\"ticks\":\"\"}},\"type\":\"scattercarpet\"}],\"scattergeo\":[{\"marker\":{\"colorbar\":{\"outlinewidth\":0,\"ticks\":\"\"}},\"type\":\"scattergeo\"}],\"scattergl\":[{\"marker\":{\"colorbar\":{\"outlinewidth\":0,\"ticks\":\"\"}},\"type\":\"scattergl\"}],\"scattermapbox\":[{\"marker\":{\"colorbar\":{\"outlinewidth\":0,\"ticks\":\"\"}},\"type\":\"scattermapbox\"}],\"scatterpolar\":[{\"marker\":{\"colorbar\":{\"outlinewidth\":0,\"ticks\":\"\"}},\"type\":\"scatterpolar\"}],\"scatterpolargl\":[{\"marker\":{\"colorbar\":{\"outlinewidth\":0,\"ticks\":\"\"}},\"type\":\"scatterpolargl\"}],\"scatterternary\":[{\"marker\":{\"colorbar\":{\"outlinewidth\":0,\"ticks\":\"\"}},\"type\":\"scatterternary\"}],\"surface\":[{\"colorbar\":{\"outlinewidth\":0,\"ticks\":\"\"},\"colorscale\":[[0.0,\"#0d0887\"],[0.1111111111111111,\"#46039f\"],[0.2222222222222222,\"#7201a8\"],[0.3333333333333333,\"#9c179e\"],[0.4444444444444444,\"#bd3786\"],[0.5555555555555556,\"#d8576b\"],[0.6666666666666666,\"#ed7953\"],[0.7777777777777778,\"#fb9f3a\"],[0.8888888888888888,\"#fdca26\"],[1.0,\"#f0f921\"]],\"type\":\"surface\"}],\"table\":[{\"cells\":{\"fill\":{\"color\":\"#EBF0F8\"},\"line\":{\"color\":\"white\"}},\"header\":{\"fill\":{\"color\":\"#C8D4E3\"},\"line\":{\"color\":\"white\"}},\"type\":\"table\"}]},\"layout\":{\"annotationdefaults\":{\"arrowcolor\":\"#2a3f5f\",\"arrowhead\":0,\"arrowwidth\":1},\"autotypenumbers\":\"strict\",\"coloraxis\":{\"colorbar\":{\"outlinewidth\":0,\"ticks\":\"\"}},\"colorscale\":{\"diverging\":[[0,\"#8e0152\"],[0.1,\"#c51b7d\"],[0.2,\"#de77ae\"],[0.3,\"#f1b6da\"],[0.4,\"#fde0ef\"],[0.5,\"#f7f7f7\"],[0.6,\"#e6f5d0\"],[0.7,\"#b8e186\"],[0.8,\"#7fbc41\"],[0.9,\"#4d9221\"],[1,\"#276419\"]],\"sequential\":[[0.0,\"#0d0887\"],[0.1111111111111111,\"#46039f\"],[0.2222222222222222,\"#7201a8\"],[0.3333333333333333,\"#9c179e\"],[0.4444444444444444,\"#bd3786\"],[0.5555555555555556,\"#d8576b\"],[0.6666666666666666,\"#ed7953\"],[0.7777777777777778,\"#fb9f3a\"],[0.8888888888888888,\"#fdca26\"],[1.0,\"#f0f921\"]],\"sequentialminus\":[[0.0,\"#0d0887\"],[0.1111111111111111,\"#46039f\"],[0.2222222222222222,\"#7201a8\"],[0.3333333333333333,\"#9c179e\"],[0.4444444444444444,\"#bd3786\"],[0.5555555555555556,\"#d8576b\"],[0.6666666666666666,\"#ed7953\"],[0.7777777777777778,\"#fb9f3a\"],[0.8888888888888888,\"#fdca26\"],[1.0,\"#f0f921\"]]},\"colorway\":[\"#636efa\",\"#EF553B\",\"#00cc96\",\"#ab63fa\",\"#FFA15A\",\"#19d3f3\",\"#FF6692\",\"#B6E880\",\"#FF97FF\",\"#FECB52\"],\"font\":{\"color\":\"#2a3f5f\"},\"geo\":{\"bgcolor\":\"white\",\"lakecolor\":\"white\",\"landcolor\":\"#E5ECF6\",\"showlakes\":true,\"showland\":true,\"subunitcolor\":\"white\"},\"hoverlabel\":{\"align\":\"left\"},\"hovermode\":\"closest\",\"mapbox\":{\"style\":\"light\"},\"paper_bgcolor\":\"white\",\"plot_bgcolor\":\"#E5ECF6\",\"polar\":{\"angularaxis\":{\"gridcolor\":\"white\",\"linecolor\":\"white\",\"ticks\":\"\"},\"bgcolor\":\"#E5ECF6\",\"radialaxis\":{\"gridcolor\":\"white\",\"linecolor\":\"white\",\"ticks\":\"\"}},\"scene\":{\"xaxis\":{\"backgroundcolor\":\"#E5ECF6\",\"gridcolor\":\"white\",\"gridwidth\":2,\"linecolor\":\"white\",\"showbackground\":true,\"ticks\":\"\",\"zerolinecolor\":\"white\"},\"yaxis\":{\"backgroundcolor\":\"#E5ECF6\",\"gridcolor\":\"white\",\"gridwidth\":2,\"linecolor\":\"white\",\"showbackground\":true,\"ticks\":\"\",\"zerolinecolor\":\"white\"},\"zaxis\":{\"backgroundcolor\":\"#E5ECF6\",\"gridcolor\":\"white\",\"gridwidth\":2,\"linecolor\":\"white\",\"showbackground\":true,\"ticks\":\"\",\"zerolinecolor\":\"white\"}},\"shapedefaults\":{\"line\":{\"color\":\"#2a3f5f\"}},\"ternary\":{\"aaxis\":{\"gridcolor\":\"white\",\"linecolor\":\"white\",\"ticks\":\"\"},\"baxis\":{\"gridcolor\":\"white\",\"linecolor\":\"white\",\"ticks\":\"\"},\"bgcolor\":\"#E5ECF6\",\"caxis\":{\"gridcolor\":\"white\",\"linecolor\":\"white\",\"ticks\":\"\"}},\"title\":{\"x\":0.05},\"xaxis\":{\"automargin\":true,\"gridcolor\":\"white\",\"linecolor\":\"white\",\"ticks\":\"\",\"title\":{\"standoff\":15},\"zerolinecolor\":\"white\",\"zerolinewidth\":2},\"yaxis\":{\"automargin\":true,\"gridcolor\":\"white\",\"linecolor\":\"white\",\"ticks\":\"\",\"title\":{\"standoff\":15},\"zerolinecolor\":\"white\",\"zerolinewidth\":2}}},\"xaxis\":{\"anchor\":\"y\",\"domain\":[0.0,1.0],\"title\":{\"text\":\"x\"}},\"yaxis\":{\"anchor\":\"x\",\"domain\":[0.0,1.0],\"title\":{\"text\":\"y\"}}},                        {\"responsive\": true}                    ).then(function(){\n",
       "                            \n",
       "var gd = document.getElementById('540fc799-34b4-48af-98cd-2eef0a223e36');\n",
       "var x = new MutationObserver(function (mutations, observer) {{\n",
       "        var display = window.getComputedStyle(gd).display;\n",
       "        if (!display || display === 'none') {{\n",
       "            console.log([gd, 'removed!']);\n",
       "            Plotly.purge(gd);\n",
       "            observer.disconnect();\n",
       "        }}\n",
       "}});\n",
       "\n",
       "// Listen for the removal of the full notebook cells\n",
       "var notebookContainer = gd.closest('#notebook-container');\n",
       "if (notebookContainer) {{\n",
       "    x.observe(notebookContainer, {childList: true});\n",
       "}}\n",
       "\n",
       "// Listen for the clearing of the current output cell\n",
       "var outputEl = gd.closest('.output');\n",
       "if (outputEl) {{\n",
       "    x.observe(outputEl, {childList: true});\n",
       "}}\n",
       "\n",
       "                        })                };                });            </script>        </div>"
      ]
     },
     "metadata": {},
     "output_type": "display_data"
    }
   ],
   "source": [
    "px.bar(paid_data, x = paid_data['Rating'].groupby(by = paid_data['Category']).mean().sort_values().dropna().index, \n",
    "       y = paid_data['Rating'].groupby(by = paid_data['Category']).mean().sort_values().dropna().values,\n",
    "       color = paid_data['Rating'].groupby(by = paid_data['Category']).mean().sort_values().dropna().index)"
   ]
  },
  {
   "cell_type": "markdown",
   "id": "fae5bf4a",
   "metadata": {},
   "source": [
    "# Findings:\n",
    "- The average rating of paid News And Magzines is highest howsoever Games which has highest number of installations and family with hihgest number of pai dinstallatons needs improvement\n",
    "- Better Family apps can be of great scope \n",
    "- Paid parenting app has least average rating , This is the category which needs alot of improvement. Total Installations of Parenting Category Apps is 25K+ which is very less "
   ]
  },
  {
   "cell_type": "markdown",
   "id": "b937b5bf",
   "metadata": {},
   "source": [
    "# Which category has highest number of Reviews submitted for paid apps?"
   ]
  },
  {
   "cell_type": "code",
   "execution_count": 19,
   "id": "e04ee28e",
   "metadata": {},
   "outputs": [
    {
     "data": {
      "application/vnd.plotly.v1+json": {
       "config": {
        "plotlyServerURL": "https://plot.ly"
       },
       "data": [
        {
         "alignmentgroup": "True",
         "hovertemplate": "color=FAMILY<br>x=%{x}<br>y=%{y}<br>text=%{text}<extra></extra>",
         "legendgroup": "FAMILY",
         "marker": {
          "color": "#636efa",
          "pattern": {
           "shape": ""
          }
         },
         "name": "FAMILY",
         "offsetgroup": "FAMILY",
         "orientation": "v",
         "showlegend": true,
         "text": [
          "31271814"
         ],
         "textposition": "auto",
         "type": "bar",
         "x": [
          "FAMILY"
         ],
         "xaxis": "x",
         "y": [
          8838
         ],
         "yaxis": "y"
        },
        {
         "alignmentgroup": "True",
         "hovertemplate": "color=MEDICAL<br>x=%{x}<br>y=%{y}<br>text=%{text}<extra></extra>",
         "legendgroup": "MEDICAL",
         "marker": {
          "color": "#EF553B",
          "pattern": {
           "shape": ""
          }
         },
         "name": "MEDICAL",
         "offsetgroup": "MEDICAL",
         "orientation": "v",
         "showlegend": true,
         "text": [
          "21099965"
         ],
         "textposition": "auto",
         "type": "bar",
         "x": [
          "MEDICAL"
         ],
         "xaxis": "x",
         "y": [
          5018
         ],
         "yaxis": "y"
        },
        {
         "alignmentgroup": "True",
         "hovertemplate": "color=GAME<br>x=%{x}<br>y=%{y}<br>text=%{text}<extra></extra>",
         "legendgroup": "GAME",
         "marker": {
          "color": "#00cc96",
          "pattern": {
           "shape": ""
          }
         },
         "name": "GAME",
         "offsetgroup": "GAME",
         "orientation": "v",
         "showlegend": true,
         "text": [
          "5258794"
         ],
         "textposition": "auto",
         "type": "bar",
         "x": [
          "GAME"
         ],
         "xaxis": "x",
         "y": [
          3617
         ],
         "yaxis": "y"
        },
        {
         "alignmentgroup": "True",
         "hovertemplate": "color=TOOLS<br>x=%{x}<br>y=%{y}<br>text=%{text}<extra></extra>",
         "legendgroup": "TOOLS",
         "marker": {
          "color": "#ab63fa",
          "pattern": {
           "shape": ""
          }
         },
         "name": "TOOLS",
         "offsetgroup": "TOOLS",
         "orientation": "v",
         "showlegend": true,
         "text": [
          "3978740"
         ],
         "textposition": "auto",
         "type": "bar",
         "x": [
          "TOOLS"
         ],
         "xaxis": "x",
         "y": [
          3367
         ],
         "yaxis": "y"
        },
        {
         "alignmentgroup": "True",
         "hovertemplate": "color=PERSONALIZATION<br>x=%{x}<br>y=%{y}<br>text=%{text}<extra></extra>",
         "legendgroup": "PERSONALIZATION",
         "marker": {
          "color": "#FFA15A",
          "pattern": {
           "shape": ""
          }
         },
         "name": "PERSONALIZATION",
         "offsetgroup": "PERSONALIZATION",
         "orientation": "v",
         "showlegend": true,
         "text": [
          "1727441"
         ],
         "textposition": "auto",
         "type": "bar",
         "x": [
          "PERSONALIZATION"
         ],
         "xaxis": "x",
         "y": [
          2675
         ],
         "yaxis": "y"
        },
        {
         "alignmentgroup": "True",
         "hovertemplate": "color=SPORTS<br>x=%{x}<br>y=%{y}<br>text=%{text}<extra></extra>",
         "legendgroup": "SPORTS",
         "marker": {
          "color": "#19d3f3",
          "pattern": {
           "shape": ""
          }
         },
         "name": "SPORTS",
         "offsetgroup": "SPORTS",
         "orientation": "v",
         "showlegend": true,
         "text": [
          "1412055"
         ],
         "textposition": "auto",
         "type": "bar",
         "x": [
          "SPORTS"
         ],
         "xaxis": "x",
         "y": [
          1423
         ],
         "yaxis": "y"
        },
        {
         "alignmentgroup": "True",
         "hovertemplate": "color=PHOTOGRAPHY<br>x=%{x}<br>y=%{y}<br>text=%{text}<extra></extra>",
         "legendgroup": "PHOTOGRAPHY",
         "marker": {
          "color": "#FF6692",
          "pattern": {
           "shape": ""
          }
         },
         "name": "PHOTOGRAPHY",
         "offsetgroup": "PHOTOGRAPHY",
         "orientation": "v",
         "showlegend": true,
         "text": [
          "1360050"
         ],
         "textposition": "auto",
         "type": "bar",
         "x": [
          "PHOTOGRAPHY"
         ],
         "xaxis": "x",
         "y": [
          1284
         ],
         "yaxis": "y"
        },
        {
         "alignmentgroup": "True",
         "hovertemplate": "color=LIFESTYLE<br>x=%{x}<br>y=%{y}<br>text=%{text}<extra></extra>",
         "legendgroup": "LIFESTYLE",
         "marker": {
          "color": "#B6E880",
          "pattern": {
           "shape": ""
          }
         },
         "name": "LIFESTYLE",
         "offsetgroup": "LIFESTYLE",
         "orientation": "v",
         "showlegend": true,
         "text": [
          "1243815"
         ],
         "textposition": "auto",
         "type": "bar",
         "x": [
          "LIFESTYLE"
         ],
         "xaxis": "x",
         "y": [
          1050
         ],
         "yaxis": "y"
        },
        {
         "alignmentgroup": "True",
         "hovertemplate": "color=COMMUNICATION<br>x=%{x}<br>y=%{y}<br>text=%{text}<extra></extra>",
         "legendgroup": "COMMUNICATION",
         "marker": {
          "color": "#FF97FF",
          "pattern": {
           "shape": ""
          }
         },
         "name": "COMMUNICATION",
         "offsetgroup": "COMMUNICATION",
         "orientation": "v",
         "showlegend": true,
         "text": [
          "1179110"
         ],
         "textposition": "auto",
         "type": "bar",
         "x": [
          "COMMUNICATION"
         ],
         "xaxis": "x",
         "y": [
          1028
         ],
         "yaxis": "y"
        },
        {
         "alignmentgroup": "True",
         "hovertemplate": "color=PRODUCTIVITY<br>x=%{x}<br>y=%{y}<br>text=%{text}<extra></extra>",
         "legendgroup": "PRODUCTIVITY",
         "marker": {
          "color": "#FECB52",
          "pattern": {
           "shape": ""
          }
         },
         "name": "PRODUCTIVITY",
         "offsetgroup": "PRODUCTIVITY",
         "orientation": "v",
         "showlegend": true,
         "text": [
          "1020033"
         ],
         "textposition": "auto",
         "type": "bar",
         "x": [
          "PRODUCTIVITY"
         ],
         "xaxis": "x",
         "y": [
          947
         ],
         "yaxis": "y"
        },
        {
         "alignmentgroup": "True",
         "hovertemplate": "color=FINANCE<br>x=%{x}<br>y=%{y}<br>text=%{text}<extra></extra>",
         "legendgroup": "FINANCE",
         "marker": {
          "color": "#636efa",
          "pattern": {
           "shape": ""
          }
         },
         "name": "FINANCE",
         "offsetgroup": "FINANCE",
         "orientation": "v",
         "showlegend": true,
         "text": [
          "812000"
         ],
         "textposition": "auto",
         "type": "bar",
         "x": [
          "FINANCE"
         ],
         "xaxis": "x",
         "y": [
          750
         ],
         "yaxis": "y"
        },
        {
         "alignmentgroup": "True",
         "hovertemplate": "color=HEALTH_AND_FITNESS<br>x=%{x}<br>y=%{y}<br>text=%{text}<extra></extra>",
         "legendgroup": "HEALTH_AND_FITNESS",
         "marker": {
          "color": "#EF553B",
          "pattern": {
           "shape": ""
          }
         },
         "name": "HEALTH_AND_FITNESS",
         "offsetgroup": "HEALTH_AND_FITNESS",
         "orientation": "v",
         "showlegend": true,
         "text": [
          "602000"
         ],
         "textposition": "auto",
         "type": "bar",
         "x": [
          "HEALTH_AND_FITNESS"
         ],
         "xaxis": "x",
         "y": [
          714
         ],
         "yaxis": "y"
        },
        {
         "alignmentgroup": "True",
         "hovertemplate": "color=TRAVEL_AND_LOCAL<br>x=%{x}<br>y=%{y}<br>text=%{text}<extra></extra>",
         "legendgroup": "TRAVEL_AND_LOCAL",
         "marker": {
          "color": "#00cc96",
          "pattern": {
           "shape": ""
          }
         },
         "name": "TRAVEL_AND_LOCAL",
         "offsetgroup": "TRAVEL_AND_LOCAL",
         "orientation": "v",
         "showlegend": true,
         "text": [
          "574110"
         ],
         "textposition": "auto",
         "type": "bar",
         "x": [
          "TRAVEL_AND_LOCAL"
         ],
         "xaxis": "x",
         "y": [
          531
         ],
         "yaxis": "y"
        },
        {
         "alignmentgroup": "True",
         "hovertemplate": "color=BOOKS_AND_REFERENCE<br>x=%{x}<br>y=%{y}<br>text=%{text}<extra></extra>",
         "legendgroup": "BOOKS_AND_REFERENCE",
         "marker": {
          "color": "#ab63fa",
          "pattern": {
           "shape": ""
          }
         },
         "name": "BOOKS_AND_REFERENCE",
         "offsetgroup": "BOOKS_AND_REFERENCE",
         "orientation": "v",
         "showlegend": true,
         "text": [
          "412775"
         ],
         "textposition": "auto",
         "type": "bar",
         "x": [
          "BOOKS_AND_REFERENCE"
         ],
         "xaxis": "x",
         "y": [
          516
         ],
         "yaxis": "y"
        },
        {
         "alignmentgroup": "True",
         "hovertemplate": "color=BUSINESS<br>x=%{x}<br>y=%{y}<br>text=%{text}<extra></extra>",
         "legendgroup": "BUSINESS",
         "marker": {
          "color": "#FFA15A",
          "pattern": {
           "shape": ""
          }
         },
         "name": "BUSINESS",
         "offsetgroup": "BUSINESS",
         "orientation": "v",
         "showlegend": true,
         "text": [
          "200000"
         ],
         "textposition": "auto",
         "type": "bar",
         "x": [
          "BUSINESS"
         ],
         "xaxis": "x",
         "y": [
          441
         ],
         "yaxis": "y"
        },
        {
         "alignmentgroup": "True",
         "hovertemplate": "color=WEATHER<br>x=%{x}<br>y=%{y}<br>text=%{text}<extra></extra>",
         "legendgroup": "WEATHER",
         "marker": {
          "color": "#19d3f3",
          "pattern": {
           "shape": ""
          }
         },
         "name": "WEATHER",
         "offsetgroup": "WEATHER",
         "orientation": "v",
         "showlegend": true,
         "text": [
          "185602"
         ],
         "textposition": "auto",
         "type": "bar",
         "x": [
          "WEATHER"
         ],
         "xaxis": "x",
         "y": [
          387
         ],
         "yaxis": "y"
        },
        {
         "alignmentgroup": "True",
         "hovertemplate": "color=MAPS_AND_NAVIGATION<br>x=%{x}<br>y=%{y}<br>text=%{text}<extra></extra>",
         "legendgroup": "MAPS_AND_NAVIGATION",
         "marker": {
          "color": "#FF6692",
          "pattern": {
           "shape": ""
          }
         },
         "name": "MAPS_AND_NAVIGATION",
         "offsetgroup": "MAPS_AND_NAVIGATION",
         "orientation": "v",
         "showlegend": true,
         "text": [
          "183060"
         ],
         "textposition": "auto",
         "type": "bar",
         "x": [
          "MAPS_AND_NAVIGATION"
         ],
         "xaxis": "x",
         "y": [
          282
         ],
         "yaxis": "y"
        },
        {
         "alignmentgroup": "True",
         "hovertemplate": "color=VIDEO_PLAYERS<br>x=%{x}<br>y=%{y}<br>text=%{text}<extra></extra>",
         "legendgroup": "VIDEO_PLAYERS",
         "marker": {
          "color": "#B6E880",
          "pattern": {
           "shape": ""
          }
         },
         "name": "VIDEO_PLAYERS",
         "offsetgroup": "VIDEO_PLAYERS",
         "orientation": "v",
         "showlegend": true,
         "text": [
          "121100"
         ],
         "textposition": "auto",
         "type": "bar",
         "x": [
          "VIDEO_PLAYERS"
         ],
         "xaxis": "x",
         "y": [
          215
         ],
         "yaxis": "y"
        },
        {
         "alignmentgroup": "True",
         "hovertemplate": "color=ART_AND_DESIGN<br>x=%{x}<br>y=%{y}<br>text=%{text}<extra></extra>",
         "legendgroup": "ART_AND_DESIGN",
         "marker": {
          "color": "#FF97FF",
          "pattern": {
           "shape": ""
          }
         },
         "name": "ART_AND_DESIGN",
         "offsetgroup": "ART_AND_DESIGN",
         "orientation": "v",
         "showlegend": true,
         "text": [
          "71000"
         ],
         "textposition": "auto",
         "type": "bar",
         "x": [
          "ART_AND_DESIGN"
         ],
         "xaxis": "x",
         "y": [
          204
         ],
         "yaxis": "y"
        },
        {
         "alignmentgroup": "True",
         "hovertemplate": "color=EDUCATION<br>x=%{x}<br>y=%{y}<br>text=%{text}<extra></extra>",
         "legendgroup": "EDUCATION",
         "marker": {
          "color": "#FECB52",
          "pattern": {
           "shape": ""
          }
         },
         "name": "EDUCATION",
         "offsetgroup": "EDUCATION",
         "orientation": "v",
         "showlegend": true,
         "text": [
          "60000"
         ],
         "textposition": "auto",
         "type": "bar",
         "x": [
          "EDUCATION"
         ],
         "xaxis": "x",
         "y": [
          197
         ],
         "yaxis": "y"
        },
        {
         "alignmentgroup": "True",
         "hovertemplate": "color=NEWS_AND_MAGAZINES<br>x=%{x}<br>y=%{y}<br>text=%{text}<extra></extra>",
         "legendgroup": "NEWS_AND_MAGAZINES",
         "marker": {
          "color": "#636efa",
          "pattern": {
           "shape": ""
          }
         },
         "name": "NEWS_AND_MAGAZINES",
         "offsetgroup": "NEWS_AND_MAGAZINES",
         "orientation": "v",
         "showlegend": true,
         "text": [
          "50150"
         ],
         "textposition": "auto",
         "type": "bar",
         "x": [
          "NEWS_AND_MAGAZINES"
         ],
         "xaxis": "x",
         "y": [
          171
         ],
         "yaxis": "y"
        },
        {
         "alignmentgroup": "True",
         "hovertemplate": "color=ENTERTAINMENT<br>x=%{x}<br>y=%{y}<br>text=%{text}<extra></extra>",
         "legendgroup": "ENTERTAINMENT",
         "marker": {
          "color": "#EF553B",
          "pattern": {
           "shape": ""
          }
         },
         "name": "ENTERTAINMENT",
         "offsetgroup": "ENTERTAINMENT",
         "orientation": "v",
         "showlegend": true,
         "text": [
          "50100"
         ],
         "textposition": "auto",
         "type": "bar",
         "x": [
          "ENTERTAINMENT"
         ],
         "xaxis": "x",
         "y": [
          163
         ],
         "yaxis": "y"
        },
        {
         "alignmentgroup": "True",
         "hovertemplate": "color=PARENTING<br>x=%{x}<br>y=%{y}<br>text=%{text}<extra></extra>",
         "legendgroup": "PARENTING",
         "marker": {
          "color": "#00cc96",
          "pattern": {
           "shape": ""
          }
         },
         "name": "PARENTING",
         "offsetgroup": "PARENTING",
         "orientation": "v",
         "showlegend": true,
         "text": [
          "23316"
         ],
         "textposition": "auto",
         "type": "bar",
         "x": [
          "PARENTING"
         ],
         "xaxis": "x",
         "y": [
          128
         ],
         "yaxis": "y"
        },
        {
         "alignmentgroup": "True",
         "hovertemplate": "color=FOOD_AND_DRINK<br>x=%{x}<br>y=%{y}<br>text=%{text}<extra></extra>",
         "legendgroup": "FOOD_AND_DRINK",
         "marker": {
          "color": "#ab63fa",
          "pattern": {
           "shape": ""
          }
         },
         "name": "FOOD_AND_DRINK",
         "offsetgroup": "FOOD_AND_DRINK",
         "orientation": "v",
         "showlegend": true,
         "text": [
          "21350"
         ],
         "textposition": "auto",
         "type": "bar",
         "x": [
          "FOOD_AND_DRINK"
         ],
         "xaxis": "x",
         "y": [
          93
         ],
         "yaxis": "y"
        },
        {
         "alignmentgroup": "True",
         "hovertemplate": "color=SOCIAL<br>x=%{x}<br>y=%{y}<br>text=%{text}<extra></extra>",
         "legendgroup": "SOCIAL",
         "marker": {
          "color": "#FFA15A",
          "pattern": {
           "shape": ""
          }
         },
         "name": "SOCIAL",
         "offsetgroup": "SOCIAL",
         "orientation": "v",
         "showlegend": true,
         "text": [
          "16000"
         ],
         "textposition": "auto",
         "type": "bar",
         "x": [
          "SOCIAL"
         ],
         "xaxis": "x",
         "y": [
          90
         ],
         "yaxis": "y"
        },
        {
         "alignmentgroup": "True",
         "hovertemplate": "color=DATING<br>x=%{x}<br>y=%{y}<br>text=%{text}<extra></extra>",
         "legendgroup": "DATING",
         "marker": {
          "color": "#19d3f3",
          "pattern": {
           "shape": ""
          }
         },
         "name": "DATING",
         "offsetgroup": "DATING",
         "orientation": "v",
         "showlegend": true,
         "text": [
          "10100"
         ],
         "textposition": "auto",
         "type": "bar",
         "x": [
          "DATING"
         ],
         "xaxis": "x",
         "y": [
          82
         ],
         "yaxis": "y"
        },
        {
         "alignmentgroup": "True",
         "hovertemplate": "color=AUTO_AND_VEHICLES<br>x=%{x}<br>y=%{y}<br>text=%{text}<extra></extra>",
         "legendgroup": "AUTO_AND_VEHICLES",
         "marker": {
          "color": "#FF6692",
          "pattern": {
           "shape": ""
          }
         },
         "name": "AUTO_AND_VEHICLES",
         "offsetgroup": "AUTO_AND_VEHICLES",
         "orientation": "v",
         "showlegend": true,
         "text": [
          "6000"
         ],
         "textposition": "auto",
         "type": "bar",
         "x": [
          "AUTO_AND_VEHICLES"
         ],
         "xaxis": "x",
         "y": [
          67
         ],
         "yaxis": "y"
        },
        {
         "alignmentgroup": "True",
         "hovertemplate": "color=SHOPPING<br>x=%{x}<br>y=%{y}<br>text=%{text}<extra></extra>",
         "legendgroup": "SHOPPING",
         "marker": {
          "color": "#B6E880",
          "pattern": {
           "shape": ""
          }
         },
         "name": "SHOPPING",
         "offsetgroup": "SHOPPING",
         "orientation": "v",
         "showlegend": true,
         "text": [
          "5500"
         ],
         "textposition": "auto",
         "type": "bar",
         "x": [
          "SHOPPING"
         ],
         "xaxis": "x",
         "y": [
          56
         ],
         "yaxis": "y"
        },
        {
         "alignmentgroup": "True",
         "hovertemplate": "color=LIBRARIES_AND_DEMO<br>x=%{x}<br>y=%{y}<br>text=%{text}<extra></extra>",
         "legendgroup": "LIBRARIES_AND_DEMO",
         "marker": {
          "color": "#FF97FF",
          "pattern": {
           "shape": ""
          }
         },
         "name": "LIBRARIES_AND_DEMO",
         "offsetgroup": "LIBRARIES_AND_DEMO",
         "orientation": "v",
         "showlegend": true,
         "text": [
          "100"
         ],
         "textposition": "auto",
         "type": "bar",
         "x": [
          "LIBRARIES_AND_DEMO"
         ],
         "xaxis": "x",
         "y": [
          4
         ],
         "yaxis": "y"
        },
        {
         "alignmentgroup": "True",
         "hovertemplate": "color=EVENTS<br>x=%{x}<br>y=%{y}<br>text=%{text}<extra></extra>",
         "legendgroup": "EVENTS",
         "marker": {
          "color": "#FECB52",
          "pattern": {
           "shape": ""
          }
         },
         "name": "EVENTS",
         "offsetgroup": "EVENTS",
         "orientation": "v",
         "showlegend": true,
         "text": [
          "1"
         ],
         "textposition": "auto",
         "type": "bar",
         "x": [
          "EVENTS"
         ],
         "xaxis": "x",
         "y": [
          0
         ],
         "yaxis": "y"
        }
       ],
       "layout": {
        "barmode": "relative",
        "legend": {
         "title": {
          "text": "color"
         },
         "tracegroupgap": 0
        },
        "margin": {
         "t": 60
        },
        "template": {
         "data": {
          "bar": [
           {
            "error_x": {
             "color": "#2a3f5f"
            },
            "error_y": {
             "color": "#2a3f5f"
            },
            "marker": {
             "line": {
              "color": "#E5ECF6",
              "width": 0.5
             },
             "pattern": {
              "fillmode": "overlay",
              "size": 10,
              "solidity": 0.2
             }
            },
            "type": "bar"
           }
          ],
          "barpolar": [
           {
            "marker": {
             "line": {
              "color": "#E5ECF6",
              "width": 0.5
             },
             "pattern": {
              "fillmode": "overlay",
              "size": 10,
              "solidity": 0.2
             }
            },
            "type": "barpolar"
           }
          ],
          "carpet": [
           {
            "aaxis": {
             "endlinecolor": "#2a3f5f",
             "gridcolor": "white",
             "linecolor": "white",
             "minorgridcolor": "white",
             "startlinecolor": "#2a3f5f"
            },
            "baxis": {
             "endlinecolor": "#2a3f5f",
             "gridcolor": "white",
             "linecolor": "white",
             "minorgridcolor": "white",
             "startlinecolor": "#2a3f5f"
            },
            "type": "carpet"
           }
          ],
          "choropleth": [
           {
            "colorbar": {
             "outlinewidth": 0,
             "ticks": ""
            },
            "type": "choropleth"
           }
          ],
          "contour": [
           {
            "colorbar": {
             "outlinewidth": 0,
             "ticks": ""
            },
            "colorscale": [
             [
              0,
              "#0d0887"
             ],
             [
              0.1111111111111111,
              "#46039f"
             ],
             [
              0.2222222222222222,
              "#7201a8"
             ],
             [
              0.3333333333333333,
              "#9c179e"
             ],
             [
              0.4444444444444444,
              "#bd3786"
             ],
             [
              0.5555555555555556,
              "#d8576b"
             ],
             [
              0.6666666666666666,
              "#ed7953"
             ],
             [
              0.7777777777777778,
              "#fb9f3a"
             ],
             [
              0.8888888888888888,
              "#fdca26"
             ],
             [
              1,
              "#f0f921"
             ]
            ],
            "type": "contour"
           }
          ],
          "contourcarpet": [
           {
            "colorbar": {
             "outlinewidth": 0,
             "ticks": ""
            },
            "type": "contourcarpet"
           }
          ],
          "heatmap": [
           {
            "colorbar": {
             "outlinewidth": 0,
             "ticks": ""
            },
            "colorscale": [
             [
              0,
              "#0d0887"
             ],
             [
              0.1111111111111111,
              "#46039f"
             ],
             [
              0.2222222222222222,
              "#7201a8"
             ],
             [
              0.3333333333333333,
              "#9c179e"
             ],
             [
              0.4444444444444444,
              "#bd3786"
             ],
             [
              0.5555555555555556,
              "#d8576b"
             ],
             [
              0.6666666666666666,
              "#ed7953"
             ],
             [
              0.7777777777777778,
              "#fb9f3a"
             ],
             [
              0.8888888888888888,
              "#fdca26"
             ],
             [
              1,
              "#f0f921"
             ]
            ],
            "type": "heatmap"
           }
          ],
          "heatmapgl": [
           {
            "colorbar": {
             "outlinewidth": 0,
             "ticks": ""
            },
            "colorscale": [
             [
              0,
              "#0d0887"
             ],
             [
              0.1111111111111111,
              "#46039f"
             ],
             [
              0.2222222222222222,
              "#7201a8"
             ],
             [
              0.3333333333333333,
              "#9c179e"
             ],
             [
              0.4444444444444444,
              "#bd3786"
             ],
             [
              0.5555555555555556,
              "#d8576b"
             ],
             [
              0.6666666666666666,
              "#ed7953"
             ],
             [
              0.7777777777777778,
              "#fb9f3a"
             ],
             [
              0.8888888888888888,
              "#fdca26"
             ],
             [
              1,
              "#f0f921"
             ]
            ],
            "type": "heatmapgl"
           }
          ],
          "histogram": [
           {
            "marker": {
             "pattern": {
              "fillmode": "overlay",
              "size": 10,
              "solidity": 0.2
             }
            },
            "type": "histogram"
           }
          ],
          "histogram2d": [
           {
            "colorbar": {
             "outlinewidth": 0,
             "ticks": ""
            },
            "colorscale": [
             [
              0,
              "#0d0887"
             ],
             [
              0.1111111111111111,
              "#46039f"
             ],
             [
              0.2222222222222222,
              "#7201a8"
             ],
             [
              0.3333333333333333,
              "#9c179e"
             ],
             [
              0.4444444444444444,
              "#bd3786"
             ],
             [
              0.5555555555555556,
              "#d8576b"
             ],
             [
              0.6666666666666666,
              "#ed7953"
             ],
             [
              0.7777777777777778,
              "#fb9f3a"
             ],
             [
              0.8888888888888888,
              "#fdca26"
             ],
             [
              1,
              "#f0f921"
             ]
            ],
            "type": "histogram2d"
           }
          ],
          "histogram2dcontour": [
           {
            "colorbar": {
             "outlinewidth": 0,
             "ticks": ""
            },
            "colorscale": [
             [
              0,
              "#0d0887"
             ],
             [
              0.1111111111111111,
              "#46039f"
             ],
             [
              0.2222222222222222,
              "#7201a8"
             ],
             [
              0.3333333333333333,
              "#9c179e"
             ],
             [
              0.4444444444444444,
              "#bd3786"
             ],
             [
              0.5555555555555556,
              "#d8576b"
             ],
             [
              0.6666666666666666,
              "#ed7953"
             ],
             [
              0.7777777777777778,
              "#fb9f3a"
             ],
             [
              0.8888888888888888,
              "#fdca26"
             ],
             [
              1,
              "#f0f921"
             ]
            ],
            "type": "histogram2dcontour"
           }
          ],
          "mesh3d": [
           {
            "colorbar": {
             "outlinewidth": 0,
             "ticks": ""
            },
            "type": "mesh3d"
           }
          ],
          "parcoords": [
           {
            "line": {
             "colorbar": {
              "outlinewidth": 0,
              "ticks": ""
             }
            },
            "type": "parcoords"
           }
          ],
          "pie": [
           {
            "automargin": true,
            "type": "pie"
           }
          ],
          "scatter": [
           {
            "marker": {
             "colorbar": {
              "outlinewidth": 0,
              "ticks": ""
             }
            },
            "type": "scatter"
           }
          ],
          "scatter3d": [
           {
            "line": {
             "colorbar": {
              "outlinewidth": 0,
              "ticks": ""
             }
            },
            "marker": {
             "colorbar": {
              "outlinewidth": 0,
              "ticks": ""
             }
            },
            "type": "scatter3d"
           }
          ],
          "scattercarpet": [
           {
            "marker": {
             "colorbar": {
              "outlinewidth": 0,
              "ticks": ""
             }
            },
            "type": "scattercarpet"
           }
          ],
          "scattergeo": [
           {
            "marker": {
             "colorbar": {
              "outlinewidth": 0,
              "ticks": ""
             }
            },
            "type": "scattergeo"
           }
          ],
          "scattergl": [
           {
            "marker": {
             "colorbar": {
              "outlinewidth": 0,
              "ticks": ""
             }
            },
            "type": "scattergl"
           }
          ],
          "scattermapbox": [
           {
            "marker": {
             "colorbar": {
              "outlinewidth": 0,
              "ticks": ""
             }
            },
            "type": "scattermapbox"
           }
          ],
          "scatterpolar": [
           {
            "marker": {
             "colorbar": {
              "outlinewidth": 0,
              "ticks": ""
             }
            },
            "type": "scatterpolar"
           }
          ],
          "scatterpolargl": [
           {
            "marker": {
             "colorbar": {
              "outlinewidth": 0,
              "ticks": ""
             }
            },
            "type": "scatterpolargl"
           }
          ],
          "scatterternary": [
           {
            "marker": {
             "colorbar": {
              "outlinewidth": 0,
              "ticks": ""
             }
            },
            "type": "scatterternary"
           }
          ],
          "surface": [
           {
            "colorbar": {
             "outlinewidth": 0,
             "ticks": ""
            },
            "colorscale": [
             [
              0,
              "#0d0887"
             ],
             [
              0.1111111111111111,
              "#46039f"
             ],
             [
              0.2222222222222222,
              "#7201a8"
             ],
             [
              0.3333333333333333,
              "#9c179e"
             ],
             [
              0.4444444444444444,
              "#bd3786"
             ],
             [
              0.5555555555555556,
              "#d8576b"
             ],
             [
              0.6666666666666666,
              "#ed7953"
             ],
             [
              0.7777777777777778,
              "#fb9f3a"
             ],
             [
              0.8888888888888888,
              "#fdca26"
             ],
             [
              1,
              "#f0f921"
             ]
            ],
            "type": "surface"
           }
          ],
          "table": [
           {
            "cells": {
             "fill": {
              "color": "#EBF0F8"
             },
             "line": {
              "color": "white"
             }
            },
            "header": {
             "fill": {
              "color": "#C8D4E3"
             },
             "line": {
              "color": "white"
             }
            },
            "type": "table"
           }
          ]
         },
         "layout": {
          "annotationdefaults": {
           "arrowcolor": "#2a3f5f",
           "arrowhead": 0,
           "arrowwidth": 1
          },
          "autotypenumbers": "strict",
          "coloraxis": {
           "colorbar": {
            "outlinewidth": 0,
            "ticks": ""
           }
          },
          "colorscale": {
           "diverging": [
            [
             0,
             "#8e0152"
            ],
            [
             0.1,
             "#c51b7d"
            ],
            [
             0.2,
             "#de77ae"
            ],
            [
             0.3,
             "#f1b6da"
            ],
            [
             0.4,
             "#fde0ef"
            ],
            [
             0.5,
             "#f7f7f7"
            ],
            [
             0.6,
             "#e6f5d0"
            ],
            [
             0.7,
             "#b8e186"
            ],
            [
             0.8,
             "#7fbc41"
            ],
            [
             0.9,
             "#4d9221"
            ],
            [
             1,
             "#276419"
            ]
           ],
           "sequential": [
            [
             0,
             "#0d0887"
            ],
            [
             0.1111111111111111,
             "#46039f"
            ],
            [
             0.2222222222222222,
             "#7201a8"
            ],
            [
             0.3333333333333333,
             "#9c179e"
            ],
            [
             0.4444444444444444,
             "#bd3786"
            ],
            [
             0.5555555555555556,
             "#d8576b"
            ],
            [
             0.6666666666666666,
             "#ed7953"
            ],
            [
             0.7777777777777778,
             "#fb9f3a"
            ],
            [
             0.8888888888888888,
             "#fdca26"
            ],
            [
             1,
             "#f0f921"
            ]
           ],
           "sequentialminus": [
            [
             0,
             "#0d0887"
            ],
            [
             0.1111111111111111,
             "#46039f"
            ],
            [
             0.2222222222222222,
             "#7201a8"
            ],
            [
             0.3333333333333333,
             "#9c179e"
            ],
            [
             0.4444444444444444,
             "#bd3786"
            ],
            [
             0.5555555555555556,
             "#d8576b"
            ],
            [
             0.6666666666666666,
             "#ed7953"
            ],
            [
             0.7777777777777778,
             "#fb9f3a"
            ],
            [
             0.8888888888888888,
             "#fdca26"
            ],
            [
             1,
             "#f0f921"
            ]
           ]
          },
          "colorway": [
           "#636efa",
           "#EF553B",
           "#00cc96",
           "#ab63fa",
           "#FFA15A",
           "#19d3f3",
           "#FF6692",
           "#B6E880",
           "#FF97FF",
           "#FECB52"
          ],
          "font": {
           "color": "#2a3f5f"
          },
          "geo": {
           "bgcolor": "white",
           "lakecolor": "white",
           "landcolor": "#E5ECF6",
           "showlakes": true,
           "showland": true,
           "subunitcolor": "white"
          },
          "hoverlabel": {
           "align": "left"
          },
          "hovermode": "closest",
          "mapbox": {
           "style": "light"
          },
          "paper_bgcolor": "white",
          "plot_bgcolor": "#E5ECF6",
          "polar": {
           "angularaxis": {
            "gridcolor": "white",
            "linecolor": "white",
            "ticks": ""
           },
           "bgcolor": "#E5ECF6",
           "radialaxis": {
            "gridcolor": "white",
            "linecolor": "white",
            "ticks": ""
           }
          },
          "scene": {
           "xaxis": {
            "backgroundcolor": "#E5ECF6",
            "gridcolor": "white",
            "gridwidth": 2,
            "linecolor": "white",
            "showbackground": true,
            "ticks": "",
            "zerolinecolor": "white"
           },
           "yaxis": {
            "backgroundcolor": "#E5ECF6",
            "gridcolor": "white",
            "gridwidth": 2,
            "linecolor": "white",
            "showbackground": true,
            "ticks": "",
            "zerolinecolor": "white"
           },
           "zaxis": {
            "backgroundcolor": "#E5ECF6",
            "gridcolor": "white",
            "gridwidth": 2,
            "linecolor": "white",
            "showbackground": true,
            "ticks": "",
            "zerolinecolor": "white"
           }
          },
          "shapedefaults": {
           "line": {
            "color": "#2a3f5f"
           }
          },
          "ternary": {
           "aaxis": {
            "gridcolor": "white",
            "linecolor": "white",
            "ticks": ""
           },
           "baxis": {
            "gridcolor": "white",
            "linecolor": "white",
            "ticks": ""
           },
           "bgcolor": "#E5ECF6",
           "caxis": {
            "gridcolor": "white",
            "linecolor": "white",
            "ticks": ""
           }
          },
          "title": {
           "x": 0.05
          },
          "xaxis": {
           "automargin": true,
           "gridcolor": "white",
           "linecolor": "white",
           "ticks": "",
           "title": {
            "standoff": 15
           },
           "zerolinecolor": "white",
           "zerolinewidth": 2
          },
          "yaxis": {
           "automargin": true,
           "gridcolor": "white",
           "linecolor": "white",
           "ticks": "",
           "title": {
            "standoff": 15
           },
           "zerolinecolor": "white",
           "zerolinewidth": 2
          }
         }
        },
        "xaxis": {
         "anchor": "y",
         "domain": [
          0,
          1
         ],
         "title": {
          "text": "x"
         }
        },
        "yaxis": {
         "anchor": "x",
         "domain": [
          0,
          1
         ],
         "title": {
          "text": "y"
         }
        }
       }
      },
      "text/html": [
       "<div>                            <div id=\"0f5d651f-29ee-4ef5-a818-4735bdfa85d6\" class=\"plotly-graph-div\" style=\"height:525px; width:100%;\"></div>            <script type=\"text/javascript\">                require([\"plotly\"], function(Plotly) {                    window.PLOTLYENV=window.PLOTLYENV || {};                                    if (document.getElementById(\"0f5d651f-29ee-4ef5-a818-4735bdfa85d6\")) {                    Plotly.newPlot(                        \"0f5d651f-29ee-4ef5-a818-4735bdfa85d6\",                        [{\"alignmentgroup\":\"True\",\"hovertemplate\":\"color=FAMILY<br>x=%{x}<br>y=%{y}<br>text=%{text}<extra></extra>\",\"legendgroup\":\"FAMILY\",\"marker\":{\"color\":\"#636efa\",\"pattern\":{\"shape\":\"\"}},\"name\":\"FAMILY\",\"offsetgroup\":\"FAMILY\",\"orientation\":\"v\",\"showlegend\":true,\"text\":[\"31271814\"],\"textposition\":\"auto\",\"type\":\"bar\",\"x\":[\"FAMILY\"],\"xaxis\":\"x\",\"y\":[8838],\"yaxis\":\"y\"},{\"alignmentgroup\":\"True\",\"hovertemplate\":\"color=MEDICAL<br>x=%{x}<br>y=%{y}<br>text=%{text}<extra></extra>\",\"legendgroup\":\"MEDICAL\",\"marker\":{\"color\":\"#EF553B\",\"pattern\":{\"shape\":\"\"}},\"name\":\"MEDICAL\",\"offsetgroup\":\"MEDICAL\",\"orientation\":\"v\",\"showlegend\":true,\"text\":[\"21099965\"],\"textposition\":\"auto\",\"type\":\"bar\",\"x\":[\"MEDICAL\"],\"xaxis\":\"x\",\"y\":[5018],\"yaxis\":\"y\"},{\"alignmentgroup\":\"True\",\"hovertemplate\":\"color=GAME<br>x=%{x}<br>y=%{y}<br>text=%{text}<extra></extra>\",\"legendgroup\":\"GAME\",\"marker\":{\"color\":\"#00cc96\",\"pattern\":{\"shape\":\"\"}},\"name\":\"GAME\",\"offsetgroup\":\"GAME\",\"orientation\":\"v\",\"showlegend\":true,\"text\":[\"5258794\"],\"textposition\":\"auto\",\"type\":\"bar\",\"x\":[\"GAME\"],\"xaxis\":\"x\",\"y\":[3617],\"yaxis\":\"y\"},{\"alignmentgroup\":\"True\",\"hovertemplate\":\"color=TOOLS<br>x=%{x}<br>y=%{y}<br>text=%{text}<extra></extra>\",\"legendgroup\":\"TOOLS\",\"marker\":{\"color\":\"#ab63fa\",\"pattern\":{\"shape\":\"\"}},\"name\":\"TOOLS\",\"offsetgroup\":\"TOOLS\",\"orientation\":\"v\",\"showlegend\":true,\"text\":[\"3978740\"],\"textposition\":\"auto\",\"type\":\"bar\",\"x\":[\"TOOLS\"],\"xaxis\":\"x\",\"y\":[3367],\"yaxis\":\"y\"},{\"alignmentgroup\":\"True\",\"hovertemplate\":\"color=PERSONALIZATION<br>x=%{x}<br>y=%{y}<br>text=%{text}<extra></extra>\",\"legendgroup\":\"PERSONALIZATION\",\"marker\":{\"color\":\"#FFA15A\",\"pattern\":{\"shape\":\"\"}},\"name\":\"PERSONALIZATION\",\"offsetgroup\":\"PERSONALIZATION\",\"orientation\":\"v\",\"showlegend\":true,\"text\":[\"1727441\"],\"textposition\":\"auto\",\"type\":\"bar\",\"x\":[\"PERSONALIZATION\"],\"xaxis\":\"x\",\"y\":[2675],\"yaxis\":\"y\"},{\"alignmentgroup\":\"True\",\"hovertemplate\":\"color=SPORTS<br>x=%{x}<br>y=%{y}<br>text=%{text}<extra></extra>\",\"legendgroup\":\"SPORTS\",\"marker\":{\"color\":\"#19d3f3\",\"pattern\":{\"shape\":\"\"}},\"name\":\"SPORTS\",\"offsetgroup\":\"SPORTS\",\"orientation\":\"v\",\"showlegend\":true,\"text\":[\"1412055\"],\"textposition\":\"auto\",\"type\":\"bar\",\"x\":[\"SPORTS\"],\"xaxis\":\"x\",\"y\":[1423],\"yaxis\":\"y\"},{\"alignmentgroup\":\"True\",\"hovertemplate\":\"color=PHOTOGRAPHY<br>x=%{x}<br>y=%{y}<br>text=%{text}<extra></extra>\",\"legendgroup\":\"PHOTOGRAPHY\",\"marker\":{\"color\":\"#FF6692\",\"pattern\":{\"shape\":\"\"}},\"name\":\"PHOTOGRAPHY\",\"offsetgroup\":\"PHOTOGRAPHY\",\"orientation\":\"v\",\"showlegend\":true,\"text\":[\"1360050\"],\"textposition\":\"auto\",\"type\":\"bar\",\"x\":[\"PHOTOGRAPHY\"],\"xaxis\":\"x\",\"y\":[1284],\"yaxis\":\"y\"},{\"alignmentgroup\":\"True\",\"hovertemplate\":\"color=LIFESTYLE<br>x=%{x}<br>y=%{y}<br>text=%{text}<extra></extra>\",\"legendgroup\":\"LIFESTYLE\",\"marker\":{\"color\":\"#B6E880\",\"pattern\":{\"shape\":\"\"}},\"name\":\"LIFESTYLE\",\"offsetgroup\":\"LIFESTYLE\",\"orientation\":\"v\",\"showlegend\":true,\"text\":[\"1243815\"],\"textposition\":\"auto\",\"type\":\"bar\",\"x\":[\"LIFESTYLE\"],\"xaxis\":\"x\",\"y\":[1050],\"yaxis\":\"y\"},{\"alignmentgroup\":\"True\",\"hovertemplate\":\"color=COMMUNICATION<br>x=%{x}<br>y=%{y}<br>text=%{text}<extra></extra>\",\"legendgroup\":\"COMMUNICATION\",\"marker\":{\"color\":\"#FF97FF\",\"pattern\":{\"shape\":\"\"}},\"name\":\"COMMUNICATION\",\"offsetgroup\":\"COMMUNICATION\",\"orientation\":\"v\",\"showlegend\":true,\"text\":[\"1179110\"],\"textposition\":\"auto\",\"type\":\"bar\",\"x\":[\"COMMUNICATION\"],\"xaxis\":\"x\",\"y\":[1028],\"yaxis\":\"y\"},{\"alignmentgroup\":\"True\",\"hovertemplate\":\"color=PRODUCTIVITY<br>x=%{x}<br>y=%{y}<br>text=%{text}<extra></extra>\",\"legendgroup\":\"PRODUCTIVITY\",\"marker\":{\"color\":\"#FECB52\",\"pattern\":{\"shape\":\"\"}},\"name\":\"PRODUCTIVITY\",\"offsetgroup\":\"PRODUCTIVITY\",\"orientation\":\"v\",\"showlegend\":true,\"text\":[\"1020033\"],\"textposition\":\"auto\",\"type\":\"bar\",\"x\":[\"PRODUCTIVITY\"],\"xaxis\":\"x\",\"y\":[947],\"yaxis\":\"y\"},{\"alignmentgroup\":\"True\",\"hovertemplate\":\"color=FINANCE<br>x=%{x}<br>y=%{y}<br>text=%{text}<extra></extra>\",\"legendgroup\":\"FINANCE\",\"marker\":{\"color\":\"#636efa\",\"pattern\":{\"shape\":\"\"}},\"name\":\"FINANCE\",\"offsetgroup\":\"FINANCE\",\"orientation\":\"v\",\"showlegend\":true,\"text\":[\"812000\"],\"textposition\":\"auto\",\"type\":\"bar\",\"x\":[\"FINANCE\"],\"xaxis\":\"x\",\"y\":[750],\"yaxis\":\"y\"},{\"alignmentgroup\":\"True\",\"hovertemplate\":\"color=HEALTH_AND_FITNESS<br>x=%{x}<br>y=%{y}<br>text=%{text}<extra></extra>\",\"legendgroup\":\"HEALTH_AND_FITNESS\",\"marker\":{\"color\":\"#EF553B\",\"pattern\":{\"shape\":\"\"}},\"name\":\"HEALTH_AND_FITNESS\",\"offsetgroup\":\"HEALTH_AND_FITNESS\",\"orientation\":\"v\",\"showlegend\":true,\"text\":[\"602000\"],\"textposition\":\"auto\",\"type\":\"bar\",\"x\":[\"HEALTH_AND_FITNESS\"],\"xaxis\":\"x\",\"y\":[714],\"yaxis\":\"y\"},{\"alignmentgroup\":\"True\",\"hovertemplate\":\"color=TRAVEL_AND_LOCAL<br>x=%{x}<br>y=%{y}<br>text=%{text}<extra></extra>\",\"legendgroup\":\"TRAVEL_AND_LOCAL\",\"marker\":{\"color\":\"#00cc96\",\"pattern\":{\"shape\":\"\"}},\"name\":\"TRAVEL_AND_LOCAL\",\"offsetgroup\":\"TRAVEL_AND_LOCAL\",\"orientation\":\"v\",\"showlegend\":true,\"text\":[\"574110\"],\"textposition\":\"auto\",\"type\":\"bar\",\"x\":[\"TRAVEL_AND_LOCAL\"],\"xaxis\":\"x\",\"y\":[531],\"yaxis\":\"y\"},{\"alignmentgroup\":\"True\",\"hovertemplate\":\"color=BOOKS_AND_REFERENCE<br>x=%{x}<br>y=%{y}<br>text=%{text}<extra></extra>\",\"legendgroup\":\"BOOKS_AND_REFERENCE\",\"marker\":{\"color\":\"#ab63fa\",\"pattern\":{\"shape\":\"\"}},\"name\":\"BOOKS_AND_REFERENCE\",\"offsetgroup\":\"BOOKS_AND_REFERENCE\",\"orientation\":\"v\",\"showlegend\":true,\"text\":[\"412775\"],\"textposition\":\"auto\",\"type\":\"bar\",\"x\":[\"BOOKS_AND_REFERENCE\"],\"xaxis\":\"x\",\"y\":[516],\"yaxis\":\"y\"},{\"alignmentgroup\":\"True\",\"hovertemplate\":\"color=BUSINESS<br>x=%{x}<br>y=%{y}<br>text=%{text}<extra></extra>\",\"legendgroup\":\"BUSINESS\",\"marker\":{\"color\":\"#FFA15A\",\"pattern\":{\"shape\":\"\"}},\"name\":\"BUSINESS\",\"offsetgroup\":\"BUSINESS\",\"orientation\":\"v\",\"showlegend\":true,\"text\":[\"200000\"],\"textposition\":\"auto\",\"type\":\"bar\",\"x\":[\"BUSINESS\"],\"xaxis\":\"x\",\"y\":[441],\"yaxis\":\"y\"},{\"alignmentgroup\":\"True\",\"hovertemplate\":\"color=WEATHER<br>x=%{x}<br>y=%{y}<br>text=%{text}<extra></extra>\",\"legendgroup\":\"WEATHER\",\"marker\":{\"color\":\"#19d3f3\",\"pattern\":{\"shape\":\"\"}},\"name\":\"WEATHER\",\"offsetgroup\":\"WEATHER\",\"orientation\":\"v\",\"showlegend\":true,\"text\":[\"185602\"],\"textposition\":\"auto\",\"type\":\"bar\",\"x\":[\"WEATHER\"],\"xaxis\":\"x\",\"y\":[387],\"yaxis\":\"y\"},{\"alignmentgroup\":\"True\",\"hovertemplate\":\"color=MAPS_AND_NAVIGATION<br>x=%{x}<br>y=%{y}<br>text=%{text}<extra></extra>\",\"legendgroup\":\"MAPS_AND_NAVIGATION\",\"marker\":{\"color\":\"#FF6692\",\"pattern\":{\"shape\":\"\"}},\"name\":\"MAPS_AND_NAVIGATION\",\"offsetgroup\":\"MAPS_AND_NAVIGATION\",\"orientation\":\"v\",\"showlegend\":true,\"text\":[\"183060\"],\"textposition\":\"auto\",\"type\":\"bar\",\"x\":[\"MAPS_AND_NAVIGATION\"],\"xaxis\":\"x\",\"y\":[282],\"yaxis\":\"y\"},{\"alignmentgroup\":\"True\",\"hovertemplate\":\"color=VIDEO_PLAYERS<br>x=%{x}<br>y=%{y}<br>text=%{text}<extra></extra>\",\"legendgroup\":\"VIDEO_PLAYERS\",\"marker\":{\"color\":\"#B6E880\",\"pattern\":{\"shape\":\"\"}},\"name\":\"VIDEO_PLAYERS\",\"offsetgroup\":\"VIDEO_PLAYERS\",\"orientation\":\"v\",\"showlegend\":true,\"text\":[\"121100\"],\"textposition\":\"auto\",\"type\":\"bar\",\"x\":[\"VIDEO_PLAYERS\"],\"xaxis\":\"x\",\"y\":[215],\"yaxis\":\"y\"},{\"alignmentgroup\":\"True\",\"hovertemplate\":\"color=ART_AND_DESIGN<br>x=%{x}<br>y=%{y}<br>text=%{text}<extra></extra>\",\"legendgroup\":\"ART_AND_DESIGN\",\"marker\":{\"color\":\"#FF97FF\",\"pattern\":{\"shape\":\"\"}},\"name\":\"ART_AND_DESIGN\",\"offsetgroup\":\"ART_AND_DESIGN\",\"orientation\":\"v\",\"showlegend\":true,\"text\":[\"71000\"],\"textposition\":\"auto\",\"type\":\"bar\",\"x\":[\"ART_AND_DESIGN\"],\"xaxis\":\"x\",\"y\":[204],\"yaxis\":\"y\"},{\"alignmentgroup\":\"True\",\"hovertemplate\":\"color=EDUCATION<br>x=%{x}<br>y=%{y}<br>text=%{text}<extra></extra>\",\"legendgroup\":\"EDUCATION\",\"marker\":{\"color\":\"#FECB52\",\"pattern\":{\"shape\":\"\"}},\"name\":\"EDUCATION\",\"offsetgroup\":\"EDUCATION\",\"orientation\":\"v\",\"showlegend\":true,\"text\":[\"60000\"],\"textposition\":\"auto\",\"type\":\"bar\",\"x\":[\"EDUCATION\"],\"xaxis\":\"x\",\"y\":[197],\"yaxis\":\"y\"},{\"alignmentgroup\":\"True\",\"hovertemplate\":\"color=NEWS_AND_MAGAZINES<br>x=%{x}<br>y=%{y}<br>text=%{text}<extra></extra>\",\"legendgroup\":\"NEWS_AND_MAGAZINES\",\"marker\":{\"color\":\"#636efa\",\"pattern\":{\"shape\":\"\"}},\"name\":\"NEWS_AND_MAGAZINES\",\"offsetgroup\":\"NEWS_AND_MAGAZINES\",\"orientation\":\"v\",\"showlegend\":true,\"text\":[\"50150\"],\"textposition\":\"auto\",\"type\":\"bar\",\"x\":[\"NEWS_AND_MAGAZINES\"],\"xaxis\":\"x\",\"y\":[171],\"yaxis\":\"y\"},{\"alignmentgroup\":\"True\",\"hovertemplate\":\"color=ENTERTAINMENT<br>x=%{x}<br>y=%{y}<br>text=%{text}<extra></extra>\",\"legendgroup\":\"ENTERTAINMENT\",\"marker\":{\"color\":\"#EF553B\",\"pattern\":{\"shape\":\"\"}},\"name\":\"ENTERTAINMENT\",\"offsetgroup\":\"ENTERTAINMENT\",\"orientation\":\"v\",\"showlegend\":true,\"text\":[\"50100\"],\"textposition\":\"auto\",\"type\":\"bar\",\"x\":[\"ENTERTAINMENT\"],\"xaxis\":\"x\",\"y\":[163],\"yaxis\":\"y\"},{\"alignmentgroup\":\"True\",\"hovertemplate\":\"color=PARENTING<br>x=%{x}<br>y=%{y}<br>text=%{text}<extra></extra>\",\"legendgroup\":\"PARENTING\",\"marker\":{\"color\":\"#00cc96\",\"pattern\":{\"shape\":\"\"}},\"name\":\"PARENTING\",\"offsetgroup\":\"PARENTING\",\"orientation\":\"v\",\"showlegend\":true,\"text\":[\"23316\"],\"textposition\":\"auto\",\"type\":\"bar\",\"x\":[\"PARENTING\"],\"xaxis\":\"x\",\"y\":[128],\"yaxis\":\"y\"},{\"alignmentgroup\":\"True\",\"hovertemplate\":\"color=FOOD_AND_DRINK<br>x=%{x}<br>y=%{y}<br>text=%{text}<extra></extra>\",\"legendgroup\":\"FOOD_AND_DRINK\",\"marker\":{\"color\":\"#ab63fa\",\"pattern\":{\"shape\":\"\"}},\"name\":\"FOOD_AND_DRINK\",\"offsetgroup\":\"FOOD_AND_DRINK\",\"orientation\":\"v\",\"showlegend\":true,\"text\":[\"21350\"],\"textposition\":\"auto\",\"type\":\"bar\",\"x\":[\"FOOD_AND_DRINK\"],\"xaxis\":\"x\",\"y\":[93],\"yaxis\":\"y\"},{\"alignmentgroup\":\"True\",\"hovertemplate\":\"color=SOCIAL<br>x=%{x}<br>y=%{y}<br>text=%{text}<extra></extra>\",\"legendgroup\":\"SOCIAL\",\"marker\":{\"color\":\"#FFA15A\",\"pattern\":{\"shape\":\"\"}},\"name\":\"SOCIAL\",\"offsetgroup\":\"SOCIAL\",\"orientation\":\"v\",\"showlegend\":true,\"text\":[\"16000\"],\"textposition\":\"auto\",\"type\":\"bar\",\"x\":[\"SOCIAL\"],\"xaxis\":\"x\",\"y\":[90],\"yaxis\":\"y\"},{\"alignmentgroup\":\"True\",\"hovertemplate\":\"color=DATING<br>x=%{x}<br>y=%{y}<br>text=%{text}<extra></extra>\",\"legendgroup\":\"DATING\",\"marker\":{\"color\":\"#19d3f3\",\"pattern\":{\"shape\":\"\"}},\"name\":\"DATING\",\"offsetgroup\":\"DATING\",\"orientation\":\"v\",\"showlegend\":true,\"text\":[\"10100\"],\"textposition\":\"auto\",\"type\":\"bar\",\"x\":[\"DATING\"],\"xaxis\":\"x\",\"y\":[82],\"yaxis\":\"y\"},{\"alignmentgroup\":\"True\",\"hovertemplate\":\"color=AUTO_AND_VEHICLES<br>x=%{x}<br>y=%{y}<br>text=%{text}<extra></extra>\",\"legendgroup\":\"AUTO_AND_VEHICLES\",\"marker\":{\"color\":\"#FF6692\",\"pattern\":{\"shape\":\"\"}},\"name\":\"AUTO_AND_VEHICLES\",\"offsetgroup\":\"AUTO_AND_VEHICLES\",\"orientation\":\"v\",\"showlegend\":true,\"text\":[\"6000\"],\"textposition\":\"auto\",\"type\":\"bar\",\"x\":[\"AUTO_AND_VEHICLES\"],\"xaxis\":\"x\",\"y\":[67],\"yaxis\":\"y\"},{\"alignmentgroup\":\"True\",\"hovertemplate\":\"color=SHOPPING<br>x=%{x}<br>y=%{y}<br>text=%{text}<extra></extra>\",\"legendgroup\":\"SHOPPING\",\"marker\":{\"color\":\"#B6E880\",\"pattern\":{\"shape\":\"\"}},\"name\":\"SHOPPING\",\"offsetgroup\":\"SHOPPING\",\"orientation\":\"v\",\"showlegend\":true,\"text\":[\"5500\"],\"textposition\":\"auto\",\"type\":\"bar\",\"x\":[\"SHOPPING\"],\"xaxis\":\"x\",\"y\":[56],\"yaxis\":\"y\"},{\"alignmentgroup\":\"True\",\"hovertemplate\":\"color=LIBRARIES_AND_DEMO<br>x=%{x}<br>y=%{y}<br>text=%{text}<extra></extra>\",\"legendgroup\":\"LIBRARIES_AND_DEMO\",\"marker\":{\"color\":\"#FF97FF\",\"pattern\":{\"shape\":\"\"}},\"name\":\"LIBRARIES_AND_DEMO\",\"offsetgroup\":\"LIBRARIES_AND_DEMO\",\"orientation\":\"v\",\"showlegend\":true,\"text\":[\"100\"],\"textposition\":\"auto\",\"type\":\"bar\",\"x\":[\"LIBRARIES_AND_DEMO\"],\"xaxis\":\"x\",\"y\":[4],\"yaxis\":\"y\"},{\"alignmentgroup\":\"True\",\"hovertemplate\":\"color=EVENTS<br>x=%{x}<br>y=%{y}<br>text=%{text}<extra></extra>\",\"legendgroup\":\"EVENTS\",\"marker\":{\"color\":\"#FECB52\",\"pattern\":{\"shape\":\"\"}},\"name\":\"EVENTS\",\"offsetgroup\":\"EVENTS\",\"orientation\":\"v\",\"showlegend\":true,\"text\":[\"1\"],\"textposition\":\"auto\",\"type\":\"bar\",\"x\":[\"EVENTS\"],\"xaxis\":\"x\",\"y\":[0],\"yaxis\":\"y\"}],                        {\"barmode\":\"relative\",\"legend\":{\"title\":{\"text\":\"color\"},\"tracegroupgap\":0},\"margin\":{\"t\":60},\"template\":{\"data\":{\"bar\":[{\"error_x\":{\"color\":\"#2a3f5f\"},\"error_y\":{\"color\":\"#2a3f5f\"},\"marker\":{\"line\":{\"color\":\"#E5ECF6\",\"width\":0.5},\"pattern\":{\"fillmode\":\"overlay\",\"size\":10,\"solidity\":0.2}},\"type\":\"bar\"}],\"barpolar\":[{\"marker\":{\"line\":{\"color\":\"#E5ECF6\",\"width\":0.5},\"pattern\":{\"fillmode\":\"overlay\",\"size\":10,\"solidity\":0.2}},\"type\":\"barpolar\"}],\"carpet\":[{\"aaxis\":{\"endlinecolor\":\"#2a3f5f\",\"gridcolor\":\"white\",\"linecolor\":\"white\",\"minorgridcolor\":\"white\",\"startlinecolor\":\"#2a3f5f\"},\"baxis\":{\"endlinecolor\":\"#2a3f5f\",\"gridcolor\":\"white\",\"linecolor\":\"white\",\"minorgridcolor\":\"white\",\"startlinecolor\":\"#2a3f5f\"},\"type\":\"carpet\"}],\"choropleth\":[{\"colorbar\":{\"outlinewidth\":0,\"ticks\":\"\"},\"type\":\"choropleth\"}],\"contour\":[{\"colorbar\":{\"outlinewidth\":0,\"ticks\":\"\"},\"colorscale\":[[0.0,\"#0d0887\"],[0.1111111111111111,\"#46039f\"],[0.2222222222222222,\"#7201a8\"],[0.3333333333333333,\"#9c179e\"],[0.4444444444444444,\"#bd3786\"],[0.5555555555555556,\"#d8576b\"],[0.6666666666666666,\"#ed7953\"],[0.7777777777777778,\"#fb9f3a\"],[0.8888888888888888,\"#fdca26\"],[1.0,\"#f0f921\"]],\"type\":\"contour\"}],\"contourcarpet\":[{\"colorbar\":{\"outlinewidth\":0,\"ticks\":\"\"},\"type\":\"contourcarpet\"}],\"heatmap\":[{\"colorbar\":{\"outlinewidth\":0,\"ticks\":\"\"},\"colorscale\":[[0.0,\"#0d0887\"],[0.1111111111111111,\"#46039f\"],[0.2222222222222222,\"#7201a8\"],[0.3333333333333333,\"#9c179e\"],[0.4444444444444444,\"#bd3786\"],[0.5555555555555556,\"#d8576b\"],[0.6666666666666666,\"#ed7953\"],[0.7777777777777778,\"#fb9f3a\"],[0.8888888888888888,\"#fdca26\"],[1.0,\"#f0f921\"]],\"type\":\"heatmap\"}],\"heatmapgl\":[{\"colorbar\":{\"outlinewidth\":0,\"ticks\":\"\"},\"colorscale\":[[0.0,\"#0d0887\"],[0.1111111111111111,\"#46039f\"],[0.2222222222222222,\"#7201a8\"],[0.3333333333333333,\"#9c179e\"],[0.4444444444444444,\"#bd3786\"],[0.5555555555555556,\"#d8576b\"],[0.6666666666666666,\"#ed7953\"],[0.7777777777777778,\"#fb9f3a\"],[0.8888888888888888,\"#fdca26\"],[1.0,\"#f0f921\"]],\"type\":\"heatmapgl\"}],\"histogram\":[{\"marker\":{\"pattern\":{\"fillmode\":\"overlay\",\"size\":10,\"solidity\":0.2}},\"type\":\"histogram\"}],\"histogram2d\":[{\"colorbar\":{\"outlinewidth\":0,\"ticks\":\"\"},\"colorscale\":[[0.0,\"#0d0887\"],[0.1111111111111111,\"#46039f\"],[0.2222222222222222,\"#7201a8\"],[0.3333333333333333,\"#9c179e\"],[0.4444444444444444,\"#bd3786\"],[0.5555555555555556,\"#d8576b\"],[0.6666666666666666,\"#ed7953\"],[0.7777777777777778,\"#fb9f3a\"],[0.8888888888888888,\"#fdca26\"],[1.0,\"#f0f921\"]],\"type\":\"histogram2d\"}],\"histogram2dcontour\":[{\"colorbar\":{\"outlinewidth\":0,\"ticks\":\"\"},\"colorscale\":[[0.0,\"#0d0887\"],[0.1111111111111111,\"#46039f\"],[0.2222222222222222,\"#7201a8\"],[0.3333333333333333,\"#9c179e\"],[0.4444444444444444,\"#bd3786\"],[0.5555555555555556,\"#d8576b\"],[0.6666666666666666,\"#ed7953\"],[0.7777777777777778,\"#fb9f3a\"],[0.8888888888888888,\"#fdca26\"],[1.0,\"#f0f921\"]],\"type\":\"histogram2dcontour\"}],\"mesh3d\":[{\"colorbar\":{\"outlinewidth\":0,\"ticks\":\"\"},\"type\":\"mesh3d\"}],\"parcoords\":[{\"line\":{\"colorbar\":{\"outlinewidth\":0,\"ticks\":\"\"}},\"type\":\"parcoords\"}],\"pie\":[{\"automargin\":true,\"type\":\"pie\"}],\"scatter\":[{\"marker\":{\"colorbar\":{\"outlinewidth\":0,\"ticks\":\"\"}},\"type\":\"scatter\"}],\"scatter3d\":[{\"line\":{\"colorbar\":{\"outlinewidth\":0,\"ticks\":\"\"}},\"marker\":{\"colorbar\":{\"outlinewidth\":0,\"ticks\":\"\"}},\"type\":\"scatter3d\"}],\"scattercarpet\":[{\"marker\":{\"colorbar\":{\"outlinewidth\":0,\"ticks\":\"\"}},\"type\":\"scattercarpet\"}],\"scattergeo\":[{\"marker\":{\"colorbar\":{\"outlinewidth\":0,\"ticks\":\"\"}},\"type\":\"scattergeo\"}],\"scattergl\":[{\"marker\":{\"colorbar\":{\"outlinewidth\":0,\"ticks\":\"\"}},\"type\":\"scattergl\"}],\"scattermapbox\":[{\"marker\":{\"colorbar\":{\"outlinewidth\":0,\"ticks\":\"\"}},\"type\":\"scattermapbox\"}],\"scatterpolar\":[{\"marker\":{\"colorbar\":{\"outlinewidth\":0,\"ticks\":\"\"}},\"type\":\"scatterpolar\"}],\"scatterpolargl\":[{\"marker\":{\"colorbar\":{\"outlinewidth\":0,\"ticks\":\"\"}},\"type\":\"scatterpolargl\"}],\"scatterternary\":[{\"marker\":{\"colorbar\":{\"outlinewidth\":0,\"ticks\":\"\"}},\"type\":\"scatterternary\"}],\"surface\":[{\"colorbar\":{\"outlinewidth\":0,\"ticks\":\"\"},\"colorscale\":[[0.0,\"#0d0887\"],[0.1111111111111111,\"#46039f\"],[0.2222222222222222,\"#7201a8\"],[0.3333333333333333,\"#9c179e\"],[0.4444444444444444,\"#bd3786\"],[0.5555555555555556,\"#d8576b\"],[0.6666666666666666,\"#ed7953\"],[0.7777777777777778,\"#fb9f3a\"],[0.8888888888888888,\"#fdca26\"],[1.0,\"#f0f921\"]],\"type\":\"surface\"}],\"table\":[{\"cells\":{\"fill\":{\"color\":\"#EBF0F8\"},\"line\":{\"color\":\"white\"}},\"header\":{\"fill\":{\"color\":\"#C8D4E3\"},\"line\":{\"color\":\"white\"}},\"type\":\"table\"}]},\"layout\":{\"annotationdefaults\":{\"arrowcolor\":\"#2a3f5f\",\"arrowhead\":0,\"arrowwidth\":1},\"autotypenumbers\":\"strict\",\"coloraxis\":{\"colorbar\":{\"outlinewidth\":0,\"ticks\":\"\"}},\"colorscale\":{\"diverging\":[[0,\"#8e0152\"],[0.1,\"#c51b7d\"],[0.2,\"#de77ae\"],[0.3,\"#f1b6da\"],[0.4,\"#fde0ef\"],[0.5,\"#f7f7f7\"],[0.6,\"#e6f5d0\"],[0.7,\"#b8e186\"],[0.8,\"#7fbc41\"],[0.9,\"#4d9221\"],[1,\"#276419\"]],\"sequential\":[[0.0,\"#0d0887\"],[0.1111111111111111,\"#46039f\"],[0.2222222222222222,\"#7201a8\"],[0.3333333333333333,\"#9c179e\"],[0.4444444444444444,\"#bd3786\"],[0.5555555555555556,\"#d8576b\"],[0.6666666666666666,\"#ed7953\"],[0.7777777777777778,\"#fb9f3a\"],[0.8888888888888888,\"#fdca26\"],[1.0,\"#f0f921\"]],\"sequentialminus\":[[0.0,\"#0d0887\"],[0.1111111111111111,\"#46039f\"],[0.2222222222222222,\"#7201a8\"],[0.3333333333333333,\"#9c179e\"],[0.4444444444444444,\"#bd3786\"],[0.5555555555555556,\"#d8576b\"],[0.6666666666666666,\"#ed7953\"],[0.7777777777777778,\"#fb9f3a\"],[0.8888888888888888,\"#fdca26\"],[1.0,\"#f0f921\"]]},\"colorway\":[\"#636efa\",\"#EF553B\",\"#00cc96\",\"#ab63fa\",\"#FFA15A\",\"#19d3f3\",\"#FF6692\",\"#B6E880\",\"#FF97FF\",\"#FECB52\"],\"font\":{\"color\":\"#2a3f5f\"},\"geo\":{\"bgcolor\":\"white\",\"lakecolor\":\"white\",\"landcolor\":\"#E5ECF6\",\"showlakes\":true,\"showland\":true,\"subunitcolor\":\"white\"},\"hoverlabel\":{\"align\":\"left\"},\"hovermode\":\"closest\",\"mapbox\":{\"style\":\"light\"},\"paper_bgcolor\":\"white\",\"plot_bgcolor\":\"#E5ECF6\",\"polar\":{\"angularaxis\":{\"gridcolor\":\"white\",\"linecolor\":\"white\",\"ticks\":\"\"},\"bgcolor\":\"#E5ECF6\",\"radialaxis\":{\"gridcolor\":\"white\",\"linecolor\":\"white\",\"ticks\":\"\"}},\"scene\":{\"xaxis\":{\"backgroundcolor\":\"#E5ECF6\",\"gridcolor\":\"white\",\"gridwidth\":2,\"linecolor\":\"white\",\"showbackground\":true,\"ticks\":\"\",\"zerolinecolor\":\"white\"},\"yaxis\":{\"backgroundcolor\":\"#E5ECF6\",\"gridcolor\":\"white\",\"gridwidth\":2,\"linecolor\":\"white\",\"showbackground\":true,\"ticks\":\"\",\"zerolinecolor\":\"white\"},\"zaxis\":{\"backgroundcolor\":\"#E5ECF6\",\"gridcolor\":\"white\",\"gridwidth\":2,\"linecolor\":\"white\",\"showbackground\":true,\"ticks\":\"\",\"zerolinecolor\":\"white\"}},\"shapedefaults\":{\"line\":{\"color\":\"#2a3f5f\"}},\"ternary\":{\"aaxis\":{\"gridcolor\":\"white\",\"linecolor\":\"white\",\"ticks\":\"\"},\"baxis\":{\"gridcolor\":\"white\",\"linecolor\":\"white\",\"ticks\":\"\"},\"bgcolor\":\"#E5ECF6\",\"caxis\":{\"gridcolor\":\"white\",\"linecolor\":\"white\",\"ticks\":\"\"}},\"title\":{\"x\":0.05},\"xaxis\":{\"automargin\":true,\"gridcolor\":\"white\",\"linecolor\":\"white\",\"ticks\":\"\",\"title\":{\"standoff\":15},\"zerolinecolor\":\"white\",\"zerolinewidth\":2},\"yaxis\":{\"automargin\":true,\"gridcolor\":\"white\",\"linecolor\":\"white\",\"ticks\":\"\",\"title\":{\"standoff\":15},\"zerolinecolor\":\"white\",\"zerolinewidth\":2}}},\"xaxis\":{\"anchor\":\"y\",\"domain\":[0.0,1.0],\"title\":{\"text\":\"x\"}},\"yaxis\":{\"anchor\":\"x\",\"domain\":[0.0,1.0],\"title\":{\"text\":\"y\"}}},                        {\"responsive\": true}                    ).then(function(){\n",
       "                            \n",
       "var gd = document.getElementById('0f5d651f-29ee-4ef5-a818-4735bdfa85d6');\n",
       "var x = new MutationObserver(function (mutations, observer) {{\n",
       "        var display = window.getComputedStyle(gd).display;\n",
       "        if (!display || display === 'none') {{\n",
       "            console.log([gd, 'removed!']);\n",
       "            Plotly.purge(gd);\n",
       "            observer.disconnect();\n",
       "        }}\n",
       "}});\n",
       "\n",
       "// Listen for the removal of the full notebook cells\n",
       "var notebookContainer = gd.closest('#notebook-container');\n",
       "if (notebookContainer) {{\n",
       "    x.observe(notebookContainer, {childList: true});\n",
       "}}\n",
       "\n",
       "// Listen for the clearing of the current output cell\n",
       "var outputEl = gd.closest('.output');\n",
       "if (outputEl) {{\n",
       "    x.observe(outputEl, {childList: true});\n",
       "}}\n",
       "\n",
       "                        })                };                });            </script>        </div>"
      ]
     },
     "metadata": {},
     "output_type": "display_data"
    }
   ],
   "source": [
    "paid_rev_cat = paid_data['Reviews'].groupby(by = paid_data['Category']).sum().sort_values(ascending = False)\n",
    "px.bar(paid_data, x = paid_rev_cat.index, y = paid_rev_cat.values, color = paid_rev_cat.index, text = paid_cat_install)"
   ]
  },
  {
   "cell_type": "markdown",
   "id": "2a538c0d",
   "metadata": {},
   "source": [
    "# Which ContentRating has highest number of highest number of Installations?"
   ]
  },
  {
   "cell_type": "code",
   "execution_count": 20,
   "id": "74510ff2",
   "metadata": {},
   "outputs": [
    {
     "data": {
      "application/vnd.plotly.v1+json": {
       "config": {
        "plotlyServerURL": "https://plot.ly"
       },
       "data": [
        {
         "alignmentgroup": "True",
         "hovertemplate": "color=Everyone<br>x=%{x}<br>y=%{y}<extra></extra>",
         "legendgroup": "Everyone",
         "marker": {
          "color": "#636efa",
          "pattern": {
           "shape": ""
          }
         },
         "name": "Everyone",
         "offsetgroup": "Everyone",
         "orientation": "v",
         "showlegend": true,
         "textposition": "auto",
         "type": "bar",
         "x": [
          "Everyone"
         ],
         "xaxis": "x",
         "y": [
          8714
         ],
         "yaxis": "y"
        },
        {
         "alignmentgroup": "True",
         "hovertemplate": "color=Teen<br>x=%{x}<br>y=%{y}<extra></extra>",
         "legendgroup": "Teen",
         "marker": {
          "color": "#EF553B",
          "pattern": {
           "shape": ""
          }
         },
         "name": "Teen",
         "offsetgroup": "Teen",
         "orientation": "v",
         "showlegend": true,
         "textposition": "auto",
         "type": "bar",
         "x": [
          "Teen"
         ],
         "xaxis": "x",
         "y": [
          1208
         ],
         "yaxis": "y"
        },
        {
         "alignmentgroup": "True",
         "hovertemplate": "color=Mature 17+<br>x=%{x}<br>y=%{y}<extra></extra>",
         "legendgroup": "Mature 17+",
         "marker": {
          "color": "#00cc96",
          "pattern": {
           "shape": ""
          }
         },
         "name": "Mature 17+",
         "offsetgroup": "Mature 17+",
         "orientation": "v",
         "showlegend": true,
         "textposition": "auto",
         "type": "bar",
         "x": [
          "Mature 17+"
         ],
         "xaxis": "x",
         "y": [
          499
         ],
         "yaxis": "y"
        },
        {
         "alignmentgroup": "True",
         "hovertemplate": "color=Everyone 10+<br>x=%{x}<br>y=%{y}<extra></extra>",
         "legendgroup": "Everyone 10+",
         "marker": {
          "color": "#ab63fa",
          "pattern": {
           "shape": ""
          }
         },
         "name": "Everyone 10+",
         "offsetgroup": "Everyone 10+",
         "orientation": "v",
         "showlegend": true,
         "textposition": "auto",
         "type": "bar",
         "x": [
          "Everyone 10+"
         ],
         "xaxis": "x",
         "y": [
          414
         ],
         "yaxis": "y"
        },
        {
         "alignmentgroup": "True",
         "hovertemplate": "color=Adults only 18+<br>x=%{x}<br>y=%{y}<extra></extra>",
         "legendgroup": "Adults only 18+",
         "marker": {
          "color": "#FFA15A",
          "pattern": {
           "shape": ""
          }
         },
         "name": "Adults only 18+",
         "offsetgroup": "Adults only 18+",
         "orientation": "v",
         "showlegend": true,
         "textposition": "auto",
         "type": "bar",
         "x": [
          "Adults only 18+"
         ],
         "xaxis": "x",
         "y": [
          3
         ],
         "yaxis": "y"
        },
        {
         "alignmentgroup": "True",
         "hovertemplate": "color=Unrated<br>x=%{x}<br>y=%{y}<extra></extra>",
         "legendgroup": "Unrated",
         "marker": {
          "color": "#19d3f3",
          "pattern": {
           "shape": ""
          }
         },
         "name": "Unrated",
         "offsetgroup": "Unrated",
         "orientation": "v",
         "showlegend": true,
         "textposition": "auto",
         "type": "bar",
         "x": [
          "Unrated"
         ],
         "xaxis": "x",
         "y": [
          2
         ],
         "yaxis": "y"
        }
       ],
       "layout": {
        "barmode": "relative",
        "legend": {
         "title": {
          "text": "color"
         },
         "tracegroupgap": 0
        },
        "margin": {
         "t": 60
        },
        "template": {
         "data": {
          "bar": [
           {
            "error_x": {
             "color": "#2a3f5f"
            },
            "error_y": {
             "color": "#2a3f5f"
            },
            "marker": {
             "line": {
              "color": "#E5ECF6",
              "width": 0.5
             },
             "pattern": {
              "fillmode": "overlay",
              "size": 10,
              "solidity": 0.2
             }
            },
            "type": "bar"
           }
          ],
          "barpolar": [
           {
            "marker": {
             "line": {
              "color": "#E5ECF6",
              "width": 0.5
             },
             "pattern": {
              "fillmode": "overlay",
              "size": 10,
              "solidity": 0.2
             }
            },
            "type": "barpolar"
           }
          ],
          "carpet": [
           {
            "aaxis": {
             "endlinecolor": "#2a3f5f",
             "gridcolor": "white",
             "linecolor": "white",
             "minorgridcolor": "white",
             "startlinecolor": "#2a3f5f"
            },
            "baxis": {
             "endlinecolor": "#2a3f5f",
             "gridcolor": "white",
             "linecolor": "white",
             "minorgridcolor": "white",
             "startlinecolor": "#2a3f5f"
            },
            "type": "carpet"
           }
          ],
          "choropleth": [
           {
            "colorbar": {
             "outlinewidth": 0,
             "ticks": ""
            },
            "type": "choropleth"
           }
          ],
          "contour": [
           {
            "colorbar": {
             "outlinewidth": 0,
             "ticks": ""
            },
            "colorscale": [
             [
              0,
              "#0d0887"
             ],
             [
              0.1111111111111111,
              "#46039f"
             ],
             [
              0.2222222222222222,
              "#7201a8"
             ],
             [
              0.3333333333333333,
              "#9c179e"
             ],
             [
              0.4444444444444444,
              "#bd3786"
             ],
             [
              0.5555555555555556,
              "#d8576b"
             ],
             [
              0.6666666666666666,
              "#ed7953"
             ],
             [
              0.7777777777777778,
              "#fb9f3a"
             ],
             [
              0.8888888888888888,
              "#fdca26"
             ],
             [
              1,
              "#f0f921"
             ]
            ],
            "type": "contour"
           }
          ],
          "contourcarpet": [
           {
            "colorbar": {
             "outlinewidth": 0,
             "ticks": ""
            },
            "type": "contourcarpet"
           }
          ],
          "heatmap": [
           {
            "colorbar": {
             "outlinewidth": 0,
             "ticks": ""
            },
            "colorscale": [
             [
              0,
              "#0d0887"
             ],
             [
              0.1111111111111111,
              "#46039f"
             ],
             [
              0.2222222222222222,
              "#7201a8"
             ],
             [
              0.3333333333333333,
              "#9c179e"
             ],
             [
              0.4444444444444444,
              "#bd3786"
             ],
             [
              0.5555555555555556,
              "#d8576b"
             ],
             [
              0.6666666666666666,
              "#ed7953"
             ],
             [
              0.7777777777777778,
              "#fb9f3a"
             ],
             [
              0.8888888888888888,
              "#fdca26"
             ],
             [
              1,
              "#f0f921"
             ]
            ],
            "type": "heatmap"
           }
          ],
          "heatmapgl": [
           {
            "colorbar": {
             "outlinewidth": 0,
             "ticks": ""
            },
            "colorscale": [
             [
              0,
              "#0d0887"
             ],
             [
              0.1111111111111111,
              "#46039f"
             ],
             [
              0.2222222222222222,
              "#7201a8"
             ],
             [
              0.3333333333333333,
              "#9c179e"
             ],
             [
              0.4444444444444444,
              "#bd3786"
             ],
             [
              0.5555555555555556,
              "#d8576b"
             ],
             [
              0.6666666666666666,
              "#ed7953"
             ],
             [
              0.7777777777777778,
              "#fb9f3a"
             ],
             [
              0.8888888888888888,
              "#fdca26"
             ],
             [
              1,
              "#f0f921"
             ]
            ],
            "type": "heatmapgl"
           }
          ],
          "histogram": [
           {
            "marker": {
             "pattern": {
              "fillmode": "overlay",
              "size": 10,
              "solidity": 0.2
             }
            },
            "type": "histogram"
           }
          ],
          "histogram2d": [
           {
            "colorbar": {
             "outlinewidth": 0,
             "ticks": ""
            },
            "colorscale": [
             [
              0,
              "#0d0887"
             ],
             [
              0.1111111111111111,
              "#46039f"
             ],
             [
              0.2222222222222222,
              "#7201a8"
             ],
             [
              0.3333333333333333,
              "#9c179e"
             ],
             [
              0.4444444444444444,
              "#bd3786"
             ],
             [
              0.5555555555555556,
              "#d8576b"
             ],
             [
              0.6666666666666666,
              "#ed7953"
             ],
             [
              0.7777777777777778,
              "#fb9f3a"
             ],
             [
              0.8888888888888888,
              "#fdca26"
             ],
             [
              1,
              "#f0f921"
             ]
            ],
            "type": "histogram2d"
           }
          ],
          "histogram2dcontour": [
           {
            "colorbar": {
             "outlinewidth": 0,
             "ticks": ""
            },
            "colorscale": [
             [
              0,
              "#0d0887"
             ],
             [
              0.1111111111111111,
              "#46039f"
             ],
             [
              0.2222222222222222,
              "#7201a8"
             ],
             [
              0.3333333333333333,
              "#9c179e"
             ],
             [
              0.4444444444444444,
              "#bd3786"
             ],
             [
              0.5555555555555556,
              "#d8576b"
             ],
             [
              0.6666666666666666,
              "#ed7953"
             ],
             [
              0.7777777777777778,
              "#fb9f3a"
             ],
             [
              0.8888888888888888,
              "#fdca26"
             ],
             [
              1,
              "#f0f921"
             ]
            ],
            "type": "histogram2dcontour"
           }
          ],
          "mesh3d": [
           {
            "colorbar": {
             "outlinewidth": 0,
             "ticks": ""
            },
            "type": "mesh3d"
           }
          ],
          "parcoords": [
           {
            "line": {
             "colorbar": {
              "outlinewidth": 0,
              "ticks": ""
             }
            },
            "type": "parcoords"
           }
          ],
          "pie": [
           {
            "automargin": true,
            "type": "pie"
           }
          ],
          "scatter": [
           {
            "marker": {
             "colorbar": {
              "outlinewidth": 0,
              "ticks": ""
             }
            },
            "type": "scatter"
           }
          ],
          "scatter3d": [
           {
            "line": {
             "colorbar": {
              "outlinewidth": 0,
              "ticks": ""
             }
            },
            "marker": {
             "colorbar": {
              "outlinewidth": 0,
              "ticks": ""
             }
            },
            "type": "scatter3d"
           }
          ],
          "scattercarpet": [
           {
            "marker": {
             "colorbar": {
              "outlinewidth": 0,
              "ticks": ""
             }
            },
            "type": "scattercarpet"
           }
          ],
          "scattergeo": [
           {
            "marker": {
             "colorbar": {
              "outlinewidth": 0,
              "ticks": ""
             }
            },
            "type": "scattergeo"
           }
          ],
          "scattergl": [
           {
            "marker": {
             "colorbar": {
              "outlinewidth": 0,
              "ticks": ""
             }
            },
            "type": "scattergl"
           }
          ],
          "scattermapbox": [
           {
            "marker": {
             "colorbar": {
              "outlinewidth": 0,
              "ticks": ""
             }
            },
            "type": "scattermapbox"
           }
          ],
          "scatterpolar": [
           {
            "marker": {
             "colorbar": {
              "outlinewidth": 0,
              "ticks": ""
             }
            },
            "type": "scatterpolar"
           }
          ],
          "scatterpolargl": [
           {
            "marker": {
             "colorbar": {
              "outlinewidth": 0,
              "ticks": ""
             }
            },
            "type": "scatterpolargl"
           }
          ],
          "scatterternary": [
           {
            "marker": {
             "colorbar": {
              "outlinewidth": 0,
              "ticks": ""
             }
            },
            "type": "scatterternary"
           }
          ],
          "surface": [
           {
            "colorbar": {
             "outlinewidth": 0,
             "ticks": ""
            },
            "colorscale": [
             [
              0,
              "#0d0887"
             ],
             [
              0.1111111111111111,
              "#46039f"
             ],
             [
              0.2222222222222222,
              "#7201a8"
             ],
             [
              0.3333333333333333,
              "#9c179e"
             ],
             [
              0.4444444444444444,
              "#bd3786"
             ],
             [
              0.5555555555555556,
              "#d8576b"
             ],
             [
              0.6666666666666666,
              "#ed7953"
             ],
             [
              0.7777777777777778,
              "#fb9f3a"
             ],
             [
              0.8888888888888888,
              "#fdca26"
             ],
             [
              1,
              "#f0f921"
             ]
            ],
            "type": "surface"
           }
          ],
          "table": [
           {
            "cells": {
             "fill": {
              "color": "#EBF0F8"
             },
             "line": {
              "color": "white"
             }
            },
            "header": {
             "fill": {
              "color": "#C8D4E3"
             },
             "line": {
              "color": "white"
             }
            },
            "type": "table"
           }
          ]
         },
         "layout": {
          "annotationdefaults": {
           "arrowcolor": "#2a3f5f",
           "arrowhead": 0,
           "arrowwidth": 1
          },
          "autotypenumbers": "strict",
          "coloraxis": {
           "colorbar": {
            "outlinewidth": 0,
            "ticks": ""
           }
          },
          "colorscale": {
           "diverging": [
            [
             0,
             "#8e0152"
            ],
            [
             0.1,
             "#c51b7d"
            ],
            [
             0.2,
             "#de77ae"
            ],
            [
             0.3,
             "#f1b6da"
            ],
            [
             0.4,
             "#fde0ef"
            ],
            [
             0.5,
             "#f7f7f7"
            ],
            [
             0.6,
             "#e6f5d0"
            ],
            [
             0.7,
             "#b8e186"
            ],
            [
             0.8,
             "#7fbc41"
            ],
            [
             0.9,
             "#4d9221"
            ],
            [
             1,
             "#276419"
            ]
           ],
           "sequential": [
            [
             0,
             "#0d0887"
            ],
            [
             0.1111111111111111,
             "#46039f"
            ],
            [
             0.2222222222222222,
             "#7201a8"
            ],
            [
             0.3333333333333333,
             "#9c179e"
            ],
            [
             0.4444444444444444,
             "#bd3786"
            ],
            [
             0.5555555555555556,
             "#d8576b"
            ],
            [
             0.6666666666666666,
             "#ed7953"
            ],
            [
             0.7777777777777778,
             "#fb9f3a"
            ],
            [
             0.8888888888888888,
             "#fdca26"
            ],
            [
             1,
             "#f0f921"
            ]
           ],
           "sequentialminus": [
            [
             0,
             "#0d0887"
            ],
            [
             0.1111111111111111,
             "#46039f"
            ],
            [
             0.2222222222222222,
             "#7201a8"
            ],
            [
             0.3333333333333333,
             "#9c179e"
            ],
            [
             0.4444444444444444,
             "#bd3786"
            ],
            [
             0.5555555555555556,
             "#d8576b"
            ],
            [
             0.6666666666666666,
             "#ed7953"
            ],
            [
             0.7777777777777778,
             "#fb9f3a"
            ],
            [
             0.8888888888888888,
             "#fdca26"
            ],
            [
             1,
             "#f0f921"
            ]
           ]
          },
          "colorway": [
           "#636efa",
           "#EF553B",
           "#00cc96",
           "#ab63fa",
           "#FFA15A",
           "#19d3f3",
           "#FF6692",
           "#B6E880",
           "#FF97FF",
           "#FECB52"
          ],
          "font": {
           "color": "#2a3f5f"
          },
          "geo": {
           "bgcolor": "white",
           "lakecolor": "white",
           "landcolor": "#E5ECF6",
           "showlakes": true,
           "showland": true,
           "subunitcolor": "white"
          },
          "hoverlabel": {
           "align": "left"
          },
          "hovermode": "closest",
          "mapbox": {
           "style": "light"
          },
          "paper_bgcolor": "white",
          "plot_bgcolor": "#E5ECF6",
          "polar": {
           "angularaxis": {
            "gridcolor": "white",
            "linecolor": "white",
            "ticks": ""
           },
           "bgcolor": "#E5ECF6",
           "radialaxis": {
            "gridcolor": "white",
            "linecolor": "white",
            "ticks": ""
           }
          },
          "scene": {
           "xaxis": {
            "backgroundcolor": "#E5ECF6",
            "gridcolor": "white",
            "gridwidth": 2,
            "linecolor": "white",
            "showbackground": true,
            "ticks": "",
            "zerolinecolor": "white"
           },
           "yaxis": {
            "backgroundcolor": "#E5ECF6",
            "gridcolor": "white",
            "gridwidth": 2,
            "linecolor": "white",
            "showbackground": true,
            "ticks": "",
            "zerolinecolor": "white"
           },
           "zaxis": {
            "backgroundcolor": "#E5ECF6",
            "gridcolor": "white",
            "gridwidth": 2,
            "linecolor": "white",
            "showbackground": true,
            "ticks": "",
            "zerolinecolor": "white"
           }
          },
          "shapedefaults": {
           "line": {
            "color": "#2a3f5f"
           }
          },
          "ternary": {
           "aaxis": {
            "gridcolor": "white",
            "linecolor": "white",
            "ticks": ""
           },
           "baxis": {
            "gridcolor": "white",
            "linecolor": "white",
            "ticks": ""
           },
           "bgcolor": "#E5ECF6",
           "caxis": {
            "gridcolor": "white",
            "linecolor": "white",
            "ticks": ""
           }
          },
          "title": {
           "x": 0.05
          },
          "xaxis": {
           "automargin": true,
           "gridcolor": "white",
           "linecolor": "white",
           "ticks": "",
           "title": {
            "standoff": 15
           },
           "zerolinecolor": "white",
           "zerolinewidth": 2
          },
          "yaxis": {
           "automargin": true,
           "gridcolor": "white",
           "linecolor": "white",
           "ticks": "",
           "title": {
            "standoff": 15
           },
           "zerolinecolor": "white",
           "zerolinewidth": 2
          }
         }
        },
        "xaxis": {
         "anchor": "y",
         "domain": [
          0,
          1
         ],
         "title": {
          "text": "x"
         }
        },
        "yaxis": {
         "anchor": "x",
         "domain": [
          0,
          1
         ],
         "title": {
          "text": "y"
         }
        }
       }
      },
      "text/html": [
       "<div>                            <div id=\"9cd694df-909d-4669-b615-5888f2fbe1f1\" class=\"plotly-graph-div\" style=\"height:525px; width:100%;\"></div>            <script type=\"text/javascript\">                require([\"plotly\"], function(Plotly) {                    window.PLOTLYENV=window.PLOTLYENV || {};                                    if (document.getElementById(\"9cd694df-909d-4669-b615-5888f2fbe1f1\")) {                    Plotly.newPlot(                        \"9cd694df-909d-4669-b615-5888f2fbe1f1\",                        [{\"alignmentgroup\":\"True\",\"hovertemplate\":\"color=Everyone<br>x=%{x}<br>y=%{y}<extra></extra>\",\"legendgroup\":\"Everyone\",\"marker\":{\"color\":\"#636efa\",\"pattern\":{\"shape\":\"\"}},\"name\":\"Everyone\",\"offsetgroup\":\"Everyone\",\"orientation\":\"v\",\"showlegend\":true,\"textposition\":\"auto\",\"type\":\"bar\",\"x\":[\"Everyone\"],\"xaxis\":\"x\",\"y\":[8714],\"yaxis\":\"y\"},{\"alignmentgroup\":\"True\",\"hovertemplate\":\"color=Teen<br>x=%{x}<br>y=%{y}<extra></extra>\",\"legendgroup\":\"Teen\",\"marker\":{\"color\":\"#EF553B\",\"pattern\":{\"shape\":\"\"}},\"name\":\"Teen\",\"offsetgroup\":\"Teen\",\"orientation\":\"v\",\"showlegend\":true,\"textposition\":\"auto\",\"type\":\"bar\",\"x\":[\"Teen\"],\"xaxis\":\"x\",\"y\":[1208],\"yaxis\":\"y\"},{\"alignmentgroup\":\"True\",\"hovertemplate\":\"color=Mature 17+<br>x=%{x}<br>y=%{y}<extra></extra>\",\"legendgroup\":\"Mature 17+\",\"marker\":{\"color\":\"#00cc96\",\"pattern\":{\"shape\":\"\"}},\"name\":\"Mature 17+\",\"offsetgroup\":\"Mature 17+\",\"orientation\":\"v\",\"showlegend\":true,\"textposition\":\"auto\",\"type\":\"bar\",\"x\":[\"Mature 17+\"],\"xaxis\":\"x\",\"y\":[499],\"yaxis\":\"y\"},{\"alignmentgroup\":\"True\",\"hovertemplate\":\"color=Everyone 10+<br>x=%{x}<br>y=%{y}<extra></extra>\",\"legendgroup\":\"Everyone 10+\",\"marker\":{\"color\":\"#ab63fa\",\"pattern\":{\"shape\":\"\"}},\"name\":\"Everyone 10+\",\"offsetgroup\":\"Everyone 10+\",\"orientation\":\"v\",\"showlegend\":true,\"textposition\":\"auto\",\"type\":\"bar\",\"x\":[\"Everyone 10+\"],\"xaxis\":\"x\",\"y\":[414],\"yaxis\":\"y\"},{\"alignmentgroup\":\"True\",\"hovertemplate\":\"color=Adults only 18+<br>x=%{x}<br>y=%{y}<extra></extra>\",\"legendgroup\":\"Adults only 18+\",\"marker\":{\"color\":\"#FFA15A\",\"pattern\":{\"shape\":\"\"}},\"name\":\"Adults only 18+\",\"offsetgroup\":\"Adults only 18+\",\"orientation\":\"v\",\"showlegend\":true,\"textposition\":\"auto\",\"type\":\"bar\",\"x\":[\"Adults only 18+\"],\"xaxis\":\"x\",\"y\":[3],\"yaxis\":\"y\"},{\"alignmentgroup\":\"True\",\"hovertemplate\":\"color=Unrated<br>x=%{x}<br>y=%{y}<extra></extra>\",\"legendgroup\":\"Unrated\",\"marker\":{\"color\":\"#19d3f3\",\"pattern\":{\"shape\":\"\"}},\"name\":\"Unrated\",\"offsetgroup\":\"Unrated\",\"orientation\":\"v\",\"showlegend\":true,\"textposition\":\"auto\",\"type\":\"bar\",\"x\":[\"Unrated\"],\"xaxis\":\"x\",\"y\":[2],\"yaxis\":\"y\"}],                        {\"barmode\":\"relative\",\"legend\":{\"title\":{\"text\":\"color\"},\"tracegroupgap\":0},\"margin\":{\"t\":60},\"template\":{\"data\":{\"bar\":[{\"error_x\":{\"color\":\"#2a3f5f\"},\"error_y\":{\"color\":\"#2a3f5f\"},\"marker\":{\"line\":{\"color\":\"#E5ECF6\",\"width\":0.5},\"pattern\":{\"fillmode\":\"overlay\",\"size\":10,\"solidity\":0.2}},\"type\":\"bar\"}],\"barpolar\":[{\"marker\":{\"line\":{\"color\":\"#E5ECF6\",\"width\":0.5},\"pattern\":{\"fillmode\":\"overlay\",\"size\":10,\"solidity\":0.2}},\"type\":\"barpolar\"}],\"carpet\":[{\"aaxis\":{\"endlinecolor\":\"#2a3f5f\",\"gridcolor\":\"white\",\"linecolor\":\"white\",\"minorgridcolor\":\"white\",\"startlinecolor\":\"#2a3f5f\"},\"baxis\":{\"endlinecolor\":\"#2a3f5f\",\"gridcolor\":\"white\",\"linecolor\":\"white\",\"minorgridcolor\":\"white\",\"startlinecolor\":\"#2a3f5f\"},\"type\":\"carpet\"}],\"choropleth\":[{\"colorbar\":{\"outlinewidth\":0,\"ticks\":\"\"},\"type\":\"choropleth\"}],\"contour\":[{\"colorbar\":{\"outlinewidth\":0,\"ticks\":\"\"},\"colorscale\":[[0.0,\"#0d0887\"],[0.1111111111111111,\"#46039f\"],[0.2222222222222222,\"#7201a8\"],[0.3333333333333333,\"#9c179e\"],[0.4444444444444444,\"#bd3786\"],[0.5555555555555556,\"#d8576b\"],[0.6666666666666666,\"#ed7953\"],[0.7777777777777778,\"#fb9f3a\"],[0.8888888888888888,\"#fdca26\"],[1.0,\"#f0f921\"]],\"type\":\"contour\"}],\"contourcarpet\":[{\"colorbar\":{\"outlinewidth\":0,\"ticks\":\"\"},\"type\":\"contourcarpet\"}],\"heatmap\":[{\"colorbar\":{\"outlinewidth\":0,\"ticks\":\"\"},\"colorscale\":[[0.0,\"#0d0887\"],[0.1111111111111111,\"#46039f\"],[0.2222222222222222,\"#7201a8\"],[0.3333333333333333,\"#9c179e\"],[0.4444444444444444,\"#bd3786\"],[0.5555555555555556,\"#d8576b\"],[0.6666666666666666,\"#ed7953\"],[0.7777777777777778,\"#fb9f3a\"],[0.8888888888888888,\"#fdca26\"],[1.0,\"#f0f921\"]],\"type\":\"heatmap\"}],\"heatmapgl\":[{\"colorbar\":{\"outlinewidth\":0,\"ticks\":\"\"},\"colorscale\":[[0.0,\"#0d0887\"],[0.1111111111111111,\"#46039f\"],[0.2222222222222222,\"#7201a8\"],[0.3333333333333333,\"#9c179e\"],[0.4444444444444444,\"#bd3786\"],[0.5555555555555556,\"#d8576b\"],[0.6666666666666666,\"#ed7953\"],[0.7777777777777778,\"#fb9f3a\"],[0.8888888888888888,\"#fdca26\"],[1.0,\"#f0f921\"]],\"type\":\"heatmapgl\"}],\"histogram\":[{\"marker\":{\"pattern\":{\"fillmode\":\"overlay\",\"size\":10,\"solidity\":0.2}},\"type\":\"histogram\"}],\"histogram2d\":[{\"colorbar\":{\"outlinewidth\":0,\"ticks\":\"\"},\"colorscale\":[[0.0,\"#0d0887\"],[0.1111111111111111,\"#46039f\"],[0.2222222222222222,\"#7201a8\"],[0.3333333333333333,\"#9c179e\"],[0.4444444444444444,\"#bd3786\"],[0.5555555555555556,\"#d8576b\"],[0.6666666666666666,\"#ed7953\"],[0.7777777777777778,\"#fb9f3a\"],[0.8888888888888888,\"#fdca26\"],[1.0,\"#f0f921\"]],\"type\":\"histogram2d\"}],\"histogram2dcontour\":[{\"colorbar\":{\"outlinewidth\":0,\"ticks\":\"\"},\"colorscale\":[[0.0,\"#0d0887\"],[0.1111111111111111,\"#46039f\"],[0.2222222222222222,\"#7201a8\"],[0.3333333333333333,\"#9c179e\"],[0.4444444444444444,\"#bd3786\"],[0.5555555555555556,\"#d8576b\"],[0.6666666666666666,\"#ed7953\"],[0.7777777777777778,\"#fb9f3a\"],[0.8888888888888888,\"#fdca26\"],[1.0,\"#f0f921\"]],\"type\":\"histogram2dcontour\"}],\"mesh3d\":[{\"colorbar\":{\"outlinewidth\":0,\"ticks\":\"\"},\"type\":\"mesh3d\"}],\"parcoords\":[{\"line\":{\"colorbar\":{\"outlinewidth\":0,\"ticks\":\"\"}},\"type\":\"parcoords\"}],\"pie\":[{\"automargin\":true,\"type\":\"pie\"}],\"scatter\":[{\"marker\":{\"colorbar\":{\"outlinewidth\":0,\"ticks\":\"\"}},\"type\":\"scatter\"}],\"scatter3d\":[{\"line\":{\"colorbar\":{\"outlinewidth\":0,\"ticks\":\"\"}},\"marker\":{\"colorbar\":{\"outlinewidth\":0,\"ticks\":\"\"}},\"type\":\"scatter3d\"}],\"scattercarpet\":[{\"marker\":{\"colorbar\":{\"outlinewidth\":0,\"ticks\":\"\"}},\"type\":\"scattercarpet\"}],\"scattergeo\":[{\"marker\":{\"colorbar\":{\"outlinewidth\":0,\"ticks\":\"\"}},\"type\":\"scattergeo\"}],\"scattergl\":[{\"marker\":{\"colorbar\":{\"outlinewidth\":0,\"ticks\":\"\"}},\"type\":\"scattergl\"}],\"scattermapbox\":[{\"marker\":{\"colorbar\":{\"outlinewidth\":0,\"ticks\":\"\"}},\"type\":\"scattermapbox\"}],\"scatterpolar\":[{\"marker\":{\"colorbar\":{\"outlinewidth\":0,\"ticks\":\"\"}},\"type\":\"scatterpolar\"}],\"scatterpolargl\":[{\"marker\":{\"colorbar\":{\"outlinewidth\":0,\"ticks\":\"\"}},\"type\":\"scatterpolargl\"}],\"scatterternary\":[{\"marker\":{\"colorbar\":{\"outlinewidth\":0,\"ticks\":\"\"}},\"type\":\"scatterternary\"}],\"surface\":[{\"colorbar\":{\"outlinewidth\":0,\"ticks\":\"\"},\"colorscale\":[[0.0,\"#0d0887\"],[0.1111111111111111,\"#46039f\"],[0.2222222222222222,\"#7201a8\"],[0.3333333333333333,\"#9c179e\"],[0.4444444444444444,\"#bd3786\"],[0.5555555555555556,\"#d8576b\"],[0.6666666666666666,\"#ed7953\"],[0.7777777777777778,\"#fb9f3a\"],[0.8888888888888888,\"#fdca26\"],[1.0,\"#f0f921\"]],\"type\":\"surface\"}],\"table\":[{\"cells\":{\"fill\":{\"color\":\"#EBF0F8\"},\"line\":{\"color\":\"white\"}},\"header\":{\"fill\":{\"color\":\"#C8D4E3\"},\"line\":{\"color\":\"white\"}},\"type\":\"table\"}]},\"layout\":{\"annotationdefaults\":{\"arrowcolor\":\"#2a3f5f\",\"arrowhead\":0,\"arrowwidth\":1},\"autotypenumbers\":\"strict\",\"coloraxis\":{\"colorbar\":{\"outlinewidth\":0,\"ticks\":\"\"}},\"colorscale\":{\"diverging\":[[0,\"#8e0152\"],[0.1,\"#c51b7d\"],[0.2,\"#de77ae\"],[0.3,\"#f1b6da\"],[0.4,\"#fde0ef\"],[0.5,\"#f7f7f7\"],[0.6,\"#e6f5d0\"],[0.7,\"#b8e186\"],[0.8,\"#7fbc41\"],[0.9,\"#4d9221\"],[1,\"#276419\"]],\"sequential\":[[0.0,\"#0d0887\"],[0.1111111111111111,\"#46039f\"],[0.2222222222222222,\"#7201a8\"],[0.3333333333333333,\"#9c179e\"],[0.4444444444444444,\"#bd3786\"],[0.5555555555555556,\"#d8576b\"],[0.6666666666666666,\"#ed7953\"],[0.7777777777777778,\"#fb9f3a\"],[0.8888888888888888,\"#fdca26\"],[1.0,\"#f0f921\"]],\"sequentialminus\":[[0.0,\"#0d0887\"],[0.1111111111111111,\"#46039f\"],[0.2222222222222222,\"#7201a8\"],[0.3333333333333333,\"#9c179e\"],[0.4444444444444444,\"#bd3786\"],[0.5555555555555556,\"#d8576b\"],[0.6666666666666666,\"#ed7953\"],[0.7777777777777778,\"#fb9f3a\"],[0.8888888888888888,\"#fdca26\"],[1.0,\"#f0f921\"]]},\"colorway\":[\"#636efa\",\"#EF553B\",\"#00cc96\",\"#ab63fa\",\"#FFA15A\",\"#19d3f3\",\"#FF6692\",\"#B6E880\",\"#FF97FF\",\"#FECB52\"],\"font\":{\"color\":\"#2a3f5f\"},\"geo\":{\"bgcolor\":\"white\",\"lakecolor\":\"white\",\"landcolor\":\"#E5ECF6\",\"showlakes\":true,\"showland\":true,\"subunitcolor\":\"white\"},\"hoverlabel\":{\"align\":\"left\"},\"hovermode\":\"closest\",\"mapbox\":{\"style\":\"light\"},\"paper_bgcolor\":\"white\",\"plot_bgcolor\":\"#E5ECF6\",\"polar\":{\"angularaxis\":{\"gridcolor\":\"white\",\"linecolor\":\"white\",\"ticks\":\"\"},\"bgcolor\":\"#E5ECF6\",\"radialaxis\":{\"gridcolor\":\"white\",\"linecolor\":\"white\",\"ticks\":\"\"}},\"scene\":{\"xaxis\":{\"backgroundcolor\":\"#E5ECF6\",\"gridcolor\":\"white\",\"gridwidth\":2,\"linecolor\":\"white\",\"showbackground\":true,\"ticks\":\"\",\"zerolinecolor\":\"white\"},\"yaxis\":{\"backgroundcolor\":\"#E5ECF6\",\"gridcolor\":\"white\",\"gridwidth\":2,\"linecolor\":\"white\",\"showbackground\":true,\"ticks\":\"\",\"zerolinecolor\":\"white\"},\"zaxis\":{\"backgroundcolor\":\"#E5ECF6\",\"gridcolor\":\"white\",\"gridwidth\":2,\"linecolor\":\"white\",\"showbackground\":true,\"ticks\":\"\",\"zerolinecolor\":\"white\"}},\"shapedefaults\":{\"line\":{\"color\":\"#2a3f5f\"}},\"ternary\":{\"aaxis\":{\"gridcolor\":\"white\",\"linecolor\":\"white\",\"ticks\":\"\"},\"baxis\":{\"gridcolor\":\"white\",\"linecolor\":\"white\",\"ticks\":\"\"},\"bgcolor\":\"#E5ECF6\",\"caxis\":{\"gridcolor\":\"white\",\"linecolor\":\"white\",\"ticks\":\"\"}},\"title\":{\"x\":0.05},\"xaxis\":{\"automargin\":true,\"gridcolor\":\"white\",\"linecolor\":\"white\",\"ticks\":\"\",\"title\":{\"standoff\":15},\"zerolinecolor\":\"white\",\"zerolinewidth\":2},\"yaxis\":{\"automargin\":true,\"gridcolor\":\"white\",\"linecolor\":\"white\",\"ticks\":\"\",\"title\":{\"standoff\":15},\"zerolinecolor\":\"white\",\"zerolinewidth\":2}}},\"xaxis\":{\"anchor\":\"y\",\"domain\":[0.0,1.0],\"title\":{\"text\":\"x\"}},\"yaxis\":{\"anchor\":\"x\",\"domain\":[0.0,1.0],\"title\":{\"text\":\"y\"}}},                        {\"responsive\": true}                    ).then(function(){\n",
       "                            \n",
       "var gd = document.getElementById('9cd694df-909d-4669-b615-5888f2fbe1f1');\n",
       "var x = new MutationObserver(function (mutations, observer) {{\n",
       "        var display = window.getComputedStyle(gd).display;\n",
       "        if (!display || display === 'none') {{\n",
       "            console.log([gd, 'removed!']);\n",
       "            Plotly.purge(gd);\n",
       "            observer.disconnect();\n",
       "        }}\n",
       "}});\n",
       "\n",
       "// Listen for the removal of the full notebook cells\n",
       "var notebookContainer = gd.closest('#notebook-container');\n",
       "if (notebookContainer) {{\n",
       "    x.observe(notebookContainer, {childList: true});\n",
       "}}\n",
       "\n",
       "// Listen for the clearing of the current output cell\n",
       "var outputEl = gd.closest('.output');\n",
       "if (outputEl) {{\n",
       "    x.observe(outputEl, {childList: true});\n",
       "}}\n",
       "\n",
       "                        })                };                });            </script>        </div>"
      ]
     },
     "metadata": {},
     "output_type": "display_data"
    }
   ],
   "source": [
    "install_cr = data['Installs_New'].groupby(by = data['Content Rating']).count().sort_values(ascending =False)\n",
    "\n",
    "px.bar(data, x = install_cr.index, y = install_cr.values, color = install_cr.index)"
   ]
  },
  {
   "cell_type": "code",
   "execution_count": 21,
   "id": "5d785c46",
   "metadata": {},
   "outputs": [
    {
     "data": {
      "application/vnd.plotly.v1+json": {
       "config": {
        "plotlyServerURL": "https://plot.ly"
       },
       "data": [
        {
         "alignmentgroup": "True",
         "hovertemplate": "Size_New=%{y}<extra></extra>",
         "legendgroup": "",
         "marker": {
          "color": "#636efa"
         },
         "name": "",
         "notched": false,
         "offsetgroup": "",
         "orientation": "v",
         "showlegend": false,
         "type": "box",
         "x0": " ",
         "xaxis": "x",
         "y": [
          19,
          14,
          8.7,
          25,
          2.8,
          5.6,
          19,
          29,
          33,
          3.1,
          28,
          12,
          20,
          21,
          37,
          2.7,
          5.5,
          17,
          39,
          31,
          14,
          12,
          4.2,
          7,
          23,
          6,
          25,
          6.1,
          4.6,
          4.2,
          9.2,
          5.2,
          11,
          11,
          4.2,
          9.2,
          24,
          11,
          9.4,
          15,
          10,
          1.2,
          12,
          24,
          26,
          8,
          7.9,
          25,
          56,
          57,
          35,
          33,
          33,
          5.6,
          54,
          0.201,
          3.6,
          5.7,
          17,
          8.6,
          2.4,
          27,
          2.7,
          2.5,
          7,
          35,
          16,
          16,
          17,
          3.4,
          8.9,
          3.9,
          2.9,
          38,
          32,
          37,
          15,
          5.4,
          18,
          38,
          1.1,
          7.9,
          35,
          17,
          19,
          14,
          2.2,
          4.5,
          17,
          14,
          9.8,
          21,
          52,
          14,
          25,
          9,
          12,
          35,
          6.7,
          30,
          5.7,
          2.9,
          17,
          2.9,
          2.6,
          4.2,
          7.1,
          57,
          3.7,
          22,
          24,
          7.4,
          21,
          3.4,
          2.9,
          3.1,
          6.4,
          3.2,
          8.2,
          9.9,
          2.9,
          23,
          4.6,
          3.1,
          4.9,
          9.5,
          4.2,
          5.4,
          2.8,
          5,
          5.9,
          13,
          7.1,
          6.7,
          17,
          19,
          6.7,
          21,
          2.7,
          37,
          15,
          23,
          19,
          23,
          73,
          4.9,
          6.8,
          2.9,
          3.5,
          4,
          21,
          2.3,
          7.2,
          10,
          6.1,
          2.1,
          42,
          7.3,
          30,
          29,
          35,
          9.1,
          25,
          3.9,
          18,
          12,
          21,
          55,
          3.2,
          0.023,
          16,
          14,
          37,
          11,
          25,
          7.3,
          6.5,
          25,
          3.1,
          1.5,
          7.5,
          8.6,
          1.2,
          39,
          14,
          19,
          6.8,
          39,
          14,
          20,
          26,
          51,
          41,
          20,
          12,
          48,
          10,
          22,
          11,
          8.5,
          8.6,
          28,
          28,
          37,
          9,
          46,
          14,
          26,
          23,
          14,
          20,
          26,
          51,
          41,
          20,
          12,
          48,
          10,
          22,
          11,
          8.5,
          8.6,
          28,
          39,
          14,
          19,
          6.8,
          39,
          35,
          29,
          41,
          4.9,
          27,
          32,
          12,
          15,
          11,
          28,
          2.2,
          3.4,
          8.3,
          4.3,
          4.7,
          10,
          15,
          7.1,
          21,
          6.1,
          15,
          11,
          29,
          3.3,
          22,
          40,
          10,
          9.1,
          4.7,
          38,
          6.7,
          37,
          7.8,
          19,
          5.7,
          35,
          17,
          8.8,
          16,
          11,
          11,
          15,
          6.6,
          6.6,
          5.1,
          18,
          4,
          37,
          22,
          3.3,
          32,
          37,
          17,
          35,
          40,
          61,
          66,
          11,
          0.079,
          25,
          14,
          24,
          17,
          8.3,
          8.2,
          8.4,
          4,
          32,
          6.1,
          2.8,
          3.3,
          40,
          2.2,
          4.3,
          4.7,
          2.3,
          2.3,
          11,
          2.7,
          14,
          13,
          3.7,
          10,
          13,
          10,
          13,
          8.8,
          5.5,
          20,
          29,
          11,
          17,
          17,
          0.118,
          16,
          5.1,
          44,
          7.3,
          30,
          0.695,
          1.6,
          19,
          11,
          23,
          26,
          6.2,
          20,
          0.018,
          1.2,
          17,
          15,
          56,
          12,
          11,
          29,
          40,
          53,
          3.1,
          24,
          23,
          5,
          44,
          27,
          6.1,
          21,
          11,
          21,
          24,
          31,
          27,
          6.2,
          12,
          8,
          5.9,
          7.9,
          5,
          1.4,
          13,
          40,
          13,
          19,
          5,
          19,
          27,
          3,
          13,
          7.2,
          25,
          5.7,
          5.5,
          6.5,
          5.8,
          3.8,
          41,
          7.9,
          2.8,
          20,
          15,
          28,
          9.6,
          13,
          15,
          40,
          56,
          12,
          9.4,
          29,
          11,
          19,
          23,
          27,
          19,
          45,
          21,
          40,
          25,
          15,
          24,
          11,
          38,
          31,
          6.1,
          27,
          32,
          13,
          63,
          44,
          16,
          28,
          5.9,
          13,
          9,
          20,
          7.9,
          28,
          49,
          27,
          18,
          14,
          27,
          41,
          38,
          5.5,
          27,
          7.2,
          21,
          8.8,
          38,
          11,
          6.5,
          26,
          19,
          6.1,
          77,
          9.5,
          14,
          38,
          16,
          3.4,
          4.7,
          5,
          4.9,
          4.9,
          16,
          3.9,
          4.4,
          4.8,
          4.5,
          70,
          4.9,
          3.7,
          4.9,
          16,
          4.6,
          3.6,
          21,
          13,
          8.7,
          9.2,
          6.9,
          39,
          8,
          3.9,
          14,
          11,
          13,
          9.3,
          5,
          10,
          5,
          5,
          3.6,
          19,
          5,
          9.8,
          14,
          5,
          4.9,
          5.5,
          11,
          3.8,
          5,
          8.2,
          21,
          12,
          10,
          3.3,
          25,
          15,
          10,
          4.9,
          4.4,
          3.5,
          7.8,
          9,
          15,
          19,
          56,
          38,
          16,
          5,
          27,
          4.7,
          3.4,
          4.9,
          25,
          29,
          8.1,
          14,
          27,
          3.9,
          13,
          5,
          5.5,
          16,
          4.8,
          14,
          4.7,
          3.7,
          4.9,
          3.5,
          4.5,
          36,
          4.5,
          19,
          14,
          77,
          21,
          7.9,
          9.3,
          18,
          18,
          21,
          3.3,
          24,
          39,
          3.2,
          5.1,
          11,
          27,
          37,
          26,
          11,
          41,
          49,
          21,
          8.1,
          51,
          14,
          18,
          3,
          19,
          22,
          6.9,
          7.4,
          84,
          25,
          18,
          2.5,
          3.9,
          21,
          27,
          21,
          18,
          18,
          10,
          97,
          17,
          2,
          1.9,
          1.8,
          1.8,
          17,
          18,
          5.3,
          5.4,
          5.4,
          5.4,
          15,
          5.3,
          48,
          5.4,
          47,
          0.556,
          29,
          2.3,
          4.4,
          6.6,
          0.526,
          12,
          29,
          21,
          18,
          18,
          17,
          10,
          76,
          17,
          18,
          21,
          6.9,
          14,
          76,
          11,
          19,
          6.5,
          7,
          3.3,
          21,
          2.6,
          21,
          5.2,
          18,
          16,
          15,
          1.2,
          18,
          1.8,
          7.6,
          59,
          6.9,
          14,
          41,
          19,
          76,
          21,
          21,
          21,
          21,
          5.4,
          7.3,
          59,
          41,
          21,
          76,
          7.6,
          13,
          63,
          44,
          24,
          24,
          4.5,
          11,
          4.6,
          3.3,
          6.5,
          12,
          5.6,
          9.7,
          15,
          52,
          4.5,
          49,
          18,
          13,
          4,
          16,
          17,
          24,
          12,
          78,
          25,
          57,
          9.1,
          39,
          16,
          8.5,
          12,
          72,
          12,
          16,
          9.6,
          22,
          13,
          12,
          23,
          20,
          25,
          17,
          19,
          21,
          19,
          19,
          4.4,
          19,
          12,
          11,
          12,
          25,
          21,
          13,
          17,
          20,
          20,
          19,
          17,
          21,
          15,
          19,
          19,
          7.2,
          32,
          44,
          19,
          11,
          25,
          16,
          20,
          21,
          30,
          57,
          19,
          17,
          15,
          19,
          19,
          19,
          44,
          19,
          35,
          44,
          20,
          19,
          25,
          43,
          3.6,
          7.7,
          44,
          12,
          53,
          77,
          9.5,
          36,
          6.3,
          5.9,
          12,
          2.8,
          26,
          8.7,
          16,
          53,
          14,
          8.9,
          11,
          0.334,
          24,
          13,
          2.8,
          9.7,
          1.4,
          3.5,
          61,
          6,
          2.3,
          9,
          11,
          27,
          3.6,
          29,
          4.4,
          21,
          13,
          27,
          11,
          24,
          6.1,
          6.3,
          23,
          34,
          3.8,
          42,
          19,
          70,
          32,
          93,
          40,
          24,
          20,
          15,
          28,
          10,
          14,
          42,
          65,
          37,
          39,
          47,
          79,
          18,
          100,
          32,
          46,
          9.8,
          8.2,
          18,
          39,
          44,
          5,
          21,
          22,
          23,
          27,
          5,
          32,
          7.4,
          24,
          22,
          10,
          17,
          38,
          46,
          3.8,
          9.3,
          8.4,
          28,
          9.7,
          11,
          7.4,
          19,
          16,
          14,
          22,
          25,
          3.6,
          4.5,
          23,
          4.2,
          58,
          22,
          1.4,
          9.1,
          22,
          21,
          11,
          38,
          12,
          45,
          50,
          24,
          47,
          23,
          46,
          45,
          50,
          24,
          33,
          12,
          53,
          14,
          68,
          37,
          79,
          32,
          46,
          40,
          32,
          24,
          42,
          12,
          13,
          13,
          4.9,
          8.9,
          19,
          14,
          64,
          8.4,
          11,
          66,
          41,
          15,
          35,
          36,
          17,
          25,
          35,
          10,
          12,
          11,
          17,
          43,
          41,
          43,
          16,
          39,
          13,
          30,
          7.1,
          23,
          17,
          18,
          17,
          15,
          22,
          9,
          7.2,
          2.3,
          27,
          8.2,
          76,
          22,
          19,
          28,
          35,
          22,
          25,
          30,
          8.5,
          17,
          34,
          34,
          17,
          16,
          15,
          2.2,
          11,
          6.9,
          13,
          11,
          2.9,
          25,
          7,
          27,
          7.5,
          15,
          9.4,
          6.4,
          5.5,
          3.9,
          55,
          28,
          8.8,
          4,
          6.9,
          11,
          5.5,
          15,
          4.3,
          7.1,
          58,
          18,
          1.5,
          6.5,
          11,
          67,
          57,
          59,
          48,
          57,
          13,
          31,
          10,
          57,
          21,
          25,
          93,
          60,
          27,
          54,
          59,
          78,
          55,
          67,
          35,
          43,
          39,
          4.2,
          44,
          45,
          28,
          29,
          12,
          15,
          31,
          20,
          39,
          94,
          35,
          41,
          49,
          22,
          23,
          28,
          7.2,
          6.5,
          24,
          20,
          15,
          55,
          38,
          32,
          40,
          59,
          23,
          6.1,
          58,
          55,
          57,
          93,
          60,
          19,
          3.8,
          18,
          57,
          5.5,
          5.7,
          51,
          9.4,
          3.3,
          4,
          19,
          3.8,
          4.3,
          18,
          5.7,
          3.6,
          5.5,
          57,
          51,
          58,
          9.4,
          3.3,
          4,
          9.9,
          43,
          37,
          40,
          73,
          28,
          23,
          10,
          15,
          8.4,
          31,
          41,
          20,
          39,
          35,
          34,
          7.5,
          12,
          7.7,
          21,
          18,
          40,
          8.7,
          8.6,
          18,
          7.5,
          9.1,
          13,
          15,
          19,
          5.1,
          26,
          8.3,
          27,
          7.9,
          27,
          5.1,
          15,
          3.1,
          16,
          9.2,
          10,
          2.6,
          13,
          1.9,
          7,
          15,
          4.2,
          7.8,
          77,
          5.7,
          5.9,
          7.6,
          5.8,
          5.8,
          5.3,
          5.5,
          25,
          35,
          7.9,
          19,
          7.5,
          12,
          34,
          30,
          16,
          16,
          15,
          21,
          1.8,
          4.3,
          10,
          3.7,
          0.232,
          99,
          0.624,
          6.9,
          7,
          7,
          6.4,
          16,
          5.9,
          95,
          0.0085,
          20,
          2.5,
          50,
          10,
          18,
          12,
          2.5,
          2.1,
          22,
          0.041,
          22,
          0.292,
          5.5,
          2.5,
          8.1,
          28,
          24,
          3.1,
          3.4,
          0.011,
          13,
          19,
          9.5,
          21,
          9.4,
          2.4,
          36,
          55,
          32,
          34,
          5.1,
          100,
          80,
          3.3,
          28,
          5,
          11,
          55,
          7.1,
          3.2,
          4.4,
          16,
          6.3,
          45,
          23,
          37,
          13,
          8.1,
          13,
          14,
          30,
          36,
          3,
          1.4,
          39,
          1.8,
          1.7,
          19,
          15,
          10,
          2.7,
          16,
          21,
          20,
          14,
          76,
          18,
          12,
          6.2,
          6.8,
          24,
          19,
          13,
          15,
          13,
          44,
          9.7,
          24,
          13,
          4.5,
          4.5,
          29,
          12,
          12,
          4.6,
          10,
          6.8,
          33,
          12,
          4.6,
          10,
          6.8,
          33,
          13,
          15,
          23,
          7.7,
          15,
          25,
          3,
          22,
          7.5,
          24,
          44,
          14,
          67,
          76,
          74,
          23,
          46,
          24,
          97,
          62,
          24,
          33,
          7.8,
          46,
          69,
          75,
          67,
          50,
          98,
          4.9,
          37,
          18,
          52,
          78,
          3.9,
          59,
          97,
          11,
          38,
          85,
          78,
          63,
          24,
          69,
          75,
          70,
          63,
          99,
          49,
          76,
          67,
          24,
          52,
          98,
          74,
          69,
          82,
          96,
          99,
          46,
          99,
          87,
          3.9,
          67,
          53,
          7.8,
          97,
          59,
          46,
          75,
          50,
          62,
          23,
          72,
          70,
          18,
          35,
          78,
          25,
          74,
          97,
          17,
          53,
          11,
          60,
          57,
          14,
          67,
          33,
          76,
          74,
          40,
          59,
          52,
          100,
          62,
          85,
          87,
          33,
          32,
          40,
          29,
          40,
          24,
          38,
          52,
          54,
          71,
          73,
          57,
          38,
          62,
          95,
          16,
          39,
          78,
          36,
          31,
          98,
          24,
          85,
          33,
          100,
          36,
          86,
          80,
          87,
          79,
          30,
          87,
          91,
          63,
          95,
          48,
          93,
          53,
          82,
          99,
          49,
          25,
          91,
          52,
          56,
          56,
          85,
          81,
          82,
          98,
          77,
          99,
          96,
          96,
          82,
          70,
          63,
          35,
          48,
          84,
          15,
          69,
          46,
          15,
          33,
          48,
          67,
          74,
          57,
          52,
          25,
          36,
          31,
          91,
          92,
          70,
          93,
          52,
          91,
          37,
          64,
          35,
          97,
          93,
          28,
          83,
          99,
          55,
          82,
          14,
          81,
          74,
          67,
          52,
          76,
          67,
          50,
          46,
          97,
          98,
          70,
          69,
          3.9,
          7.8,
          18,
          24,
          62,
          11,
          87,
          99,
          82,
          94,
          96,
          75,
          14,
          59,
          74,
          29,
          17,
          97,
          78,
          63,
          25,
          29,
          72,
          53,
          76,
          33,
          60,
          62,
          78,
          75,
          70,
          99,
          99,
          27,
          70,
          88,
          63,
          82,
          48,
          31,
          23,
          59,
          39,
          54,
          48,
          30,
          66,
          32,
          50,
          53,
          61,
          49,
          38,
          20,
          66,
          57,
          95,
          32,
          33,
          66,
          75,
          29,
          74,
          69,
          7.8,
          33,
          52,
          50,
          46,
          12,
          41,
          63,
          53,
          63,
          99,
          20,
          11,
          75,
          13,
          46,
          78,
          49,
          14,
          100,
          97,
          15,
          33,
          70,
          10,
          77,
          4.9,
          25,
          96,
          23,
          51,
          96,
          70,
          38,
          24,
          20,
          67,
          19,
          51,
          22,
          46,
          21,
          39,
          23,
          26,
          39,
          24,
          15,
          20,
          24,
          44,
          38,
          52,
          14,
          49,
          8.9,
          56,
          99,
          10,
          6.9,
          20,
          10,
          19,
          33,
          85,
          48,
          9.6,
          15,
          50,
          51,
          24,
          13,
          16,
          63,
          15,
          26,
          81,
          79,
          94,
          46,
          43,
          45,
          91,
          91,
          53,
          28,
          26,
          56,
          80,
          60,
          67,
          78,
          27,
          63,
          26,
          46,
          83,
          60,
          44,
          82,
          67,
          99,
          24,
          78,
          51,
          94,
          16,
          93,
          77,
          32,
          58,
          48,
          69,
          73,
          99,
          16,
          54,
          56,
          68,
          25,
          7,
          54,
          51,
          48,
          44,
          8.7,
          91,
          97,
          26,
          16,
          53,
          95,
          83,
          78,
          56,
          21,
          26,
          60,
          22,
          95,
          48,
          58,
          91,
          22,
          36,
          37,
          70,
          34,
          49,
          9.8,
          37,
          55,
          84,
          16,
          92,
          57,
          24,
          6.9,
          44,
          11,
          16,
          17,
          18,
          16,
          19,
          1.6,
          47,
          16,
          14,
          75,
          25,
          5.7,
          17,
          3.5,
          16,
          42,
          47,
          67,
          26,
          72,
          37,
          1.2,
          17,
          19,
          23,
          25,
          83,
          94,
          97,
          37,
          92,
          48,
          12,
          15,
          83,
          9.5,
          19,
          23,
          25,
          83,
          94,
          97,
          37,
          92,
          48,
          12,
          15,
          83,
          9.5,
          67,
          63,
          49,
          14,
          58,
          22,
          15,
          50,
          59,
          34,
          54,
          53,
          37,
          25,
          26,
          61,
          58,
          91,
          17,
          83,
          17,
          64,
          41,
          58,
          23,
          71,
          23,
          12,
          0.704,
          2.9,
          25,
          20,
          21,
          5.4,
          25,
          42,
          32,
          1.8,
          33,
          3.8,
          5.8,
          9.5,
          19,
          5,
          23,
          0.862,
          9.9,
          24,
          2.4,
          0.899,
          38,
          6.5,
          14,
          1.2,
          48,
          0.378,
          22,
          4.8,
          25,
          0.266,
          0.375,
          62,
          1.2,
          2.8,
          95,
          2.6,
          4.6,
          5.1,
          1.8,
          53,
          39,
          5.3,
          14,
          8.4,
          18,
          41,
          100,
          3.4,
          68,
          2.6,
          11,
          37,
          9.8,
          23,
          18,
          7.4,
          11,
          23,
          34,
          15,
          13,
          24,
          20,
          14,
          69,
          38,
          26,
          2.6,
          21,
          38,
          16,
          21,
          10,
          22,
          14,
          36,
          16,
          61,
          11,
          8.5,
          37,
          22,
          17,
          7.7,
          39,
          30,
          3.7,
          28,
          16,
          20,
          8.9,
          97,
          12,
          72,
          21,
          27,
          5.7,
          6.6,
          12,
          5.9,
          20,
          15,
          26,
          3.3,
          44,
          32,
          12,
          36,
          17,
          5.8,
          11,
          16,
          25,
          6.1,
          22,
          28,
          6.3,
          25,
          60,
          20,
          8,
          20,
          6.4,
          34,
          3.8,
          42,
          2.4,
          70,
          5,
          28,
          21,
          38,
          74,
          1.8,
          12,
          13,
          2.9,
          48,
          19,
          68,
          6.8,
          12,
          5.8,
          41,
          25,
          42,
          6.5,
          13,
          1.5,
          3.2,
          7.7,
          1.3,
          26,
          5.4,
          11,
          9.5,
          62,
          18,
          3.1,
          1.8,
          66,
          5,
          2.9,
          22,
          16,
          19,
          40,
          23,
          15,
          29,
          16,
          65,
          29,
          20,
          3.8,
          19,
          25,
          5.1,
          16,
          1.5,
          10,
          22,
          3.6,
          20,
          20,
          13,
          2.5,
          3.6,
          24,
          10,
          25,
          29,
          17,
          53,
          83,
          4.6,
          4.6,
          28,
          29,
          46,
          5.7,
          1.4,
          12,
          2.2,
          27,
          18,
          30,
          3.5,
          4.2,
          6.9,
          6.6,
          7,
          11,
          5.6,
          29,
          3.3,
          20,
          7,
          3.3,
          29,
          7.1,
          23,
          24,
          14,
          13,
          34,
          4.3,
          43,
          69,
          22,
          20,
          25,
          2,
          40,
          37,
          40,
          4.3,
          5.7,
          4,
          17,
          11,
          4.4,
          15,
          2.3,
          40,
          8.4,
          11,
          2.9,
          2.4,
          15,
          24,
          29,
          24,
          22,
          86,
          22,
          11,
          0.975,
          0.98,
          6,
          20,
          26,
          13,
          23,
          2.7,
          4.2,
          28,
          6.1,
          15,
          1.2,
          37,
          5.9,
          14,
          2.3,
          32,
          2.7,
          2.2,
          26,
          4,
          1.5,
          3.7,
          2.8,
          3.9,
          3.1,
          2.8,
          20,
          9.9,
          5.3,
          10,
          2.6,
          31,
          2.3,
          6,
          17,
          20,
          62,
          15,
          18,
          5.4,
          2.8,
          15,
          5.3,
          37,
          23,
          28,
          35,
          76,
          34,
          2.7,
          4.1,
          85,
          15,
          89,
          20,
          9.3,
          76,
          34,
          16,
          8.4,
          20,
          76,
          68,
          13,
          50,
          23,
          28,
          7,
          23,
          76,
          68,
          13,
          56,
          8.4,
          23,
          22,
          15,
          30,
          30,
          27,
          20,
          42,
          18,
          4.2,
          30,
          33,
          7.9,
          12,
          15,
          10,
          9.9,
          9,
          21,
          13,
          11,
          21,
          8.1,
          12,
          7.3,
          15,
          22,
          11,
          8.3,
          20,
          38,
          9.1,
          24,
          29,
          98,
          25,
          18,
          6.1,
          14,
          21,
          43,
          15,
          23,
          52,
          57,
          20,
          40,
          17,
          13,
          33,
          18,
          29,
          31,
          20,
          13,
          7.3,
          12,
          8.8,
          18,
          14,
          21,
          43,
          34,
          15,
          26,
          34,
          2.7,
          52,
          29,
          20,
          23,
          42,
          16,
          12,
          6.5,
          15,
          17,
          24,
          22,
          15,
          18,
          8.8,
          14,
          2.7,
          29,
          20,
          6.5,
          15,
          6.2,
          19,
          27,
          1.1,
          2.7,
          16,
          8.8,
          12,
          24,
          56,
          15,
          18,
          14,
          22,
          28,
          59,
          37,
          36,
          9.5,
          82,
          28,
          9.7,
          22,
          17,
          7.7,
          11,
          21,
          19,
          8.7,
          30,
          25,
          17,
          13,
          23,
          22,
          9.1,
          8.3,
          19,
          53,
          17,
          10,
          29,
          46,
          4.5,
          4.9,
          24,
          23,
          25,
          26,
          2,
          19,
          9.6,
          13,
          4.2,
          16,
          59,
          9.5,
          53,
          6.6,
          27,
          22,
          50,
          30,
          17,
          18,
          10,
          9.9,
          23,
          51,
          35,
          16,
          11,
          74,
          48,
          13,
          4.2,
          16,
          59,
          5.6,
          1.5,
          5.7,
          6.1,
          1.9,
          4,
          47,
          2,
          9.5,
          22,
          14,
          10,
          6.9,
          44,
          51,
          48,
          43,
          21,
          25,
          3.9,
          4,
          51,
          9.6,
          9.5,
          50,
          21,
          31,
          27,
          53,
          34,
          12,
          50,
          47,
          9.2,
          51,
          48,
          24,
          1.6,
          17,
          31,
          59,
          46,
          53,
          45,
          9.8,
          34,
          20,
          19,
          6,
          15,
          6.5,
          6.2,
          14,
          6.1,
          17,
          24,
          13,
          10,
          10,
          6.9,
          31,
          28,
          2.6,
          30,
          13,
          27,
          29,
          18,
          35,
          17,
          18,
          3,
          32,
          24,
          10,
          34,
          6.6,
          27,
          25,
          6.6,
          24,
          25,
          33,
          88,
          9.3,
          84,
          4.7,
          25,
          12,
          9.9,
          61,
          25,
          52,
          57,
          41,
          4.6,
          10,
          23,
          27,
          33,
          4.7,
          2.2,
          95,
          34,
          9.4,
          19,
          3.9,
          34,
          21,
          19,
          6.6,
          82,
          19,
          26,
          5.2,
          16,
          33,
          6,
          25,
          34,
          8.1,
          35,
          25,
          19,
          48,
          21,
          6.6,
          32,
          82,
          23,
          52,
          14,
          25,
          58,
          19,
          29,
          81,
          28,
          7.6,
          33,
          42,
          8.3,
          14,
          37,
          14,
          21,
          28,
          27,
          39,
          17,
          39,
          51,
          86,
          26,
          46,
          29,
          27,
          14,
          10,
          71,
          15,
          11,
          62,
          80,
          5.4,
          9.8,
          7.6,
          26,
          13,
          62,
          10,
          15,
          80,
          14,
          57,
          51,
          8.3,
          24,
          29,
          3.1,
          46,
          55,
          19,
          19,
          40,
          29,
          43,
          50,
          13,
          15,
          4,
          14,
          19,
          29,
          44,
          22,
          28,
          12,
          46,
          7.6,
          29,
          4.1,
          8.5,
          31,
          4.1,
          22,
          28,
          5.9,
          3.9,
          15,
          4.3,
          5.3,
          16,
          7.5,
          3.7,
          5.8,
          17,
          8.5,
          9.1,
          7.6,
          2.5,
          15,
          6.1,
          17,
          58,
          4.6,
          16,
          1.3,
          2.3,
          1.9,
          2.7,
          16,
          11,
          5.3,
          4.2,
          9.1,
          4.3,
          1.8,
          8.5,
          4.4,
          3.8,
          11,
          11,
          7.4,
          5.3,
          5.4,
          3.6,
          4.3,
          27,
          1.8,
          3.3,
          2,
          6.1,
          9.6,
          9.6,
          10,
          8.2,
          14,
          25,
          9.9,
          22,
          8.9,
          2.4,
          25,
          1.8,
          17,
          4.1,
          18,
          14,
          0.696,
          4.7,
          8.1,
          7.9,
          4.6,
          0.544,
          3.5,
          0.525,
          2.1,
          14,
          8.7,
          21,
          12,
          18,
          17,
          3.8,
          23,
          14,
          15,
          9.9,
          12,
          12,
          20,
          7.4,
          3,
          14,
          14,
          7.2,
          22,
          7.2,
          26,
          38,
          3.9,
          5.4,
          9.8,
          7.6,
          1.1,
          9.1,
          6.8,
          12,
          3.3,
          12,
          9.8,
          0.92,
          14,
          6.8,
          27,
          7.4,
          29,
          5.9,
          14,
          14,
          26,
          1.9,
          3.9,
          0.779,
          5.1,
          10,
          13,
          4,
          5.4,
          3.3,
          4.3,
          0.853,
          21,
          6.4,
          8.6,
          2.1,
          7.1,
          3.3,
          3.5,
          4.1,
          9.7,
          3.3,
          7.1,
          8.4,
          7,
          5.5,
          13,
          5.9,
          24,
          6.2,
          6.9,
          6.1,
          24,
          4.1,
          50,
          11,
          5.1,
          1.3,
          2.3,
          16,
          15,
          61,
          1.6,
          49,
          7.2,
          1.5,
          49,
          14,
          1.2,
          10,
          4.3,
          3.8,
          32,
          4.5,
          8.4,
          12,
          25,
          12,
          7.1,
          16,
          6.5,
          9.2,
          0.72,
          2.2,
          4.1,
          60,
          37,
          0.713,
          4.7,
          6.6,
          2.5,
          19,
          4.2,
          11,
          12,
          5.7,
          9,
          6.9,
          8.4,
          1.9,
          15,
          11,
          61,
          4.1,
          3.8,
          3.8,
          2.8,
          8.2,
          3.3,
          6.2,
          85,
          14,
          95,
          5.5,
          42,
          15,
          98,
          6.4,
          2.8,
          6.5,
          3.6,
          2.4,
          3.4,
          1.5,
          5,
          6.6,
          59,
          6.8,
          24,
          6.6,
          4.9,
          9.1,
          11,
          5.8,
          24,
          4.4,
          16,
          11,
          4.9,
          11,
          53,
          20,
          38,
          4.9,
          17,
          37,
          5.2,
          28,
          71,
          46,
          16,
          18,
          18,
          10,
          17,
          9.7,
          21,
          3.2,
          15,
          44,
          4.8,
          10,
          54,
          9.1,
          19,
          12,
          19,
          7.6,
          38,
          6.1,
          9.2,
          11,
          9.2,
          20,
          22,
          5.3,
          5.6,
          5.4,
          2.9,
          25,
          23,
          7.2,
          3.3,
          17,
          6,
          33,
          3.1,
          4.1,
          27,
          44,
          13,
          3,
          6.1,
          64,
          47,
          5.4,
          27,
          50,
          4,
          13,
          44,
          2.5,
          23,
          23,
          14,
          89,
          16,
          26,
          11,
          56,
          25,
          17,
          9.1,
          11,
          15,
          9.7,
          5.5,
          6.7,
          2.9,
          13,
          8.5,
          25,
          12,
          6.3,
          6.3,
          19,
          31,
          9,
          25,
          4.6,
          8,
          23,
          9.8,
          8.7,
          12,
          10,
          19,
          6.6,
          14,
          8.6,
          13,
          13,
          10,
          7.5,
          36,
          8.2,
          22,
          23,
          14,
          25,
          27,
          35,
          8.6,
          4.6,
          25,
          12,
          18,
          3.1,
          14,
          23,
          8.8,
          35,
          36,
          25,
          12,
          23,
          13,
          13,
          22,
          43,
          33,
          32,
          6.8,
          4,
          3.7,
          3.4,
          48,
          7.7,
          60,
          60,
          5.6,
          5.2,
          25,
          3.3,
          29,
          49,
          3.6,
          48,
          5.4,
          18,
          3.2,
          11,
          8.5,
          24,
          26,
          14,
          78,
          7,
          9.2,
          4.9,
          6.5,
          11,
          96,
          2.9,
          24,
          55,
          74,
          24,
          32,
          15,
          6.3,
          97,
          74,
          14,
          14,
          5.7,
          19,
          50,
          76,
          70,
          29,
          16,
          13,
          73,
          17,
          85,
          99,
          92,
          37,
          45,
          57,
          26,
          47,
          22,
          56,
          50,
          42,
          34,
          70,
          17,
          4.1,
          11,
          11,
          94,
          24,
          56,
          66,
          63,
          91,
          17,
          21,
          81,
          3,
          59,
          83,
          19,
          23,
          32,
          39,
          57,
          52,
          7.5,
          7.4,
          8.9,
          6.3,
          18,
          14,
          20,
          96,
          35,
          8.4,
          8.6,
          55,
          29,
          13,
          16,
          40,
          6.7,
          100,
          94,
          4.4,
          64,
          4.5,
          6,
          7.4,
          3.7,
          25,
          10,
          26,
          98,
          97,
          1.8,
          11,
          78,
          50,
          74,
          8.3,
          7.7,
          2.5,
          5.3,
          4,
          4.2,
          74,
          6.9,
          6.6,
          16,
          4.7,
          5.4,
          35,
          26,
          32,
          2.7,
          3.7,
          7,
          6.9,
          63,
          2.2,
          30,
          5.8,
          3.1,
          1.5,
          8.6,
          0.772,
          3.3,
          5,
          1.1,
          4.4,
          2.1,
          1.6,
          29,
          39,
          29,
          14,
          41,
          9.7,
          60,
          62,
          47,
          89,
          9.9,
          64,
          48,
          12,
          61,
          32,
          28,
          36,
          13,
          69,
          74,
          18,
          3.6,
          79,
          66,
          42,
          9.8,
          2.8,
          40,
          20,
          25,
          44,
          8.8,
          16,
          89,
          58,
          20,
          4.8,
          0.318,
          13,
          4.9,
          12,
          66,
          50,
          59,
          14,
          5.9,
          41,
          37,
          22,
          15,
          6.1,
          3.1,
          0.058,
          79,
          15,
          55,
          11,
          13,
          4.9,
          7.6,
          3,
          37,
          9.3,
          23,
          0.241,
          11,
          9.2,
          4.8,
          16,
          40,
          13,
          4.9,
          31,
          14,
          3,
          9.9,
          3.7,
          1.7,
          11,
          63,
          2.1,
          1.4,
          36,
          32,
          59,
          37,
          7.9,
          25,
          19,
          39,
          0.196,
          2.3,
          8.1,
          51,
          3.4,
          8.8,
          28,
          11,
          6.1,
          14,
          94,
          11,
          14,
          1.6,
          15,
          2.7,
          5.7,
          47,
          1.6,
          0.857,
          25,
          1.3,
          1.5,
          33,
          3.9,
          87,
          14,
          10,
          5.9,
          58,
          1.9,
          48,
          57,
          0.051,
          4.5,
          8.9,
          26,
          15,
          1.5,
          2.2,
          42,
          5.6,
          8.5,
          8.9,
          13,
          13,
          5.4,
          27,
          3,
          19,
          8.3,
          57,
          1.2,
          2.8,
          19,
          7.2,
          52,
          65,
          37,
          2.9,
          11,
          34,
          6.5,
          3.9,
          3.9,
          57,
          2.8,
          23,
          55,
          75,
          40,
          50,
          25,
          25,
          6.6,
          36,
          75,
          8.8,
          43,
          9.9,
          96,
          0.953,
          9,
          23,
          2.6,
          23,
          35,
          7.2,
          49,
          4.7,
          43,
          97,
          3.1,
          6.7,
          13,
          7.1,
          9.1,
          98,
          30,
          8.9,
          13,
          2.4,
          44,
          7.3,
          33,
          3.4,
          3.8,
          3.6,
          40,
          14,
          34,
          40,
          11,
          63,
          14,
          61,
          63,
          8.9,
          10,
          44,
          10,
          59,
          7.4,
          23,
          50,
          44,
          15,
          40,
          62,
          2.1,
          31,
          19,
          26,
          3.6,
          13,
          4.5,
          35,
          71,
          15,
          23,
          3.5,
          60,
          40,
          78,
          20,
          49,
          40,
          48,
          87,
          20,
          50,
          0.865,
          2.9,
          67,
          2.4,
          61,
          6.8,
          2.6,
          13,
          29,
          84,
          5.4,
          2.8,
          2.9,
          6.9,
          46,
          27,
          37,
          82,
          44,
          7.3,
          37,
          53,
          44,
          24,
          34,
          9.1,
          38,
          15,
          26,
          63,
          0.251,
          4.2,
          7.3,
          49,
          9.7,
          1.4,
          4.9,
          6.2,
          6,
          1.2,
          16,
          59,
          7.7,
          30,
          6.4,
          64,
          46,
          76,
          54,
          8.4,
          22,
          23,
          8.2,
          3.8,
          54,
          9.1,
          40,
          28,
          11,
          34,
          58,
          21,
          45,
          22,
          28,
          17,
          31,
          59,
          91,
          20,
          69,
          71,
          13,
          33,
          3.3,
          6.4,
          20,
          7.6,
          62,
          32,
          49,
          0.93,
          34,
          49,
          24,
          72,
          8.7,
          40,
          6.8,
          47,
          3.6,
          2.9,
          26,
          1.3,
          45,
          0.54,
          4.6,
          0.313,
          8.6,
          0.746,
          10,
          38,
          5.1,
          6.1,
          28,
          5.2,
          22,
          34,
          51,
          39,
          2.1,
          12,
          11,
          7.5,
          24,
          19,
          1.9,
          5.2,
          2.3,
          4.5,
          1.7,
          1.8,
          6.3,
          5.5,
          6.2,
          28,
          4.3,
          5.7,
          4.9,
          3.6,
          2,
          16,
          7.4,
          4.3,
          7.3,
          60,
          3.7,
          24,
          10,
          7.5,
          13,
          3.6,
          2,
          14,
          2.3,
          16,
          20,
          21,
          2.1,
          26,
          14,
          18,
          60,
          7.1,
          60,
          40,
          55,
          20,
          19,
          17,
          3.6,
          4.5,
          3.6,
          33,
          43,
          21,
          2.3,
          14,
          19,
          95,
          29,
          2.7,
          16,
          3.9,
          3.1,
          12,
          39,
          26,
          19,
          67,
          12,
          2.8,
          6.2,
          2.9,
          5.9,
          60,
          4.9,
          62,
          96,
          9.2,
          2.8,
          3.9,
          2.2,
          0.203,
          37,
          3.7,
          7.7,
          2.9,
          29,
          34,
          3.6,
          5.7,
          64,
          3.4,
          0.058,
          6.7,
          23,
          8.9,
          57,
          12,
          13,
          93,
          83,
          41,
          28,
          2.7,
          4.4,
          3.4,
          17,
          2.2,
          7.1,
          20,
          0.026,
          31,
          45,
          33,
          14,
          37,
          24,
          6.5,
          40,
          93,
          0.314,
          3.7,
          57,
          2.7,
          68,
          25,
          2.4,
          96,
          2.2,
          33,
          19,
          21,
          26,
          29,
          3.7,
          25,
          28,
          2.1,
          15,
          7.9,
          46,
          8.9,
          13,
          20,
          2.3,
          4.9,
          23,
          35,
          18,
          45,
          5.6,
          4.5,
          5.8,
          24,
          21,
          31,
          74,
          21,
          7.3,
          3.3,
          11,
          53,
          37,
          37,
          2,
          26,
          42,
          7.8,
          3.5,
          14,
          5.1,
          1.9,
          38,
          3,
          2.2,
          3.5,
          4,
          27,
          13,
          21,
          3.5,
          22,
          7.2,
          4.8,
          13,
          7.5,
          5.4,
          30,
          0.196,
          16,
          3.8,
          17,
          26,
          28,
          38,
          17,
          20,
          6.9,
          59,
          67,
          61,
          1.6,
          3.7,
          4.9,
          30,
          40,
          10,
          100,
          42,
          95,
          28,
          4.2,
          3.6,
          17,
          4.6,
          7.9,
          4.3,
          3.6,
          5.9,
          35,
          1.8,
          9.5,
          19,
          25,
          37,
          3.6,
          17,
          2.9,
          3.4,
          2.9,
          3.5,
          37,
          1.5,
          47,
          11,
          9.1,
          32,
          16,
          2.5,
          6.7,
          1.9,
          27,
          0.079,
          7.6,
          8.2,
          33,
          3.1,
          27,
          1.5,
          4.5,
          43,
          21,
          4.4,
          16,
          13,
          34,
          8.3,
          2.5,
          3.5,
          6.4,
          4.3,
          6.3,
          8.6,
          1.9,
          0.118,
          49,
          3.7,
          3.5,
          53,
          8,
          27,
          24,
          11,
          3.2,
          3.7,
          1.2,
          8.4,
          31,
          9.6,
          45,
          56,
          26,
          17,
          6.9,
          99,
          47,
          36,
          21,
          3,
          8.5,
          2,
          15,
          50,
          17,
          1.9,
          70,
          41,
          99,
          96,
          16,
          84,
          5,
          5,
          99,
          99,
          26,
          37,
          9,
          88,
          87,
          78,
          67,
          59,
          1.4,
          59,
          47,
          76,
          62,
          80,
          3.8,
          56,
          72,
          25,
          79,
          98,
          68,
          91,
          44,
          96,
          61,
          19,
          8.8,
          96,
          7.7,
          10,
          2.2,
          16,
          5.7,
          29,
          24,
          4.3,
          48,
          2.3,
          13,
          7.6,
          99,
          22,
          12,
          88,
          91,
          99,
          10,
          57,
          18,
          33,
          8.2,
          46,
          63,
          0.239,
          48,
          48,
          18,
          8.3,
          54,
          30,
          8.3,
          23,
          11,
          8.4,
          82,
          5,
          17,
          37,
          45,
          40,
          7,
          3.8,
          22,
          15,
          8.5,
          0.371,
          5.2,
          13,
          92,
          2,
          5,
          1.8,
          1.7,
          24,
          23,
          5.1,
          7.9,
          7.8,
          4.2,
          18,
          3.3,
          7.7,
          3.1,
          27,
          0.22,
          26,
          3,
          28,
          11,
          6.1,
          26,
          5,
          2.1,
          6.1,
          2.2,
          14,
          2.3,
          28,
          3,
          9.7,
          3.4,
          3.9,
          9.4,
          26,
          27,
          4.4,
          26,
          3.2,
          7,
          1.4,
          1.7,
          1.5,
          39,
          6.1,
          4.3,
          8.3,
          0.73,
          2.1,
          26,
          0.756,
          3.2,
          4.1,
          20,
          3.6,
          44,
          26,
          17,
          1.1,
          2.9,
          24,
          14,
          6.9,
          12,
          0.091,
          9.4,
          1.7,
          0.293,
          35,
          3.8,
          0.017,
          0.074,
          20,
          1.1,
          4.1,
          13,
          0.014,
          8.3,
          9,
          9,
          3.3,
          28,
          19,
          59,
          1.9,
          12,
          1.8,
          30,
          18,
          29,
          26,
          12,
          12,
          17,
          18,
          26,
          17,
          12,
          0.317,
          7.5,
          66,
          30,
          35,
          26,
          15,
          27,
          39,
          9.1,
          13,
          35,
          5.1,
          6.7,
          37,
          3.9,
          4,
          7.6,
          6.6,
          32,
          2.9,
          0.078,
          1.2,
          15,
          18,
          15,
          19,
          4.1,
          5.6,
          3.5,
          6.4,
          3,
          0.924,
          11,
          4.9,
          6.1,
          0.902,
          53,
          1.3,
          4.7,
          3.1,
          11,
          3.7,
          0.266,
          19,
          2,
          4.1,
          3.4,
          13,
          46,
          3.9,
          11,
          3.5,
          11,
          17,
          17,
          11,
          64,
          10,
          35,
          12,
          2.4,
          3.7,
          6.3,
          22,
          10,
          3.7,
          4.6,
          44,
          18,
          9.7,
          2.7,
          51,
          47,
          56,
          24,
          52,
          4.9,
          1.7,
          16,
          6.5,
          27,
          36,
          5.2,
          43,
          8.6,
          2,
          14,
          15,
          12,
          45,
          3.2,
          62,
          15,
          13,
          18,
          1.7,
          15,
          2.9,
          5.9,
          4.2,
          74,
          1.7,
          47,
          6.9,
          8.7,
          0.818,
          28,
          29,
          59,
          29,
          29,
          59,
          27,
          29,
          29,
          14,
          10,
          0.081,
          28,
          9.8,
          29,
          28,
          0.318,
          5.4,
          28,
          29,
          29,
          29,
          3,
          27,
          29,
          86,
          22,
          29,
          29,
          29,
          16,
          27,
          29,
          5.7,
          5.7,
          29,
          2,
          29,
          20,
          28,
          27,
          29,
          9.1,
          29,
          29,
          35,
          5.9,
          1.2,
          39,
          27,
          3.2,
          4.2,
          31,
          3.9,
          25,
          69,
          4.3,
          9.8,
          13,
          16,
          4.2,
          99,
          2.3,
          3.6,
          26,
          3.2,
          2.8,
          8.3,
          3.8,
          3.4,
          3.5,
          1.9,
          3.3,
          7.1,
          7.9,
          1.4,
          1.8,
          7.5,
          4.3,
          2.8,
          7.9,
          3.7,
          48,
          14,
          5.7,
          0.939,
          58,
          42,
          35,
          43,
          63,
          60,
          2.8,
          3.2,
          4.2,
          32,
          22,
          7.3,
          5.3,
          50,
          7.5,
          26,
          17,
          4.2,
          31,
          7.6,
          1.7,
          0.169,
          63,
          7.7,
          0.045,
          6.6,
          14,
          22,
          3.6,
          8.4,
          25,
          0.475,
          4.3,
          35,
          3.6,
          24,
          35,
          91,
          27,
          31,
          2.7,
          32,
          27,
          67,
          8.2,
          30,
          3.9,
          1.1,
          48,
          14,
          18,
          2.9,
          4.4,
          89,
          13,
          3.8,
          15,
          15,
          25,
          34,
          6.8,
          24,
          3.4,
          24,
          5.8,
          4.9,
          16,
          46,
          33,
          43,
          56,
          2.8,
          11,
          26,
          11,
          8.8,
          6.2,
          7.6,
          4.9,
          5.1,
          4.2,
          7,
          38,
          8.7,
          2.1,
          12,
          58,
          18,
          20,
          8,
          3,
          12,
          8,
          28,
          29,
          4.7,
          40,
          14,
          16,
          9.7,
          49,
          3.7,
          27,
          3.6,
          5.3,
          2.4,
          8.5,
          6.7,
          9,
          0.266,
          27,
          67,
          22,
          11,
          68,
          40,
          15,
          23,
          4.2,
          2.9,
          85,
          1.8,
          1.1,
          22,
          8.7,
          2.6,
          4.7,
          2.9,
          22,
          0.965,
          1.8,
          2,
          2.7,
          56,
          2.7,
          2.9,
          4.9,
          20,
          12,
          3.8,
          4.2,
          1.4,
          21,
          41,
          57,
          15,
          5.1,
          31,
          28,
          39,
          34,
          31,
          76,
          40,
          46,
          8.7,
          80,
          24,
          21,
          9.7,
          12,
          57,
          81,
          6.7,
          3.8,
          5.9,
          46,
          3.3,
          48,
          33,
          42,
          99,
          4.5,
          28,
          8.1,
          21,
          56,
          25,
          26,
          99,
          25,
          99,
          43,
          17,
          80,
          44,
          12,
          100,
          69,
          90,
          88,
          64,
          39,
          54,
          56,
          14,
          75,
          13,
          8.1,
          20,
          57,
          31,
          39,
          29,
          3.6,
          3.8,
          4.6,
          0.545,
          2.1,
          0.061,
          13,
          2.8,
          9.9,
          2.5,
          5.4,
          14,
          1.3,
          2.5,
          0.283,
          2.3,
          1.6,
          25,
          5.4,
          1.5,
          5.3,
          2,
          5.4,
          41,
          5.4,
          2.4,
          5.4,
          9,
          25,
          1.2,
          45,
          5.3,
          3.2,
          73,
          11,
          5.4,
          0.655,
          5.6,
          17,
          9.5,
          7.4,
          5.4,
          2.6,
          96,
          73,
          5.4,
          35,
          48,
          37,
          17,
          35,
          2.3,
          16,
          26,
          2.9,
          0.714,
          12,
          52,
          3.2,
          49,
          28,
          12,
          17,
          37,
          2,
          82,
          37,
          48,
          54,
          46,
          51,
          48,
          55,
          25,
          33,
          100,
          70,
          9.2,
          43,
          91,
          29,
          44,
          30,
          99,
          90,
          72,
          47,
          23,
          26,
          5,
          20,
          30,
          37,
          28,
          85,
          22,
          82,
          65,
          43,
          80,
          21,
          0.093,
          90,
          67,
          32,
          2.7,
          36,
          35,
          41,
          71,
          70,
          22,
          14,
          6,
          53,
          0.872,
          1.3,
          1.6,
          56,
          3.4,
          3.1,
          20,
          6.2,
          0.121,
          95,
          9.4,
          2.5,
          93,
          70,
          1.7,
          37,
          70,
          3.3,
          16,
          19,
          22,
          68,
          34,
          46,
          92,
          45,
          50,
          9.5,
          36,
          78,
          22,
          48,
          1.5,
          40,
          6.5,
          51,
          12,
          50,
          40,
          54,
          45,
          63,
          4,
          69,
          39,
          55,
          46,
          99,
          91,
          21,
          46,
          45,
          24,
          52,
          50,
          63,
          5.8,
          23,
          23,
          26,
          8.8,
          27,
          2.1,
          12,
          5,
          23,
          8.2,
          14,
          8.5,
          47,
          12,
          17,
          3.9,
          10,
          4.1,
          15,
          3.3,
          6.7,
          11,
          4.1,
          3.7,
          4.3,
          31,
          25,
          2,
          5.8,
          3.7,
          1.7,
          12,
          14,
          78,
          6.4,
          10,
          44,
          1.5,
          85,
          9.8,
          5.7,
          3.7,
          46,
          30,
          47,
          23,
          91,
          44,
          4.8,
          9.5,
          19,
          7.3,
          1.8,
          5.7,
          7.3,
          4,
          3.7,
          26,
          5.6,
          7.3,
          49,
          8.7,
          49,
          20,
          7.3,
          0.322,
          6.3,
          3.4,
          22,
          25,
          6.3,
          82,
          8.7,
          10,
          24,
          43,
          3.7,
          13,
          3.9,
          13,
          3,
          3,
          46,
          3,
          17,
          63,
          17,
          2.9,
          2.9,
          26,
          2.7,
          24,
          4.7,
          2.7,
          1.7,
          3,
          3,
          31,
          36,
          4.3,
          63,
          8.6,
          57,
          13,
          5.6,
          1,
          23,
          1.6,
          24,
          5.9,
          44,
          30,
          76,
          0.976,
          10,
          44,
          19,
          3,
          15,
          15,
          43,
          2.6,
          0.172,
          24,
          31,
          25,
          2.3,
          33,
          9,
          7.4,
          19,
          2.3,
          42,
          3.3,
          9.1,
          2.8,
          13,
          30,
          3,
          2.2,
          14,
          0.238,
          37,
          52,
          4.4,
          28,
          32,
          3.4,
          23,
          61,
          15,
          64,
          12,
          4.4,
          3.6,
          2.9,
          10,
          7.2,
          3.8,
          0.549,
          3.9,
          2.9,
          42,
          1.1,
          9.7,
          1.7,
          13,
          55,
          6.5,
          1.9,
          5.1,
          36,
          11,
          14,
          17,
          4.3,
          4,
          4,
          3,
          1.2,
          29,
          3.4,
          5.1,
          2.7,
          97,
          19,
          100,
          73,
          100,
          18,
          18,
          44,
          5.2,
          8.9,
          34,
          30,
          1.6,
          4.4,
          3.7,
          11,
          4.7,
          33,
          13,
          14,
          3.7,
          7.3,
          37,
          13,
          13,
          8.4,
          45,
          7.9,
          4.2,
          11,
          6.2,
          3.7,
          6,
          8.8,
          22,
          30,
          11,
          4.1,
          3.4,
          13,
          39,
          5.1,
          4.7,
          5.5,
          5.3,
          2.8,
          9,
          51,
          0.206,
          0.954,
          26,
          9.4,
          2.4,
          5.8,
          20,
          17,
          35,
          17,
          2.9,
          42,
          5.1,
          16,
          4.7,
          35,
          12,
          26,
          17,
          60,
          25,
          38,
          2,
          2.5,
          9.2,
          0.444,
          15,
          12,
          4.4,
          14,
          6.7,
          3.7,
          4,
          2.2,
          33,
          5.7,
          87,
          30,
          68,
          5.9,
          19,
          40,
          49,
          52,
          63,
          24,
          6,
          17,
          4.2,
          32,
          0.717,
          4.3,
          7.2,
          5,
          1.2,
          31,
          17,
          46,
          20,
          8.3,
          5,
          22,
          3.1,
          2.2,
          2,
          12,
          5.5,
          14,
          15,
          81,
          62,
          8.9,
          3,
          13,
          11,
          3.4,
          12,
          29,
          2.6,
          1.7,
          5.4,
          30,
          31,
          14,
          37,
          4,
          6.9,
          14,
          0.21,
          13,
          18,
          13,
          38,
          3.8,
          3.2,
          3.2,
          0.609,
          1.7,
          4,
          6.5,
          14,
          2.8,
          33,
          3.3,
          3.9,
          15,
          9.5,
          7.3,
          2.4,
          3,
          3.5,
          2.4,
          13,
          5.3,
          6.9,
          2.3,
          15,
          7.2,
          13,
          7.3,
          3.3,
          7.3,
          7.3,
          2.6,
          0.308,
          4.5,
          21,
          5.3,
          2.3,
          22,
          40,
          21,
          21,
          53,
          1.2,
          53,
          11,
          27,
          6.8,
          7.4,
          3.5,
          1.7,
          4,
          8.8,
          38,
          1.7,
          6.1,
          27,
          38,
          2.8,
          6.5,
          3.6,
          53,
          3.9,
          12,
          89,
          46,
          54,
          9.2,
          24,
          41,
          0.705,
          25,
          62,
          27,
          37,
          3.7,
          4.6,
          9.9,
          9,
          29,
          2.5,
          6.3,
          58,
          4.1,
          9.6,
          3.8,
          13,
          51,
          2.7,
          82,
          5,
          83,
          2.5,
          2.5,
          6.6,
          2.5,
          3.7,
          4.6,
          80,
          11,
          2.6,
          2.5,
          24,
          12,
          10,
          0.306,
          26,
          2.8,
          8.1,
          3.2,
          3.3,
          1.6,
          5.6,
          4.5,
          11,
          2.8,
          2.8,
          2.8,
          17,
          2.9,
          19,
          4.1,
          8.4,
          5,
          3.9,
          2.8,
          2.6,
          6.1,
          2.6,
          8.9,
          9.1,
          2.9,
          2,
          2.8,
          2.8,
          9.4,
          7.8,
          8.6,
          10,
          5.1,
          7.8,
          5.9,
          1.7,
          2.3,
          2.5,
          2.8,
          4.1,
          6.2,
          20,
          4.8,
          24,
          2.4,
          13,
          1.8,
          9.8,
          29,
          11,
          6.4,
          87,
          7.8,
          86,
          2.1,
          4,
          1.9,
          2.4,
          2.9,
          21,
          8.7,
          1.7,
          5.1,
          11,
          1.3,
          9.2,
          35,
          9.2,
          4.9,
          15,
          15,
          19,
          2.2,
          2.1,
          8,
          3.5,
          16,
          63,
          10,
          7.5,
          21,
          1.8,
          11,
          18,
          3.2,
          33,
          8.4,
          31,
          22,
          3.6,
          15,
          18,
          10,
          2.5,
          16,
          15,
          4.3,
          4.6,
          18,
          8.7,
          22,
          1.1,
          4.8,
          2.6,
          5.2,
          6,
          43,
          0.904,
          20,
          28,
          20,
          16,
          8.7,
          6,
          1.8,
          3.7,
          3.2,
          16,
          7.4,
          3.3,
          3.5,
          14,
          8.9,
          32,
          14,
          3.8,
          4.7,
          9.9,
          17,
          9.1,
          10,
          27,
          25,
          33,
          30,
          28,
          7.3,
          23,
          0.201,
          2.7,
          7.7,
          21,
          3.5,
          3.3,
          31,
          12,
          8.1,
          14,
          11,
          18,
          2.9,
          0.473,
          76,
          18,
          54,
          30,
          2.1,
          48,
          92,
          15,
          30,
          2.6,
          17,
          35,
          11,
          65,
          25,
          4.8,
          4.8,
          17,
          24,
          26,
          4.8,
          0.175,
          15,
          4.9,
          8.8,
          36,
          8.7,
          23,
          5.1,
          23,
          26,
          53,
          3.2,
          23,
          1.8,
          5.4,
          8,
          5.4,
          59,
          21,
          5.1,
          55,
          3.4,
          33,
          4.7,
          1.5,
          30,
          26,
          54,
          10,
          3.6,
          5.2,
          25,
          0.35,
          51,
          5.1,
          4.6,
          39,
          13,
          31,
          19,
          3.1,
          17,
          0.383,
          2.4,
          3.2,
          2.1,
          30,
          14,
          12,
          3,
          4.8,
          2.8,
          4,
          11,
          1.8,
          3.1,
          20,
          33,
          17,
          28,
          0.454,
          3.1,
          3.2,
          6.8,
          99,
          17,
          12,
          25,
          13,
          2.1,
          5.9,
          3.7,
          4.5,
          4.1,
          11,
          3.9,
          3,
          1.4,
          11,
          12,
          30,
          25,
          52,
          6.3,
          4.7,
          25,
          62,
          6.4,
          15,
          70,
          12,
          7.1,
          47,
          23,
          10,
          40,
          53,
          8.2,
          8.5,
          33,
          34,
          23,
          2.5,
          1.8,
          1.4,
          24,
          2,
          0.421,
          1.2,
          11,
          7,
          2.1,
          16,
          10,
          28,
          5.5,
          41,
          2.7,
          93,
          40,
          3.4,
          9,
          4.3,
          2.9,
          6.9,
          1,
          1.1,
          39,
          31,
          14,
          29,
          4.2,
          5.3,
          1.7,
          6.3,
          27,
          3.1,
          2.5,
          5,
          6.3,
          7.8,
          4.8,
          9.2,
          34,
          47,
          8.1,
          2.5,
          36,
          10,
          6.2,
          10,
          4.4,
          18,
          16,
          9.9,
          22,
          1.9,
          26,
          9.3,
          28,
          10,
          11,
          2.3,
          4.4,
          8,
          10,
          3.7,
          21,
          4.6,
          45,
          4.2,
          7.6,
          8.6,
          15,
          0.07,
          17,
          0.812,
          13,
          0.442,
          2,
          0.842,
          2.4,
          0.417,
          5.6,
          0.412,
          0.459,
          34,
          0.478,
          10,
          6.2,
          0.335,
          3.8,
          0.782,
          0.721,
          0.43,
          0.429,
          0.192,
          0.2,
          13,
          2.5,
          8.9,
          0.417,
          0.46,
          5.9,
          0.728,
          0.496,
          0.816,
          6.3,
          0.414,
          0.334,
          0.506,
          2,
          2.3,
          34,
          7.5,
          60,
          60,
          7.9,
          24,
          95,
          59,
          23,
          12,
          11,
          14,
          2.2,
          30,
          8.5,
          19,
          17,
          32,
          33,
          4.2,
          33,
          96,
          4.7,
          26,
          23,
          30,
          6.4,
          28,
          49,
          16,
          51,
          2.6,
          25,
          27,
          23,
          31,
          25,
          16,
          0.704,
          7.4,
          5,
          2.6,
          45,
          23,
          8.4,
          8.3,
          7.9,
          26,
          6,
          4.8,
          4.6,
          16,
          5.7,
          5.9,
          0.335,
          2.2,
          0.887,
          0.613,
          1.5,
          12,
          26,
          13,
          3.3,
          2.9,
          10,
          3.2,
          2.5,
          1.8,
          2.7,
          7,
          12,
          9.6,
          18,
          1.9,
          29,
          9.4,
          6.7,
          1.6,
          2,
          2.5,
          7.2,
          6.3,
          4,
          1.2,
          5.6,
          3.5,
          9.2,
          1.2,
          18,
          36,
          1.2,
          8.8,
          4.1,
          2.5,
          2.7,
          33,
          28,
          6.7,
          21,
          3.5,
          6,
          22,
          27,
          3.4,
          16,
          12,
          10,
          9,
          36,
          12,
          3.6,
          30,
          19,
          13,
          33,
          14,
          0.243,
          24,
          6.6,
          44,
          89,
          3.5,
          32,
          50,
          15,
          3.1,
          30,
          34,
          13,
          2.6,
          2.5,
          7.5,
          0.569,
          26,
          5.2,
          5.4,
          9.1,
          26,
          28,
          3.8,
          92,
          0.206,
          19,
          93,
          13,
          1.8,
          10,
          3.5,
          7.5,
          68,
          0.778,
          2.1,
          9.2,
          3,
          72,
          35,
          31,
          4.1,
          13,
          60,
          85,
          1.3,
          6.9,
          5.5,
          58,
          94,
          0.683,
          0.592,
          6.4,
          3.3,
          0.319,
          24,
          36,
          0.186,
          3.5,
          0.84,
          41,
          1.5,
          36,
          0.647,
          5.3,
          19,
          2.5,
          93,
          2.8,
          5.6,
          72,
          21,
          0.191,
          22,
          67,
          0.842,
          1.1,
          6.9,
          15,
          1.1,
          6.2,
          1.4,
          52,
          8.7,
          0.373,
          3.8,
          3.8,
          3.8,
          8.2,
          0.437,
          5.7,
          1.6,
          16,
          2.6,
          6.6,
          0.598,
          2.7,
          0.716,
          14,
          12,
          46,
          13,
          1.9,
          1.2,
          4.3,
          13,
          8.4,
          7.3,
          0.585,
          3.2,
          6.5,
          2.7,
          1.4,
          17,
          3.1,
          2.4,
          1.6,
          0.982,
          26,
          19,
          2.9,
          4.5,
          0.222,
          42,
          7.9,
          0.219,
          0.055,
          0.948,
          7.3,
          0.323,
          89,
          5.2,
          15,
          19,
          7.6,
          5.6,
          18,
          24,
          10,
          11,
          29,
          4.3,
          10,
          88,
          5.3,
          5.4,
          3.1,
          6,
          26,
          6.5,
          19,
          33,
          40,
          9.2,
          28,
          21,
          20,
          4,
          26,
          26,
          33,
          25,
          44,
          19,
          27,
          1.5,
          13,
          4.8,
          1.6,
          4.9,
          3.5,
          8.7,
          7.7,
          19,
          3.4,
          2.9,
          2.4,
          2.7,
          5,
          5.9,
          2.8,
          3.4,
          12,
          20,
          4.2,
          10,
          26,
          4,
          3.6,
          98,
          5.7,
          3.6,
          96,
          2.2,
          10,
          4.8,
          2,
          62,
          9.8,
          34,
          53,
          7.3,
          2.8,
          24,
          73,
          53,
          27,
          4.4,
          17,
          1.3,
          19,
          8.8,
          1.3,
          1.8,
          4.8,
          1.8,
          0.691,
          12,
          20,
          5.1,
          7.2,
          24,
          7.4,
          53,
          1.3,
          14,
          8.8,
          1.7,
          14,
          13,
          17,
          24,
          17,
          26,
          0.511,
          1.7,
          32,
          12,
          23,
          5.5,
          9.4,
          18,
          1.8,
          0.951,
          1.9,
          2.6,
          13,
          16,
          0.963,
          8.5,
          23,
          8.2,
          3.8,
          2.4,
          1.7,
          10,
          2,
          0.025,
          4.6,
          31,
          8.2,
          0.554,
          21,
          6.9,
          21,
          11,
          34,
          4.1,
          1.9,
          3.5,
          3,
          4,
          2.2,
          18,
          3.7,
          2.4,
          9.3,
          44,
          31,
          48,
          38,
          49,
          27,
          0.351,
          8.8,
          23,
          48,
          9.7,
          0.027,
          12,
          74,
          44,
          36,
          1.4,
          25,
          44,
          36,
          0.082,
          57,
          9.8,
          24,
          47,
          37,
          6.9,
          10,
          15,
          9.4,
          49,
          24,
          7.3,
          24,
          14,
          21,
          8.8,
          4,
          18,
          18,
          13,
          13,
          24,
          25,
          43,
          4.6,
          47,
          20,
          26,
          69,
          13,
          9.2,
          19,
          34,
          13,
          34,
          24,
          3.8,
          8.3,
          25,
          53,
          24,
          5.4,
          7.7,
          11,
          5.6,
          5.4,
          17,
          4.4,
          8.2,
          98,
          29,
          2.4,
          8.5,
          3.2,
          3.8,
          33,
          53,
          6.2,
          22,
          17,
          25,
          39,
          4.6,
          13,
          36,
          13,
          8.5,
          25,
          31,
          3.7,
          8.5,
          24,
          34,
          6.9,
          45,
          12,
          33,
          35,
          25,
          48,
          1,
          7.2,
          14,
          8.9,
          0.208,
          9.4,
          8.3,
          6.9,
          12,
          5.5,
          26,
          98,
          5.2,
          7.7,
          5.3,
          0.375,
          3.7,
          2.9,
          18,
          6,
          34,
          7,
          38,
          5.4,
          1.2,
          1.2,
          7.9,
          2.3,
          2.3,
          0.323,
          1.4,
          2.5,
          12,
          15,
          3.1,
          12,
          1.5,
          9,
          3.7,
          8.7,
          19,
          7.4,
          3.3,
          0.913,
          4.9,
          7.8,
          5,
          12,
          11,
          25,
          2.6,
          7.2,
          1.8,
          2.6,
          14,
          2.2,
          1.9,
          5.6,
          0.514,
          20,
          11,
          12,
          5.6,
          3.8,
          6.4,
          3.7,
          3.4,
          8.4,
          2.9,
          2.9,
          1.8,
          3.1,
          80,
          3.3,
          15,
          36,
          8.3,
          3.1,
          9.5,
          4.8,
          6.7,
          1.5,
          9.2,
          3.4,
          13,
          5.8,
          20,
          20,
          63,
          13,
          27,
          3.8,
          16,
          2.3,
          12,
          5.6,
          37,
          22,
          1.7,
          2.6,
          7.9,
          20,
          5.7,
          16,
          1.7,
          4.2,
          4.6,
          2.7,
          7.2,
          46,
          14,
          12,
          3.7,
          1.6,
          12,
          29,
          36,
          4,
          15,
          42,
          7.8,
          4.6,
          4.3,
          2.8,
          27,
          7.3,
          23,
          20,
          5.4,
          24,
          20,
          1.4,
          3.6,
          6.3,
          21,
          14,
          25,
          16,
          55,
          22,
          3,
          2.6,
          24,
          0.551,
          4,
          5.1,
          22,
          21,
          18,
          62,
          30,
          23,
          10,
          29,
          1.9,
          0.029,
          43,
          8.3,
          19,
          0.103,
          6.2,
          8.3,
          5.5,
          11,
          17,
          2.4,
          4.6,
          3,
          21,
          2.7,
          15,
          4.7,
          3,
          1.4,
          13,
          16,
          2,
          11,
          2.9,
          40,
          14,
          9.7,
          7.8,
          3.2,
          8,
          29,
          3.1,
          3.5,
          14,
          8.7,
          8.8,
          9.7,
          3.1,
          3.2,
          8.5,
          3.5,
          7.8,
          11,
          6.3,
          19,
          5,
          16,
          3.5,
          2.3,
          3.3,
          4.1,
          4.1,
          4.1,
          7,
          2.3,
          4.1,
          1.1,
          18,
          4.1,
          1.5,
          2.3,
          3.5,
          3.7,
          4,
          1.8,
          4,
          3.8,
          10,
          1.3,
          6.6,
          4.1,
          2.5,
          4.1,
          2.5,
          2.5,
          4.3,
          7.7,
          6.8,
          3.4,
          1.4,
          3.6,
          2.3,
          14,
          99,
          4.1,
          8.7,
          2.5,
          2.9,
          4.3,
          6.1,
          14,
          15,
          6.3,
          66,
          3.4,
          76,
          7.7,
          6.5,
          14,
          25,
          1.4,
          50,
          2.5,
          2.2,
          4.6,
          15,
          13,
          8.1,
          16,
          9.6,
          10,
          3.1,
          78,
          27,
          10,
          5.8,
          3.2,
          0.898,
          3.7,
          57,
          42,
          36,
          1.2,
          46,
          30,
          3.2,
          10,
          1.8,
          31,
          6.6,
          5.1,
          3.2,
          6,
          2.5,
          9.9,
          10,
          0.172,
          5.2,
          5.1,
          6.4,
          14,
          15,
          3.3,
          6.9,
          5.1,
          20,
          10,
          6.6,
          6.1,
          3.2,
          100,
          1.4,
          2.1,
          7.2,
          91,
          2.8,
          0.743,
          14,
          14,
          43,
          6.9,
          96,
          14,
          26,
          18,
          34,
          2.8,
          92,
          11,
          15,
          4,
          3.8,
          1.3,
          13,
          67,
          99,
          0.116,
          2.2,
          24,
          43,
          5.9,
          2.4,
          67,
          67,
          13,
          8.2,
          5.2,
          9.2,
          63,
          4.2,
          16,
          10,
          18,
          12,
          78,
          38,
          9.5,
          45,
          28,
          7.7,
          9.5,
          5.2,
          38,
          3.7,
          25,
          20,
          0.153,
          5.3,
          6.3,
          38,
          13,
          6.4,
          1.9,
          6.4,
          2,
          8.6,
          24,
          10,
          39,
          60,
          40,
          15,
          0.209,
          1.5,
          2.3,
          13,
          9.4,
          3.7,
          4.2,
          22,
          13,
          8.1,
          12,
          19,
          4.9,
          9.7,
          3.6,
          2.5,
          2.5,
          18,
          35,
          6.3,
          1.3,
          24,
          3.4,
          3.4,
          3.4,
          3.4,
          17,
          2.2,
          5,
          4.6,
          9,
          1.3,
          24,
          3.2,
          97,
          0.353,
          3.2,
          2.4,
          8.4,
          12,
          3.4,
          3.4,
          7.3,
          4.2,
          58,
          6.8,
          0.499,
          3.2,
          3.3,
          3.7,
          25,
          12,
          1.3,
          40,
          5.2,
          17,
          0.173,
          5.1,
          5.8,
          1.2,
          5.8,
          1.8,
          1.9,
          3.6,
          2.5,
          2.1,
          1.1,
          17,
          2.1,
          2.8,
          5.5,
          41,
          14,
          0.597,
          2.7,
          3.2,
          0.809,
          2.2,
          8.2,
          2.8,
          4,
          1.8,
          0.07,
          2.3,
          1.3,
          0.122,
          4.1,
          11,
          4.2,
          8.2,
          0.411,
          2.3,
          5.7,
          2.7,
          1.9,
          19,
          2.3,
          49,
          28,
          41,
          25,
          25,
          38,
          28,
          55,
          58,
          27,
          25,
          31,
          94,
          25,
          21,
          45,
          45,
          24,
          83,
          88,
          51,
          63,
          21,
          7.2,
          51,
          98,
          27,
          9.3,
          87,
          55,
          26,
          62,
          22,
          40,
          5.5,
          18,
          74,
          16,
          64,
          16,
          25,
          12,
          18,
          4.5,
          77,
          85,
          85,
          26,
          2,
          3.9,
          11,
          18,
          8.7,
          3.9,
          4,
          53,
          4.9,
          52,
          23,
          13,
          30,
          18,
          4.1,
          13,
          20,
          21,
          12,
          18,
          41,
          12,
          14,
          6,
          17,
          0.4,
          42,
          54,
          11,
          37,
          13,
          6.5,
          16,
          19,
          3.3,
          35,
          6.3,
          12,
          5,
          43,
          2.9,
          4.1,
          8.5,
          7,
          19,
          16,
          14,
          0.801,
          5.6,
          36,
          3.2,
          7,
          2.9,
          35,
          21,
          5.8,
          4.7,
          20,
          3.9,
          12,
          7.8,
          24,
          12,
          4.9,
          3.3,
          5.4,
          2.4,
          27,
          22,
          1.2,
          2.5,
          14,
          6.8,
          1.2,
          0.787,
          4.9,
          5.3,
          6.5,
          69,
          14,
          3.4,
          50,
          8.1,
          1.7,
          18,
          18,
          36,
          8.1,
          5.1,
          1.6,
          61,
          4.1,
          10,
          0.237,
          3.4,
          18,
          3.5,
          3.4,
          9.1,
          15,
          14,
          3.8,
          10,
          26,
          3.3,
          15,
          19,
          3.7,
          2.1,
          11,
          43,
          6.9,
          40,
          36,
          1.5,
          37,
          22,
          3.3,
          2.6,
          34,
          2.9,
          12,
          3.7,
          17,
          23,
          17,
          5,
          18,
          33,
          26,
          32,
          38,
          21,
          41,
          1.7,
          4.3,
          9.9,
          5.9,
          2.7,
          12,
          16,
          19,
          2.8,
          3.6,
          37,
          4.3,
          1.7,
          3.1,
          30,
          5.2,
          2.8,
          18,
          3.4,
          41,
          13,
          6.7,
          9.8,
          14,
          26,
          22,
          8.7,
          88,
          18,
          18,
          1.3,
          4.5,
          7.8,
          23,
          0.05,
          70,
          47,
          42,
          3.7,
          39,
          22,
          22,
          12,
          14,
          4.3,
          8.5,
          6.7,
          7.5,
          88,
          1.1,
          8.3,
          5.7,
          0.643,
          44,
          11,
          28,
          40,
          9.1,
          2.1,
          32,
          7.8,
          2.4,
          53,
          6,
          25,
          3.3,
          34,
          3.6,
          6.2,
          68,
          19,
          3.6,
          17,
          31,
          18,
          6,
          29,
          77,
          42,
          14,
          29,
          5.7,
          36,
          8.9,
          5.1,
          19,
          4.3,
          62,
          29,
          7.8,
          20,
          0.986,
          18,
          14,
          9.3,
          17,
          1.4,
          16,
          4,
          8.3,
          9.6,
          11,
          20,
          14,
          17,
          15,
          13,
          11,
          46,
          11,
          1.6,
          28,
          11,
          4.9,
          8.6,
          23,
          24,
          1.6,
          8.4,
          0.097,
          20,
          44,
          88,
          4.8,
          32,
          25,
          27,
          7.3,
          14,
          15,
          16,
          25,
          14,
          2.9,
          18,
          35,
          25,
          14,
          6.5,
          5.5,
          28,
          17,
          7.3,
          24,
          2.1,
          24,
          2.8,
          7.2,
          8.6,
          2.3,
          12,
          70,
          34,
          2.6,
          35,
          24,
          88,
          7,
          3.9,
          3.8,
          26,
          5,
          4.7,
          5.6,
          5.3,
          2.2,
          26,
          5.6,
          26,
          8.6,
          21,
          4.8,
          15,
          20,
          20,
          5.5,
          5.7,
          11,
          4.7,
          4.1,
          6.9,
          12,
          5.9,
          2.2,
          7.1,
          7.9,
          25,
          26,
          4.9,
          25,
          8.3,
          6,
          3,
          19,
          4.1,
          6,
          4.6,
          26,
          4.4,
          10,
          5,
          16,
          22,
          8.1,
          21,
          13,
          4.8,
          6.1,
          4.3,
          6.2,
          3.5,
          2.4,
          38,
          9.5,
          0.516,
          0.837,
          2,
          17,
          6.8,
          1.1,
          0.78,
          3.7,
          0.961,
          2.6,
          4.8,
          7.8,
          22,
          1.5,
          9.6,
          2.4,
          55,
          0.269,
          3.7,
          21,
          96,
          1.1,
          0.02,
          12,
          0.498,
          13,
          4.2,
          11,
          0.6,
          18,
          3,
          14,
          72,
          54,
          12,
          37,
          6.5,
          6.6,
          50,
          4.3,
          7.6,
          5.5,
          94,
          35,
          55,
          11,
          12,
          21,
          27,
          5.3,
          30,
          10,
          11,
          9.8,
          68,
          3.8,
          33,
          24,
          35,
          20,
          3.4,
          2.5,
          32,
          5.8,
          18,
          20,
          32,
          6.9,
          12,
          17,
          0.592,
          50,
          19,
          55,
          1,
          2,
          7.5,
          16,
          10,
          1.1,
          81,
          15,
          13,
          20,
          7.1,
          4.5,
          1.3,
          10,
          29,
          0.749,
          20,
          8.1,
          3.8,
          1.6,
          6.1,
          4.9,
          20,
          15,
          9.3,
          12,
          3.9,
          61,
          5.8,
          5,
          4.4,
          0.642,
          9.4,
          3.3,
          6.4,
          4,
          46,
          12,
          30,
          1.4,
          15,
          1.8,
          19,
          12,
          21,
          25,
          3.4,
          8.7,
          19,
          9.8,
          18,
          18,
          15,
          17,
          43,
          9.3,
          11,
          2,
          2.2,
          4.4,
          5.4,
          12,
          1.4,
          17,
          0.881,
          3.3,
          17,
          13,
          7.3,
          23,
          12,
          0.072,
          2.2,
          3.5,
          18,
          8.6,
          4.8,
          7.3,
          13,
          5.3,
          6.2,
          0.656,
          5,
          0.601,
          8.3,
          73,
          7.4,
          22,
          26,
          14,
          7.3,
          3.1,
          11,
          12,
          13,
          33,
          49,
          31,
          34,
          44,
          11,
          55,
          59,
          60,
          25,
          56,
          20,
          2.3,
          0.221,
          1.5,
          48,
          31,
          7.5,
          0.228,
          2.6,
          2.3,
          2.8,
          16,
          2.2,
          4.5,
          33,
          72,
          3.3,
          6.6,
          5.2,
          8,
          0.108,
          3.5,
          11,
          10,
          9.4,
          10,
          0.94,
          8.7,
          6.3,
          4.1,
          37,
          3.2,
          11,
          2.6,
          3,
          14,
          47,
          2.5,
          2.3,
          49,
          44,
          3,
          2.3,
          15,
          10,
          7.6,
          59,
          36,
          32,
          9.5,
          95,
          5.8,
          35,
          63,
          9.7,
          91,
          63,
          3.1,
          88,
          12,
          92,
          4.1,
          23,
          7.2,
          6.4,
          3.4,
          91,
          6.1,
          22,
          6.9,
          91,
          72,
          10,
          2.2,
          8.5,
          12,
          21,
          11,
          2.3,
          16,
          32,
          17,
          1.3,
          18,
          10,
          1.2,
          8.7,
          42,
          38,
          5.3,
          5.8,
          96,
          21,
          10,
          80,
          6.1,
          1.5,
          31,
          26,
          20,
          2.9,
          38,
          36,
          14,
          0.176,
          44,
          82,
          3.3,
          18,
          8.3,
          0.033,
          14,
          8.3,
          9.9,
          8,
          1.5,
          3.6,
          15,
          6.7,
          0.663,
          1.4,
          20,
          6,
          14,
          1.5,
          2.3,
          27,
          76,
          15,
          32,
          6.3,
          24,
          1.4,
          36,
          15,
          3,
          14,
          10,
          15,
          5.2,
          2.9,
          3.3,
          5.7,
          36,
          5.7,
          2.9,
          3.3,
          4.5,
          1.6,
          2.8,
          1.1,
          4.1,
          1.1,
          6.8,
          28,
          32,
          12,
          22,
          1.4,
          1.2,
          20,
          7.6,
          2.9,
          2.5,
          11,
          34,
          21,
          4.5,
          22,
          0.034,
          14,
          12,
          1.3,
          3.1,
          11,
          5.9,
          3,
          12,
          1.1,
          26,
          4.5,
          5.9,
          5.7,
          37,
          77,
          43,
          20,
          8,
          17,
          10,
          34,
          81,
          35,
          100,
          48,
          59,
          14,
          10,
          16,
          24,
          2.3,
          4.1,
          28,
          27,
          27,
          6.7,
          23,
          4.9,
          85,
          41,
          14,
          94,
          45,
          0.942,
          26,
          99,
          5.9,
          36,
          52,
          63,
          26,
          35,
          5.4,
          53,
          4,
          51,
          20,
          39,
          5,
          5.7,
          29,
          87,
          7.1,
          61,
          30,
          52,
          44,
          4.6,
          90,
          91,
          30,
          20,
          28,
          16,
          16,
          7.9,
          57,
          16,
          25,
          34,
          29,
          87,
          38,
          18,
          19,
          70,
          3.3,
          14,
          66,
          4.3,
          48,
          31,
          3.3,
          25,
          11,
          17,
          16,
          3.5,
          33,
          6.4,
          3.9,
          1.5,
          6.6,
          23,
          2.4,
          35,
          1.1,
          11,
          13,
          34,
          7.1,
          4.2,
          17,
          3,
          5.3,
          30,
          3.3,
          2.5,
          2,
          6.3,
          2.3,
          7.2,
          2.2,
          6.2,
          1.7,
          10,
          3.2,
          30,
          11,
          2.4,
          1.7,
          3.3,
          13,
          3.2,
          7.9,
          5.2,
          22,
          1.6,
          9.4,
          5.4,
          1.1,
          3.3,
          5.5,
          4.2,
          10,
          5,
          2.9,
          30,
          5.4,
          3.7,
          2.9,
          3,
          4.2,
          11,
          3,
          6.3,
          20,
          97,
          0.259,
          4.9,
          11,
          36,
          0.164,
          3,
          16,
          0.458,
          0.245,
          5.2,
          5.7,
          3.3,
          27,
          10,
          7.8,
          8.5,
          5.9,
          0.629,
          1.7,
          92,
          21,
          1.2,
          33,
          35,
          2.4,
          11,
          23,
          4,
          17,
          4.1,
          0.028,
          1.8,
          3.4,
          32,
          0.288,
          4.2,
          17,
          18,
          37,
          15,
          3.8,
          21,
          4.2,
          28,
          2.3,
          0.775,
          10,
          5.9,
          33,
          7.5,
          19,
          3.8,
          4,
          62,
          7.6,
          27,
          2.1,
          15,
          3.4,
          30,
          18,
          5.3,
          31,
          50,
          22,
          2.6,
          86,
          71,
          32,
          9.2,
          16,
          4.2,
          3.5,
          60,
          5.9,
          78,
          12,
          4.9,
          3,
          6.3,
          8.4,
          4,
          1.9,
          0.201,
          5,
          4,
          30,
          9,
          8.5,
          13,
          3.4,
          20,
          4.4,
          8.3,
          19,
          6.4,
          2.4,
          5.3,
          5.2,
          70,
          41,
          1.9,
          39,
          5.8,
          11,
          6.9,
          15,
          4.7,
          8.2,
          18,
          4.4,
          15,
          9.4,
          3,
          12,
          3.4,
          5.1,
          2,
          3.2,
          5.2,
          11,
          14,
          7.7,
          12,
          3.8,
          8.1,
          5.4,
          5.7,
          10,
          8.7,
          3.8,
          5.6,
          3.8,
          4.1,
          11,
          5.7,
          3.8,
          9.1,
          2.5,
          6.7,
          11,
          7.7,
          7,
          43,
          13,
          20,
          59,
          3.9,
          27,
          16,
          63,
          12,
          30,
          44,
          43,
          17,
          42,
          6.3,
          2.6,
          20,
          16,
          13,
          6.3,
          2.7,
          56,
          1.1,
          26,
          56,
          0.785,
          25,
          4.7,
          6,
          4.9,
          18,
          66,
          41,
          96,
          76,
          4.2,
          36,
          3.9,
          24,
          35,
          23,
          13,
          19,
          7.6,
          96,
          35,
          81,
          95,
          10,
          21,
          4.7,
          27,
          25,
          3.4,
          33,
          5.7,
          3.1,
          4.3,
          4.5,
          46,
          33,
          58,
          9.3,
          6.2,
          6.7,
          41,
          6,
          9.5,
          60,
          31,
          36,
          4.3,
          1.5,
          68,
          1.2,
          12,
          22,
          45,
          62,
          80,
          34,
          3.5,
          67,
          58,
          5.1,
          5.5,
          12,
          19,
          19,
          8.8,
          11,
          12,
          32,
          22,
          38,
          60,
          35,
          15,
          43,
          4.4,
          2.1,
          23,
          2.3,
          0.636,
          4.2,
          4.6,
          7.9,
          1.4,
          21,
          0.916,
          28,
          1.6,
          84,
          6.6,
          12,
          14,
          38,
          5,
          2.9,
          1.4,
          8.4,
          3,
          2.6,
          3.7,
          100,
          5.8,
          28,
          4.5,
          8.9,
          3.1,
          22,
          9.9,
          49,
          1.6,
          8.9,
          22,
          23,
          94,
          6.3,
          1.1,
          95,
          21,
          9.5,
          24,
          1.5,
          24,
          7.9,
          5.3,
          1.2,
          12,
          5.7,
          13,
          24,
          54,
          3.9,
          51,
          49,
          1.3,
          0.994,
          3.6,
          4.1,
          66,
          32,
          2.9,
          8.9,
          47,
          2.1,
          12,
          7.8,
          15,
          25,
          14,
          10,
          8.9,
          4.8,
          3.2,
          4.7,
          2,
          14,
          4.7,
          22,
          14,
          4.3,
          5.2,
          0.309,
          8.7,
          0.485,
          2.5,
          9.2,
          39,
          96,
          6.9,
          9.8,
          16,
          6.2,
          0.914,
          8.2,
          13,
          48,
          2.8,
          31,
          1.3,
          29,
          17,
          19,
          2.6,
          71,
          2.6,
          14,
          44,
          5.1,
          11,
          13,
          2.6,
          65,
          8.7,
          0.903,
          25,
          4,
          1.7,
          2.4,
          8.5,
          26,
          2,
          2.5,
          18,
          2.9,
          1.3,
          1.7,
          2.7,
          0.608,
          22,
          4.2,
          41,
          65,
          16,
          15,
          9.3,
          4.2,
          5.1,
          8.9,
          24,
          4,
          31,
          9.5,
          8.2,
          17,
          1.8,
          30,
          31,
          8.5,
          6.3,
          10,
          4.8,
          6,
          5.8,
          6.3,
          79,
          6.3,
          2.4,
          5,
          2,
          4.4,
          8,
          39,
          3.5,
          3.9,
          9.8,
          5.9,
          15,
          6.3,
          3,
          2.2,
          4.2,
          16,
          1.5,
          0.5,
          3.4,
          3.3,
          13,
          2.5,
          10,
          3,
          0.054,
          4.8,
          2.9,
          3,
          40,
          11,
          6.6,
          16,
          1.6,
          48,
          4.6,
          2.8,
          23,
          26,
          2.5,
          24,
          56,
          4,
          2.5,
          40,
          73,
          31,
          45,
          42,
          39,
          48,
          7.2,
          10,
          14,
          11,
          21,
          32,
          47,
          2.1,
          16,
          33,
          3.4,
          17,
          1.6,
          42,
          11,
          48,
          40,
          20,
          60,
          2.6,
          22,
          3.2,
          5.3,
          22,
          10,
          43,
          4.8,
          20,
          1.9,
          3.3,
          1.2,
          54,
          26,
          67,
          6.4,
          50,
          2.5,
          1.3,
          21,
          7.4,
          30,
          3.9,
          9.8,
          4.5,
          9.8,
          3.2,
          47,
          6,
          2.5,
          2.3,
          14,
          7,
          0.562,
          14,
          4.7,
          4.5,
          10,
          3,
          18,
          32,
          0.847,
          2.8,
          9.9,
          17,
          2.5,
          3.4,
          6.8,
          0.957,
          29,
          3.6,
          28,
          3.1,
          2.5,
          1.6,
          23,
          15,
          6.1,
          10,
          2.4,
          4.6,
          3.3,
          10,
          3.8,
          3.1,
          33,
          6.2,
          2.1,
          18,
          37,
          58,
          22,
          71,
          63,
          49,
          15,
          67,
          45,
          29,
          57,
          43,
          12,
          96,
          26,
          79,
          98,
          19,
          28,
          50,
          39,
          30,
          99,
          58,
          92,
          43,
          100,
          72,
          37,
          3.1,
          33,
          3.3,
          5.6,
          16,
          5.4,
          11,
          30,
          31,
          3.3,
          30,
          6.1,
          5.2,
          18,
          16,
          25,
          2.3,
          13,
          8.8,
          15,
          2.4,
          70,
          3.9,
          3.9,
          9,
          21,
          7.3,
          1.8,
          1.4,
          0.948,
          5,
          2.2,
          0.688,
          2.2,
          2.5,
          7.3,
          90,
          3.1,
          0.811,
          4,
          4.1,
          2.8,
          16,
          4.3,
          3.8,
          0.27,
          3.7,
          3,
          2.3,
          3.8,
          2.7,
          2.2,
          28,
          1.5,
          5.5,
          4,
          0.048,
          7.7,
          26,
          8.6,
          4.3,
          17,
          3.8,
          15,
          3.4,
          5,
          2.3,
          1.6,
          2.7,
          8.1,
          3.8,
          6.3,
          7.4,
          12,
          7.9,
          5.4,
          4,
          3.1,
          5.5,
          8.4,
          3.9,
          0.329,
          3,
          4.2,
          3.8,
          5.3,
          6,
          4.3,
          30,
          4.6,
          17,
          14,
          39,
          13,
          35,
          6.9,
          14,
          23,
          15,
          11,
          14,
          14,
          17,
          17,
          9.8,
          15,
          4.4,
          43,
          19,
          36,
          9.4,
          29,
          10,
          23,
          10,
          33,
          20,
          33,
          14,
          2.3,
          54,
          2.5,
          4.3,
          11,
          15,
          1.6,
          2,
          31,
          3.6,
          3.7,
          14,
          6.6,
          5.1,
          4.6,
          5.3,
          6.8,
          53,
          7.5,
          23,
          1.5,
          2.4,
          25,
          30,
          13,
          6.5,
          4.4,
          23,
          5,
          16,
          7.4,
          1.1,
          1.1,
          38,
          0.523,
          0.118,
          18,
          16,
          61,
          56,
          3.1,
          12,
          6,
          4,
          30,
          17,
          51,
          31,
          42,
          99,
          6.4,
          22,
          63,
          11,
          99,
          21,
          14,
          46,
          18,
          61,
          99,
          31,
          26,
          26,
          7,
          3.3,
          3.9,
          8.7,
          62,
          3.5,
          6.4,
          0.921,
          7.1,
          0.874,
          2.3,
          55,
          41,
          52,
          32,
          13,
          44,
          3.4,
          94,
          23,
          48,
          26,
          19,
          44,
          33,
          35,
          65,
          9.2,
          23,
          48,
          37,
          20,
          4.8,
          5.7,
          29,
          42,
          48,
          3.7,
          61,
          66,
          82,
          1.6,
          1.8,
          85,
          0.981,
          12,
          4.5,
          14,
          15,
          3.8,
          0.784,
          7.7,
          13,
          1.5,
          13,
          7.1,
          3.2,
          21,
          23,
          27,
          19,
          45,
          15,
          13,
          33,
          2.1,
          16,
          3.3,
          20,
          5.2,
          8.7,
          99,
          77,
          3.8,
          6,
          5,
          55,
          5.3,
          37,
          2.3,
          12,
          50,
          0.28,
          31,
          19,
          69,
          25,
          38,
          26,
          13,
          6.8,
          4.1,
          48,
          68,
          45,
          9.3,
          44,
          41,
          65,
          4.4,
          46,
          23,
          30,
          28,
          47,
          59,
          1.6,
          14,
          43,
          4.1,
          3.8,
          47,
          24,
          31,
          2.7,
          7.3,
          59,
          48,
          1.3,
          12,
          5,
          6.6,
          55,
          2.8,
          10,
          30,
          3.7,
          18,
          7.4,
          17,
          1.3,
          3.7,
          26,
          5,
          3.3,
          3.9,
          29,
          5.6,
          3,
          1.8,
          5.8,
          5.7,
          2.6,
          38,
          6.2,
          11,
          1.5,
          62,
          4,
          3.1,
          56,
          30,
          1.9,
          2,
          4.5,
          4.3,
          9.9,
          2,
          2.3,
          29,
          99,
          5.1,
          2.7,
          64,
          49,
          79,
          47,
          25,
          49,
          36,
          22,
          7,
          60,
          13,
          3.2,
          31,
          50,
          60,
          16,
          25,
          3.6,
          3.5,
          12,
          33,
          24,
          4.1,
          49,
          3.2,
          73,
          22,
          4.4,
          32,
          63,
          15,
          16,
          6.4,
          25,
          52,
          21,
          2.3,
          15,
          6.8,
          40,
          88,
          59,
          0.024,
          46,
          39,
          6.9,
          14,
          52,
          14,
          37,
          24,
          28,
          4.4,
          52,
          51,
          76,
          4.4,
          26,
          67,
          46,
          78,
          33,
          26,
          60,
          3,
          90,
          28,
          60,
          40,
          25,
          41,
          13,
          42,
          35,
          18,
          53,
          31,
          4.3,
          11,
          8.5,
          21,
          43,
          10,
          3.4,
          15,
          7.1,
          11,
          1.5,
          21,
          34,
          11,
          8.9,
          19,
          4.2,
          1.1,
          11,
          14,
          30,
          24,
          0.518,
          6.3,
          41,
          18,
          5.2,
          6.7,
          3.1,
          2,
          36,
          60,
          74,
          11,
          92,
          83,
          54,
          42,
          23,
          31,
          98,
          69,
          0.754,
          37,
          20,
          77,
          73,
          33,
          2.7,
          57,
          83,
          73,
          44,
          2.8,
          13,
          2.1,
          28,
          2.3,
          0.892,
          70,
          2.3,
          20,
          8.8,
          24,
          21,
          15,
          0.154,
          21,
          4.8,
          20,
          31,
          16,
          12,
          27,
          6.3,
          11,
          2,
          1.5,
          20,
          39,
          3.2,
          27,
          7.2,
          23,
          47,
          31,
          21,
          34,
          5.3,
          37,
          5.7,
          10,
          52,
          69,
          56,
          53,
          62,
          76,
          71,
          72,
          28,
          2.8,
          51,
          28,
          40,
          27,
          37,
          46,
          50,
          49,
          58,
          41,
          73,
          33,
          46,
          19,
          32,
          30,
          92,
          55,
          45,
          47,
          85,
          48,
          77,
          30,
          28,
          35,
          5.8,
          39,
          25,
          32,
          8.9,
          84,
          60,
          5.3,
          39,
          20,
          20,
          17,
          0.018,
          42,
          29,
          6.6,
          3.2,
          0.033,
          4.4,
          3.4,
          0.86,
          1.2,
          1.7,
          2.8,
          0.364,
          2.2,
          1.9,
          1.7,
          3,
          0.387,
          2.7,
          2,
          5,
          0.375,
          11,
          0.626,
          11,
          2.9,
          6.5,
          2,
          4.2,
          6.7,
          9.2,
          4.7,
          15,
          0.161,
          24,
          1.7,
          2.7,
          5.9,
          9.2,
          13,
          9.2,
          6.3,
          3.8,
          4.2,
          5.7,
          18,
          9.9,
          12,
          5.3,
          9.9,
          63,
          13,
          31,
          35,
          61,
          62,
          93,
          93,
          0.079,
          5,
          33,
          8.7,
          61,
          6.1,
          26,
          37,
          19,
          2.3,
          4.4,
          32,
          0.879,
          5.3,
          17,
          4.2,
          5.3,
          3.4,
          12,
          1.8,
          12,
          2.5,
          3.9,
          2,
          7.2,
          13,
          20,
          16,
          22,
          3.5,
          2.3,
          65,
          21,
          21,
          20,
          12,
          2,
          2.7,
          13,
          7,
          9.4,
          11,
          1.2,
          18,
          7.5,
          2.6,
          12,
          3.1,
          0.039,
          4.3,
          45,
          15,
          2.5,
          5.4,
          5.2,
          1.5,
          0.97,
          1.4,
          2,
          34,
          2.1,
          9.7,
          2.2,
          1.6,
          10,
          42,
          13,
          2.7,
          8.7,
          32,
          10,
          67,
          17,
          40,
          21,
          15,
          12,
          9.7,
          31,
          4,
          8.6,
          25,
          26,
          6.4,
          88,
          5.8,
          41,
          2.5,
          6.6,
          24,
          9.8,
          32,
          72,
          19,
          8.1,
          6.2,
          8.4,
          19,
          8.5,
          43,
          23,
          48,
          20,
          5.2,
          3.9,
          52,
          1.3,
          25,
          11,
          16,
          1,
          61,
          15,
          54,
          19,
          19,
          33,
          64,
          72,
          45,
          27,
          69,
          4.9,
          4.4,
          8.6,
          13,
          8.7,
          12,
          29,
          5.8,
          36,
          17,
          17,
          1.9,
          12,
          7.1,
          96,
          21,
          6.5,
          62,
          82,
          69,
          22,
          34,
          63,
          14,
          1.8,
          95,
          30,
          16,
          4.3,
          67,
          12,
          8.5,
          48,
          62,
          95,
          5.2,
          23,
          2.8,
          13,
          1.1,
          4.6,
          0.17,
          1.1,
          1,
          11,
          0.141,
          0.16,
          86,
          0.144,
          0.141,
          0.143,
          6.3,
          17,
          7.9,
          0.19,
          6,
          3.5,
          26,
          93,
          21,
          2.3,
          64,
          8.1,
          0.376,
          13,
          8,
          29,
          42,
          19,
          0.017,
          2.5,
          3.6,
          3.9,
          54,
          6.8,
          38,
          44,
          30,
          8.4,
          27,
          10,
          15,
          27,
          5.1,
          3.4,
          10,
          19,
          54,
          3.1,
          2.7,
          1.7,
          8.4,
          1.2,
          19,
          12,
          44,
          26,
          99,
          19,
          18,
          3.3,
          30,
          24,
          4.5,
          15,
          10,
          18,
          13,
          4.5,
          3.3,
          21,
          10,
          36,
          33,
          4.3,
          9.6,
          0.656,
          61,
          14,
          5.4,
          1.3,
          2.8,
          47,
          7.6,
          4.6,
          10,
          4.6,
          13,
          1.2,
          2.9,
          10,
          4.8,
          36,
          3.5,
          50,
          0.051,
          11,
          29,
          46,
          46,
          1.4,
          1.2,
          0.228,
          9.8,
          39,
          0.193,
          12,
          0.192,
          57,
          2.1,
          3.9,
          11,
          2.3,
          8.5,
          1.4,
          0.473,
          2.4,
          3.9,
          68,
          1.6,
          1.8,
          4,
          1.5,
          26,
          3,
          71,
          0.246,
          3.6,
          1.3,
          24,
          68,
          1.3,
          44,
          7,
          5.4,
          7.6,
          14,
          71,
          2.6,
          10,
          48,
          25,
          6.3,
          96,
          10,
          47,
          3.2,
          5.8,
          23,
          1.1,
          4.6,
          6.3,
          4.3,
          4.8,
          4.2,
          3.6,
          4,
          3.9,
          8.7,
          9.9,
          5.1,
          1.8,
          1.5,
          7,
          18,
          3.4,
          3.3,
          1.5,
          5.1,
          10,
          1.6,
          3.2,
          3,
          10,
          2.8,
          2.5,
          1.3,
          11,
          15,
          3.1,
          2.8,
          3.7,
          6.1,
          4.5,
          30,
          6.2,
          20,
          38,
          20,
          3.1,
          6.4,
          71,
          11,
          11,
          2.6,
          33,
          21,
          41,
          12,
          21,
          2.8,
          3.6,
          14,
          29,
          76,
          5.7,
          17,
          28,
          4.6,
          19,
          3.1,
          79,
          36,
          17,
          7.8,
          89,
          49,
          12,
          3,
          57,
          16,
          13,
          5.9,
          40,
          14,
          0.073,
          3.5,
          17,
          7.9,
          19,
          30,
          12,
          42,
          7.4,
          9.1,
          7.5,
          4.8,
          7.4,
          4.9,
          9.1,
          4.2,
          2.7,
          75,
          3.9,
          2.3,
          35,
          3.5,
          9.1,
          1.5,
          26,
          7.4,
          2.1,
          4.7,
          3.4,
          4.2,
          4.6,
          7.1,
          21,
          2.7,
          4.4,
          14,
          17,
          9,
          4.5,
          21,
          15,
          21,
          8,
          11,
          53,
          21,
          2.9,
          20,
          2.9,
          20,
          47,
          12,
          12,
          17,
          10,
          26,
          9.2,
          9.8,
          17,
          0.658,
          30,
          1.8,
          97,
          2.9,
          15,
          5.3,
          8.3,
          20,
          3,
          5.6,
          7.9,
          22,
          5,
          11,
          15,
          7.5,
          4.1,
          13,
          12,
          60,
          25,
          4.6,
          1.7,
          6.5,
          36,
          17,
          6.5,
          39,
          46,
          52,
          7.7,
          30,
          17,
          39,
          30,
          12,
          45,
          29,
          48,
          50,
          66,
          27,
          51,
          69,
          21,
          14,
          19,
          61,
          28,
          49,
          94,
          23,
          94,
          2.5,
          13,
          34,
          33,
          16,
          0.992,
          18,
          8.1,
          15,
          8.2,
          8.1,
          27,
          4.1,
          20,
          6,
          17,
          4.7,
          14,
          5.8,
          9.9,
          9.9,
          49,
          14,
          7.6,
          7.8,
          46,
          29,
          3.6,
          49,
          29,
          8.2,
          54,
          18,
          56,
          26,
          3.3,
          40,
          14,
          24,
          37,
          22,
          16,
          2,
          3.5,
          8.5,
          0.253,
          0.957,
          0.42,
          13,
          2.4,
          3.4,
          5.1,
          9.7,
          0.072,
          2.4,
          35,
          3.9,
          0.026,
          0.029,
          5.8,
          2.8,
          5.8,
          2.1,
          1.4,
          3.9,
          7.5,
          58,
          4,
          0.404,
          4.1,
          14,
          2.6,
          7.6,
          11,
          8,
          2.3,
          49,
          43,
          10,
          16,
          24,
          6.2,
          27,
          46,
          2.4,
          36,
          17,
          8,
          37,
          33,
          15,
          15,
          13,
          11,
          25,
          16,
          15,
          15,
          43,
          43,
          36,
          23,
          99,
          46,
          20,
          45,
          2.9,
          21,
          35,
          41,
          2.2,
          2.5,
          35,
          1.5,
          54,
          44,
          27,
          8.5,
          22,
          26,
          63,
          20,
          26,
          3.5,
          26,
          10,
          5.5,
          26,
          26,
          26,
          26,
          26,
          26,
          26,
          2.4,
          26,
          26,
          26,
          26,
          26,
          26,
          13,
          26,
          25,
          26,
          26,
          15,
          18,
          21,
          26,
          17,
          26,
          12,
          26,
          26,
          26,
          26,
          26,
          2.6,
          27,
          15,
          26,
          17,
          45,
          24,
          11,
          3.1,
          30,
          3.2,
          5.6,
          7.1,
          7.1,
          31,
          34,
          9.2,
          36,
          15,
          2,
          6.1,
          22,
          4.4,
          86,
          13,
          12,
          41,
          8.2,
          8,
          15,
          0.47,
          5.3,
          9.4,
          2.2,
          43,
          0.226,
          20,
          21,
          37,
          26,
          3.4,
          22,
          7.8,
          3.4,
          28,
          7.8,
          2.6,
          3.9,
          7.6,
          8.1,
          9.5,
          1.8,
          16,
          3.2,
          45,
          14,
          12,
          49,
          13,
          9.9,
          3.9,
          7.6,
          28,
          12,
          69,
          34,
          9.2,
          5.4,
          8.7,
          18,
          5.7,
          12,
          15,
          1.6,
          38,
          11,
          14,
          30,
          13,
          19,
          10,
          45,
          5.3,
          19,
          7,
          5.6,
          11,
          12,
          9.2,
          11,
          13,
          3.3,
          14,
          8.8,
          7.3,
          14,
          8.5,
          3.3,
          9,
          0.24,
          8.2,
          7.9,
          1.6,
          34,
          2.1,
          59,
          5.2,
          0.089,
          3.6,
          0.234,
          0.257,
          9.8,
          36,
          20,
          28,
          3.2,
          50,
          41,
          0.364,
          3.1,
          0.861,
          1.6,
          15,
          17,
          16,
          15,
          11,
          16,
          15,
          19,
          16,
          2.8,
          1.3,
          21,
          18,
          5.2,
          2,
          9.7,
          17,
          4.3,
          54,
          7.2,
          1.4,
          11,
          49,
          15,
          25,
          4,
          16,
          11,
          40,
          3.7,
          24,
          16,
          8.1,
          6.3,
          60,
          46,
          0.467,
          1.4,
          22,
          0.157,
          2.6,
          44,
          11,
          39,
          4.4,
          1.7,
          7.9,
          1.2,
          2,
          5.8,
          61,
          3.8,
          3.3,
          29,
          3.3,
          0.044,
          26,
          12,
          3.3,
          0.676,
          2.5,
          72,
          4.3,
          0.067,
          2.4,
          8,
          11,
          0.552,
          0.885,
          7,
          16,
          24,
          12,
          41,
          2.4,
          3.9,
          8.9,
          36,
          9,
          24,
          2.2,
          38,
          75,
          50,
          44,
          11,
          72,
          84,
          9.5,
          2.8,
          48,
          20,
          48,
          20,
          38,
          16,
          78,
          5.7,
          4,
          7.8,
          46,
          1.02,
          6.8,
          12,
          19,
          28,
          81,
          17,
          15,
          42,
          4.2,
          1,
          24,
          21,
          3.9,
          13,
          2.7,
          31,
          4.9,
          6.8,
          8,
          1.5,
          3.6,
          8.6,
          2.5,
          3.1,
          2.9,
          82,
          7.7,
          13,
          13,
          7.4,
          2.3,
          9.8,
          0.582,
          0.619,
          2.6,
          9.6,
          53,
          3.6,
          9.5,
          19
         ],
         "y0": " ",
         "yaxis": "y"
        }
       ],
       "layout": {
        "boxmode": "group",
        "legend": {
         "tracegroupgap": 0
        },
        "margin": {
         "t": 60
        },
        "template": {
         "data": {
          "bar": [
           {
            "error_x": {
             "color": "#2a3f5f"
            },
            "error_y": {
             "color": "#2a3f5f"
            },
            "marker": {
             "line": {
              "color": "#E5ECF6",
              "width": 0.5
             },
             "pattern": {
              "fillmode": "overlay",
              "size": 10,
              "solidity": 0.2
             }
            },
            "type": "bar"
           }
          ],
          "barpolar": [
           {
            "marker": {
             "line": {
              "color": "#E5ECF6",
              "width": 0.5
             },
             "pattern": {
              "fillmode": "overlay",
              "size": 10,
              "solidity": 0.2
             }
            },
            "type": "barpolar"
           }
          ],
          "carpet": [
           {
            "aaxis": {
             "endlinecolor": "#2a3f5f",
             "gridcolor": "white",
             "linecolor": "white",
             "minorgridcolor": "white",
             "startlinecolor": "#2a3f5f"
            },
            "baxis": {
             "endlinecolor": "#2a3f5f",
             "gridcolor": "white",
             "linecolor": "white",
             "minorgridcolor": "white",
             "startlinecolor": "#2a3f5f"
            },
            "type": "carpet"
           }
          ],
          "choropleth": [
           {
            "colorbar": {
             "outlinewidth": 0,
             "ticks": ""
            },
            "type": "choropleth"
           }
          ],
          "contour": [
           {
            "colorbar": {
             "outlinewidth": 0,
             "ticks": ""
            },
            "colorscale": [
             [
              0,
              "#0d0887"
             ],
             [
              0.1111111111111111,
              "#46039f"
             ],
             [
              0.2222222222222222,
              "#7201a8"
             ],
             [
              0.3333333333333333,
              "#9c179e"
             ],
             [
              0.4444444444444444,
              "#bd3786"
             ],
             [
              0.5555555555555556,
              "#d8576b"
             ],
             [
              0.6666666666666666,
              "#ed7953"
             ],
             [
              0.7777777777777778,
              "#fb9f3a"
             ],
             [
              0.8888888888888888,
              "#fdca26"
             ],
             [
              1,
              "#f0f921"
             ]
            ],
            "type": "contour"
           }
          ],
          "contourcarpet": [
           {
            "colorbar": {
             "outlinewidth": 0,
             "ticks": ""
            },
            "type": "contourcarpet"
           }
          ],
          "heatmap": [
           {
            "colorbar": {
             "outlinewidth": 0,
             "ticks": ""
            },
            "colorscale": [
             [
              0,
              "#0d0887"
             ],
             [
              0.1111111111111111,
              "#46039f"
             ],
             [
              0.2222222222222222,
              "#7201a8"
             ],
             [
              0.3333333333333333,
              "#9c179e"
             ],
             [
              0.4444444444444444,
              "#bd3786"
             ],
             [
              0.5555555555555556,
              "#d8576b"
             ],
             [
              0.6666666666666666,
              "#ed7953"
             ],
             [
              0.7777777777777778,
              "#fb9f3a"
             ],
             [
              0.8888888888888888,
              "#fdca26"
             ],
             [
              1,
              "#f0f921"
             ]
            ],
            "type": "heatmap"
           }
          ],
          "heatmapgl": [
           {
            "colorbar": {
             "outlinewidth": 0,
             "ticks": ""
            },
            "colorscale": [
             [
              0,
              "#0d0887"
             ],
             [
              0.1111111111111111,
              "#46039f"
             ],
             [
              0.2222222222222222,
              "#7201a8"
             ],
             [
              0.3333333333333333,
              "#9c179e"
             ],
             [
              0.4444444444444444,
              "#bd3786"
             ],
             [
              0.5555555555555556,
              "#d8576b"
             ],
             [
              0.6666666666666666,
              "#ed7953"
             ],
             [
              0.7777777777777778,
              "#fb9f3a"
             ],
             [
              0.8888888888888888,
              "#fdca26"
             ],
             [
              1,
              "#f0f921"
             ]
            ],
            "type": "heatmapgl"
           }
          ],
          "histogram": [
           {
            "marker": {
             "pattern": {
              "fillmode": "overlay",
              "size": 10,
              "solidity": 0.2
             }
            },
            "type": "histogram"
           }
          ],
          "histogram2d": [
           {
            "colorbar": {
             "outlinewidth": 0,
             "ticks": ""
            },
            "colorscale": [
             [
              0,
              "#0d0887"
             ],
             [
              0.1111111111111111,
              "#46039f"
             ],
             [
              0.2222222222222222,
              "#7201a8"
             ],
             [
              0.3333333333333333,
              "#9c179e"
             ],
             [
              0.4444444444444444,
              "#bd3786"
             ],
             [
              0.5555555555555556,
              "#d8576b"
             ],
             [
              0.6666666666666666,
              "#ed7953"
             ],
             [
              0.7777777777777778,
              "#fb9f3a"
             ],
             [
              0.8888888888888888,
              "#fdca26"
             ],
             [
              1,
              "#f0f921"
             ]
            ],
            "type": "histogram2d"
           }
          ],
          "histogram2dcontour": [
           {
            "colorbar": {
             "outlinewidth": 0,
             "ticks": ""
            },
            "colorscale": [
             [
              0,
              "#0d0887"
             ],
             [
              0.1111111111111111,
              "#46039f"
             ],
             [
              0.2222222222222222,
              "#7201a8"
             ],
             [
              0.3333333333333333,
              "#9c179e"
             ],
             [
              0.4444444444444444,
              "#bd3786"
             ],
             [
              0.5555555555555556,
              "#d8576b"
             ],
             [
              0.6666666666666666,
              "#ed7953"
             ],
             [
              0.7777777777777778,
              "#fb9f3a"
             ],
             [
              0.8888888888888888,
              "#fdca26"
             ],
             [
              1,
              "#f0f921"
             ]
            ],
            "type": "histogram2dcontour"
           }
          ],
          "mesh3d": [
           {
            "colorbar": {
             "outlinewidth": 0,
             "ticks": ""
            },
            "type": "mesh3d"
           }
          ],
          "parcoords": [
           {
            "line": {
             "colorbar": {
              "outlinewidth": 0,
              "ticks": ""
             }
            },
            "type": "parcoords"
           }
          ],
          "pie": [
           {
            "automargin": true,
            "type": "pie"
           }
          ],
          "scatter": [
           {
            "marker": {
             "colorbar": {
              "outlinewidth": 0,
              "ticks": ""
             }
            },
            "type": "scatter"
           }
          ],
          "scatter3d": [
           {
            "line": {
             "colorbar": {
              "outlinewidth": 0,
              "ticks": ""
             }
            },
            "marker": {
             "colorbar": {
              "outlinewidth": 0,
              "ticks": ""
             }
            },
            "type": "scatter3d"
           }
          ],
          "scattercarpet": [
           {
            "marker": {
             "colorbar": {
              "outlinewidth": 0,
              "ticks": ""
             }
            },
            "type": "scattercarpet"
           }
          ],
          "scattergeo": [
           {
            "marker": {
             "colorbar": {
              "outlinewidth": 0,
              "ticks": ""
             }
            },
            "type": "scattergeo"
           }
          ],
          "scattergl": [
           {
            "marker": {
             "colorbar": {
              "outlinewidth": 0,
              "ticks": ""
             }
            },
            "type": "scattergl"
           }
          ],
          "scattermapbox": [
           {
            "marker": {
             "colorbar": {
              "outlinewidth": 0,
              "ticks": ""
             }
            },
            "type": "scattermapbox"
           }
          ],
          "scatterpolar": [
           {
            "marker": {
             "colorbar": {
              "outlinewidth": 0,
              "ticks": ""
             }
            },
            "type": "scatterpolar"
           }
          ],
          "scatterpolargl": [
           {
            "marker": {
             "colorbar": {
              "outlinewidth": 0,
              "ticks": ""
             }
            },
            "type": "scatterpolargl"
           }
          ],
          "scatterternary": [
           {
            "marker": {
             "colorbar": {
              "outlinewidth": 0,
              "ticks": ""
             }
            },
            "type": "scatterternary"
           }
          ],
          "surface": [
           {
            "colorbar": {
             "outlinewidth": 0,
             "ticks": ""
            },
            "colorscale": [
             [
              0,
              "#0d0887"
             ],
             [
              0.1111111111111111,
              "#46039f"
             ],
             [
              0.2222222222222222,
              "#7201a8"
             ],
             [
              0.3333333333333333,
              "#9c179e"
             ],
             [
              0.4444444444444444,
              "#bd3786"
             ],
             [
              0.5555555555555556,
              "#d8576b"
             ],
             [
              0.6666666666666666,
              "#ed7953"
             ],
             [
              0.7777777777777778,
              "#fb9f3a"
             ],
             [
              0.8888888888888888,
              "#fdca26"
             ],
             [
              1,
              "#f0f921"
             ]
            ],
            "type": "surface"
           }
          ],
          "table": [
           {
            "cells": {
             "fill": {
              "color": "#EBF0F8"
             },
             "line": {
              "color": "white"
             }
            },
            "header": {
             "fill": {
              "color": "#C8D4E3"
             },
             "line": {
              "color": "white"
             }
            },
            "type": "table"
           }
          ]
         },
         "layout": {
          "annotationdefaults": {
           "arrowcolor": "#2a3f5f",
           "arrowhead": 0,
           "arrowwidth": 1
          },
          "autotypenumbers": "strict",
          "coloraxis": {
           "colorbar": {
            "outlinewidth": 0,
            "ticks": ""
           }
          },
          "colorscale": {
           "diverging": [
            [
             0,
             "#8e0152"
            ],
            [
             0.1,
             "#c51b7d"
            ],
            [
             0.2,
             "#de77ae"
            ],
            [
             0.3,
             "#f1b6da"
            ],
            [
             0.4,
             "#fde0ef"
            ],
            [
             0.5,
             "#f7f7f7"
            ],
            [
             0.6,
             "#e6f5d0"
            ],
            [
             0.7,
             "#b8e186"
            ],
            [
             0.8,
             "#7fbc41"
            ],
            [
             0.9,
             "#4d9221"
            ],
            [
             1,
             "#276419"
            ]
           ],
           "sequential": [
            [
             0,
             "#0d0887"
            ],
            [
             0.1111111111111111,
             "#46039f"
            ],
            [
             0.2222222222222222,
             "#7201a8"
            ],
            [
             0.3333333333333333,
             "#9c179e"
            ],
            [
             0.4444444444444444,
             "#bd3786"
            ],
            [
             0.5555555555555556,
             "#d8576b"
            ],
            [
             0.6666666666666666,
             "#ed7953"
            ],
            [
             0.7777777777777778,
             "#fb9f3a"
            ],
            [
             0.8888888888888888,
             "#fdca26"
            ],
            [
             1,
             "#f0f921"
            ]
           ],
           "sequentialminus": [
            [
             0,
             "#0d0887"
            ],
            [
             0.1111111111111111,
             "#46039f"
            ],
            [
             0.2222222222222222,
             "#7201a8"
            ],
            [
             0.3333333333333333,
             "#9c179e"
            ],
            [
             0.4444444444444444,
             "#bd3786"
            ],
            [
             0.5555555555555556,
             "#d8576b"
            ],
            [
             0.6666666666666666,
             "#ed7953"
            ],
            [
             0.7777777777777778,
             "#fb9f3a"
            ],
            [
             0.8888888888888888,
             "#fdca26"
            ],
            [
             1,
             "#f0f921"
            ]
           ]
          },
          "colorway": [
           "#636efa",
           "#EF553B",
           "#00cc96",
           "#ab63fa",
           "#FFA15A",
           "#19d3f3",
           "#FF6692",
           "#B6E880",
           "#FF97FF",
           "#FECB52"
          ],
          "font": {
           "color": "#2a3f5f"
          },
          "geo": {
           "bgcolor": "white",
           "lakecolor": "white",
           "landcolor": "#E5ECF6",
           "showlakes": true,
           "showland": true,
           "subunitcolor": "white"
          },
          "hoverlabel": {
           "align": "left"
          },
          "hovermode": "closest",
          "mapbox": {
           "style": "light"
          },
          "paper_bgcolor": "white",
          "plot_bgcolor": "#E5ECF6",
          "polar": {
           "angularaxis": {
            "gridcolor": "white",
            "linecolor": "white",
            "ticks": ""
           },
           "bgcolor": "#E5ECF6",
           "radialaxis": {
            "gridcolor": "white",
            "linecolor": "white",
            "ticks": ""
           }
          },
          "scene": {
           "xaxis": {
            "backgroundcolor": "#E5ECF6",
            "gridcolor": "white",
            "gridwidth": 2,
            "linecolor": "white",
            "showbackground": true,
            "ticks": "",
            "zerolinecolor": "white"
           },
           "yaxis": {
            "backgroundcolor": "#E5ECF6",
            "gridcolor": "white",
            "gridwidth": 2,
            "linecolor": "white",
            "showbackground": true,
            "ticks": "",
            "zerolinecolor": "white"
           },
           "zaxis": {
            "backgroundcolor": "#E5ECF6",
            "gridcolor": "white",
            "gridwidth": 2,
            "linecolor": "white",
            "showbackground": true,
            "ticks": "",
            "zerolinecolor": "white"
           }
          },
          "shapedefaults": {
           "line": {
            "color": "#2a3f5f"
           }
          },
          "ternary": {
           "aaxis": {
            "gridcolor": "white",
            "linecolor": "white",
            "ticks": ""
           },
           "baxis": {
            "gridcolor": "white",
            "linecolor": "white",
            "ticks": ""
           },
           "bgcolor": "#E5ECF6",
           "caxis": {
            "gridcolor": "white",
            "linecolor": "white",
            "ticks": ""
           }
          },
          "title": {
           "x": 0.05
          },
          "xaxis": {
           "automargin": true,
           "gridcolor": "white",
           "linecolor": "white",
           "ticks": "",
           "title": {
            "standoff": 15
           },
           "zerolinecolor": "white",
           "zerolinewidth": 2
          },
          "yaxis": {
           "automargin": true,
           "gridcolor": "white",
           "linecolor": "white",
           "ticks": "",
           "title": {
            "standoff": 15
           },
           "zerolinecolor": "white",
           "zerolinewidth": 2
          }
         }
        },
        "xaxis": {
         "anchor": "y",
         "domain": [
          0,
          1
         ]
        },
        "yaxis": {
         "anchor": "x",
         "domain": [
          0,
          1
         ],
         "title": {
          "text": "Size_New"
         }
        }
       }
      },
      "text/html": [
       "<div>                            <div id=\"4cc4a848-1620-4d03-91b5-a38fefe72fa9\" class=\"plotly-graph-div\" style=\"height:525px; width:100%;\"></div>            <script type=\"text/javascript\">                require([\"plotly\"], function(Plotly) {                    window.PLOTLYENV=window.PLOTLYENV || {};                                    if (document.getElementById(\"4cc4a848-1620-4d03-91b5-a38fefe72fa9\")) {                    Plotly.newPlot(                        \"4cc4a848-1620-4d03-91b5-a38fefe72fa9\",                        [{\"alignmentgroup\":\"True\",\"hovertemplate\":\"Size_New=%{y}<extra></extra>\",\"legendgroup\":\"\",\"marker\":{\"color\":\"#636efa\"},\"name\":\"\",\"notched\":false,\"offsetgroup\":\"\",\"orientation\":\"v\",\"showlegend\":false,\"type\":\"box\",\"x0\":\" \",\"xaxis\":\"x\",\"y\":[19.0,14.0,8.7,25.0,2.8,5.6,19.0,29.0,33.0,3.1,28.0,12.0,20.0,21.0,37.0,2.7,5.5,17.0,39.0,31.0,14.0,12.0,4.2,7.0,23.0,6.0,25.0,6.1,4.6,4.2,9.2,5.2,11.0,11.0,4.2,9.2,24.0,11.0,9.4,15.0,10.0,1.2,12.0,24.0,26.0,8.0,7.9,25.0,56.0,57.0,35.0,33.0,33.0,5.6,54.0,0.201,3.6,5.7,17.0,8.6,2.4,27.0,2.7,2.5,7.0,35.0,16.0,16.0,17.0,3.4,8.9,3.9,2.9,38.0,32.0,37.0,15.0,5.4,18.0,38.0,1.1,7.9,35.0,17.0,19.0,14.0,2.2,4.5,17.0,14.0,9.8,21.0,52.0,14.0,25.0,9.0,12.0,35.0,6.7,30.0,5.7,2.9,17.0,2.9,2.6,4.2,7.1,57.0,3.7,22.0,24.0,7.4,21.0,3.4,2.9,3.1,6.4,3.2,8.2,9.9,2.9,23.0,4.6,3.1,4.9,9.5,4.2,5.4,2.8,5.0,5.9,13.0,7.1,6.7,17.0,19.0,6.7,21.0,2.7,37.0,15.0,23.0,19.0,23.0,73.0,4.9,6.8,2.9,3.5,4.0,21.0,2.3,7.2,10.0,6.1,2.1,42.0,7.3,30.0,29.0,35.0,9.1,25.0,3.9,18.0,12.0,21.0,55.0,3.2,0.023,16.0,14.0,37.0,11.0,25.0,7.3,6.5,25.0,3.1,1.5,7.5,8.6,1.2,39.0,14.0,19.0,6.8,39.0,14.0,20.0,26.0,51.0,41.0,20.0,12.0,48.0,10.0,22.0,11.0,8.5,8.6,28.0,28.0,37.0,9.0,46.0,14.0,26.0,23.0,14.0,20.0,26.0,51.0,41.0,20.0,12.0,48.0,10.0,22.0,11.0,8.5,8.6,28.0,39.0,14.0,19.0,6.8,39.0,35.0,29.0,41.0,4.9,27.0,32.0,12.0,15.0,11.0,28.0,2.2,3.4,8.3,4.3,4.7,10.0,15.0,7.1,21.0,6.1,15.0,11.0,29.0,3.3,22.0,40.0,10.0,9.1,4.7,38.0,6.7,37.0,7.8,19.0,5.7,35.0,17.0,8.8,16.0,11.0,11.0,15.0,6.6,6.6,5.1,18.0,4.0,37.0,22.0,3.3,32.0,37.0,17.0,35.0,40.0,61.0,66.0,11.0,0.079,25.0,14.0,24.0,17.0,8.3,8.2,8.4,4.0,32.0,6.1,2.8,3.3,40.0,2.2,4.3,4.7,2.3,2.3,11.0,2.7,14.0,13.0,3.7,10.0,13.0,10.0,13.0,8.8,5.5,20.0,29.0,11.0,17.0,17.0,0.118,16.0,5.1,44.0,7.3,30.0,0.695,1.6,19.0,11.0,23.0,26.0,6.2,20.0,0.018,1.2,17.0,15.0,56.0,12.0,11.0,29.0,40.0,53.0,3.1,24.0,23.0,5.0,44.0,27.0,6.1,21.0,11.0,21.0,24.0,31.0,27.0,6.2,12.0,8.0,5.9,7.9,5.0,1.4,13.0,40.0,13.0,19.0,5.0,19.0,27.0,3.0,13.0,7.2,25.0,5.7,5.5,6.5,5.8,3.8,41.0,7.9,2.8,20.0,15.0,28.0,9.6,13.0,15.0,40.0,56.0,12.0,9.4,29.0,11.0,19.0,23.0,27.0,19.0,45.0,21.0,40.0,25.0,15.0,24.0,11.0,38.0,31.0,6.1,27.0,32.0,13.0,63.0,44.0,16.0,28.0,5.9,13.0,9.0,20.0,7.9,28.0,49.0,27.0,18.0,14.0,27.0,41.0,38.0,5.5,27.0,7.2,21.0,8.8,38.0,11.0,6.5,26.0,19.0,6.1,77.0,9.5,14.0,38.0,16.0,3.4,4.7,5.0,4.9,4.9,16.0,3.9,4.4,4.8,4.5,70.0,4.9,3.7,4.9,16.0,4.6,3.6,21.0,13.0,8.7,9.2,6.9,39.0,8.0,3.9,14.0,11.0,13.0,9.3,5.0,10.0,5.0,5.0,3.6,19.0,5.0,9.8,14.0,5.0,4.9,5.5,11.0,3.8,5.0,8.2,21.0,12.0,10.0,3.3,25.0,15.0,10.0,4.9,4.4,3.5,7.8,9.0,15.0,19.0,56.0,38.0,16.0,5.0,27.0,4.7,3.4,4.9,25.0,29.0,8.1,14.0,27.0,3.9,13.0,5.0,5.5,16.0,4.8,14.0,4.7,3.7,4.9,3.5,4.5,36.0,4.5,19.0,14.0,77.0,21.0,7.9,9.3,18.0,18.0,21.0,3.3,24.0,39.0,3.2,5.1,11.0,27.0,37.0,26.0,11.0,41.0,49.0,21.0,8.1,51.0,14.0,18.0,3.0,19.0,22.0,6.9,7.4,84.0,25.0,18.0,2.5,3.9,21.0,27.0,21.0,18.0,18.0,10.0,97.0,17.0,2.0,1.9,1.8,1.8,17.0,18.0,5.3,5.4,5.4,5.4,15.0,5.3,48.0,5.4,47.0,0.556,29.0,2.3,4.4,6.6,0.526,12.0,29.0,21.0,18.0,18.0,17.0,10.0,76.0,17.0,18.0,21.0,6.9,14.0,76.0,11.0,19.0,6.5,7.0,3.3,21.0,2.6,21.0,5.2,18.0,16.0,15.0,1.2,18.0,1.8,7.6,59.0,6.9,14.0,41.0,19.0,76.0,21.0,21.0,21.0,21.0,5.4,7.3,59.0,41.0,21.0,76.0,7.6,13.0,63.0,44.0,24.0,24.0,4.5,11.0,4.6,3.3,6.5,12.0,5.6,9.7,15.0,52.0,4.5,49.0,18.0,13.0,4.0,16.0,17.0,24.0,12.0,78.0,25.0,57.0,9.1,39.0,16.0,8.5,12.0,72.0,12.0,16.0,9.6,22.0,13.0,12.0,23.0,20.0,25.0,17.0,19.0,21.0,19.0,19.0,4.4,19.0,12.0,11.0,12.0,25.0,21.0,13.0,17.0,20.0,20.0,19.0,17.0,21.0,15.0,19.0,19.0,7.2,32.0,44.0,19.0,11.0,25.0,16.0,20.0,21.0,30.0,57.0,19.0,17.0,15.0,19.0,19.0,19.0,44.0,19.0,35.0,44.0,20.0,19.0,25.0,43.0,3.6,7.7,44.0,12.0,53.0,77.0,9.5,36.0,6.3,5.9,12.0,2.8,26.0,8.7,16.0,53.0,14.0,8.9,11.0,0.334,24.0,13.0,2.8,9.7,1.4,3.5,61.0,6.0,2.3,9.0,11.0,27.0,3.6,29.0,4.4,21.0,13.0,27.0,11.0,24.0,6.1,6.3,23.0,34.0,3.8,42.0,19.0,70.0,32.0,93.0,40.0,24.0,20.0,15.0,28.0,10.0,14.0,42.0,65.0,37.0,39.0,47.0,79.0,18.0,100.0,32.0,46.0,9.8,8.2,18.0,39.0,44.0,5.0,21.0,22.0,23.0,27.0,5.0,32.0,7.4,24.0,22.0,10.0,17.0,38.0,46.0,3.8,9.3,8.4,28.0,9.7,11.0,7.4,19.0,16.0,14.0,22.0,25.0,3.6,4.5,23.0,4.2,58.0,22.0,1.4,9.1,22.0,21.0,11.0,38.0,12.0,45.0,50.0,24.0,47.0,23.0,46.0,45.0,50.0,24.0,33.0,12.0,53.0,14.0,68.0,37.0,79.0,32.0,46.0,40.0,32.0,24.0,42.0,12.0,13.0,13.0,4.9,8.9,19.0,14.0,64.0,8.4,11.0,66.0,41.0,15.0,35.0,36.0,17.0,25.0,35.0,10.0,12.0,11.0,17.0,43.0,41.0,43.0,16.0,39.0,13.0,30.0,7.1,23.0,17.0,18.0,17.0,15.0,22.0,9.0,7.2,2.3,27.0,8.2,76.0,22.0,19.0,28.0,35.0,22.0,25.0,30.0,8.5,17.0,34.0,34.0,17.0,16.0,15.0,2.2,11.0,6.9,13.0,11.0,2.9,25.0,7.0,27.0,7.5,15.0,9.4,6.4,5.5,3.9,55.0,28.0,8.8,4.0,6.9,11.0,5.5,15.0,4.3,7.1,58.0,18.0,1.5,6.5,11.0,67.0,57.0,59.0,48.0,57.0,13.0,31.0,10.0,57.0,21.0,25.0,93.0,60.0,27.0,54.0,59.0,78.0,55.0,67.0,35.0,43.0,39.0,4.2,44.0,45.0,28.0,29.0,12.0,15.0,31.0,20.0,39.0,94.0,35.0,41.0,49.0,22.0,23.0,28.0,7.2,6.5,24.0,20.0,15.0,55.0,38.0,32.0,40.0,59.0,23.0,6.1,58.0,55.0,57.0,93.0,60.0,19.0,3.8,18.0,57.0,5.5,5.7,51.0,9.4,3.3,4.0,19.0,3.8,4.3,18.0,5.7,3.6,5.5,57.0,51.0,58.0,9.4,3.3,4.0,9.9,43.0,37.0,40.0,73.0,28.0,23.0,10.0,15.0,8.4,31.0,41.0,20.0,39.0,35.0,34.0,7.5,12.0,7.7,21.0,18.0,40.0,8.7,8.6,18.0,7.5,9.1,13.0,15.0,19.0,5.1,26.0,8.3,27.0,7.9,27.0,5.1,15.0,3.1,16.0,9.2,10.0,2.6,13.0,1.9,7.0,15.0,4.2,7.8,77.0,5.7,5.9,7.6,5.8,5.8,5.3,5.5,25.0,35.0,7.9,19.0,7.5,12.0,34.0,30.0,16.0,16.0,15.0,21.0,1.8,4.3,10.0,3.7,0.232,99.0,0.624,6.9,7.0,7.0,6.4,16.0,5.9,95.0,0.0085,20.0,2.5,50.0,10.0,18.0,12.0,2.5,2.1,22.0,0.041,22.0,0.292,5.5,2.5,8.1,28.0,24.0,3.1,3.4,0.011,13.0,19.0,9.5,21.0,9.4,2.4,36.0,55.0,32.0,34.0,5.1,100.0,80.0,3.3,28.0,5.0,11.0,55.0,7.1,3.2,4.4,16.0,6.3,45.0,23.0,37.0,13.0,8.1,13.0,14.0,30.0,36.0,3.0,1.4,39.0,1.8,1.7,19.0,15.0,10.0,2.7,16.0,21.0,20.0,14.0,76.0,18.0,12.0,6.2,6.8,24.0,19.0,13.0,15.0,13.0,44.0,9.7,24.0,13.0,4.5,4.5,29.0,12.0,12.0,4.6,10.0,6.8,33.0,12.0,4.6,10.0,6.8,33.0,13.0,15.0,23.0,7.7,15.0,25.0,3.0,22.0,7.5,24.0,44.0,14.0,67.0,76.0,74.0,23.0,46.0,24.0,97.0,62.0,24.0,33.0,7.8,46.0,69.0,75.0,67.0,50.0,98.0,4.9,37.0,18.0,52.0,78.0,3.9,59.0,97.0,11.0,38.0,85.0,78.0,63.0,24.0,69.0,75.0,70.0,63.0,99.0,49.0,76.0,67.0,24.0,52.0,98.0,74.0,69.0,82.0,96.0,99.0,46.0,99.0,87.0,3.9,67.0,53.0,7.8,97.0,59.0,46.0,75.0,50.0,62.0,23.0,72.0,70.0,18.0,35.0,78.0,25.0,74.0,97.0,17.0,53.0,11.0,60.0,57.0,14.0,67.0,33.0,76.0,74.0,40.0,59.0,52.0,100.0,62.0,85.0,87.0,33.0,32.0,40.0,29.0,40.0,24.0,38.0,52.0,54.0,71.0,73.0,57.0,38.0,62.0,95.0,16.0,39.0,78.0,36.0,31.0,98.0,24.0,85.0,33.0,100.0,36.0,86.0,80.0,87.0,79.0,30.0,87.0,91.0,63.0,95.0,48.0,93.0,53.0,82.0,99.0,49.0,25.0,91.0,52.0,56.0,56.0,85.0,81.0,82.0,98.0,77.0,99.0,96.0,96.0,82.0,70.0,63.0,35.0,48.0,84.0,15.0,69.0,46.0,15.0,33.0,48.0,67.0,74.0,57.0,52.0,25.0,36.0,31.0,91.0,92.0,70.0,93.0,52.0,91.0,37.0,64.0,35.0,97.0,93.0,28.0,83.0,99.0,55.0,82.0,14.0,81.0,74.0,67.0,52.0,76.0,67.0,50.0,46.0,97.0,98.0,70.0,69.0,3.9,7.8,18.0,24.0,62.0,11.0,87.0,99.0,82.0,94.0,96.0,75.0,14.0,59.0,74.0,29.0,17.0,97.0,78.0,63.0,25.0,29.0,72.0,53.0,76.0,33.0,60.0,62.0,78.0,75.0,70.0,99.0,99.0,27.0,70.0,88.0,63.0,82.0,48.0,31.0,23.0,59.0,39.0,54.0,48.0,30.0,66.0,32.0,50.0,53.0,61.0,49.0,38.0,20.0,66.0,57.0,95.0,32.0,33.0,66.0,75.0,29.0,74.0,69.0,7.8,33.0,52.0,50.0,46.0,12.0,41.0,63.0,53.0,63.0,99.0,20.0,11.0,75.0,13.0,46.0,78.0,49.0,14.0,100.0,97.0,15.0,33.0,70.0,10.0,77.0,4.9,25.0,96.0,23.0,51.0,96.0,70.0,38.0,24.0,20.0,67.0,19.0,51.0,22.0,46.0,21.0,39.0,23.0,26.0,39.0,24.0,15.0,20.0,24.0,44.0,38.0,52.0,14.0,49.0,8.9,56.0,99.0,10.0,6.9,20.0,10.0,19.0,33.0,85.0,48.0,9.6,15.0,50.0,51.0,24.0,13.0,16.0,63.0,15.0,26.0,81.0,79.0,94.0,46.0,43.0,45.0,91.0,91.0,53.0,28.0,26.0,56.0,80.0,60.0,67.0,78.0,27.0,63.0,26.0,46.0,83.0,60.0,44.0,82.0,67.0,99.0,24.0,78.0,51.0,94.0,16.0,93.0,77.0,32.0,58.0,48.0,69.0,73.0,99.0,16.0,54.0,56.0,68.0,25.0,7.0,54.0,51.0,48.0,44.0,8.7,91.0,97.0,26.0,16.0,53.0,95.0,83.0,78.0,56.0,21.0,26.0,60.0,22.0,95.0,48.0,58.0,91.0,22.0,36.0,37.0,70.0,34.0,49.0,9.8,37.0,55.0,84.0,16.0,92.0,57.0,24.0,6.9,44.0,11.0,16.0,17.0,18.0,16.0,19.0,1.6,47.0,16.0,14.0,75.0,25.0,5.7,17.0,3.5,16.0,42.0,47.0,67.0,26.0,72.0,37.0,1.2,17.0,19.0,23.0,25.0,83.0,94.0,97.0,37.0,92.0,48.0,12.0,15.0,83.0,9.5,19.0,23.0,25.0,83.0,94.0,97.0,37.0,92.0,48.0,12.0,15.0,83.0,9.5,67.0,63.0,49.0,14.0,58.0,22.0,15.0,50.0,59.0,34.0,54.0,53.0,37.0,25.0,26.0,61.0,58.0,91.0,17.0,83.0,17.0,64.0,41.0,58.0,23.0,71.0,23.0,12.0,0.704,2.9,25.0,20.0,21.0,5.4,25.0,42.0,32.0,1.8,33.0,3.8,5.8,9.5,19.0,5.0,23.0,0.862,9.9,24.0,2.4,0.899,38.0,6.5,14.0,1.2,48.0,0.378,22.0,4.8,25.0,0.266,0.375,62.0,1.2,2.8,95.0,2.6,4.6,5.1,1.8,53.0,39.0,5.3,14.0,8.4,18.0,41.0,100.0,3.4,68.0,2.6,11.0,37.0,9.8,23.0,18.0,7.4,11.0,23.0,34.0,15.0,13.0,24.0,20.0,14.0,69.0,38.0,26.0,2.6,21.0,38.0,16.0,21.0,10.0,22.0,14.0,36.0,16.0,61.0,11.0,8.5,37.0,22.0,17.0,7.7,39.0,30.0,3.7,28.0,16.0,20.0,8.9,97.0,12.0,72.0,21.0,27.0,5.7,6.6,12.0,5.9,20.0,15.0,26.0,3.3,44.0,32.0,12.0,36.0,17.0,5.8,11.0,16.0,25.0,6.1,22.0,28.0,6.3,25.0,60.0,20.0,8.0,20.0,6.4,34.0,3.8,42.0,2.4,70.0,5.0,28.0,21.0,38.0,74.0,1.8,12.0,13.0,2.9,48.0,19.0,68.0,6.8,12.0,5.8,41.0,25.0,42.0,6.5,13.0,1.5,3.2,7.7,1.3,26.0,5.4,11.0,9.5,62.0,18.0,3.1,1.8,66.0,5.0,2.9,22.0,16.0,19.0,40.0,23.0,15.0,29.0,16.0,65.0,29.0,20.0,3.8,19.0,25.0,5.1,16.0,1.5,10.0,22.0,3.6,20.0,20.0,13.0,2.5,3.6,24.0,10.0,25.0,29.0,17.0,53.0,83.0,4.6,4.6,28.0,29.0,46.0,5.7,1.4,12.0,2.2,27.0,18.0,30.0,3.5,4.2,6.9,6.6,7.0,11.0,5.6,29.0,3.3,20.0,7.0,3.3,29.0,7.1,23.0,24.0,14.0,13.0,34.0,4.3,43.0,69.0,22.0,20.0,25.0,2.0,40.0,37.0,40.0,4.3,5.7,4.0,17.0,11.0,4.4,15.0,2.3,40.0,8.4,11.0,2.9,2.4,15.0,24.0,29.0,24.0,22.0,86.0,22.0,11.0,0.975,0.98,6.0,20.0,26.0,13.0,23.0,2.7,4.2,28.0,6.1,15.0,1.2,37.0,5.9,14.0,2.3,32.0,2.7,2.2,26.0,4.0,1.5,3.7,2.8,3.9,3.1,2.8,20.0,9.9,5.3,10.0,2.6,31.0,2.3,6.0,17.0,20.0,62.0,15.0,18.0,5.4,2.8,15.0,5.3,37.0,23.0,28.0,35.0,76.0,34.0,2.7,4.1,85.0,15.0,89.0,20.0,9.3,76.0,34.0,16.0,8.4,20.0,76.0,68.0,13.0,50.0,23.0,28.0,7.0,23.0,76.0,68.0,13.0,56.0,8.4,23.0,22.0,15.0,30.0,30.0,27.0,20.0,42.0,18.0,4.2,30.0,33.0,7.9,12.0,15.0,10.0,9.9,9.0,21.0,13.0,11.0,21.0,8.1,12.0,7.3,15.0,22.0,11.0,8.3,20.0,38.0,9.1,24.0,29.0,98.0,25.0,18.0,6.1,14.0,21.0,43.0,15.0,23.0,52.0,57.0,20.0,40.0,17.0,13.0,33.0,18.0,29.0,31.0,20.0,13.0,7.3,12.0,8.8,18.0,14.0,21.0,43.0,34.0,15.0,26.0,34.0,2.7,52.0,29.0,20.0,23.0,42.0,16.0,12.0,6.5,15.0,17.0,24.0,22.0,15.0,18.0,8.8,14.0,2.7,29.0,20.0,6.5,15.0,6.2,19.0,27.0,1.1,2.7,16.0,8.8,12.0,24.0,56.0,15.0,18.0,14.0,22.0,28.0,59.0,37.0,36.0,9.5,82.0,28.0,9.7,22.0,17.0,7.7,11.0,21.0,19.0,8.7,30.0,25.0,17.0,13.0,23.0,22.0,9.1,8.3,19.0,53.0,17.0,10.0,29.0,46.0,4.5,4.9,24.0,23.0,25.0,26.0,2.0,19.0,9.6,13.0,4.2,16.0,59.0,9.5,53.0,6.6,27.0,22.0,50.0,30.0,17.0,18.0,10.0,9.9,23.0,51.0,35.0,16.0,11.0,74.0,48.0,13.0,4.2,16.0,59.0,5.6,1.5,5.7,6.1,1.9,4.0,47.0,2.0,9.5,22.0,14.0,10.0,6.9,44.0,51.0,48.0,43.0,21.0,25.0,3.9,4.0,51.0,9.6,9.5,50.0,21.0,31.0,27.0,53.0,34.0,12.0,50.0,47.0,9.2,51.0,48.0,24.0,1.6,17.0,31.0,59.0,46.0,53.0,45.0,9.8,34.0,20.0,19.0,6.0,15.0,6.5,6.2,14.0,6.1,17.0,24.0,13.0,10.0,10.0,6.9,31.0,28.0,2.6,30.0,13.0,27.0,29.0,18.0,35.0,17.0,18.0,3.0,32.0,24.0,10.0,34.0,6.6,27.0,25.0,6.6,24.0,25.0,33.0,88.0,9.3,84.0,4.7,25.0,12.0,9.9,61.0,25.0,52.0,57.0,41.0,4.6,10.0,23.0,27.0,33.0,4.7,2.2,95.0,34.0,9.4,19.0,3.9,34.0,21.0,19.0,6.6,82.0,19.0,26.0,5.2,16.0,33.0,6.0,25.0,34.0,8.1,35.0,25.0,19.0,48.0,21.0,6.6,32.0,82.0,23.0,52.0,14.0,25.0,58.0,19.0,29.0,81.0,28.0,7.6,33.0,42.0,8.3,14.0,37.0,14.0,21.0,28.0,27.0,39.0,17.0,39.0,51.0,86.0,26.0,46.0,29.0,27.0,14.0,10.0,71.0,15.0,11.0,62.0,80.0,5.4,9.8,7.6,26.0,13.0,62.0,10.0,15.0,80.0,14.0,57.0,51.0,8.3,24.0,29.0,3.1,46.0,55.0,19.0,19.0,40.0,29.0,43.0,50.0,13.0,15.0,4.0,14.0,19.0,29.0,44.0,22.0,28.0,12.0,46.0,7.6,29.0,4.1,8.5,31.0,4.1,22.0,28.0,5.9,3.9,15.0,4.3,5.3,16.0,7.5,3.7,5.8,17.0,8.5,9.1,7.6,2.5,15.0,6.1,17.0,58.0,4.6,16.0,1.3,2.3,1.9,2.7,16.0,11.0,5.3,4.2,9.1,4.3,1.8,8.5,4.4,3.8,11.0,11.0,7.4,5.3,5.4,3.6,4.3,27.0,1.8,3.3,2.0,6.1,9.6,9.6,10.0,8.2,14.0,25.0,9.9,22.0,8.9,2.4,25.0,1.8,17.0,4.1,18.0,14.0,0.696,4.7,8.1,7.9,4.6,0.544,3.5,0.525,2.1,14.0,8.7,21.0,12.0,18.0,17.0,3.8,23.0,14.0,15.0,9.9,12.0,12.0,20.0,7.4,3.0,14.0,14.0,7.2,22.0,7.2,26.0,38.0,3.9,5.4,9.8,7.6,1.1,9.1,6.8,12.0,3.3,12.0,9.8,0.92,14.0,6.8,27.0,7.4,29.0,5.9,14.0,14.0,26.0,1.9,3.9,0.779,5.1,10.0,13.0,4.0,5.4,3.3,4.3,0.853,21.0,6.4,8.6,2.1,7.1,3.3,3.5,4.1,9.7,3.3,7.1,8.4,7.0,5.5,13.0,5.9,24.0,6.2,6.9,6.1,24.0,4.1,50.0,11.0,5.1,1.3,2.3,16.0,15.0,61.0,1.6,49.0,7.2,1.5,49.0,14.0,1.2,10.0,4.3,3.8,32.0,4.5,8.4,12.0,25.0,12.0,7.1,16.0,6.5,9.2,0.72,2.2,4.1,60.0,37.0,0.713,4.7,6.6,2.5,19.0,4.2,11.0,12.0,5.7,9.0,6.9,8.4,1.9,15.0,11.0,61.0,4.1,3.8,3.8,2.8,8.2,3.3,6.2,85.0,14.0,95.0,5.5,42.0,15.0,98.0,6.4,2.8,6.5,3.6,2.4,3.4,1.5,5.0,6.6,59.0,6.8,24.0,6.6,4.9,9.1,11.0,5.8,24.0,4.4,16.0,11.0,4.9,11.0,53.0,20.0,38.0,4.9,17.0,37.0,5.2,28.0,71.0,46.0,16.0,18.0,18.0,10.0,17.0,9.7,21.0,3.2,15.0,44.0,4.8,10.0,54.0,9.1,19.0,12.0,19.0,7.6,38.0,6.1,9.2,11.0,9.2,20.0,22.0,5.3,5.6,5.4,2.9,25.0,23.0,7.2,3.3,17.0,6.0,33.0,3.1,4.1,27.0,44.0,13.0,3.0,6.1,64.0,47.0,5.4,27.0,50.0,4.0,13.0,44.0,2.5,23.0,23.0,14.0,89.0,16.0,26.0,11.0,56.0,25.0,17.0,9.1,11.0,15.0,9.7,5.5,6.7,2.9,13.0,8.5,25.0,12.0,6.3,6.3,19.0,31.0,9.0,25.0,4.6,8.0,23.0,9.8,8.7,12.0,10.0,19.0,6.6,14.0,8.6,13.0,13.0,10.0,7.5,36.0,8.2,22.0,23.0,14.0,25.0,27.0,35.0,8.6,4.6,25.0,12.0,18.0,3.1,14.0,23.0,8.8,35.0,36.0,25.0,12.0,23.0,13.0,13.0,22.0,43.0,33.0,32.0,6.8,4.0,3.7,3.4,48.0,7.7,60.0,60.0,5.6,5.2,25.0,3.3,29.0,49.0,3.6,48.0,5.4,18.0,3.2,11.0,8.5,24.0,26.0,14.0,78.0,7.0,9.2,4.9,6.5,11.0,96.0,2.9,24.0,55.0,74.0,24.0,32.0,15.0,6.3,97.0,74.0,14.0,14.0,5.7,19.0,50.0,76.0,70.0,29.0,16.0,13.0,73.0,17.0,85.0,99.0,92.0,37.0,45.0,57.0,26.0,47.0,22.0,56.0,50.0,42.0,34.0,70.0,17.0,4.1,11.0,11.0,94.0,24.0,56.0,66.0,63.0,91.0,17.0,21.0,81.0,3.0,59.0,83.0,19.0,23.0,32.0,39.0,57.0,52.0,7.5,7.4,8.9,6.3,18.0,14.0,20.0,96.0,35.0,8.4,8.6,55.0,29.0,13.0,16.0,40.0,6.7,100.0,94.0,4.4,64.0,4.5,6.0,7.4,3.7,25.0,10.0,26.0,98.0,97.0,1.8,11.0,78.0,50.0,74.0,8.3,7.7,2.5,5.3,4.0,4.2,74.0,6.9,6.6,16.0,4.7,5.4,35.0,26.0,32.0,2.7,3.7,7.0,6.9,63.0,2.2,30.0,5.8,3.1,1.5,8.6,0.772,3.3,5.0,1.1,4.4,2.1,1.6,29.0,39.0,29.0,14.0,41.0,9.7,60.0,62.0,47.0,89.0,9.9,64.0,48.0,12.0,61.0,32.0,28.0,36.0,13.0,69.0,74.0,18.0,3.6,79.0,66.0,42.0,9.8,2.8,40.0,20.0,25.0,44.0,8.8,16.0,89.0,58.0,20.0,4.8,0.318,13.0,4.9,12.0,66.0,50.0,59.0,14.0,5.9,41.0,37.0,22.0,15.0,6.1,3.1,0.058,79.0,15.0,55.0,11.0,13.0,4.9,7.6,3.0,37.0,9.3,23.0,0.241,11.0,9.2,4.8,16.0,40.0,13.0,4.9,31.0,14.0,3.0,9.9,3.7,1.7,11.0,63.0,2.1,1.4,36.0,32.0,59.0,37.0,7.9,25.0,19.0,39.0,0.196,2.3,8.1,51.0,3.4,8.8,28.0,11.0,6.1,14.0,94.0,11.0,14.0,1.6,15.0,2.7,5.7,47.0,1.6,0.857,25.0,1.3,1.5,33.0,3.9,87.0,14.0,10.0,5.9,58.0,1.9,48.0,57.0,0.051,4.5,8.9,26.0,15.0,1.5,2.2,42.0,5.6,8.5,8.9,13.0,13.0,5.4,27.0,3.0,19.0,8.3,57.0,1.2,2.8,19.0,7.2,52.0,65.0,37.0,2.9,11.0,34.0,6.5,3.9,3.9,57.0,2.8,23.0,55.0,75.0,40.0,50.0,25.0,25.0,6.6,36.0,75.0,8.8,43.0,9.9,96.0,0.953,9.0,23.0,2.6,23.0,35.0,7.2,49.0,4.7,43.0,97.0,3.1,6.7,13.0,7.1,9.1,98.0,30.0,8.9,13.0,2.4,44.0,7.3,33.0,3.4,3.8,3.6,40.0,14.0,34.0,40.0,11.0,63.0,14.0,61.0,63.0,8.9,10.0,44.0,10.0,59.0,7.4,23.0,50.0,44.0,15.0,40.0,62.0,2.1,31.0,19.0,26.0,3.6,13.0,4.5,35.0,71.0,15.0,23.0,3.5,60.0,40.0,78.0,20.0,49.0,40.0,48.0,87.0,20.0,50.0,0.865,2.9,67.0,2.4,61.0,6.8,2.6,13.0,29.0,84.0,5.4,2.8,2.9,6.9,46.0,27.0,37.0,82.0,44.0,7.3,37.0,53.0,44.0,24.0,34.0,9.1,38.0,15.0,26.0,63.0,0.251,4.2,7.3,49.0,9.7,1.4,4.9,6.2,6.0,1.2,16.0,59.0,7.7,30.0,6.4,64.0,46.0,76.0,54.0,8.4,22.0,23.0,8.2,3.8,54.0,9.1,40.0,28.0,11.0,34.0,58.0,21.0,45.0,22.0,28.0,17.0,31.0,59.0,91.0,20.0,69.0,71.0,13.0,33.0,3.3,6.4,20.0,7.6,62.0,32.0,49.0,0.93,34.0,49.0,24.0,72.0,8.7,40.0,6.8,47.0,3.6,2.9,26.0,1.3,45.0,0.54,4.6,0.313,8.6,0.746,10.0,38.0,5.1,6.1,28.0,5.2,22.0,34.0,51.0,39.0,2.1,12.0,11.0,7.5,24.0,19.0,1.9,5.2,2.3,4.5,1.7,1.8,6.3,5.5,6.2,28.0,4.3,5.7,4.9,3.6,2.0,16.0,7.4,4.3,7.3,60.0,3.7,24.0,10.0,7.5,13.0,3.6,2.0,14.0,2.3,16.0,20.0,21.0,2.1,26.0,14.0,18.0,60.0,7.1,60.0,40.0,55.0,20.0,19.0,17.0,3.6,4.5,3.6,33.0,43.0,21.0,2.3,14.0,19.0,95.0,29.0,2.7,16.0,3.9,3.1,12.0,39.0,26.0,19.0,67.0,12.0,2.8,6.2,2.9,5.9,60.0,4.9,62.0,96.0,9.2,2.8,3.9,2.2,0.203,37.0,3.7,7.7,2.9,29.0,34.0,3.6,5.7,64.0,3.4,0.058,6.7,23.0,8.9,57.0,12.0,13.0,93.0,83.0,41.0,28.0,2.7,4.4,3.4,17.0,2.2,7.1,20.0,0.026,31.0,45.0,33.0,14.0,37.0,24.0,6.5,40.0,93.0,0.314,3.7,57.0,2.7,68.0,25.0,2.4,96.0,2.2,33.0,19.0,21.0,26.0,29.0,3.7,25.0,28.0,2.1,15.0,7.9,46.0,8.9,13.0,20.0,2.3,4.9,23.0,35.0,18.0,45.0,5.6,4.5,5.8,24.0,21.0,31.0,74.0,21.0,7.3,3.3,11.0,53.0,37.0,37.0,2.0,26.0,42.0,7.8,3.5,14.0,5.1,1.9,38.0,3.0,2.2,3.5,4.0,27.0,13.0,21.0,3.5,22.0,7.2,4.8,13.0,7.5,5.4,30.0,0.196,16.0,3.8,17.0,26.0,28.0,38.0,17.0,20.0,6.9,59.0,67.0,61.0,1.6,3.7,4.9,30.0,40.0,10.0,100.0,42.0,95.0,28.0,4.2,3.6,17.0,4.6,7.9,4.3,3.6,5.9,35.0,1.8,9.5,19.0,25.0,37.0,3.6,17.0,2.9,3.4,2.9,3.5,37.0,1.5,47.0,11.0,9.1,32.0,16.0,2.5,6.7,1.9,27.0,0.079,7.6,8.2,33.0,3.1,27.0,1.5,4.5,43.0,21.0,4.4,16.0,13.0,34.0,8.3,2.5,3.5,6.4,4.3,6.3,8.6,1.9,0.118,49.0,3.7,3.5,53.0,8.0,27.0,24.0,11.0,3.2,3.7,1.2,8.4,31.0,9.6,45.0,56.0,26.0,17.0,6.9,99.0,47.0,36.0,21.0,3.0,8.5,2.0,15.0,50.0,17.0,1.9,70.0,41.0,99.0,96.0,16.0,84.0,5.0,5.0,99.0,99.0,26.0,37.0,9.0,88.0,87.0,78.0,67.0,59.0,1.4,59.0,47.0,76.0,62.0,80.0,3.8,56.0,72.0,25.0,79.0,98.0,68.0,91.0,44.0,96.0,61.0,19.0,8.8,96.0,7.7,10.0,2.2,16.0,5.7,29.0,24.0,4.3,48.0,2.3,13.0,7.6,99.0,22.0,12.0,88.0,91.0,99.0,10.0,57.0,18.0,33.0,8.2,46.0,63.0,0.239,48.0,48.0,18.0,8.3,54.0,30.0,8.3,23.0,11.0,8.4,82.0,5.0,17.0,37.0,45.0,40.0,7.0,3.8,22.0,15.0,8.5,0.371,5.2,13.0,92.0,2.0,5.0,1.8,1.7,24.0,23.0,5.1,7.9,7.8,4.2,18.0,3.3,7.7,3.1,27.0,0.22,26.0,3.0,28.0,11.0,6.1,26.0,5.0,2.1,6.1,2.2,14.0,2.3,28.0,3.0,9.7,3.4,3.9,9.4,26.0,27.0,4.4,26.0,3.2,7.0,1.4,1.7,1.5,39.0,6.1,4.3,8.3,0.73,2.1,26.0,0.756,3.2,4.1,20.0,3.6,44.0,26.0,17.0,1.1,2.9,24.0,14.0,6.9,12.0,0.091,9.4,1.7,0.293,35.0,3.8,0.017,0.074,20.0,1.1,4.1,13.0,0.014,8.3,9.0,9.0,3.3,28.0,19.0,59.0,1.9,12.0,1.8,30.0,18.0,29.0,26.0,12.0,12.0,17.0,18.0,26.0,17.0,12.0,0.317,7.5,66.0,30.0,35.0,26.0,15.0,27.0,39.0,9.1,13.0,35.0,5.1,6.7,37.0,3.9,4.0,7.6,6.6,32.0,2.9,0.078,1.2,15.0,18.0,15.0,19.0,4.1,5.6,3.5,6.4,3.0,0.924,11.0,4.9,6.1,0.902,53.0,1.3,4.7,3.1,11.0,3.7,0.266,19.0,2.0,4.1,3.4,13.0,46.0,3.9,11.0,3.5,11.0,17.0,17.0,11.0,64.0,10.0,35.0,12.0,2.4,3.7,6.3,22.0,10.0,3.7,4.6,44.0,18.0,9.7,2.7,51.0,47.0,56.0,24.0,52.0,4.9,1.7,16.0,6.5,27.0,36.0,5.2,43.0,8.6,2.0,14.0,15.0,12.0,45.0,3.2,62.0,15.0,13.0,18.0,1.7,15.0,2.9,5.9,4.2,74.0,1.7,47.0,6.9,8.7,0.818,28.0,29.0,59.0,29.0,29.0,59.0,27.0,29.0,29.0,14.0,10.0,0.081,28.0,9.8,29.0,28.0,0.318,5.4,28.0,29.0,29.0,29.0,3.0,27.0,29.0,86.0,22.0,29.0,29.0,29.0,16.0,27.0,29.0,5.7,5.7,29.0,2.0,29.0,20.0,28.0,27.0,29.0,9.1,29.0,29.0,35.0,5.9,1.2,39.0,27.0,3.2,4.2,31.0,3.9,25.0,69.0,4.3,9.8,13.0,16.0,4.2,99.0,2.3,3.6,26.0,3.2,2.8,8.3,3.8,3.4,3.5,1.9,3.3,7.1,7.9,1.4,1.8,7.5,4.3,2.8,7.9,3.7,48.0,14.0,5.7,0.939,58.0,42.0,35.0,43.0,63.0,60.0,2.8,3.2,4.2,32.0,22.0,7.3,5.3,50.0,7.5,26.0,17.0,4.2,31.0,7.6,1.7,0.169,63.0,7.7,0.045,6.6,14.0,22.0,3.6,8.4,25.0,0.475,4.3,35.0,3.6,24.0,35.0,91.0,27.0,31.0,2.7,32.0,27.0,67.0,8.2,30.0,3.9,1.1,48.0,14.0,18.0,2.9,4.4,89.0,13.0,3.8,15.0,15.0,25.0,34.0,6.8,24.0,3.4,24.0,5.8,4.9,16.0,46.0,33.0,43.0,56.0,2.8,11.0,26.0,11.0,8.8,6.2,7.6,4.9,5.1,4.2,7.0,38.0,8.7,2.1,12.0,58.0,18.0,20.0,8.0,3.0,12.0,8.0,28.0,29.0,4.7,40.0,14.0,16.0,9.7,49.0,3.7,27.0,3.6,5.3,2.4,8.5,6.7,9.0,0.266,27.0,67.0,22.0,11.0,68.0,40.0,15.0,23.0,4.2,2.9,85.0,1.8,1.1,22.0,8.7,2.6,4.7,2.9,22.0,0.965,1.8,2.0,2.7,56.0,2.7,2.9,4.9,20.0,12.0,3.8,4.2,1.4,21.0,41.0,57.0,15.0,5.1,31.0,28.0,39.0,34.0,31.0,76.0,40.0,46.0,8.7,80.0,24.0,21.0,9.7,12.0,57.0,81.0,6.7,3.8,5.9,46.0,3.3,48.0,33.0,42.0,99.0,4.5,28.0,8.1,21.0,56.0,25.0,26.0,99.0,25.0,99.0,43.0,17.0,80.0,44.0,12.0,100.0,69.0,90.0,88.0,64.0,39.0,54.0,56.0,14.0,75.0,13.0,8.1,20.0,57.0,31.0,39.0,29.0,3.6,3.8,4.6,0.545,2.1,0.061,13.0,2.8,9.9,2.5,5.4,14.0,1.3,2.5,0.283,2.3,1.6,25.0,5.4,1.5,5.3,2.0,5.4,41.0,5.4,2.4,5.4,9.0,25.0,1.2,45.0,5.3,3.2,73.0,11.0,5.4,0.655,5.6,17.0,9.5,7.4,5.4,2.6,96.0,73.0,5.4,35.0,48.0,37.0,17.0,35.0,2.3,16.0,26.0,2.9,0.714,12.0,52.0,3.2,49.0,28.0,12.0,17.0,37.0,2.0,82.0,37.0,48.0,54.0,46.0,51.0,48.0,55.0,25.0,33.0,100.0,70.0,9.2,43.0,91.0,29.0,44.0,30.0,99.0,90.0,72.0,47.0,23.0,26.0,5.0,20.0,30.0,37.0,28.0,85.0,22.0,82.0,65.0,43.0,80.0,21.0,0.093,90.0,67.0,32.0,2.7,36.0,35.0,41.0,71.0,70.0,22.0,14.0,6.0,53.0,0.872,1.3,1.6,56.0,3.4,3.1,20.0,6.2,0.121,95.0,9.4,2.5,93.0,70.0,1.7,37.0,70.0,3.3,16.0,19.0,22.0,68.0,34.0,46.0,92.0,45.0,50.0,9.5,36.0,78.0,22.0,48.0,1.5,40.0,6.5,51.0,12.0,50.0,40.0,54.0,45.0,63.0,4.0,69.0,39.0,55.0,46.0,99.0,91.0,21.0,46.0,45.0,24.0,52.0,50.0,63.0,5.8,23.0,23.0,26.0,8.8,27.0,2.1,12.0,5.0,23.0,8.2,14.0,8.5,47.0,12.0,17.0,3.9,10.0,4.1,15.0,3.3,6.7,11.0,4.1,3.7,4.3,31.0,25.0,2.0,5.8,3.7,1.7,12.0,14.0,78.0,6.4,10.0,44.0,1.5,85.0,9.8,5.7,3.7,46.0,30.0,47.0,23.0,91.0,44.0,4.8,9.5,19.0,7.3,1.8,5.7,7.3,4.0,3.7,26.0,5.6,7.3,49.0,8.7,49.0,20.0,7.3,0.322,6.3,3.4,22.0,25.0,6.3,82.0,8.7,10.0,24.0,43.0,3.7,13.0,3.9,13.0,3.0,3.0,46.0,3.0,17.0,63.0,17.0,2.9,2.9,26.0,2.7,24.0,4.7,2.7,1.7,3.0,3.0,31.0,36.0,4.3,63.0,8.6,57.0,13.0,5.6,1.0,23.0,1.6,24.0,5.9,44.0,30.0,76.0,0.976,10.0,44.0,19.0,3.0,15.0,15.0,43.0,2.6,0.172,24.0,31.0,25.0,2.3,33.0,9.0,7.4,19.0,2.3,42.0,3.3,9.1,2.8,13.0,30.0,3.0,2.2,14.0,0.238,37.0,52.0,4.4,28.0,32.0,3.4,23.0,61.0,15.0,64.0,12.0,4.4,3.6,2.9,10.0,7.2,3.8,0.549,3.9,2.9,42.0,1.1,9.7,1.7,13.0,55.0,6.5,1.9,5.1,36.0,11.0,14.0,17.0,4.3,4.0,4.0,3.0,1.2,29.0,3.4,5.1,2.7,97.0,19.0,100.0,73.0,100.0,18.0,18.0,44.0,5.2,8.9,34.0,30.0,1.6,4.4,3.7,11.0,4.7,33.0,13.0,14.0,3.7,7.3,37.0,13.0,13.0,8.4,45.0,7.9,4.2,11.0,6.2,3.7,6.0,8.8,22.0,30.0,11.0,4.1,3.4,13.0,39.0,5.1,4.7,5.5,5.3,2.8,9.0,51.0,0.206,0.954,26.0,9.4,2.4,5.8,20.0,17.0,35.0,17.0,2.9,42.0,5.1,16.0,4.7,35.0,12.0,26.0,17.0,60.0,25.0,38.0,2.0,2.5,9.2,0.444,15.0,12.0,4.4,14.0,6.7,3.7,4.0,2.2,33.0,5.7,87.0,30.0,68.0,5.9,19.0,40.0,49.0,52.0,63.0,24.0,6.0,17.0,4.2,32.0,0.717,4.3,7.2,5.0,1.2,31.0,17.0,46.0,20.0,8.3,5.0,22.0,3.1,2.2,2.0,12.0,5.5,14.0,15.0,81.0,62.0,8.9,3.0,13.0,11.0,3.4,12.0,29.0,2.6,1.7,5.4,30.0,31.0,14.0,37.0,4.0,6.9,14.0,0.21,13.0,18.0,13.0,38.0,3.8,3.2,3.2,0.609,1.7,4.0,6.5,14.0,2.8,33.0,3.3,3.9,15.0,9.5,7.3,2.4,3.0,3.5,2.4,13.0,5.3,6.9,2.3,15.0,7.2,13.0,7.3,3.3,7.3,7.3,2.6,0.308,4.5,21.0,5.3,2.3,22.0,40.0,21.0,21.0,53.0,1.2,53.0,11.0,27.0,6.8,7.4,3.5,1.7,4.0,8.8,38.0,1.7,6.1,27.0,38.0,2.8,6.5,3.6,53.0,3.9,12.0,89.0,46.0,54.0,9.2,24.0,41.0,0.705,25.0,62.0,27.0,37.0,3.7,4.6,9.9,9.0,29.0,2.5,6.3,58.0,4.1,9.6,3.8,13.0,51.0,2.7,82.0,5.0,83.0,2.5,2.5,6.6,2.5,3.7,4.6,80.0,11.0,2.6,2.5,24.0,12.0,10.0,0.306,26.0,2.8,8.1,3.2,3.3,1.6,5.6,4.5,11.0,2.8,2.8,2.8,17.0,2.9,19.0,4.1,8.4,5.0,3.9,2.8,2.6,6.1,2.6,8.9,9.1,2.9,2.0,2.8,2.8,9.4,7.8,8.6,10.0,5.1,7.8,5.9,1.7,2.3,2.5,2.8,4.1,6.2,20.0,4.8,24.0,2.4,13.0,1.8,9.8,29.0,11.0,6.4,87.0,7.8,86.0,2.1,4.0,1.9,2.4,2.9,21.0,8.7,1.7,5.1,11.0,1.3,9.2,35.0,9.2,4.9,15.0,15.0,19.0,2.2,2.1,8.0,3.5,16.0,63.0,10.0,7.5,21.0,1.8,11.0,18.0,3.2,33.0,8.4,31.0,22.0,3.6,15.0,18.0,10.0,2.5,16.0,15.0,4.3,4.6,18.0,8.7,22.0,1.1,4.8,2.6,5.2,6.0,43.0,0.904,20.0,28.0,20.0,16.0,8.7,6.0,1.8,3.7,3.2,16.0,7.4,3.3,3.5,14.0,8.9,32.0,14.0,3.8,4.7,9.9,17.0,9.1,10.0,27.0,25.0,33.0,30.0,28.0,7.3,23.0,0.201,2.7,7.7,21.0,3.5,3.3,31.0,12.0,8.1,14.0,11.0,18.0,2.9,0.473,76.0,18.0,54.0,30.0,2.1,48.0,92.0,15.0,30.0,2.6,17.0,35.0,11.0,65.0,25.0,4.8,4.8,17.0,24.0,26.0,4.8,0.175,15.0,4.9,8.8,36.0,8.7,23.0,5.1,23.0,26.0,53.0,3.2,23.0,1.8,5.4,8.0,5.4,59.0,21.0,5.1,55.0,3.4,33.0,4.7,1.5,30.0,26.0,54.0,10.0,3.6,5.2,25.0,0.35,51.0,5.1,4.6,39.0,13.0,31.0,19.0,3.1,17.0,0.383,2.4,3.2,2.1,30.0,14.0,12.0,3.0,4.8,2.8,4.0,11.0,1.8,3.1,20.0,33.0,17.0,28.0,0.454,3.1,3.2,6.8,99.0,17.0,12.0,25.0,13.0,2.1,5.9,3.7,4.5,4.1,11.0,3.9,3.0,1.4,11.0,12.0,30.0,25.0,52.0,6.3,4.7,25.0,62.0,6.4,15.0,70.0,12.0,7.1,47.0,23.0,10.0,40.0,53.0,8.2,8.5,33.0,34.0,23.0,2.5,1.8,1.4,24.0,2.0,0.421,1.2,11.0,7.0,2.1,16.0,10.0,28.0,5.5,41.0,2.7,93.0,40.0,3.4,9.0,4.3,2.9,6.9,1.0,1.1,39.0,31.0,14.0,29.0,4.2,5.3,1.7,6.3,27.0,3.1,2.5,5.0,6.3,7.8,4.8,9.2,34.0,47.0,8.1,2.5,36.0,10.0,6.2,10.0,4.4,18.0,16.0,9.9,22.0,1.9,26.0,9.3,28.0,10.0,11.0,2.3,4.4,8.0,10.0,3.7,21.0,4.6,45.0,4.2,7.6,8.6,15.0,0.07,17.0,0.812,13.0,0.442,2.0,0.842,2.4,0.417,5.6,0.412,0.459,34.0,0.478,10.0,6.2,0.335,3.8,0.782,0.721,0.43,0.429,0.192,0.2,13.0,2.5,8.9,0.417,0.46,5.9,0.728,0.496,0.816,6.3,0.414,0.334,0.506,2.0,2.3,34.0,7.5,60.0,60.0,7.9,24.0,95.0,59.0,23.0,12.0,11.0,14.0,2.2,30.0,8.5,19.0,17.0,32.0,33.0,4.2,33.0,96.0,4.7,26.0,23.0,30.0,6.4,28.0,49.0,16.0,51.0,2.6,25.0,27.0,23.0,31.0,25.0,16.0,0.704,7.4,5.0,2.6,45.0,23.0,8.4,8.3,7.9,26.0,6.0,4.8,4.6,16.0,5.7,5.9,0.335,2.2,0.887,0.613,1.5,12.0,26.0,13.0,3.3,2.9,10.0,3.2,2.5,1.8,2.7,7.0,12.0,9.6,18.0,1.9,29.0,9.4,6.7,1.6,2.0,2.5,7.2,6.3,4.0,1.2,5.6,3.5,9.2,1.2,18.0,36.0,1.2,8.8,4.1,2.5,2.7,33.0,28.0,6.7,21.0,3.5,6.0,22.0,27.0,3.4,16.0,12.0,10.0,9.0,36.0,12.0,3.6,30.0,19.0,13.0,33.0,14.0,0.243,24.0,6.6,44.0,89.0,3.5,32.0,50.0,15.0,3.1,30.0,34.0,13.0,2.6,2.5,7.5,0.569,26.0,5.2,5.4,9.1,26.0,28.0,3.8,92.0,0.206,19.0,93.0,13.0,1.8,10.0,3.5,7.5,68.0,0.778,2.1,9.2,3.0,72.0,35.0,31.0,4.1,13.0,60.0,85.0,1.3,6.9,5.5,58.0,94.0,0.683,0.592,6.4,3.3,0.319,24.0,36.0,0.186,3.5,0.84,41.0,1.5,36.0,0.647,5.3,19.0,2.5,93.0,2.8,5.6,72.0,21.0,0.191,22.0,67.0,0.842,1.1,6.9,15.0,1.1,6.2,1.4,52.0,8.7,0.373,3.8,3.8,3.8,8.2,0.437,5.7,1.6,16.0,2.6,6.6,0.598,2.7,0.716,14.0,12.0,46.0,13.0,1.9,1.2,4.3,13.0,8.4,7.3,0.585,3.2,6.5,2.7,1.4,17.0,3.1,2.4,1.6,0.982,26.0,19.0,2.9,4.5,0.222,42.0,7.9,0.219,0.055,0.948,7.3,0.323,89.0,5.2,15.0,19.0,7.6,5.6,18.0,24.0,10.0,11.0,29.0,4.3,10.0,88.0,5.3,5.4,3.1,6.0,26.0,6.5,19.0,33.0,40.0,9.2,28.0,21.0,20.0,4.0,26.0,26.0,33.0,25.0,44.0,19.0,27.0,1.5,13.0,4.8,1.6,4.9,3.5,8.7,7.7,19.0,3.4,2.9,2.4,2.7,5.0,5.9,2.8,3.4,12.0,20.0,4.2,10.0,26.0,4.0,3.6,98.0,5.7,3.6,96.0,2.2,10.0,4.8,2.0,62.0,9.8,34.0,53.0,7.3,2.8,24.0,73.0,53.0,27.0,4.4,17.0,1.3,19.0,8.8,1.3,1.8,4.8,1.8,0.691,12.0,20.0,5.1,7.2,24.0,7.4,53.0,1.3,14.0,8.8,1.7,14.0,13.0,17.0,24.0,17.0,26.0,0.511,1.7,32.0,12.0,23.0,5.5,9.4,18.0,1.8,0.951,1.9,2.6,13.0,16.0,0.963,8.5,23.0,8.2,3.8,2.4,1.7,10.0,2.0,0.025,4.6,31.0,8.2,0.554,21.0,6.9,21.0,11.0,34.0,4.1,1.9,3.5,3.0,4.0,2.2,18.0,3.7,2.4,9.3,44.0,31.0,48.0,38.0,49.0,27.0,0.351,8.8,23.0,48.0,9.7,0.027,12.0,74.0,44.0,36.0,1.4,25.0,44.0,36.0,0.082,57.0,9.8,24.0,47.0,37.0,6.9,10.0,15.0,9.4,49.0,24.0,7.3,24.0,14.0,21.0,8.8,4.0,18.0,18.0,13.0,13.0,24.0,25.0,43.0,4.6,47.0,20.0,26.0,69.0,13.0,9.2,19.0,34.0,13.0,34.0,24.0,3.8,8.3,25.0,53.0,24.0,5.4,7.7,11.0,5.6,5.4,17.0,4.4,8.2,98.0,29.0,2.4,8.5,3.2,3.8,33.0,53.0,6.2,22.0,17.0,25.0,39.0,4.6,13.0,36.0,13.0,8.5,25.0,31.0,3.7,8.5,24.0,34.0,6.9,45.0,12.0,33.0,35.0,25.0,48.0,1.0,7.2,14.0,8.9,0.208,9.4,8.3,6.9,12.0,5.5,26.0,98.0,5.2,7.7,5.3,0.375,3.7,2.9,18.0,6.0,34.0,7.0,38.0,5.4,1.2,1.2,7.9,2.3,2.3,0.323,1.4,2.5,12.0,15.0,3.1,12.0,1.5,9.0,3.7,8.7,19.0,7.4,3.3,0.913,4.9,7.8,5.0,12.0,11.0,25.0,2.6,7.2,1.8,2.6,14.0,2.2,1.9,5.6,0.514,20.0,11.0,12.0,5.6,3.8,6.4,3.7,3.4,8.4,2.9,2.9,1.8,3.1,80.0,3.3,15.0,36.0,8.3,3.1,9.5,4.8,6.7,1.5,9.2,3.4,13.0,5.8,20.0,20.0,63.0,13.0,27.0,3.8,16.0,2.3,12.0,5.6,37.0,22.0,1.7,2.6,7.9,20.0,5.7,16.0,1.7,4.2,4.6,2.7,7.2,46.0,14.0,12.0,3.7,1.6,12.0,29.0,36.0,4.0,15.0,42.0,7.8,4.6,4.3,2.8,27.0,7.3,23.0,20.0,5.4,24.0,20.0,1.4,3.6,6.3,21.0,14.0,25.0,16.0,55.0,22.0,3.0,2.6,24.0,0.551,4.0,5.1,22.0,21.0,18.0,62.0,30.0,23.0,10.0,29.0,1.9,0.029,43.0,8.3,19.0,0.103,6.2,8.3,5.5,11.0,17.0,2.4,4.6,3.0,21.0,2.7,15.0,4.7,3.0,1.4,13.0,16.0,2.0,11.0,2.9,40.0,14.0,9.7,7.8,3.2,8.0,29.0,3.1,3.5,14.0,8.7,8.8,9.7,3.1,3.2,8.5,3.5,7.8,11.0,6.3,19.0,5.0,16.0,3.5,2.3,3.3,4.1,4.1,4.1,7.0,2.3,4.1,1.1,18.0,4.1,1.5,2.3,3.5,3.7,4.0,1.8,4.0,3.8,10.0,1.3,6.6,4.1,2.5,4.1,2.5,2.5,4.3,7.7,6.8,3.4,1.4,3.6,2.3,14.0,99.0,4.1,8.7,2.5,2.9,4.3,6.1,14.0,15.0,6.3,66.0,3.4,76.0,7.7,6.5,14.0,25.0,1.4,50.0,2.5,2.2,4.6,15.0,13.0,8.1,16.0,9.6,10.0,3.1,78.0,27.0,10.0,5.8,3.2,0.898,3.7,57.0,42.0,36.0,1.2,46.0,30.0,3.2,10.0,1.8,31.0,6.6,5.1,3.2,6.0,2.5,9.9,10.0,0.172,5.2,5.1,6.4,14.0,15.0,3.3,6.9,5.1,20.0,10.0,6.6,6.1,3.2,100.0,1.4,2.1,7.2,91.0,2.8,0.743,14.0,14.0,43.0,6.9,96.0,14.0,26.0,18.0,34.0,2.8,92.0,11.0,15.0,4.0,3.8,1.3,13.0,67.0,99.0,0.116,2.2,24.0,43.0,5.9,2.4,67.0,67.0,13.0,8.2,5.2,9.2,63.0,4.2,16.0,10.0,18.0,12.0,78.0,38.0,9.5,45.0,28.0,7.7,9.5,5.2,38.0,3.7,25.0,20.0,0.153,5.3,6.3,38.0,13.0,6.4,1.9,6.4,2.0,8.6,24.0,10.0,39.0,60.0,40.0,15.0,0.209,1.5,2.3,13.0,9.4,3.7,4.2,22.0,13.0,8.1,12.0,19.0,4.9,9.7,3.6,2.5,2.5,18.0,35.0,6.3,1.3,24.0,3.4,3.4,3.4,3.4,17.0,2.2,5.0,4.6,9.0,1.3,24.0,3.2,97.0,0.353,3.2,2.4,8.4,12.0,3.4,3.4,7.3,4.2,58.0,6.8,0.499,3.2,3.3,3.7,25.0,12.0,1.3,40.0,5.2,17.0,0.173,5.1,5.8,1.2,5.8,1.8,1.9,3.6,2.5,2.1,1.1,17.0,2.1,2.8,5.5,41.0,14.0,0.597,2.7,3.2,0.809,2.2,8.2,2.8,4.0,1.8,0.07,2.3,1.3,0.122,4.1,11.0,4.2,8.2,0.411,2.3,5.7,2.7,1.9,19.0,2.3,49.0,28.0,41.0,25.0,25.0,38.0,28.0,55.0,58.0,27.0,25.0,31.0,94.0,25.0,21.0,45.0,45.0,24.0,83.0,88.0,51.0,63.0,21.0,7.2,51.0,98.0,27.0,9.3,87.0,55.0,26.0,62.0,22.0,40.0,5.5,18.0,74.0,16.0,64.0,16.0,25.0,12.0,18.0,4.5,77.0,85.0,85.0,26.0,2.0,3.9,11.0,18.0,8.7,3.9,4.0,53.0,4.9,52.0,23.0,13.0,30.0,18.0,4.1,13.0,20.0,21.0,12.0,18.0,41.0,12.0,14.0,6.0,17.0,0.4,42.0,54.0,11.0,37.0,13.0,6.5,16.0,19.0,3.3,35.0,6.3,12.0,5.0,43.0,2.9,4.1,8.5,7.0,19.0,16.0,14.0,0.801,5.6,36.0,3.2,7.0,2.9,35.0,21.0,5.8,4.7,20.0,3.9,12.0,7.8,24.0,12.0,4.9,3.3,5.4,2.4,27.0,22.0,1.2,2.5,14.0,6.8,1.2,0.787,4.9,5.3,6.5,69.0,14.0,3.4,50.0,8.1,1.7,18.0,18.0,36.0,8.1,5.1,1.6,61.0,4.1,10.0,0.237,3.4,18.0,3.5,3.4,9.1,15.0,14.0,3.8,10.0,26.0,3.3,15.0,19.0,3.7,2.1,11.0,43.0,6.9,40.0,36.0,1.5,37.0,22.0,3.3,2.6,34.0,2.9,12.0,3.7,17.0,23.0,17.0,5.0,18.0,33.0,26.0,32.0,38.0,21.0,41.0,1.7,4.3,9.9,5.9,2.7,12.0,16.0,19.0,2.8,3.6,37.0,4.3,1.7,3.1,30.0,5.2,2.8,18.0,3.4,41.0,13.0,6.7,9.8,14.0,26.0,22.0,8.7,88.0,18.0,18.0,1.3,4.5,7.8,23.0,0.05,70.0,47.0,42.0,3.7,39.0,22.0,22.0,12.0,14.0,4.3,8.5,6.7,7.5,88.0,1.1,8.3,5.7,0.643,44.0,11.0,28.0,40.0,9.1,2.1,32.0,7.8,2.4,53.0,6.0,25.0,3.3,34.0,3.6,6.2,68.0,19.0,3.6,17.0,31.0,18.0,6.0,29.0,77.0,42.0,14.0,29.0,5.7,36.0,8.9,5.1,19.0,4.3,62.0,29.0,7.8,20.0,0.986,18.0,14.0,9.3,17.0,1.4,16.0,4.0,8.3,9.6,11.0,20.0,14.0,17.0,15.0,13.0,11.0,46.0,11.0,1.6,28.0,11.0,4.9,8.6,23.0,24.0,1.6,8.4,0.097,20.0,44.0,88.0,4.8,32.0,25.0,27.0,7.3,14.0,15.0,16.0,25.0,14.0,2.9,18.0,35.0,25.0,14.0,6.5,5.5,28.0,17.0,7.3,24.0,2.1,24.0,2.8,7.2,8.6,2.3,12.0,70.0,34.0,2.6,35.0,24.0,88.0,7.0,3.9,3.8,26.0,5.0,4.7,5.6,5.3,2.2,26.0,5.6,26.0,8.6,21.0,4.8,15.0,20.0,20.0,5.5,5.7,11.0,4.7,4.1,6.9,12.0,5.9,2.2,7.1,7.9,25.0,26.0,4.9,25.0,8.3,6.0,3.0,19.0,4.1,6.0,4.6,26.0,4.4,10.0,5.0,16.0,22.0,8.1,21.0,13.0,4.8,6.1,4.3,6.2,3.5,2.4,38.0,9.5,0.516,0.837,2.0,17.0,6.8,1.1,0.78,3.7,0.961,2.6,4.8,7.8,22.0,1.5,9.6,2.4,55.0,0.269,3.7,21.0,96.0,1.1,0.02,12.0,0.498,13.0,4.2,11.0,0.6,18.0,3.0,14.0,72.0,54.0,12.0,37.0,6.5,6.6,50.0,4.3,7.6,5.5,94.0,35.0,55.0,11.0,12.0,21.0,27.0,5.3,30.0,10.0,11.0,9.8,68.0,3.8,33.0,24.0,35.0,20.0,3.4,2.5,32.0,5.8,18.0,20.0,32.0,6.9,12.0,17.0,0.592,50.0,19.0,55.0,1.0,2.0,7.5,16.0,10.0,1.1,81.0,15.0,13.0,20.0,7.1,4.5,1.3,10.0,29.0,0.749,20.0,8.1,3.8,1.6,6.1,4.9,20.0,15.0,9.3,12.0,3.9,61.0,5.8,5.0,4.4,0.642,9.4,3.3,6.4,4.0,46.0,12.0,30.0,1.4,15.0,1.8,19.0,12.0,21.0,25.0,3.4,8.7,19.0,9.8,18.0,18.0,15.0,17.0,43.0,9.3,11.0,2.0,2.2,4.4,5.4,12.0,1.4,17.0,0.881,3.3,17.0,13.0,7.3,23.0,12.0,0.072,2.2,3.5,18.0,8.6,4.8,7.3,13.0,5.3,6.2,0.656,5.0,0.601,8.3,73.0,7.4,22.0,26.0,14.0,7.3,3.1,11.0,12.0,13.0,33.0,49.0,31.0,34.0,44.0,11.0,55.0,59.0,60.0,25.0,56.0,20.0,2.3,0.221,1.5,48.0,31.0,7.5,0.228,2.6,2.3,2.8,16.0,2.2,4.5,33.0,72.0,3.3,6.6,5.2,8.0,0.108,3.5,11.0,10.0,9.4,10.0,0.94,8.7,6.3,4.1,37.0,3.2,11.0,2.6,3.0,14.0,47.0,2.5,2.3,49.0,44.0,3.0,2.3,15.0,10.0,7.6,59.0,36.0,32.0,9.5,95.0,5.8,35.0,63.0,9.7,91.0,63.0,3.1,88.0,12.0,92.0,4.1,23.0,7.2,6.4,3.4,91.0,6.1,22.0,6.9,91.0,72.0,10.0,2.2,8.5,12.0,21.0,11.0,2.3,16.0,32.0,17.0,1.3,18.0,10.0,1.2,8.7,42.0,38.0,5.3,5.8,96.0,21.0,10.0,80.0,6.1,1.5,31.0,26.0,20.0,2.9,38.0,36.0,14.0,0.176,44.0,82.0,3.3,18.0,8.3,0.033,14.0,8.3,9.9,8.0,1.5,3.6,15.0,6.7,0.663,1.4,20.0,6.0,14.0,1.5,2.3,27.0,76.0,15.0,32.0,6.3,24.0,1.4,36.0,15.0,3.0,14.0,10.0,15.0,5.2,2.9,3.3,5.7,36.0,5.7,2.9,3.3,4.5,1.6,2.8,1.1,4.1,1.1,6.8,28.0,32.0,12.0,22.0,1.4,1.2,20.0,7.6,2.9,2.5,11.0,34.0,21.0,4.5,22.0,0.034,14.0,12.0,1.3,3.1,11.0,5.9,3.0,12.0,1.1,26.0,4.5,5.9,5.7,37.0,77.0,43.0,20.0,8.0,17.0,10.0,34.0,81.0,35.0,100.0,48.0,59.0,14.0,10.0,16.0,24.0,2.3,4.1,28.0,27.0,27.0,6.7,23.0,4.9,85.0,41.0,14.0,94.0,45.0,0.942,26.0,99.0,5.9,36.0,52.0,63.0,26.0,35.0,5.4,53.0,4.0,51.0,20.0,39.0,5.0,5.7,29.0,87.0,7.1,61.0,30.0,52.0,44.0,4.6,90.0,91.0,30.0,20.0,28.0,16.0,16.0,7.9,57.0,16.0,25.0,34.0,29.0,87.0,38.0,18.0,19.0,70.0,3.3,14.0,66.0,4.3,48.0,31.0,3.3,25.0,11.0,17.0,16.0,3.5,33.0,6.4,3.9,1.5,6.6,23.0,2.4,35.0,1.1,11.0,13.0,34.0,7.1,4.2,17.0,3.0,5.3,30.0,3.3,2.5,2.0,6.3,2.3,7.2,2.2,6.2,1.7,10.0,3.2,30.0,11.0,2.4,1.7,3.3,13.0,3.2,7.9,5.2,22.0,1.6,9.4,5.4,1.1,3.3,5.5,4.2,10.0,5.0,2.9,30.0,5.4,3.7,2.9,3.0,4.2,11.0,3.0,6.3,20.0,97.0,0.259,4.9,11.0,36.0,0.164,3.0,16.0,0.458,0.245,5.2,5.7,3.3,27.0,10.0,7.8,8.5,5.9,0.629,1.7,92.0,21.0,1.2,33.0,35.0,2.4,11.0,23.0,4.0,17.0,4.1,0.028,1.8,3.4,32.0,0.288,4.2,17.0,18.0,37.0,15.0,3.8,21.0,4.2,28.0,2.3,0.775,10.0,5.9,33.0,7.5,19.0,3.8,4.0,62.0,7.6,27.0,2.1,15.0,3.4,30.0,18.0,5.3,31.0,50.0,22.0,2.6,86.0,71.0,32.0,9.2,16.0,4.2,3.5,60.0,5.9,78.0,12.0,4.9,3.0,6.3,8.4,4.0,1.9,0.201,5.0,4.0,30.0,9.0,8.5,13.0,3.4,20.0,4.4,8.3,19.0,6.4,2.4,5.3,5.2,70.0,41.0,1.9,39.0,5.8,11.0,6.9,15.0,4.7,8.2,18.0,4.4,15.0,9.4,3.0,12.0,3.4,5.1,2.0,3.2,5.2,11.0,14.0,7.7,12.0,3.8,8.1,5.4,5.7,10.0,8.7,3.8,5.6,3.8,4.1,11.0,5.7,3.8,9.1,2.5,6.7,11.0,7.7,7.0,43.0,13.0,20.0,59.0,3.9,27.0,16.0,63.0,12.0,30.0,44.0,43.0,17.0,42.0,6.3,2.6,20.0,16.0,13.0,6.3,2.7,56.0,1.1,26.0,56.0,0.785,25.0,4.7,6.0,4.9,18.0,66.0,41.0,96.0,76.0,4.2,36.0,3.9,24.0,35.0,23.0,13.0,19.0,7.6,96.0,35.0,81.0,95.0,10.0,21.0,4.7,27.0,25.0,3.4,33.0,5.7,3.1,4.3,4.5,46.0,33.0,58.0,9.3,6.2,6.7,41.0,6.0,9.5,60.0,31.0,36.0,4.3,1.5,68.0,1.2,12.0,22.0,45.0,62.0,80.0,34.0,3.5,67.0,58.0,5.1,5.5,12.0,19.0,19.0,8.8,11.0,12.0,32.0,22.0,38.0,60.0,35.0,15.0,43.0,4.4,2.1,23.0,2.3,0.636,4.2,4.6,7.9,1.4,21.0,0.916,28.0,1.6,84.0,6.6,12.0,14.0,38.0,5.0,2.9,1.4,8.4,3.0,2.6,3.7,100.0,5.8,28.0,4.5,8.9,3.1,22.0,9.9,49.0,1.6,8.9,22.0,23.0,94.0,6.3,1.1,95.0,21.0,9.5,24.0,1.5,24.0,7.9,5.3,1.2,12.0,5.7,13.0,24.0,54.0,3.9,51.0,49.0,1.3,0.994,3.6,4.1,66.0,32.0,2.9,8.9,47.0,2.1,12.0,7.8,15.0,25.0,14.0,10.0,8.9,4.8,3.2,4.7,2.0,14.0,4.7,22.0,14.0,4.3,5.2,0.309,8.7,0.485,2.5,9.2,39.0,96.0,6.9,9.8,16.0,6.2,0.914,8.2,13.0,48.0,2.8,31.0,1.3,29.0,17.0,19.0,2.6,71.0,2.6,14.0,44.0,5.1,11.0,13.0,2.6,65.0,8.7,0.903,25.0,4.0,1.7,2.4,8.5,26.0,2.0,2.5,18.0,2.9,1.3,1.7,2.7,0.608,22.0,4.2,41.0,65.0,16.0,15.0,9.3,4.2,5.1,8.9,24.0,4.0,31.0,9.5,8.2,17.0,1.8,30.0,31.0,8.5,6.3,10.0,4.8,6.0,5.8,6.3,79.0,6.3,2.4,5.0,2.0,4.4,8.0,39.0,3.5,3.9,9.8,5.9,15.0,6.3,3.0,2.2,4.2,16.0,1.5,0.5,3.4,3.3,13.0,2.5,10.0,3.0,0.054,4.8,2.9,3.0,40.0,11.0,6.6,16.0,1.6,48.0,4.6,2.8,23.0,26.0,2.5,24.0,56.0,4.0,2.5,40.0,73.0,31.0,45.0,42.0,39.0,48.0,7.2,10.0,14.0,11.0,21.0,32.0,47.0,2.1,16.0,33.0,3.4,17.0,1.6,42.0,11.0,48.0,40.0,20.0,60.0,2.6,22.0,3.2,5.3,22.0,10.0,43.0,4.8,20.0,1.9,3.3,1.2,54.0,26.0,67.0,6.4,50.0,2.5,1.3,21.0,7.4,30.0,3.9,9.8,4.5,9.8,3.2,47.0,6.0,2.5,2.3,14.0,7.0,0.562,14.0,4.7,4.5,10.0,3.0,18.0,32.0,0.847,2.8,9.9,17.0,2.5,3.4,6.8,0.957,29.0,3.6,28.0,3.1,2.5,1.6,23.0,15.0,6.1,10.0,2.4,4.6,3.3,10.0,3.8,3.1,33.0,6.2,2.1,18.0,37.0,58.0,22.0,71.0,63.0,49.0,15.0,67.0,45.0,29.0,57.0,43.0,12.0,96.0,26.0,79.0,98.0,19.0,28.0,50.0,39.0,30.0,99.0,58.0,92.0,43.0,100.0,72.0,37.0,3.1,33.0,3.3,5.6,16.0,5.4,11.0,30.0,31.0,3.3,30.0,6.1,5.2,18.0,16.0,25.0,2.3,13.0,8.8,15.0,2.4,70.0,3.9,3.9,9.0,21.0,7.3,1.8,1.4,0.948,5.0,2.2,0.688,2.2,2.5,7.3,90.0,3.1,0.811,4.0,4.1,2.8,16.0,4.3,3.8,0.27,3.7,3.0,2.3,3.8,2.7,2.2,28.0,1.5,5.5,4.0,0.048,7.7,26.0,8.6,4.3,17.0,3.8,15.0,3.4,5.0,2.3,1.6,2.7,8.1,3.8,6.3,7.4,12.0,7.9,5.4,4.0,3.1,5.5,8.4,3.9,0.329,3.0,4.2,3.8,5.3,6.0,4.3,30.0,4.6,17.0,14.0,39.0,13.0,35.0,6.9,14.0,23.0,15.0,11.0,14.0,14.0,17.0,17.0,9.8,15.0,4.4,43.0,19.0,36.0,9.4,29.0,10.0,23.0,10.0,33.0,20.0,33.0,14.0,2.3,54.0,2.5,4.3,11.0,15.0,1.6,2.0,31.0,3.6,3.7,14.0,6.6,5.1,4.6,5.3,6.8,53.0,7.5,23.0,1.5,2.4,25.0,30.0,13.0,6.5,4.4,23.0,5.0,16.0,7.4,1.1,1.1,38.0,0.523,0.118,18.0,16.0,61.0,56.0,3.1,12.0,6.0,4.0,30.0,17.0,51.0,31.0,42.0,99.0,6.4,22.0,63.0,11.0,99.0,21.0,14.0,46.0,18.0,61.0,99.0,31.0,26.0,26.0,7.0,3.3,3.9,8.7,62.0,3.5,6.4,0.921,7.1,0.874,2.3,55.0,41.0,52.0,32.0,13.0,44.0,3.4,94.0,23.0,48.0,26.0,19.0,44.0,33.0,35.0,65.0,9.2,23.0,48.0,37.0,20.0,4.8,5.7,29.0,42.0,48.0,3.7,61.0,66.0,82.0,1.6,1.8,85.0,0.981,12.0,4.5,14.0,15.0,3.8,0.784,7.7,13.0,1.5,13.0,7.1,3.2,21.0,23.0,27.0,19.0,45.0,15.0,13.0,33.0,2.1,16.0,3.3,20.0,5.2,8.7,99.0,77.0,3.8,6.0,5.0,55.0,5.3,37.0,2.3,12.0,50.0,0.28,31.0,19.0,69.0,25.0,38.0,26.0,13.0,6.8,4.1,48.0,68.0,45.0,9.3,44.0,41.0,65.0,4.4,46.0,23.0,30.0,28.0,47.0,59.0,1.6,14.0,43.0,4.1,3.8,47.0,24.0,31.0,2.7,7.3,59.0,48.0,1.3,12.0,5.0,6.6,55.0,2.8,10.0,30.0,3.7,18.0,7.4,17.0,1.3,3.7,26.0,5.0,3.3,3.9,29.0,5.6,3.0,1.8,5.8,5.7,2.6,38.0,6.2,11.0,1.5,62.0,4.0,3.1,56.0,30.0,1.9,2.0,4.5,4.3,9.9,2.0,2.3,29.0,99.0,5.1,2.7,64.0,49.0,79.0,47.0,25.0,49.0,36.0,22.0,7.0,60.0,13.0,3.2,31.0,50.0,60.0,16.0,25.0,3.6,3.5,12.0,33.0,24.0,4.1,49.0,3.2,73.0,22.0,4.4,32.0,63.0,15.0,16.0,6.4,25.0,52.0,21.0,2.3,15.0,6.8,40.0,88.0,59.0,0.024,46.0,39.0,6.9,14.0,52.0,14.0,37.0,24.0,28.0,4.4,52.0,51.0,76.0,4.4,26.0,67.0,46.0,78.0,33.0,26.0,60.0,3.0,90.0,28.0,60.0,40.0,25.0,41.0,13.0,42.0,35.0,18.0,53.0,31.0,4.3,11.0,8.5,21.0,43.0,10.0,3.4,15.0,7.1,11.0,1.5,21.0,34.0,11.0,8.9,19.0,4.2,1.1,11.0,14.0,30.0,24.0,0.518,6.3,41.0,18.0,5.2,6.7,3.1,2.0,36.0,60.0,74.0,11.0,92.0,83.0,54.0,42.0,23.0,31.0,98.0,69.0,0.754,37.0,20.0,77.0,73.0,33.0,2.7,57.0,83.0,73.0,44.0,2.8,13.0,2.1,28.0,2.3,0.892,70.0,2.3,20.0,8.8,24.0,21.0,15.0,0.154,21.0,4.8,20.0,31.0,16.0,12.0,27.0,6.3,11.0,2.0,1.5,20.0,39.0,3.2,27.0,7.2,23.0,47.0,31.0,21.0,34.0,5.3,37.0,5.7,10.0,52.0,69.0,56.0,53.0,62.0,76.0,71.0,72.0,28.0,2.8,51.0,28.0,40.0,27.0,37.0,46.0,50.0,49.0,58.0,41.0,73.0,33.0,46.0,19.0,32.0,30.0,92.0,55.0,45.0,47.0,85.0,48.0,77.0,30.0,28.0,35.0,5.8,39.0,25.0,32.0,8.9,84.0,60.0,5.3,39.0,20.0,20.0,17.0,0.018,42.0,29.0,6.6,3.2,0.033,4.4,3.4,0.86,1.2,1.7,2.8,0.364,2.2,1.9,1.7,3.0,0.387,2.7,2.0,5.0,0.375,11.0,0.626,11.0,2.9,6.5,2.0,4.2,6.7,9.2,4.7,15.0,0.161,24.0,1.7,2.7,5.9,9.2,13.0,9.2,6.3,3.8,4.2,5.7,18.0,9.9,12.0,5.3,9.9,63.0,13.0,31.0,35.0,61.0,62.0,93.0,93.0,0.079,5.0,33.0,8.7,61.0,6.1,26.0,37.0,19.0,2.3,4.4,32.0,0.879,5.3,17.0,4.2,5.3,3.4,12.0,1.8,12.0,2.5,3.9,2.0,7.2,13.0,20.0,16.0,22.0,3.5,2.3,65.0,21.0,21.0,20.0,12.0,2.0,2.7,13.0,7.0,9.4,11.0,1.2,18.0,7.5,2.6,12.0,3.1,0.039,4.3,45.0,15.0,2.5,5.4,5.2,1.5,0.97,1.4,2.0,34.0,2.1,9.7,2.2,1.6,10.0,42.0,13.0,2.7,8.7,32.0,10.0,67.0,17.0,40.0,21.0,15.0,12.0,9.7,31.0,4.0,8.6,25.0,26.0,6.4,88.0,5.8,41.0,2.5,6.6,24.0,9.8,32.0,72.0,19.0,8.1,6.2,8.4,19.0,8.5,43.0,23.0,48.0,20.0,5.2,3.9,52.0,1.3,25.0,11.0,16.0,1.0,61.0,15.0,54.0,19.0,19.0,33.0,64.0,72.0,45.0,27.0,69.0,4.9,4.4,8.6,13.0,8.7,12.0,29.0,5.8,36.0,17.0,17.0,1.9,12.0,7.1,96.0,21.0,6.5,62.0,82.0,69.0,22.0,34.0,63.0,14.0,1.8,95.0,30.0,16.0,4.3,67.0,12.0,8.5,48.0,62.0,95.0,5.2,23.0,2.8,13.0,1.1,4.6,0.17,1.1,1.0,11.0,0.141,0.16,86.0,0.144,0.141,0.143,6.3,17.0,7.9,0.19,6.0,3.5,26.0,93.0,21.0,2.3,64.0,8.1,0.376,13.0,8.0,29.0,42.0,19.0,0.017,2.5,3.6,3.9,54.0,6.8,38.0,44.0,30.0,8.4,27.0,10.0,15.0,27.0,5.1,3.4,10.0,19.0,54.0,3.1,2.7,1.7,8.4,1.2,19.0,12.0,44.0,26.0,99.0,19.0,18.0,3.3,30.0,24.0,4.5,15.0,10.0,18.0,13.0,4.5,3.3,21.0,10.0,36.0,33.0,4.3,9.6,0.656,61.0,14.0,5.4,1.3,2.8,47.0,7.6,4.6,10.0,4.6,13.0,1.2,2.9,10.0,4.8,36.0,3.5,50.0,0.051,11.0,29.0,46.0,46.0,1.4,1.2,0.228,9.8,39.0,0.193,12.0,0.192,57.0,2.1,3.9,11.0,2.3,8.5,1.4,0.473,2.4,3.9,68.0,1.6,1.8,4.0,1.5,26.0,3.0,71.0,0.246,3.6,1.3,24.0,68.0,1.3,44.0,7.0,5.4,7.6,14.0,71.0,2.6,10.0,48.0,25.0,6.3,96.0,10.0,47.0,3.2,5.8,23.0,1.1,4.6,6.3,4.3,4.8,4.2,3.6,4.0,3.9,8.7,9.9,5.1,1.8,1.5,7.0,18.0,3.4,3.3,1.5,5.1,10.0,1.6,3.2,3.0,10.0,2.8,2.5,1.3,11.0,15.0,3.1,2.8,3.7,6.1,4.5,30.0,6.2,20.0,38.0,20.0,3.1,6.4,71.0,11.0,11.0,2.6,33.0,21.0,41.0,12.0,21.0,2.8,3.6,14.0,29.0,76.0,5.7,17.0,28.0,4.6,19.0,3.1,79.0,36.0,17.0,7.8,89.0,49.0,12.0,3.0,57.0,16.0,13.0,5.9,40.0,14.0,0.073,3.5,17.0,7.9,19.0,30.0,12.0,42.0,7.4,9.1,7.5,4.8,7.4,4.9,9.1,4.2,2.7,75.0,3.9,2.3,35.0,3.5,9.1,1.5,26.0,7.4,2.1,4.7,3.4,4.2,4.6,7.1,21.0,2.7,4.4,14.0,17.0,9.0,4.5,21.0,15.0,21.0,8.0,11.0,53.0,21.0,2.9,20.0,2.9,20.0,47.0,12.0,12.0,17.0,10.0,26.0,9.2,9.8,17.0,0.658,30.0,1.8,97.0,2.9,15.0,5.3,8.3,20.0,3.0,5.6,7.9,22.0,5.0,11.0,15.0,7.5,4.1,13.0,12.0,60.0,25.0,4.6,1.7,6.5,36.0,17.0,6.5,39.0,46.0,52.0,7.7,30.0,17.0,39.0,30.0,12.0,45.0,29.0,48.0,50.0,66.0,27.0,51.0,69.0,21.0,14.0,19.0,61.0,28.0,49.0,94.0,23.0,94.0,2.5,13.0,34.0,33.0,16.0,0.992,18.0,8.1,15.0,8.2,8.1,27.0,4.1,20.0,6.0,17.0,4.7,14.0,5.8,9.9,9.9,49.0,14.0,7.6,7.8,46.0,29.0,3.6,49.0,29.0,8.2,54.0,18.0,56.0,26.0,3.3,40.0,14.0,24.0,37.0,22.0,16.0,2.0,3.5,8.5,0.253,0.957,0.42,13.0,2.4,3.4,5.1,9.7,0.072,2.4,35.0,3.9,0.026,0.029,5.8,2.8,5.8,2.1,1.4,3.9,7.5,58.0,4.0,0.404,4.1,14.0,2.6,7.6,11.0,8.0,2.3,49.0,43.0,10.0,16.0,24.0,6.2,27.0,46.0,2.4,36.0,17.0,8.0,37.0,33.0,15.0,15.0,13.0,11.0,25.0,16.0,15.0,15.0,43.0,43.0,36.0,23.0,99.0,46.0,20.0,45.0,2.9,21.0,35.0,41.0,2.2,2.5,35.0,1.5,54.0,44.0,27.0,8.5,22.0,26.0,63.0,20.0,26.0,3.5,26.0,10.0,5.5,26.0,26.0,26.0,26.0,26.0,26.0,26.0,2.4,26.0,26.0,26.0,26.0,26.0,26.0,13.0,26.0,25.0,26.0,26.0,15.0,18.0,21.0,26.0,17.0,26.0,12.0,26.0,26.0,26.0,26.0,26.0,2.6,27.0,15.0,26.0,17.0,45.0,24.0,11.0,3.1,30.0,3.2,5.6,7.1,7.1,31.0,34.0,9.2,36.0,15.0,2.0,6.1,22.0,4.4,86.0,13.0,12.0,41.0,8.2,8.0,15.0,0.47,5.3,9.4,2.2,43.0,0.226,20.0,21.0,37.0,26.0,3.4,22.0,7.8,3.4,28.0,7.8,2.6,3.9,7.6,8.1,9.5,1.8,16.0,3.2,45.0,14.0,12.0,49.0,13.0,9.9,3.9,7.6,28.0,12.0,69.0,34.0,9.2,5.4,8.7,18.0,5.7,12.0,15.0,1.6,38.0,11.0,14.0,30.0,13.0,19.0,10.0,45.0,5.3,19.0,7.0,5.6,11.0,12.0,9.2,11.0,13.0,3.3,14.0,8.8,7.3,14.0,8.5,3.3,9.0,0.24,8.2,7.9,1.6,34.0,2.1,59.0,5.2,0.089,3.6,0.234,0.257,9.8,36.0,20.0,28.0,3.2,50.0,41.0,0.364,3.1,0.861,1.6,15.0,17.0,16.0,15.0,11.0,16.0,15.0,19.0,16.0,2.8,1.3,21.0,18.0,5.2,2.0,9.7,17.0,4.3,54.0,7.2,1.4,11.0,49.0,15.0,25.0,4.0,16.0,11.0,40.0,3.7,24.0,16.0,8.1,6.3,60.0,46.0,0.467,1.4,22.0,0.157,2.6,44.0,11.0,39.0,4.4,1.7,7.9,1.2,2.0,5.8,61.0,3.8,3.3,29.0,3.3,0.044,26.0,12.0,3.3,0.676,2.5,72.0,4.3,0.067,2.4,8.0,11.0,0.552,0.885,7.0,16.0,24.0,12.0,41.0,2.4,3.9,8.9,36.0,9.0,24.0,2.2,38.0,75.0,50.0,44.0,11.0,72.0,84.0,9.5,2.8,48.0,20.0,48.0,20.0,38.0,16.0,78.0,5.7,4.0,7.8,46.0,1.02,6.8,12.0,19.0,28.0,81.0,17.0,15.0,42.0,4.2,1.0,24.0,21.0,3.9,13.0,2.7,31.0,4.9,6.8,8.0,1.5,3.6,8.6,2.5,3.1,2.9,82.0,7.7,13.0,13.0,7.4,2.3,9.8,0.582,0.619,2.6,9.6,53.0,3.6,9.5,19.0],\"y0\":\" \",\"yaxis\":\"y\"}],                        {\"boxmode\":\"group\",\"legend\":{\"tracegroupgap\":0},\"margin\":{\"t\":60},\"template\":{\"data\":{\"bar\":[{\"error_x\":{\"color\":\"#2a3f5f\"},\"error_y\":{\"color\":\"#2a3f5f\"},\"marker\":{\"line\":{\"color\":\"#E5ECF6\",\"width\":0.5},\"pattern\":{\"fillmode\":\"overlay\",\"size\":10,\"solidity\":0.2}},\"type\":\"bar\"}],\"barpolar\":[{\"marker\":{\"line\":{\"color\":\"#E5ECF6\",\"width\":0.5},\"pattern\":{\"fillmode\":\"overlay\",\"size\":10,\"solidity\":0.2}},\"type\":\"barpolar\"}],\"carpet\":[{\"aaxis\":{\"endlinecolor\":\"#2a3f5f\",\"gridcolor\":\"white\",\"linecolor\":\"white\",\"minorgridcolor\":\"white\",\"startlinecolor\":\"#2a3f5f\"},\"baxis\":{\"endlinecolor\":\"#2a3f5f\",\"gridcolor\":\"white\",\"linecolor\":\"white\",\"minorgridcolor\":\"white\",\"startlinecolor\":\"#2a3f5f\"},\"type\":\"carpet\"}],\"choropleth\":[{\"colorbar\":{\"outlinewidth\":0,\"ticks\":\"\"},\"type\":\"choropleth\"}],\"contour\":[{\"colorbar\":{\"outlinewidth\":0,\"ticks\":\"\"},\"colorscale\":[[0.0,\"#0d0887\"],[0.1111111111111111,\"#46039f\"],[0.2222222222222222,\"#7201a8\"],[0.3333333333333333,\"#9c179e\"],[0.4444444444444444,\"#bd3786\"],[0.5555555555555556,\"#d8576b\"],[0.6666666666666666,\"#ed7953\"],[0.7777777777777778,\"#fb9f3a\"],[0.8888888888888888,\"#fdca26\"],[1.0,\"#f0f921\"]],\"type\":\"contour\"}],\"contourcarpet\":[{\"colorbar\":{\"outlinewidth\":0,\"ticks\":\"\"},\"type\":\"contourcarpet\"}],\"heatmap\":[{\"colorbar\":{\"outlinewidth\":0,\"ticks\":\"\"},\"colorscale\":[[0.0,\"#0d0887\"],[0.1111111111111111,\"#46039f\"],[0.2222222222222222,\"#7201a8\"],[0.3333333333333333,\"#9c179e\"],[0.4444444444444444,\"#bd3786\"],[0.5555555555555556,\"#d8576b\"],[0.6666666666666666,\"#ed7953\"],[0.7777777777777778,\"#fb9f3a\"],[0.8888888888888888,\"#fdca26\"],[1.0,\"#f0f921\"]],\"type\":\"heatmap\"}],\"heatmapgl\":[{\"colorbar\":{\"outlinewidth\":0,\"ticks\":\"\"},\"colorscale\":[[0.0,\"#0d0887\"],[0.1111111111111111,\"#46039f\"],[0.2222222222222222,\"#7201a8\"],[0.3333333333333333,\"#9c179e\"],[0.4444444444444444,\"#bd3786\"],[0.5555555555555556,\"#d8576b\"],[0.6666666666666666,\"#ed7953\"],[0.7777777777777778,\"#fb9f3a\"],[0.8888888888888888,\"#fdca26\"],[1.0,\"#f0f921\"]],\"type\":\"heatmapgl\"}],\"histogram\":[{\"marker\":{\"pattern\":{\"fillmode\":\"overlay\",\"size\":10,\"solidity\":0.2}},\"type\":\"histogram\"}],\"histogram2d\":[{\"colorbar\":{\"outlinewidth\":0,\"ticks\":\"\"},\"colorscale\":[[0.0,\"#0d0887\"],[0.1111111111111111,\"#46039f\"],[0.2222222222222222,\"#7201a8\"],[0.3333333333333333,\"#9c179e\"],[0.4444444444444444,\"#bd3786\"],[0.5555555555555556,\"#d8576b\"],[0.6666666666666666,\"#ed7953\"],[0.7777777777777778,\"#fb9f3a\"],[0.8888888888888888,\"#fdca26\"],[1.0,\"#f0f921\"]],\"type\":\"histogram2d\"}],\"histogram2dcontour\":[{\"colorbar\":{\"outlinewidth\":0,\"ticks\":\"\"},\"colorscale\":[[0.0,\"#0d0887\"],[0.1111111111111111,\"#46039f\"],[0.2222222222222222,\"#7201a8\"],[0.3333333333333333,\"#9c179e\"],[0.4444444444444444,\"#bd3786\"],[0.5555555555555556,\"#d8576b\"],[0.6666666666666666,\"#ed7953\"],[0.7777777777777778,\"#fb9f3a\"],[0.8888888888888888,\"#fdca26\"],[1.0,\"#f0f921\"]],\"type\":\"histogram2dcontour\"}],\"mesh3d\":[{\"colorbar\":{\"outlinewidth\":0,\"ticks\":\"\"},\"type\":\"mesh3d\"}],\"parcoords\":[{\"line\":{\"colorbar\":{\"outlinewidth\":0,\"ticks\":\"\"}},\"type\":\"parcoords\"}],\"pie\":[{\"automargin\":true,\"type\":\"pie\"}],\"scatter\":[{\"marker\":{\"colorbar\":{\"outlinewidth\":0,\"ticks\":\"\"}},\"type\":\"scatter\"}],\"scatter3d\":[{\"line\":{\"colorbar\":{\"outlinewidth\":0,\"ticks\":\"\"}},\"marker\":{\"colorbar\":{\"outlinewidth\":0,\"ticks\":\"\"}},\"type\":\"scatter3d\"}],\"scattercarpet\":[{\"marker\":{\"colorbar\":{\"outlinewidth\":0,\"ticks\":\"\"}},\"type\":\"scattercarpet\"}],\"scattergeo\":[{\"marker\":{\"colorbar\":{\"outlinewidth\":0,\"ticks\":\"\"}},\"type\":\"scattergeo\"}],\"scattergl\":[{\"marker\":{\"colorbar\":{\"outlinewidth\":0,\"ticks\":\"\"}},\"type\":\"scattergl\"}],\"scattermapbox\":[{\"marker\":{\"colorbar\":{\"outlinewidth\":0,\"ticks\":\"\"}},\"type\":\"scattermapbox\"}],\"scatterpolar\":[{\"marker\":{\"colorbar\":{\"outlinewidth\":0,\"ticks\":\"\"}},\"type\":\"scatterpolar\"}],\"scatterpolargl\":[{\"marker\":{\"colorbar\":{\"outlinewidth\":0,\"ticks\":\"\"}},\"type\":\"scatterpolargl\"}],\"scatterternary\":[{\"marker\":{\"colorbar\":{\"outlinewidth\":0,\"ticks\":\"\"}},\"type\":\"scatterternary\"}],\"surface\":[{\"colorbar\":{\"outlinewidth\":0,\"ticks\":\"\"},\"colorscale\":[[0.0,\"#0d0887\"],[0.1111111111111111,\"#46039f\"],[0.2222222222222222,\"#7201a8\"],[0.3333333333333333,\"#9c179e\"],[0.4444444444444444,\"#bd3786\"],[0.5555555555555556,\"#d8576b\"],[0.6666666666666666,\"#ed7953\"],[0.7777777777777778,\"#fb9f3a\"],[0.8888888888888888,\"#fdca26\"],[1.0,\"#f0f921\"]],\"type\":\"surface\"}],\"table\":[{\"cells\":{\"fill\":{\"color\":\"#EBF0F8\"},\"line\":{\"color\":\"white\"}},\"header\":{\"fill\":{\"color\":\"#C8D4E3\"},\"line\":{\"color\":\"white\"}},\"type\":\"table\"}]},\"layout\":{\"annotationdefaults\":{\"arrowcolor\":\"#2a3f5f\",\"arrowhead\":0,\"arrowwidth\":1},\"autotypenumbers\":\"strict\",\"coloraxis\":{\"colorbar\":{\"outlinewidth\":0,\"ticks\":\"\"}},\"colorscale\":{\"diverging\":[[0,\"#8e0152\"],[0.1,\"#c51b7d\"],[0.2,\"#de77ae\"],[0.3,\"#f1b6da\"],[0.4,\"#fde0ef\"],[0.5,\"#f7f7f7\"],[0.6,\"#e6f5d0\"],[0.7,\"#b8e186\"],[0.8,\"#7fbc41\"],[0.9,\"#4d9221\"],[1,\"#276419\"]],\"sequential\":[[0.0,\"#0d0887\"],[0.1111111111111111,\"#46039f\"],[0.2222222222222222,\"#7201a8\"],[0.3333333333333333,\"#9c179e\"],[0.4444444444444444,\"#bd3786\"],[0.5555555555555556,\"#d8576b\"],[0.6666666666666666,\"#ed7953\"],[0.7777777777777778,\"#fb9f3a\"],[0.8888888888888888,\"#fdca26\"],[1.0,\"#f0f921\"]],\"sequentialminus\":[[0.0,\"#0d0887\"],[0.1111111111111111,\"#46039f\"],[0.2222222222222222,\"#7201a8\"],[0.3333333333333333,\"#9c179e\"],[0.4444444444444444,\"#bd3786\"],[0.5555555555555556,\"#d8576b\"],[0.6666666666666666,\"#ed7953\"],[0.7777777777777778,\"#fb9f3a\"],[0.8888888888888888,\"#fdca26\"],[1.0,\"#f0f921\"]]},\"colorway\":[\"#636efa\",\"#EF553B\",\"#00cc96\",\"#ab63fa\",\"#FFA15A\",\"#19d3f3\",\"#FF6692\",\"#B6E880\",\"#FF97FF\",\"#FECB52\"],\"font\":{\"color\":\"#2a3f5f\"},\"geo\":{\"bgcolor\":\"white\",\"lakecolor\":\"white\",\"landcolor\":\"#E5ECF6\",\"showlakes\":true,\"showland\":true,\"subunitcolor\":\"white\"},\"hoverlabel\":{\"align\":\"left\"},\"hovermode\":\"closest\",\"mapbox\":{\"style\":\"light\"},\"paper_bgcolor\":\"white\",\"plot_bgcolor\":\"#E5ECF6\",\"polar\":{\"angularaxis\":{\"gridcolor\":\"white\",\"linecolor\":\"white\",\"ticks\":\"\"},\"bgcolor\":\"#E5ECF6\",\"radialaxis\":{\"gridcolor\":\"white\",\"linecolor\":\"white\",\"ticks\":\"\"}},\"scene\":{\"xaxis\":{\"backgroundcolor\":\"#E5ECF6\",\"gridcolor\":\"white\",\"gridwidth\":2,\"linecolor\":\"white\",\"showbackground\":true,\"ticks\":\"\",\"zerolinecolor\":\"white\"},\"yaxis\":{\"backgroundcolor\":\"#E5ECF6\",\"gridcolor\":\"white\",\"gridwidth\":2,\"linecolor\":\"white\",\"showbackground\":true,\"ticks\":\"\",\"zerolinecolor\":\"white\"},\"zaxis\":{\"backgroundcolor\":\"#E5ECF6\",\"gridcolor\":\"white\",\"gridwidth\":2,\"linecolor\":\"white\",\"showbackground\":true,\"ticks\":\"\",\"zerolinecolor\":\"white\"}},\"shapedefaults\":{\"line\":{\"color\":\"#2a3f5f\"}},\"ternary\":{\"aaxis\":{\"gridcolor\":\"white\",\"linecolor\":\"white\",\"ticks\":\"\"},\"baxis\":{\"gridcolor\":\"white\",\"linecolor\":\"white\",\"ticks\":\"\"},\"bgcolor\":\"#E5ECF6\",\"caxis\":{\"gridcolor\":\"white\",\"linecolor\":\"white\",\"ticks\":\"\"}},\"title\":{\"x\":0.05},\"xaxis\":{\"automargin\":true,\"gridcolor\":\"white\",\"linecolor\":\"white\",\"ticks\":\"\",\"title\":{\"standoff\":15},\"zerolinecolor\":\"white\",\"zerolinewidth\":2},\"yaxis\":{\"automargin\":true,\"gridcolor\":\"white\",\"linecolor\":\"white\",\"ticks\":\"\",\"title\":{\"standoff\":15},\"zerolinecolor\":\"white\",\"zerolinewidth\":2}}},\"xaxis\":{\"anchor\":\"y\",\"domain\":[0.0,1.0]},\"yaxis\":{\"anchor\":\"x\",\"domain\":[0.0,1.0],\"title\":{\"text\":\"Size_New\"}}},                        {\"responsive\": true}                    ).then(function(){\n",
       "                            \n",
       "var gd = document.getElementById('4cc4a848-1620-4d03-91b5-a38fefe72fa9');\n",
       "var x = new MutationObserver(function (mutations, observer) {{\n",
       "        var display = window.getComputedStyle(gd).display;\n",
       "        if (!display || display === 'none') {{\n",
       "            console.log([gd, 'removed!']);\n",
       "            Plotly.purge(gd);\n",
       "            observer.disconnect();\n",
       "        }}\n",
       "}});\n",
       "\n",
       "// Listen for the removal of the full notebook cells\n",
       "var notebookContainer = gd.closest('#notebook-container');\n",
       "if (notebookContainer) {{\n",
       "    x.observe(notebookContainer, {childList: true});\n",
       "}}\n",
       "\n",
       "// Listen for the clearing of the current output cell\n",
       "var outputEl = gd.closest('.output');\n",
       "if (outputEl) {{\n",
       "    x.observe(outputEl, {childList: true});\n",
       "}}\n",
       "\n",
       "                        })                };                });            </script>        </div>"
      ]
     },
     "metadata": {},
     "output_type": "display_data"
    }
   ],
   "source": [
    "data_fixedSize = data[data['Size_New']!='Varies with device']\n",
    "data_fixedSize['Size_New'] = data_fixedSize['Size_New'].astype(float)\n",
    "px.box(data_fixedSize, y = 'Size_New')"
   ]
  },
  {
   "cell_type": "markdown",
   "id": "210b4489",
   "metadata": {},
   "source": [
    "# Findings \n",
    "- Family apps and games categories have heavy apps which is very obvious"
   ]
  },
  {
   "cell_type": "code",
   "execution_count": null,
   "id": "f15798b4",
   "metadata": {},
   "outputs": [],
   "source": []
  }
 ],
 "metadata": {
  "kernelspec": {
   "display_name": "Python 3",
   "language": "python",
   "name": "python3"
  },
  "language_info": {
   "codemirror_mode": {
    "name": "ipython",
    "version": 3
   },
   "file_extension": ".py",
   "mimetype": "text/x-python",
   "name": "python",
   "nbconvert_exporter": "python",
   "pygments_lexer": "ipython3",
   "version": "3.8.8"
  }
 },
 "nbformat": 4,
 "nbformat_minor": 5
}
